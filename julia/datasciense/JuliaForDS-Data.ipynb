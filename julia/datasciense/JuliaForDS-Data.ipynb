{
 "cells": [
  {
   "cell_type": "markdown",
   "metadata": {},
   "source": [
    "## **Data: Build a strong relationship with your data.**\n",
    "Every data sciense task has one main ingredient, the data!"
   ]
  },
  {
   "cell_type": "code",
   "execution_count": 86,
   "metadata": {},
   "outputs": [],
   "source": [
    "using CSV\n",
    "using DataFrames\n",
    "using DelimitedFiles"
   ]
  },
  {
   "cell_type": "code",
   "execution_count": 3,
   "metadata": {},
   "outputs": [
    {
     "name": "stderr",
     "output_type": "stream",
     "text": [
      "  % Total    % Received % Xferd  Average Speed   Time    Time     Time  Current\n",
      "                                 Dload  Upload   Total   Spent    Left  Speed\n",
      "100   876  100   876    0     0   3395      0 --:--:-- --:--:-- --:--:--  3395\n"
     ]
    },
    {
     "data": {
      "text/plain": [
       "\"../../datasets/programminlanguages.csv\""
      ]
     },
     "execution_count": 3,
     "metadata": {},
     "output_type": "execute_result"
    }
   ],
   "source": [
    "df = download(\"https://raw.githubusercontent.com/nassarhuda/easy_data/master/programming_languages.csv\", \"../../datasets/programminlanguages.csv\")"
   ]
  },
  {
   "cell_type": "code",
   "execution_count": 4,
   "metadata": {},
   "outputs": [
    {
     "name": "stdout",
     "output_type": "stream",
     "text": [
      "pibpercap.csv\n",
      "programminlanguages.csv\n",
      "questoes.csv\n",
      "TemperaturasGlobais.csv\n"
     ]
    }
   ],
   "source": [
    ";ls ../../datasets"
   ]
  },
  {
   "cell_type": "code",
   "execution_count": 5,
   "metadata": {},
   "outputs": [
    {
     "data": {
      "text/html": [
       "<table class=\"data-frame\"><thead><tr><th></th><th>year</th><th>language</th></tr><tr><th></th><th>Int64⍰</th><th>String⍰</th></tr></thead><tbody><p>5 rows × 2 columns</p><tr><th>1</th><td>1951</td><td>Regional Assembly Language</td></tr><tr><th>2</th><td>1952</td><td>Autocode</td></tr><tr><th>3</th><td>1954</td><td>IPL</td></tr><tr><th>4</th><td>1955</td><td>FLOW-MATIC</td></tr><tr><th>5</th><td>1957</td><td>FORTRAN</td></tr></tbody></table>"
      ],
      "text/latex": [
       "\\begin{tabular}{r|cc}\n",
       "\t& year & language\\\\\n",
       "\t\\hline\n",
       "\t1 & 1951 & Regional Assembly Language \\\\\n",
       "\t2 & 1952 & Autocode \\\\\n",
       "\t3 & 1954 & IPL \\\\\n",
       "\t4 & 1955 & FLOW-MATIC \\\\\n",
       "\t5 & 1957 & FORTRAN \\\\\n",
       "\\end{tabular}\n"
      ],
      "text/plain": [
       "5×2 DataFrames.DataFrame\n",
       "│ Row │ year   │ language                   │\n",
       "│     │ \u001b[90mInt64⍰\u001b[39m │ \u001b[90mUnion{Missing, String}\u001b[39m     │\n",
       "├─────┼────────┼────────────────────────────┤\n",
       "│ 1   │ 1951   │ Regional Assembly Language │\n",
       "│ 2   │ 1952   │ Autocode                   │\n",
       "│ 3   │ 1954   │ IPL                        │\n",
       "│ 4   │ 1955   │ FLOW-MATIC                 │\n",
       "│ 5   │ 1957   │ FORTRAN                    │"
      ]
     },
     "execution_count": 5,
     "metadata": {},
     "output_type": "execute_result"
    }
   ],
   "source": [
    "df = CSV.read(\"../../datasets/programminlanguages.csv\", header=true)\n",
    "first(df, 5)"
   ]
  },
  {
   "cell_type": "code",
   "execution_count": 6,
   "metadata": {},
   "outputs": [
    {
     "data": {
      "text/plain": [
       "DataFrames.DataFrame"
      ]
     },
     "execution_count": 6,
     "metadata": {},
     "output_type": "execute_result"
    }
   ],
   "source": [
    "typeof(df)"
   ]
  },
  {
   "cell_type": "code",
   "execution_count": 14,
   "metadata": {},
   "outputs": [
    {
     "data": {
      "text/plain": [
       "language_created_year (generic function with 1 method)"
      ]
     },
     "execution_count": 14,
     "metadata": {},
     "output_type": "execute_result"
    }
   ],
   "source": [
    "function language_created_year(dataset::DataFrames.DataFrame, language::String)\n",
    "    loc = findfirst(dataset[:,2].==language)\n",
    "    return dataset[loc,1]\n",
    "end"
   ]
  },
  {
   "cell_type": "code",
   "execution_count": 15,
   "metadata": {},
   "outputs": [
    {
     "name": "stderr",
     "output_type": "stream",
     "text": [
      "┌ Warning: Indexing with colon as row will create a copy in the future. Use `df[col_inds]` to get the columns without copying\n",
      "│   caller = language_created_year(::DataFrame, ::String) at In[14]:2\n",
      "└ @ Main ./In[14]:2\n"
     ]
    },
    {
     "data": {
      "text/plain": [
       "2012"
      ]
     },
     "execution_count": 15,
     "metadata": {},
     "output_type": "execute_result"
    }
   ],
   "source": [
    "language_created_year(df, \"Julia\")"
   ]
  },
  {
   "cell_type": "code",
   "execution_count": 16,
   "metadata": {},
   "outputs": [
    {
     "ename": "MethodError",
     "evalue": "MethodError: no method matching getindex(::DataFrame, ::Nothing, ::Int64)\nClosest candidates are:\n  getindex(::DataFrame, !Matched::Integer, ::Union{Integer, Symbol}) at /home/anderzanic/.julia/packages/DataFrames/KUWId/src/dataframe/dataframe.jl:265\n  getindex(::DataFrame, !Matched::AbstractArray{T,1} where T, ::Union{Integer, Symbol}) at /home/anderzanic/.julia/packages/DataFrames/KUWId/src/dataframe/dataframe.jl:294\n  getindex(::DataFrame, !Matched::Colon, ::Any) at /home/anderzanic/.julia/packages/DataFrames/KUWId/src/dataframe/dataframe.jl:308\n  ...",
     "output_type": "error",
     "traceback": [
      "MethodError: no method matching getindex(::DataFrame, ::Nothing, ::Int64)\nClosest candidates are:\n  getindex(::DataFrame, !Matched::Integer, ::Union{Integer, Symbol}) at /home/anderzanic/.julia/packages/DataFrames/KUWId/src/dataframe/dataframe.jl:265\n  getindex(::DataFrame, !Matched::AbstractArray{T,1} where T, ::Union{Integer, Symbol}) at /home/anderzanic/.julia/packages/DataFrames/KUWId/src/dataframe/dataframe.jl:294\n  getindex(::DataFrame, !Matched::Colon, ::Any) at /home/anderzanic/.julia/packages/DataFrames/KUWId/src/dataframe/dataframe.jl:308\n  ...",
      "",
      "Stacktrace:",
      " [1] language_created_year(::DataFrame, ::String) at ./In[14]:3",
      " [2] top-level scope at In[16]:1"
     ]
    }
   ],
   "source": [
    "language_created_year(df, \"julia\")"
   ]
  },
  {
   "cell_type": "code",
   "execution_count": 28,
   "metadata": {},
   "outputs": [
    {
     "data": {
      "text/plain": [
       "language_created_year_v2 (generic function with 1 method)"
      ]
     },
     "execution_count": 28,
     "metadata": {},
     "output_type": "execute_result"
    }
   ],
   "source": [
    "function language_created_year_v2(dataset::DataFrames.DataFrame, language::String)\n",
    "    loc = findfirst(lowercase.(dataset[:,2]).==lowercase(language))\n",
    "    return dataset[loc,1]\n",
    "end"
   ]
  },
  {
   "cell_type": "code",
   "execution_count": 29,
   "metadata": {},
   "outputs": [
    {
     "name": "stderr",
     "output_type": "stream",
     "text": [
      "┌ Warning: Indexing with colon as row will create a copy in the future. Use `df[col_inds]` to get the columns without copying\n",
      "│   caller = language_created_year_v2(::DataFrame, ::String) at In[28]:2\n",
      "└ @ Main ./In[28]:2\n"
     ]
    },
    {
     "data": {
      "text/plain": [
       "2012"
      ]
     },
     "execution_count": 29,
     "metadata": {},
     "output_type": "execute_result"
    }
   ],
   "source": [
    "language_created_year_v2(df, \"julia\")"
   ]
  },
  {
   "cell_type": "code",
   "execution_count": 30,
   "metadata": {},
   "outputs": [
    {
     "data": {
      "text/plain": [
       "\"julia\""
      ]
     },
     "execution_count": 30,
     "metadata": {},
     "output_type": "execute_result"
    }
   ],
   "source": [
    "lowercase(\"Julia\")"
   ]
  },
  {
   "cell_type": "code",
   "execution_count": 38,
   "metadata": {},
   "outputs": [
    {
     "name": "stderr",
     "output_type": "stream",
     "text": [
      "┌ Warning: Indexing with colon as row will create a copy in the future. Use `df[col_inds]` to get the columns without copying\n",
      "│   caller = top-level scope at In[38]:1\n",
      "└ @ Core In[38]:1\n"
     ]
    },
    {
     "data": {
      "text/plain": [
       "5-element Array{String,1}:\n",
       " \"regional assembly language\"\n",
       " \"autocode\"                  \n",
       " \"ipl\"                       \n",
       " \"flow-matic\"                \n",
       " \"fortran\"                   "
      ]
     },
     "execution_count": 38,
     "metadata": {},
     "output_type": "execute_result"
    }
   ],
   "source": [
    "lowercase.(first(df, 5)[:,2])"
   ]
  },
  {
   "cell_type": "code",
   "execution_count": 39,
   "metadata": {},
   "outputs": [
    {
     "name": "stdout",
     "output_type": "stream",
     "text": [
      "year,language\n",
      "1951,Regional Assembly Language\n",
      "1952,Autocode\n",
      "1954,IPL\n",
      "1955,FLOW-MATIC\n",
      "1957,FORTRAN\n",
      "1957,COMTRAN\n",
      "1958,LISP\n",
      "1958,ALGOL 58\n",
      "1959,FACT\n"
     ]
    }
   ],
   "source": [
    ";head -10 ../../datasets/programminlanguages.csv"
   ]
  },
  {
   "cell_type": "markdown",
   "metadata": {},
   "source": [
    "**Reading and writing to files is really easy in Julia**"
   ]
  },
  {
   "cell_type": "code",
   "execution_count": 77,
   "metadata": {},
   "outputs": [],
   "source": [
    "open(\"programmin_languages_data.txt\", \"w\") do io\n",
    "    for i in 1:size(df)[1]\n",
    "        writedlm(io, [string(df[i, 1]) df[i, 2]], '-')\n",
    "    end\n",
    "end"
   ]
  },
  {
   "cell_type": "code",
   "execution_count": 78,
   "metadata": {},
   "outputs": [
    {
     "name": "stdout",
     "output_type": "stream",
     "text": [
      "1951-Regional Assembly Language\n",
      "1952-Autocode\n",
      "1954-IPL\n",
      "1955-\"FLOW-MATIC\"\n",
      "1957-FORTRAN\n",
      "1957-COMTRAN\n",
      "1958-LISP\n",
      "1958-ALGOL 58\n",
      "1959-FACT\n",
      "1959-COBOL\n"
     ]
    }
   ],
   "source": [
    ";head -10 programmin_languages_data.txt"
   ]
  },
  {
   "cell_type": "code",
   "execution_count": 87,
   "metadata": {},
   "outputs": [],
   "source": [
    "df_new_delimeter = readdlm(\"programmin_languages_data.txt\", '-')\n",
    "@assert(df != df_new_delimeter)"
   ]
  },
  {
   "cell_type": "code",
   "execution_count": 88,
   "metadata": {},
   "outputs": [
    {
     "data": {
      "text/plain": [
       "1951"
      ]
     },
     "execution_count": 88,
     "metadata": {},
     "output_type": "execute_result"
    }
   ],
   "source": [
    "first(df_new_delimeter)"
   ]
  },
  {
   "cell_type": "code",
   "execution_count": null,
   "metadata": {},
   "outputs": [],
   "source": []
  }
 ],
 "metadata": {
  "kernelspec": {
   "display_name": "Julia 1.0.3",
   "language": "julia",
   "name": "julia-1.0"
  },
  "language_info": {
   "file_extension": ".jl",
   "mimetype": "application/julia",
   "name": "julia",
   "version": "1.0.3"
  }
 },
 "nbformat": 4,
 "nbformat_minor": 2
}
