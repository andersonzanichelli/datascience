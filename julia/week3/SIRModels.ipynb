{
 "cells": [
  {
   "cell_type": "markdown",
   "metadata": {},
   "source": [
    "# SIR Models of Disease Dynamics\n",
    "- 'S' Susceptible: meaning a person who hasnt had the disiase and might catch it.\n",
    "- 'I' Infected people\n",
    "- 'R' Removed: the people previously infected but no longer infectious"
   ]
  },
  {
   "cell_type": "code",
   "execution_count": 1,
   "metadata": {},
   "outputs": [
    {
     "data": {
      "text/plain": [
       "56"
      ]
     },
     "execution_count": 1,
     "metadata": {},
     "output_type": "execute_result"
    }
   ],
   "source": [
    "b = 8\n",
    "f(x) = b*x\n",
    "f(7)"
   ]
  },
  {
   "cell_type": "code",
   "execution_count": 2,
   "metadata": {},
   "outputs": [
    {
     "data": {
      "text/plain": [
       "updateSIR (generic function with 1 method)"
      ]
     },
     "execution_count": 2,
     "metadata": {},
     "output_type": "execute_result"
    }
   ],
   "source": [
    "function updateSIR(popnvector)\n",
    "    susceptibles = popnvector[1];\n",
    "    infecteds    = popnvector[2];\n",
    "    removeds     = popnvector[3];\n",
    "    newS = susceptibles - lambda * susceptibles * infecteds * dt\n",
    "    newI = infecteds + lambda * susceptibles * infecteds * dt - gam * infecteds * dt\n",
    "    newR = removeds + gam * infecteds * dt\n",
    "    return [newS newI newR]\n",
    "end"
   ]
  },
  {
   "cell_type": "code",
   "execution_count": 3,
   "metadata": {},
   "outputs": [
    {
     "data": {
      "text/plain": [
       "1×3 Array{Float64,2}:\n",
       " 975.0  34.5  20.5"
      ]
     },
     "execution_count": 3,
     "metadata": {},
     "output_type": "execute_result"
    }
   ],
   "source": [
    "dt = 0.5\n",
    "lambda = 1/200; gam = 1/10\n",
    "\n",
    "s, i, r = 1000., 10, 20\n",
    "vec = [s i r]\n",
    "updateSIR(vec)"
   ]
  },
  {
   "cell_type": "code",
   "execution_count": null,
   "metadata": {},
   "outputs": [],
   "source": []
  }
 ],
 "metadata": {
  "kernelspec": {
   "display_name": "Julia 1.1.0",
   "language": "julia",
   "name": "julia-1.1"
  },
  "language_info": {
   "file_extension": ".jl",
   "mimetype": "application/julia",
   "name": "julia",
   "version": "1.1.0"
  }
 },
 "nbformat": 4,
 "nbformat_minor": 2
}
