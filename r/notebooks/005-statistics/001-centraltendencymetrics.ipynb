{
 "cells": [
  {
   "cell_type": "markdown",
   "metadata": {},
   "source": [
    "# Mean and Median"
   ]
  },
  {
   "cell_type": "code",
   "execution_count": null,
   "metadata": {},
   "outputs": [],
   "source": [
    "#Mean\n",
    "scores = c(7.3, 6.4, 8.2, 3.6, 8.9, 9.0, 2.3, 7.2, 8.3)\n",
    "mean(scores)"
   ]
  },
  {
   "cell_type": "code",
   "execution_count": null,
   "metadata": {},
   "outputs": [],
   "source": [
    "#Median (the value in the center)\n",
    "median(scores)"
   ]
  },
  {
   "cell_type": "markdown",
   "metadata": {},
   "source": [
    "# Mode, max and min"
   ]
  },
  {
   "cell_type": "code",
   "execution_count": null,
   "metadata": {},
   "outputs": [],
   "source": [
    "sizes = c(38, 38, 36, 37, 36, 36, 40, 39, 36, 35, 36)\n",
    "mean(sizes)\n",
    "median(sizes)"
   ]
  },
  {
   "cell_type": "code",
   "execution_count": null,
   "metadata": {},
   "outputs": [],
   "source": [
    "moda = function(sizes) {\n",
    "    vec = table(as.factor(sizes))\n",
    "    names(vec)[vec == max(vec)]\n",
    "}"
   ]
  },
  {
   "cell_type": "code",
   "execution_count": null,
   "metadata": {},
   "outputs": [],
   "source": [
    "moda(sizes)"
   ]
  },
  {
   "cell_type": "code",
   "execution_count": null,
   "metadata": {},
   "outputs": [],
   "source": [
    "max(sizes)\n",
    "min(sizes)"
   ]
  },
  {
   "cell_type": "markdown",
   "metadata": {},
   "source": [
    "## Amplitude"
   ]
  },
  {
   "cell_type": "code",
   "execution_count": null,
   "metadata": {},
   "outputs": [],
   "source": [
    "data = c(28, 31, 45, 58, 22, 33, 42, 68, 24, 37)"
   ]
  },
  {
   "cell_type": "code",
   "execution_count": null,
   "metadata": {},
   "outputs": [],
   "source": [
    "print('Range')\n",
    "range(data)\n",
    "print('Amplitude')\n",
    "diff(range(data))"
   ]
  },
  {
   "cell_type": "markdown",
   "metadata": {},
   "source": [
    "## Quartil, percentil"
   ]
  },
  {
   "cell_type": "code",
   "execution_count": null,
   "metadata": {},
   "outputs": [],
   "source": [
    "# 25%     25%      25%      25%\n",
    "# 1st Qu. 2nd Qu.  3rd Qu.  4th Qu."
   ]
  },
  {
   "cell_type": "code",
   "execution_count": 2,
   "metadata": {},
   "outputs": [
    {
     "data": {
      "text/html": [
       "<dl class=dl-horizontal>\n",
       "\t<dt>0%</dt>\n",
       "\t\t<dd>54</dd>\n",
       "\t<dt>25%</dt>\n",
       "\t\t<dd>56.25</dd>\n",
       "\t<dt>50%</dt>\n",
       "\t\t<dd>58.5</dd>\n",
       "\t<dt>75%</dt>\n",
       "\t\t<dd>60.75</dd>\n",
       "\t<dt>100%</dt>\n",
       "\t\t<dd>63</dd>\n",
       "</dl>\n"
      ],
      "text/latex": [
       "\\begin{description*}\n",
       "\\item[0\\textbackslash{}\\%] 54\n",
       "\\item[25\\textbackslash{}\\%] 56.25\n",
       "\\item[50\\textbackslash{}\\%] 58.5\n",
       "\\item[75\\textbackslash{}\\%] 60.75\n",
       "\\item[100\\textbackslash{}\\%] 63\n",
       "\\end{description*}\n"
      ],
      "text/markdown": [
       "0%\n",
       ":   5425%\n",
       ":   56.2550%\n",
       ":   58.575%\n",
       ":   60.75100%\n",
       ":   63\n",
       "\n"
      ],
      "text/plain": [
       "   0%   25%   50%   75%  100% \n",
       "54.00 56.25 58.50 60.75 63.00 "
      ]
     },
     "metadata": {},
     "output_type": "display_data"
    }
   ],
   "source": [
    "num = c(54, 55, 56, 57, 58, 59, 60, 61, 62, 63)\n",
    "#?quantile\n",
    "quantile(num)"
   ]
  },
  {
   "cell_type": "code",
   "execution_count": 3,
   "metadata": {},
   "outputs": [
    {
     "data": {
      "text/html": [
       "<strong>10%:</strong> 54.9"
      ],
      "text/latex": [
       "\\textbf{10\\textbackslash{}\\%:} 54.9"
      ],
      "text/markdown": [
       "**10%:** 54.9"
      ],
      "text/plain": [
       " 10% \n",
       "54.9 "
      ]
     },
     "metadata": {},
     "output_type": "display_data"
    }
   ],
   "source": [
    "quantile(num, c(.10))"
   ]
  },
  {
   "cell_type": "code",
   "execution_count": 4,
   "metadata": {},
   "outputs": [
    {
     "data": {
      "text/html": [
       "<strong>80%:</strong> 61.2"
      ],
      "text/latex": [
       "\\textbf{80\\textbackslash{}\\%:} 61.2"
      ],
      "text/markdown": [
       "**80%:** 61.2"
      ],
      "text/plain": [
       " 80% \n",
       "61.2 "
      ]
     },
     "metadata": {},
     "output_type": "display_data"
    }
   ],
   "source": [
    "quantile(num, c(.80))"
   ]
  },
  {
   "cell_type": "code",
   "execution_count": 5,
   "metadata": {},
   "outputs": [
    {
     "data": {
      "text/html": [
       "<strong>98%:</strong> 62.82"
      ],
      "text/latex": [
       "\\textbf{98\\textbackslash{}\\%:} 62.82"
      ],
      "text/markdown": [
       "**98%:** 62.82"
      ],
      "text/plain": [
       "  98% \n",
       "62.82 "
      ]
     },
     "metadata": {},
     "output_type": "display_data"
    }
   ],
   "source": [
    "quantile(num, c(.98))"
   ]
  }
 ],
 "metadata": {
  "kernelspec": {
   "display_name": "R",
   "language": "R",
   "name": "ir"
  },
  "language_info": {
   "codemirror_mode": "r",
   "file_extension": ".r",
   "mimetype": "text/x-r-source",
   "name": "R",
   "pygments_lexer": "r",
   "version": "3.5.1"
  }
 },
 "nbformat": 4,
 "nbformat_minor": 2
}
