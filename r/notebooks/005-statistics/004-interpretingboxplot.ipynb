{
 "cells": [
  {
   "cell_type": "markdown",
   "metadata": {},
   "source": [
    "# Interpreting the Boxplot graphic"
   ]
  },
  {
   "cell_type": "code",
   "execution_count": 19,
   "metadata": {},
   "outputs": [],
   "source": [
    "data = c(18, 20, 20, 21, 22, 24, 25, 25, 26, 27, 29, 29,\n",
    "         30, 30, 31, 31, 32, 33, 34, 35, 36, 36, 37, 37,\n",
    "         37, 37, 38, 38, 38, 40, 41, 43, 44, 44, 45, 45,\n",
    "         45, 46, 47, 48, 49, 50, 51, 53, 54, 54, 56, 58, 62, 65, 73)"
   ]
  },
  {
   "cell_type": "code",
   "execution_count": 20,
   "metadata": {},
   "outputs": [
    {
     "name": "stdout",
     "output_type": "stream",
     "text": [
      "[1] \"Mean\"\n"
     ]
    },
    {
     "data": {
      "text/html": [
       "39"
      ],
      "text/latex": [
       "39"
      ],
      "text/markdown": [
       "39"
      ],
      "text/plain": [
       "[1] 39"
      ]
     },
     "metadata": {},
     "output_type": "display_data"
    },
    {
     "name": "stdout",
     "output_type": "stream",
     "text": [
      "[1] \"Standard Deviation\"\n"
     ]
    },
    {
     "data": {
      "text/html": [
       "12.4531120608465"
      ],
      "text/latex": [
       "12.4531120608465"
      ],
      "text/markdown": [
       "12.4531120608465"
      ],
      "text/plain": [
       "[1] 12.45311"
      ]
     },
     "metadata": {},
     "output_type": "display_data"
    },
    {
     "name": "stdout",
     "output_type": "stream",
     "text": [
      "[1] \"Median\"\n"
     ]
    },
    {
     "data": {
      "text/html": [
       "37"
      ],
      "text/latex": [
       "37"
      ],
      "text/markdown": [
       "37"
      ],
      "text/plain": [
       "[1] 37"
      ]
     },
     "metadata": {},
     "output_type": "display_data"
    },
    {
     "name": "stdout",
     "output_type": "stream",
     "text": [
      "[1] \"Range\"\n"
     ]
    },
    {
     "data": {
      "text/html": [
       "<ol class=list-inline>\n",
       "\t<li>18</li>\n",
       "\t<li>73</li>\n",
       "</ol>\n"
      ],
      "text/latex": [
       "\\begin{enumerate*}\n",
       "\\item 18\n",
       "\\item 73\n",
       "\\end{enumerate*}\n"
      ],
      "text/markdown": [
       "1. 18\n",
       "2. 73\n",
       "\n",
       "\n"
      ],
      "text/plain": [
       "[1] 18 73"
      ]
     },
     "metadata": {},
     "output_type": "display_data"
    },
    {
     "name": "stdout",
     "output_type": "stream",
     "text": [
      "[1] \"Quantile\"\n"
     ]
    },
    {
     "data": {
      "text/html": [
       "<dl class=dl-horizontal>\n",
       "\t<dt>0%</dt>\n",
       "\t\t<dd>18</dd>\n",
       "\t<dt>25%</dt>\n",
       "\t\t<dd>30</dd>\n",
       "\t<dt>50%</dt>\n",
       "\t\t<dd>37</dd>\n",
       "\t<dt>75%</dt>\n",
       "\t\t<dd>46.5</dd>\n",
       "\t<dt>100%</dt>\n",
       "\t\t<dd>73</dd>\n",
       "</dl>\n"
      ],
      "text/latex": [
       "\\begin{description*}\n",
       "\\item[0\\textbackslash{}\\%] 18\n",
       "\\item[25\\textbackslash{}\\%] 30\n",
       "\\item[50\\textbackslash{}\\%] 37\n",
       "\\item[75\\textbackslash{}\\%] 46.5\n",
       "\\item[100\\textbackslash{}\\%] 73\n",
       "\\end{description*}\n"
      ],
      "text/markdown": [
       "0%\n",
       ":   1825%\n",
       ":   3050%\n",
       ":   3775%\n",
       ":   46.5100%\n",
       ":   73\n",
       "\n"
      ],
      "text/plain": [
       "  0%  25%  50%  75% 100% \n",
       "18.0 30.0 37.0 46.5 73.0 "
      ]
     },
     "metadata": {},
     "output_type": "display_data"
    }
   ],
   "source": [
    "print('Mean')\n",
    "mean(data)\n",
    "print('Standard Deviation')\n",
    "sd(data)\n",
    "print('Median')\n",
    "median(data)\n",
    "print('Range')\n",
    "range(data)\n",
    "print('Quantile')\n",
    "quantile(data)"
   ]
  },
  {
   "cell_type": "code",
   "execution_count": 21,
   "metadata": {},
   "outputs": [
    {
     "data": {
      "image/png": "[encoded data removed]",
      "text/plain": [
       "Plot with title “Number of accidents”"
      ]
     },
     "metadata": {},
     "output_type": "display_data",
     "source": "R display func"
    }
   ],
   "source": [
    "boxplot(data, main = 'Number of accidents')"
   ]
  },
  {
   "cell_type": "code",
   "execution_count": null,
   "metadata": {},
   "outputs": [],
   "source": []
  }
 ],
 "metadata": {
  "kernelspec": {
   "display_name": "R",
   "language": "R",
   "name": "ir"
  },
  "language_info": {
   "codemirror_mode": "r",
   "file_extension": ".r",
   "mimetype": "text/x-r-source",
   "name": "R",
   "pygments_lexer": "r",
   "version": "3.5.1"
  }
 },
 "nbformat": 4,
 "nbformat_minor": 2
}
