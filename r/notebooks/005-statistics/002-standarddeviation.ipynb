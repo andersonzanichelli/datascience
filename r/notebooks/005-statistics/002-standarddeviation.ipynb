{
 "cells": [
  {
   "cell_type": "markdown",
   "metadata": {},
   "source": [
    "# Standard Deviation"
   ]
  },
  {
   "cell_type": "code",
   "execution_count": 1,
   "metadata": {},
   "outputs": [],
   "source": [
    "maq1 = c(181.9, 180.8, 181.9, 180.2, 181.4)\n",
    "maq2 = c(180.1, 181.8, 181.5, 181.2, 182.4)\n",
    "maq3 = c(182.1, 182.3, 182.1, 180.2, 181.9)"
   ]
  },
  {
   "cell_type": "code",
   "execution_count": 2,
   "metadata": {},
   "outputs": [
    {
     "data": {
      "text/html": [
       "181.24"
      ],
      "text/latex": [
       "181.24"
      ],
      "text/markdown": [
       "181.24"
      ],
      "text/plain": [
       "[1] 181.24"
      ]
     },
     "metadata": {},
     "output_type": "display_data"
    },
    {
     "data": {
      "text/html": [
       "181.4"
      ],
      "text/latex": [
       "181.4"
      ],
      "text/markdown": [
       "181.4"
      ],
      "text/plain": [
       "[1] 181.4"
      ]
     },
     "metadata": {},
     "output_type": "display_data"
    },
    {
     "data": {
      "text/html": [
       "181.72"
      ],
      "text/latex": [
       "181.72"
      ],
      "text/markdown": [
       "181.72"
      ],
      "text/plain": [
       "[1] 181.72"
      ]
     },
     "metadata": {},
     "output_type": "display_data"
    }
   ],
   "source": [
    "mean(maq1)\n",
    "mean(maq2)\n",
    "mean(maq3)"
   ]
  },
  {
   "cell_type": "code",
   "execution_count": 3,
   "metadata": {},
   "outputs": [
    {
     "data": {
      "text/html": [
       "0.736885337077627"
      ],
      "text/latex": [
       "0.736885337077627"
      ],
      "text/markdown": [
       "0.736885337077627"
      ],
      "text/plain": [
       "[1] 0.7368853"
      ]
     },
     "metadata": {},
     "output_type": "display_data"
    },
    {
     "data": {
      "text/html": [
       "0.851469318296326"
      ],
      "text/latex": [
       "0.851469318296326"
      ],
      "text/markdown": [
       "0.851469318296326"
      ],
      "text/plain": [
       "[1] 0.8514693"
      ]
     },
     "metadata": {},
     "output_type": "display_data"
    },
    {
     "data": {
      "text/html": [
       "0.861394218694327"
      ],
      "text/latex": [
       "0.861394218694327"
      ],
      "text/markdown": [
       "0.861394218694327"
      ],
      "text/plain": [
       "[1] 0.8613942"
      ]
     },
     "metadata": {},
     "output_type": "display_data"
    }
   ],
   "source": [
    "sd(maq1)\n",
    "sd(maq2)\n",
    "sd(maq3)"
   ]
  },
  {
   "cell_type": "markdown",
   "metadata": {},
   "source": [
    "# Variance "
   ]
  },
  {
   "cell_type": "code",
   "execution_count": 4,
   "metadata": {},
   "outputs": [
    {
     "data": {
      "text/html": [
       "0.543000000000008"
      ],
      "text/latex": [
       "0.543000000000008"
      ],
      "text/markdown": [
       "0.543000000000008"
      ],
      "text/plain": [
       "[1] 0.543"
      ]
     },
     "metadata": {},
     "output_type": "display_data"
    },
    {
     "data": {
      "text/html": [
       "0.72500000000001"
      ],
      "text/latex": [
       "0.72500000000001"
      ],
      "text/markdown": [
       "0.72500000000001"
      ],
      "text/plain": [
       "[1] 0.725"
      ]
     },
     "metadata": {},
     "output_type": "display_data"
    },
    {
     "data": {
      "text/html": [
       "0.74200000000001"
      ],
      "text/latex": [
       "0.74200000000001"
      ],
      "text/markdown": [
       "0.74200000000001"
      ],
      "text/plain": [
       "[1] 0.742"
      ]
     },
     "metadata": {},
     "output_type": "display_data"
    }
   ],
   "source": [
    "var(maq1)\n",
    "var(maq2)\n",
    "var(maq3)"
   ]
  },
  {
   "cell_type": "markdown",
   "metadata": {},
   "source": [
    "# Coefficient of variation"
   ]
  },
  {
   "cell_type": "code",
   "execution_count": 6,
   "metadata": {},
   "outputs": [],
   "source": [
    "#cv = (desvio / media) * 100\n",
    "cv_nike = (5.10 / 55.62) * 100\n",
    "cv_adidas = (3.60 / 24.86) * 100"
   ]
  },
  {
   "cell_type": "code",
   "execution_count": 7,
   "metadata": {},
   "outputs": [
    {
     "data": {
      "text/html": [
       "9.16936353829558"
      ],
      "text/latex": [
       "9.16936353829558"
      ],
      "text/markdown": [
       "9.16936353829558"
      ],
      "text/plain": [
       "[1] 9.169364"
      ]
     },
     "metadata": {},
     "output_type": "display_data"
    },
    {
     "data": {
      "text/html": [
       "14.4810941271118"
      ],
      "text/latex": [
       "14.4810941271118"
      ],
      "text/markdown": [
       "14.4810941271118"
      ],
      "text/plain": [
       "[1] 14.48109"
      ]
     },
     "metadata": {},
     "output_type": "display_data"
    }
   ],
   "source": [
    "cv_nike\n",
    "cv_adidas"
   ]
  },
  {
   "cell_type": "code",
   "execution_count": null,
   "metadata": {},
   "outputs": [],
   "source": []
  }
 ],
 "metadata": {
  "kernelspec": {
   "display_name": "R",
   "language": "R",
   "name": "ir"
  },
  "language_info": {
   "codemirror_mode": "r",
   "file_extension": ".r",
   "mimetype": "text/x-r-source",
   "name": "R",
   "pygments_lexer": "r",
   "version": "3.5.1"
  }
 },
 "nbformat": 4,
 "nbformat_minor": 2
}
