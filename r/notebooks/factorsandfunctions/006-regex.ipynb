{
 "cells": [
  {
   "cell_type": "markdown",
   "metadata": {},
   "source": [
    "# Regular Expression"
   ]
  },
  {
   "cell_type": "code",
   "execution_count": 14,
   "metadata": {},
   "outputs": [
    {
     "data": {
      "text/html": [
       "10"
      ],
      "text/latex": [
       "10"
      ],
      "text/markdown": [
       "10"
      ],
      "text/plain": [
       "[1] 10"
      ]
     },
     "metadata": {},
     "output_type": "display_data"
    }
   ],
   "source": [
    "str <- c(\"Regular\", \"expressions\", \"in R language\", \"allows pattern searches\", \"and text exploration\", \"we can search for numbers like\", \"123\", \"letters\", \"symbols like @#$\", \"for example\")\n",
    "length(str)"
   ]
  },
  {
   "cell_type": "code",
   "execution_count": 8,
   "metadata": {},
   "outputs": [
    {
     "data": {
      "text/html": [
       "<ol class=list-inline>\n",
       "\t<li>'Regular'</li>\n",
       "\t<li>'expressions'</li>\n",
       "\t<li>'in R language'</li>\n",
       "\t<li>'allows pattern searches'</li>\n",
       "\t<li>'and text exploration'</li>\n",
       "\t<li>'we can search for numbers like 123'</li>\n",
       "\t<li>'letters'</li>\n",
       "\t<li>'symbols like @#$'</li>\n",
       "\t<li>'for example'</li>\n",
       "</ol>\n"
      ],
      "text/latex": [
       "\\begin{enumerate*}\n",
       "\\item 'Regular'\n",
       "\\item 'expressions'\n",
       "\\item 'in R language'\n",
       "\\item 'allows pattern searches'\n",
       "\\item 'and text exploration'\n",
       "\\item 'we can search for numbers like 123'\n",
       "\\item 'letters'\n",
       "\\item 'symbols like @\\#\\$'\n",
       "\\item 'for example'\n",
       "\\end{enumerate*}\n"
      ],
      "text/markdown": [
       "1. 'Regular'\n",
       "2. 'expressions'\n",
       "3. 'in R language'\n",
       "4. 'allows pattern searches'\n",
       "5. 'and text exploration'\n",
       "6. 'we can search for numbers like 123'\n",
       "7. 'letters'\n",
       "8. 'symbols like @#$'\n",
       "9. 'for example'\n",
       "\n",
       "\n"
      ],
      "text/plain": [
       "[1] \"Regular\"                            \"expressions\"                       \n",
       "[3] \"in R language\"                      \"allows pattern searches\"           \n",
       "[5] \"and text exploration\"               \"we can search for numbers like 123\"\n",
       "[7] \"letters\"                            \"symbols like @#$\"                  \n",
       "[9] \"for example\"                       "
      ]
     },
     "metadata": {},
     "output_type": "display_data"
    }
   ],
   "source": [
    "str"
   ]
  },
  {
   "cell_type": "code",
   "execution_count": 10,
   "metadata": {},
   "outputs": [
    {
     "data": {
      "text/html": [
       "<ol class=list-inline>\n",
       "\t<li>2</li>\n",
       "\t<li>5</li>\n",
       "\t<li>9</li>\n",
       "</ol>\n"
      ],
      "text/latex": [
       "\\begin{enumerate*}\n",
       "\\item 2\n",
       "\\item 5\n",
       "\\item 9\n",
       "\\end{enumerate*}\n"
      ],
      "text/markdown": [
       "1. 2\n",
       "2. 5\n",
       "3. 9\n",
       "\n",
       "\n"
      ],
      "text/plain": [
       "[1] 2 5 9"
      ]
     },
     "metadata": {},
     "output_type": "display_data"
    },
    {
     "data": {
      "text/html": [
       "<ol class=list-inline>\n",
       "\t<li>'expressions'</li>\n",
       "\t<li>'and text exploration'</li>\n",
       "\t<li>'for example'</li>\n",
       "</ol>\n"
      ],
      "text/latex": [
       "\\begin{enumerate*}\n",
       "\\item 'expressions'\n",
       "\\item 'and text exploration'\n",
       "\\item 'for example'\n",
       "\\end{enumerate*}\n"
      ],
      "text/markdown": [
       "1. 'expressions'\n",
       "2. 'and text exploration'\n",
       "3. 'for example'\n",
       "\n",
       "\n"
      ],
      "text/plain": [
       "[1] \"expressions\"          \"and text exploration\" \"for example\"         "
      ]
     },
     "metadata": {},
     "output_type": "display_data"
    },
    {
     "data": {
      "text/html": [
       "6"
      ],
      "text/latex": [
       "6"
      ],
      "text/markdown": [
       "6"
      ],
      "text/plain": [
       "[1] 6"
      ]
     },
     "metadata": {},
     "output_type": "display_data"
    },
    {
     "data": {
      "text/html": [
       "'we can search for numbers like 123'"
      ],
      "text/latex": [
       "'we can search for numbers like 123'"
      ],
      "text/markdown": [
       "'we can search for numbers like 123'"
      ],
      "text/plain": [
       "[1] \"we can search for numbers like 123\""
      ]
     },
     "metadata": {},
     "output_type": "display_data"
    }
   ],
   "source": [
    "#?grep\n",
    "grep(\"ex\", str, value = F)\n",
    "grep(\"ex\", str, value = T)\n",
    "grep(\"\\\\d\", str, value = F)\n",
    "grep(\"\\\\d\", str, value = T)"
   ]
  },
  {
   "cell_type": "code",
   "execution_count": 15,
   "metadata": {},
   "outputs": [
    {
     "data": {
      "text/html": [
       "<ol class=list-inline>\n",
       "\t<li>FALSE</li>\n",
       "\t<li>FALSE</li>\n",
       "\t<li>FALSE</li>\n",
       "\t<li>FALSE</li>\n",
       "\t<li>FALSE</li>\n",
       "\t<li>FALSE</li>\n",
       "\t<li>TRUE</li>\n",
       "\t<li>FALSE</li>\n",
       "\t<li>FALSE</li>\n",
       "\t<li>FALSE</li>\n",
       "</ol>\n"
      ],
      "text/latex": [
       "\\begin{enumerate*}\n",
       "\\item FALSE\n",
       "\\item FALSE\n",
       "\\item FALSE\n",
       "\\item FALSE\n",
       "\\item FALSE\n",
       "\\item FALSE\n",
       "\\item TRUE\n",
       "\\item FALSE\n",
       "\\item FALSE\n",
       "\\item FALSE\n",
       "\\end{enumerate*}\n"
      ],
      "text/markdown": [
       "1. FALSE\n",
       "2. FALSE\n",
       "3. FALSE\n",
       "4. FALSE\n",
       "5. FALSE\n",
       "6. FALSE\n",
       "7. TRUE\n",
       "8. FALSE\n",
       "9. FALSE\n",
       "10. FALSE\n",
       "\n",
       "\n"
      ],
      "text/plain": [
       " [1] FALSE FALSE FALSE FALSE FALSE FALSE  TRUE FALSE FALSE FALSE"
      ]
     },
     "metadata": {},
     "output_type": "display_data"
    },
    {
     "data": {
      "text/html": [
       "<ol class=list-inline>\n",
       "\t<li>TRUE</li>\n",
       "\t<li>TRUE</li>\n",
       "\t<li>TRUE</li>\n",
       "\t<li>TRUE</li>\n",
       "\t<li>TRUE</li>\n",
       "\t<li>TRUE</li>\n",
       "\t<li>FALSE</li>\n",
       "\t<li>TRUE</li>\n",
       "\t<li>TRUE</li>\n",
       "\t<li>TRUE</li>\n",
       "</ol>\n"
      ],
      "text/latex": [
       "\\begin{enumerate*}\n",
       "\\item TRUE\n",
       "\\item TRUE\n",
       "\\item TRUE\n",
       "\\item TRUE\n",
       "\\item TRUE\n",
       "\\item TRUE\n",
       "\\item FALSE\n",
       "\\item TRUE\n",
       "\\item TRUE\n",
       "\\item TRUE\n",
       "\\end{enumerate*}\n"
      ],
      "text/markdown": [
       "1. TRUE\n",
       "2. TRUE\n",
       "3. TRUE\n",
       "4. TRUE\n",
       "5. TRUE\n",
       "6. TRUE\n",
       "7. FALSE\n",
       "8. TRUE\n",
       "9. TRUE\n",
       "10. TRUE\n",
       "\n",
       "\n"
      ],
      "text/plain": [
       " [1]  TRUE  TRUE  TRUE  TRUE  TRUE  TRUE FALSE  TRUE  TRUE  TRUE"
      ]
     },
     "metadata": {},
     "output_type": "display_data"
    }
   ],
   "source": [
    "#?grepl\n",
    "grepl(\"\\\\d+\", str)\n",
    "grepl(\"\\\\D\", str)"
   ]
  },
  {
   "cell_type": "code",
   "execution_count": 17,
   "metadata": {},
   "outputs": [
    {
     "data": {
      "text/html": [
       "<ol class=list-inline>\n",
       "\t<li>'Regular'</li>\n",
       "\t<li>'expressions'</li>\n",
       "\t<li>'in R language'</li>\n",
       "\t<li>'allows pattern searches'</li>\n",
       "\t<li>'and text exploration'</li>\n",
       "\t<li>'we can search for numbers like'</li>\n",
       "\t<li>'123'</li>\n",
       "\t<li>'letters'</li>\n",
       "\t<li>'symbols like ***#$'</li>\n",
       "\t<li>'for example'</li>\n",
       "</ol>\n"
      ],
      "text/latex": [
       "\\begin{enumerate*}\n",
       "\\item 'Regular'\n",
       "\\item 'expressions'\n",
       "\\item 'in R language'\n",
       "\\item 'allows pattern searches'\n",
       "\\item 'and text exploration'\n",
       "\\item 'we can search for numbers like'\n",
       "\\item '123'\n",
       "\\item 'letters'\n",
       "\\item 'symbols like ***\\#\\$'\n",
       "\\item 'for example'\n",
       "\\end{enumerate*}\n"
      ],
      "text/markdown": [
       "1. 'Regular'\n",
       "2. 'expressions'\n",
       "3. 'in R language'\n",
       "4. 'allows pattern searches'\n",
       "5. 'and text exploration'\n",
       "6. 'we can search for numbers like'\n",
       "7. '123'\n",
       "8. 'letters'\n",
       "9. 'symbols like ***#$'\n",
       "10. 'for example'\n",
       "\n",
       "\n"
      ],
      "text/plain": [
       " [1] \"Regular\"                        \"expressions\"                   \n",
       " [3] \"in R language\"                  \"allows pattern searches\"       \n",
       " [5] \"and text exploration\"           \"we can search for numbers like\"\n",
       " [7] \"123\"                            \"letters\"                       \n",
       " [9] \"symbols like ***#$\"             \"for example\"                   "
      ]
     },
     "metadata": {},
     "output_type": "display_data"
    }
   ],
   "source": [
    "#?gsub\n",
    "gsub(\"@\", \"***\", str)"
   ]
  },
  {
   "cell_type": "code",
   "execution_count": 18,
   "metadata": {},
   "outputs": [
    {
     "data": {
      "text/html": [
       "<ol class=list-inline>\n",
       "\t<li>'Regular'</li>\n",
       "\t<li>'EXpressions'</li>\n",
       "\t<li>'in R language'</li>\n",
       "\t<li>'allows pattern searches'</li>\n",
       "\t<li>'and tEXt EXploration'</li>\n",
       "\t<li>'we can search for numbers like'</li>\n",
       "\t<li>'123'</li>\n",
       "\t<li>'letters'</li>\n",
       "\t<li>'symbols like @#$'</li>\n",
       "\t<li>'for EXample'</li>\n",
       "</ol>\n"
      ],
      "text/latex": [
       "\\begin{enumerate*}\n",
       "\\item 'Regular'\n",
       "\\item 'EXpressions'\n",
       "\\item 'in R language'\n",
       "\\item 'allows pattern searches'\n",
       "\\item 'and tEXt EXploration'\n",
       "\\item 'we can search for numbers like'\n",
       "\\item '123'\n",
       "\\item 'letters'\n",
       "\\item 'symbols like @\\#\\$'\n",
       "\\item 'for EXample'\n",
       "\\end{enumerate*}\n"
      ],
      "text/markdown": [
       "1. 'Regular'\n",
       "2. 'EXpressions'\n",
       "3. 'in R language'\n",
       "4. 'allows pattern searches'\n",
       "5. 'and tEXt EXploration'\n",
       "6. 'we can search for numbers like'\n",
       "7. '123'\n",
       "8. 'letters'\n",
       "9. 'symbols like @#$'\n",
       "10. 'for EXample'\n",
       "\n",
       "\n"
      ],
      "text/plain": [
       " [1] \"Regular\"                        \"EXpressions\"                   \n",
       " [3] \"in R language\"                  \"allows pattern searches\"       \n",
       " [5] \"and tEXt EXploration\"           \"we can search for numbers like\"\n",
       " [7] \"123\"                            \"letters\"                       \n",
       " [9] \"symbols like @#$\"               \"for EXample\"                   "
      ]
     },
     "metadata": {},
     "output_type": "display_data"
    }
   ],
   "source": [
    "gsub(\"ex\", \"EX\", str, ignore.case = T)"
   ]
  },
  {
   "cell_type": "code",
   "execution_count": 19,
   "metadata": {},
   "outputs": [
    {
     "data": {
      "text/html": [
       "<ol class=list-inline>\n",
       "\t<li>'REgular'</li>\n",
       "\t<li>'expressions'</li>\n",
       "\t<li>'in R language'</li>\n",
       "\t<li>'allows pattern searches'</li>\n",
       "\t<li>'and text exploration'</li>\n",
       "\t<li>'we can search for numbers like'</li>\n",
       "\t<li>'123'</li>\n",
       "\t<li>'letters'</li>\n",
       "\t<li>'symbols like @#$'</li>\n",
       "\t<li>'for example'</li>\n",
       "</ol>\n"
      ],
      "text/latex": [
       "\\begin{enumerate*}\n",
       "\\item 'REgular'\n",
       "\\item 'expressions'\n",
       "\\item 'in R language'\n",
       "\\item 'allows pattern searches'\n",
       "\\item 'and text exploration'\n",
       "\\item 'we can search for numbers like'\n",
       "\\item '123'\n",
       "\\item 'letters'\n",
       "\\item 'symbols like @\\#\\$'\n",
       "\\item 'for example'\n",
       "\\end{enumerate*}\n"
      ],
      "text/markdown": [
       "1. 'REgular'\n",
       "2. 'expressions'\n",
       "3. 'in R language'\n",
       "4. 'allows pattern searches'\n",
       "5. 'and text exploration'\n",
       "6. 'we can search for numbers like'\n",
       "7. '123'\n",
       "8. 'letters'\n",
       "9. 'symbols like @#$'\n",
       "10. 'for example'\n",
       "\n",
       "\n"
      ],
      "text/plain": [
       " [1] \"REgular\"                        \"expressions\"                   \n",
       " [3] \"in R language\"                  \"allows pattern searches\"       \n",
       " [5] \"and text exploration\"           \"we can search for numbers like\"\n",
       " [7] \"123\"                            \"letters\"                       \n",
       " [9] \"symbols like @#$\"               \"for example\"                   "
      ]
     },
     "metadata": {},
     "output_type": "display_data"
    }
   ],
   "source": [
    "sub(\"Re\", \"RE\", str)"
   ]
  },
  {
   "cell_type": "code",
   "execution_count": 20,
   "metadata": {},
   "outputs": [
    {
     "data": {
      "text/html": [
       "<ol class=list-inline>\n",
       "\t<li>-1</li>\n",
       "\t<li>1</li>\n",
       "\t<li>-1</li>\n",
       "\t<li>-1</li>\n",
       "\t<li>6</li>\n",
       "\t<li>-1</li>\n",
       "\t<li>-1</li>\n",
       "\t<li>-1</li>\n",
       "\t<li>-1</li>\n",
       "\t<li>5</li>\n",
       "</ol>\n"
      ],
      "text/latex": [
       "\\begin{enumerate*}\n",
       "\\item -1\n",
       "\\item 1\n",
       "\\item -1\n",
       "\\item -1\n",
       "\\item 6\n",
       "\\item -1\n",
       "\\item -1\n",
       "\\item -1\n",
       "\\item -1\n",
       "\\item 5\n",
       "\\end{enumerate*}\n"
      ],
      "text/markdown": [
       "1. -1\n",
       "2. 1\n",
       "3. -1\n",
       "4. -1\n",
       "5. 6\n",
       "6. -1\n",
       "7. -1\n",
       "8. -1\n",
       "9. -1\n",
       "10. 5\n",
       "\n",
       "\n"
      ],
      "text/plain": [
       " [1] -1  1 -1 -1  6 -1 -1 -1 -1  5\n",
       "attr(,\"match.length\")\n",
       " [1] -1  2 -1 -1  2 -1 -1 -1 -1  2\n",
       "attr(,\"useBytes\")\n",
       "[1] TRUE"
      ]
     },
     "metadata": {},
     "output_type": "display_data"
    }
   ],
   "source": [
    "regexpr(pattern = \"ex\", str)"
   ]
  },
  {
   "cell_type": "code",
   "execution_count": 23,
   "metadata": {},
   "outputs": [
    {
     "data": {
      "text/html": [
       "<ol class=list-inline>\n",
       "\t<li>'Regular'</li>\n",
       "\t<li>'expressions'</li>\n",
       "\t<li>'in R language'</li>\n",
       "\t<li>'allows pattern searches'</li>\n",
       "\t<li>'and text exploration'</li>\n",
       "\t<li>'we can search for numbers like'</li>\n",
       "\t<li>'123'</li>\n",
       "\t<li>'letters'</li>\n",
       "\t<li>'symbols like $%&amp;*$%&amp;*$%&amp;*'</li>\n",
       "\t<li>'for example'</li>\n",
       "</ol>\n"
      ],
      "text/latex": [
       "\\begin{enumerate*}\n",
       "\\item 'Regular'\n",
       "\\item 'expressions'\n",
       "\\item 'in R language'\n",
       "\\item 'allows pattern searches'\n",
       "\\item 'and text exploration'\n",
       "\\item 'we can search for numbers like'\n",
       "\\item '123'\n",
       "\\item 'letters'\n",
       "\\item 'symbols like \\$\\%\\&*\\$\\%\\&*\\$\\%\\&*'\n",
       "\\item 'for example'\n",
       "\\end{enumerate*}\n"
      ],
      "text/markdown": [
       "1. 'Regular'\n",
       "2. 'expressions'\n",
       "3. 'in R language'\n",
       "4. 'allows pattern searches'\n",
       "5. 'and text exploration'\n",
       "6. 'we can search for numbers like'\n",
       "7. '123'\n",
       "8. 'letters'\n",
       "9. 'symbols like $%&amp;*$%&amp;*$%&amp;*'\n",
       "10. 'for example'\n",
       "\n",
       "\n"
      ],
      "text/plain": [
       " [1] \"Regular\"                        \"expressions\"                   \n",
       " [3] \"in R language\"                  \"allows pattern searches\"       \n",
       " [5] \"and text exploration\"           \"we can search for numbers like\"\n",
       " [7] \"123\"                            \"letters\"                       \n",
       " [9] \"symbols like $%&*$%&*$%&*\"      \"for example\"                   "
      ]
     },
     "metadata": {},
     "output_type": "display_data"
    }
   ],
   "source": [
    "gsub(\"[[:punct:]]\", \"$%&*\", str)"
   ]
  },
  {
   "cell_type": "code",
   "execution_count": null,
   "metadata": {},
   "outputs": [],
   "source": []
  }
 ],
 "metadata": {
  "kernelspec": {
   "display_name": "R",
   "language": "R",
   "name": "ir"
  },
  "language_info": {
   "codemirror_mode": "r",
   "file_extension": ".r",
   "mimetype": "text/x-r-source",
   "name": "R",
   "pygments_lexer": "r",
   "version": "3.4.3"
  }
 },
 "nbformat": 4,
 "nbformat_minor": 2
}
