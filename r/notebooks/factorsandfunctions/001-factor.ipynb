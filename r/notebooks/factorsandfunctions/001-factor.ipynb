{
 "cells": [
  {
   "cell_type": "markdown",
   "metadata": {},
   "source": [
    "# Factors and ordered factors"
   ]
  },
  {
   "cell_type": "code",
   "execution_count": 2,
   "metadata": {},
   "outputs": [
    {
     "data": {
      "text/html": [
       "<ol class=list-inline>\n",
       "\t<li>'Masc'</li>\n",
       "\t<li>'Femme'</li>\n",
       "\t<li>'Masc'</li>\n",
       "\t<li>'Femme'</li>\n",
       "\t<li>'Femme'</li>\n",
       "</ol>\n"
      ],
      "text/latex": [
       "\\begin{enumerate*}\n",
       "\\item 'Masc'\n",
       "\\item 'Femme'\n",
       "\\item 'Masc'\n",
       "\\item 'Femme'\n",
       "\\item 'Femme'\n",
       "\\end{enumerate*}\n"
      ],
      "text/markdown": [
       "1. 'Masc'\n",
       "2. 'Femme'\n",
       "3. 'Masc'\n",
       "4. 'Femme'\n",
       "5. 'Femme'\n",
       "\n",
       "\n"
      ],
      "text/plain": [
       "[1] \"Masc\"  \"Femme\" \"Masc\"  \"Femme\" \"Femme\""
      ]
     },
     "metadata": {},
     "output_type": "display_data"
    },
    {
     "data": {
      "text/html": [
       "<ol class=list-inline>\n",
       "\t<li>Masc</li>\n",
       "\t<li>Femme</li>\n",
       "\t<li>Masc</li>\n",
       "\t<li>Femme</li>\n",
       "\t<li>Femme</li>\n",
       "</ol>\n"
      ],
      "text/latex": [
       "\\begin{enumerate*}\n",
       "\\item Masc\n",
       "\\item Femme\n",
       "\\item Masc\n",
       "\\item Femme\n",
       "\\item Femme\n",
       "\\end{enumerate*}\n"
      ],
      "text/markdown": [
       "1. Masc\n",
       "2. Femme\n",
       "3. Masc\n",
       "4. Femme\n",
       "5. Femme\n",
       "\n",
       "\n"
      ],
      "text/plain": [
       "[1] Masc  Femme Masc  Femme Femme\n",
       "Levels: Femme Masc"
      ]
     },
     "metadata": {},
     "output_type": "display_data"
    },
    {
     "data": {
      "text/html": [
       "'factor'"
      ],
      "text/latex": [
       "'factor'"
      ],
      "text/markdown": [
       "'factor'"
      ],
      "text/plain": [
       "[1] \"factor\""
      ]
     },
     "metadata": {},
     "output_type": "display_data"
    }
   ],
   "source": [
    "vec1 <- c('Masc', 'Femme', 'Masc', 'Femme', 'Femme')\n",
    "vec1\n",
    "fac1 <- factor(vec1)\n",
    "fac1\n",
    "class(fac1)"
   ]
  },
  {
   "cell_type": "code",
   "execution_count": 4,
   "metadata": {},
   "outputs": [
    {
     "data": {
      "text/html": [
       "<ol class=list-inline>\n",
       "\t<li>'Lion'</li>\n",
       "\t<li>'Panter'</li>\n",
       "\t<li>'Tiger'</li>\n",
       "</ol>\n"
      ],
      "text/latex": [
       "\\begin{enumerate*}\n",
       "\\item 'Lion'\n",
       "\\item 'Panter'\n",
       "\\item 'Tiger'\n",
       "\\end{enumerate*}\n"
      ],
      "text/markdown": [
       "1. 'Lion'\n",
       "2. 'Panter'\n",
       "3. 'Tiger'\n",
       "\n",
       "\n"
      ],
      "text/plain": [
       "[1] \"Lion\"   \"Panter\" \"Tiger\" "
      ]
     },
     "metadata": {},
     "output_type": "display_data"
    },
    {
     "data": {
      "text/html": [
       "'character'"
      ],
      "text/latex": [
       "'character'"
      ],
      "text/markdown": [
       "'character'"
      ],
      "text/plain": [
       "[1] \"character\""
      ]
     },
     "metadata": {},
     "output_type": "display_data"
    },
    {
     "data": {
      "text/html": [
       "<ol class=list-inline>\n",
       "\t<li>Lion</li>\n",
       "\t<li>Panter</li>\n",
       "\t<li>Tiger</li>\n",
       "</ol>\n"
      ],
      "text/latex": [
       "\\begin{enumerate*}\n",
       "\\item Lion\n",
       "\\item Panter\n",
       "\\item Tiger\n",
       "\\end{enumerate*}\n"
      ],
      "text/markdown": [
       "1. Lion\n",
       "2. Panter\n",
       "3. Tiger\n",
       "\n",
       "\n"
      ],
      "text/plain": [
       "[1] Lion   Panter Tiger \n",
       "Levels: Lion Panter Tiger"
      ]
     },
     "metadata": {},
     "output_type": "display_data"
    },
    {
     "data": {
      "text/html": [
       "'factor'"
      ],
      "text/latex": [
       "'factor'"
      ],
      "text/markdown": [
       "'factor'"
      ],
      "text/plain": [
       "[1] \"factor\""
      ]
     },
     "metadata": {},
     "output_type": "display_data"
    },
    {
     "data": {
      "text/html": [
       "<ol class=list-inline>\n",
       "\t<li>'Lion'</li>\n",
       "\t<li>'Panter'</li>\n",
       "\t<li>'Tiger'</li>\n",
       "</ol>\n"
      ],
      "text/latex": [
       "\\begin{enumerate*}\n",
       "\\item 'Lion'\n",
       "\\item 'Panter'\n",
       "\\item 'Tiger'\n",
       "\\end{enumerate*}\n"
      ],
      "text/markdown": [
       "1. 'Lion'\n",
       "2. 'Panter'\n",
       "3. 'Tiger'\n",
       "\n",
       "\n"
      ],
      "text/plain": [
       "[1] \"Lion\"   \"Panter\" \"Tiger\" "
      ]
     },
     "metadata": {},
     "output_type": "display_data"
    }
   ],
   "source": [
    "animals <- c('Lion', 'Panter', 'Tiger')\n",
    "animals\n",
    "class(animals)\n",
    "f_animals <- factor(animals)\n",
    "f_animals\n",
    "class(f_animals)\n",
    "levels(f_animals)"
   ]
  },
  {
   "cell_type": "code",
   "execution_count": 18,
   "metadata": {},
   "outputs": [
    {
     "data": {
      "text/html": [
       "<ol class=list-inline>\n",
       "\t<li>'very low'</li>\n",
       "\t<li>'low'</li>\n",
       "\t<li>'low'</li>\n",
       "\t<li>'low'</li>\n",
       "\t<li>'medium'</li>\n",
       "\t<li>'medium'</li>\n",
       "\t<li>'high'</li>\n",
       "\t<li>'very high'</li>\n",
       "\t<li>'medium'</li>\n",
       "</ol>\n"
      ],
      "text/latex": [
       "\\begin{enumerate*}\n",
       "\\item 'very low'\n",
       "\\item 'low'\n",
       "\\item 'low'\n",
       "\\item 'low'\n",
       "\\item 'medium'\n",
       "\\item 'medium'\n",
       "\\item 'high'\n",
       "\\item 'very high'\n",
       "\\item 'medium'\n",
       "\\end{enumerate*}\n"
      ],
      "text/markdown": [
       "1. 'very low'\n",
       "2. 'low'\n",
       "3. 'low'\n",
       "4. 'low'\n",
       "5. 'medium'\n",
       "6. 'medium'\n",
       "7. 'high'\n",
       "8. 'very high'\n",
       "9. 'medium'\n",
       "\n",
       "\n"
      ],
      "text/plain": [
       "[1] \"very low\"  \"low\"       \"low\"       \"low\"       \"medium\"    \"medium\"   \n",
       "[7] \"high\"      \"very high\" \"medium\"   "
      ]
     },
     "metadata": {},
     "output_type": "display_data"
    },
    {
     "data": {
      "text/html": [
       "'character'"
      ],
      "text/latex": [
       "'character'"
      ],
      "text/markdown": [
       "'character'"
      ],
      "text/plain": [
       "[1] \"character\""
      ]
     },
     "metadata": {},
     "output_type": "display_data"
    },
    {
     "data": {
      "text/html": [
       "<ol class=list-inline>\n",
       "\t<li>'very low'</li>\n",
       "\t<li>'low'</li>\n",
       "\t<li>'medium'</li>\n",
       "\t<li>'high'</li>\n",
       "\t<li>'very high'</li>\n",
       "</ol>\n"
      ],
      "text/latex": [
       "\\begin{enumerate*}\n",
       "\\item 'very low'\n",
       "\\item 'low'\n",
       "\\item 'medium'\n",
       "\\item 'high'\n",
       "\\item 'very high'\n",
       "\\end{enumerate*}\n"
      ],
      "text/markdown": [
       "1. 'very low'\n",
       "2. 'low'\n",
       "3. 'medium'\n",
       "4. 'high'\n",
       "5. 'very high'\n",
       "\n",
       "\n"
      ],
      "text/plain": [
       "[1] \"very low\"  \"low\"       \"medium\"    \"high\"      \"very high\""
      ]
     },
     "metadata": {},
     "output_type": "display_data"
    },
    {
     "data": {
      "text/html": [
       "<dl class=dl-horizontal>\n",
       "\t<dt>very low</dt>\n",
       "\t\t<dd>1</dd>\n",
       "\t<dt>low</dt>\n",
       "\t\t<dd>3</dd>\n",
       "\t<dt>medium</dt>\n",
       "\t\t<dd>3</dd>\n",
       "\t<dt>high</dt>\n",
       "\t\t<dd>1</dd>\n",
       "\t<dt>very high</dt>\n",
       "\t\t<dd>1</dd>\n",
       "</dl>\n"
      ],
      "text/latex": [
       "\\begin{description*}\n",
       "\\item[very low] 1\n",
       "\\item[low] 3\n",
       "\\item[medium] 3\n",
       "\\item[high] 1\n",
       "\\item[very high] 1\n",
       "\\end{description*}\n"
      ],
      "text/markdown": [
       "very low\n",
       ":   1low\n",
       ":   3medium\n",
       ":   3high\n",
       ":   1very high\n",
       ":   1\n",
       "\n"
      ],
      "text/plain": [
       " very low       low    medium      high very high \n",
       "        1         3         3         1         1 "
      ]
     },
     "metadata": {},
     "output_type": "display_data"
    },
    {
     "data": {
      "text/html": [
       "TRUE"
      ],
      "text/latex": [
       "TRUE"
      ],
      "text/markdown": [
       "TRUE"
      ],
      "text/plain": [
       "[1] TRUE"
      ]
     },
     "metadata": {},
     "output_type": "display_data"
    },
    {
     "data": {
      "text/html": [
       "FALSE"
      ],
      "text/latex": [
       "FALSE"
      ],
      "text/markdown": [
       "FALSE"
      ],
      "text/plain": [
       "[1] FALSE"
      ]
     },
     "metadata": {},
     "output_type": "display_data"
    },
    {
     "data": {
      "text/html": [
       "TRUE"
      ],
      "text/latex": [
       "TRUE"
      ],
      "text/markdown": [
       "TRUE"
      ],
      "text/plain": [
       "[1] TRUE"
      ]
     },
     "metadata": {},
     "output_type": "display_data"
    }
   ],
   "source": [
    "lev <- c('very low', 'low', 'low', 'low', 'medium','medium', 'high', 'very high', 'medium')\n",
    "lev\n",
    "class(lev)\n",
    "f_lev <- factor(lev, order = TRUE, levels = c('very low', 'low', 'medium', 'high', 'very high'))\n",
    "levels(f_lev)\n",
    "summary(f_lev)\n",
    "is.ordered(f_lev)\n",
    "\n",
    "f_lev[1] > f_lev[5]\n",
    "f_lev[1] < f_lev[5]"
   ]
  },
  {
   "cell_type": "code",
   "execution_count": 14,
   "metadata": {},
   "outputs": [
    {
     "data": {
      "text/html": [
       "<ol class=list-inline>\n",
       "\t<li>I</li>\n",
       "\t<li>III</li>\n",
       "\t<li>II</li>\n",
       "\t<li>II</li>\n",
       "\t<li>II</li>\n",
       "\t<li>I</li>\n",
       "\t<li>I</li>\n",
       "\t<li>III</li>\n",
       "\t<li>III</li>\n",
       "\t<li>I</li>\n",
       "\t<li>II</li>\n",
       "</ol>\n"
      ],
      "text/latex": [
       "\\begin{enumerate*}\n",
       "\\item I\n",
       "\\item III\n",
       "\\item II\n",
       "\\item II\n",
       "\\item II\n",
       "\\item I\n",
       "\\item I\n",
       "\\item III\n",
       "\\item III\n",
       "\\item I\n",
       "\\item II\n",
       "\\end{enumerate*}\n"
      ],
      "text/markdown": [
       "1. I\n",
       "2. III\n",
       "3. II\n",
       "4. II\n",
       "5. II\n",
       "6. I\n",
       "7. I\n",
       "8. III\n",
       "9. III\n",
       "10. I\n",
       "11. II\n",
       "\n",
       "\n"
      ],
      "text/plain": [
       " [1] I   III II  II  II  I   I   III III I   II \n",
       "Levels: I II III"
      ]
     },
     "metadata": {},
     "output_type": "display_data"
    },
    {
     "data": {
      "text/html": [
       "<dl class=dl-horizontal>\n",
       "\t<dt>I</dt>\n",
       "\t\t<dd>4</dd>\n",
       "\t<dt>II</dt>\n",
       "\t\t<dd>4</dd>\n",
       "\t<dt>III</dt>\n",
       "\t\t<dd>3</dd>\n",
       "</dl>\n"
      ],
      "text/latex": [
       "\\begin{description*}\n",
       "\\item[I] 4\n",
       "\\item[II] 4\n",
       "\\item[III] 3\n",
       "\\end{description*}\n"
      ],
      "text/markdown": [
       "I\n",
       ":   4II\n",
       ":   4III\n",
       ":   3\n",
       "\n"
      ],
      "text/plain": [
       "  I  II III \n",
       "  4   4   3 "
      ]
     },
     "metadata": {},
     "output_type": "display_data"
    }
   ],
   "source": [
    "numbers <- c(1,3,2,2,2,1,1,3,3,1,2)\n",
    "l_numbers = factor(numbers, labels = c('I', 'II', 'III'))\n",
    "l_numbers\n",
    "summary(l_numbers)"
   ]
  },
  {
   "cell_type": "code",
   "execution_count": null,
   "metadata": {},
   "outputs": [],
   "source": []
  }
 ],
 "metadata": {
  "kernelspec": {
   "display_name": "R",
   "language": "R",
   "name": "ir"
  },
  "language_info": {
   "codemirror_mode": "r",
   "file_extension": ".r",
   "mimetype": "text/x-r-source",
   "name": "R",
   "pygments_lexer": "r",
   "version": "3.4.3"
  }
 },
 "nbformat": 4,
 "nbformat_minor": 2
}
