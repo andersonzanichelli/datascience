{
 "cells": [
  {
   "cell_type": "markdown",
   "metadata": {},
   "source": [
    "# Unlist, do.call and strsplit"
   ]
  },
  {
   "cell_type": "code",
   "execution_count": 2,
   "metadata": {},
   "outputs": [
    {
     "data": {
      "text/html": [
       "<ol>\n",
       "\t<li>6</li>\n",
       "\t<li>'b'</li>\n",
       "\t<li>15</li>\n",
       "</ol>\n"
      ],
      "text/latex": [
       "\\begin{enumerate}\n",
       "\\item 6\n",
       "\\item 'b'\n",
       "\\item 15\n",
       "\\end{enumerate}\n"
      ],
      "text/markdown": [
       "1. 6\n",
       "2. 'b'\n",
       "3. 15\n",
       "\n",
       "\n"
      ],
      "text/plain": [
       "[[1]]\n",
       "[1] 6\n",
       "\n",
       "[[2]]\n",
       "[1] \"b\"\n",
       "\n",
       "[[3]]\n",
       "[1] 15\n"
      ]
     },
     "metadata": {},
     "output_type": "display_data"
    },
    {
     "data": {
      "text/html": [
       "'list'"
      ],
      "text/latex": [
       "'list'"
      ],
      "text/markdown": [
       "'list'"
      ],
      "text/plain": [
       "[1] \"list\""
      ]
     },
     "metadata": {},
     "output_type": "display_data"
    }
   ],
   "source": [
    "lst <- list(6, 'b', 15)\n",
    "lst\n",
    "class(lst)"
   ]
  },
  {
   "cell_type": "code",
   "execution_count": 5,
   "metadata": {},
   "outputs": [
    {
     "data": {
      "text/html": [
       "<ol class=list-inline>\n",
       "\t<li>'6'</li>\n",
       "\t<li>'b'</li>\n",
       "\t<li>'15'</li>\n",
       "</ol>\n"
      ],
      "text/latex": [
       "\\begin{enumerate*}\n",
       "\\item '6'\n",
       "\\item 'b'\n",
       "\\item '15'\n",
       "\\end{enumerate*}\n"
      ],
      "text/markdown": [
       "1. '6'\n",
       "2. 'b'\n",
       "3. '15'\n",
       "\n",
       "\n"
      ],
      "text/plain": [
       "[1] \"6\"  \"b\"  \"15\""
      ]
     },
     "metadata": {},
     "output_type": "display_data"
    },
    {
     "data": {
      "text/html": [
       "'character'"
      ],
      "text/latex": [
       "'character'"
      ],
      "text/markdown": [
       "'character'"
      ],
      "text/plain": [
       "[1] \"character\""
      ]
     },
     "metadata": {},
     "output_type": "display_data"
    }
   ],
   "source": [
    "vec <- unlist(lst)\n",
    "vec\n",
    "class(vec)"
   ]
  },
  {
   "cell_type": "code",
   "execution_count": 6,
   "metadata": {},
   "outputs": [
    {
     "data": {
      "text/html": [
       "<dl>\n",
       "\t<dt>$v1</dt>\n",
       "\t\t<dd>6</dd>\n",
       "\t<dt>$v2</dt>\n",
       "\t\t<dd><ol>\n",
       "\t<li>381</li>\n",
       "\t<li>2190</li>\n",
       "</ol>\n",
       "</dd>\n",
       "\t<dt>$v3</dt>\n",
       "\t\t<dd><ol class=list-inline>\n",
       "\t<li>30</li>\n",
       "\t<li>178</li>\n",
       "</ol>\n",
       "</dd>\n",
       "</dl>\n"
      ],
      "text/latex": [
       "\\begin{description}\n",
       "\\item[\\$v1] 6\n",
       "\\item[\\$v2] \\begin{enumerate}\n",
       "\\item 381\n",
       "\\item 2190\n",
       "\\end{enumerate}\n",
       "\n",
       "\\item[\\$v3] \\begin{enumerate*}\n",
       "\\item 30\n",
       "\\item 178\n",
       "\\end{enumerate*}\n",
       "\n",
       "\\end{description}\n"
      ],
      "text/markdown": [
       "$v1\n",
       ":   6\n",
       "$v2\n",
       ":   1. 381\n",
       "2. 2190\n",
       "\n",
       "\n",
       "\n",
       "$v3\n",
       ":   1. 30\n",
       "2. 178\n",
       "\n",
       "\n",
       "\n",
       "\n",
       "\n"
      ],
      "text/plain": [
       "$v1\n",
       "[1] 6\n",
       "\n",
       "$v2\n",
       "$v2[[1]]\n",
       "[1] 381\n",
       "\n",
       "$v2[[2]]\n",
       "[1] 2190\n",
       "\n",
       "\n",
       "$v3\n",
       "[1]  30 178\n"
      ]
     },
     "metadata": {},
     "output_type": "display_data"
    }
   ],
   "source": [
    "lst2 <- list(v1 = 6, v2 = list(381, 2190), v3 = c(30, 178))\n",
    "lst2"
   ]
  },
  {
   "cell_type": "code",
   "execution_count": 8,
   "metadata": {},
   "outputs": [
    {
     "data": {
      "text/html": [
       "<dl class=dl-horizontal>\n",
       "\t<dt>v1</dt>\n",
       "\t\t<dd>6</dd>\n",
       "\t<dt>v21</dt>\n",
       "\t\t<dd>381</dd>\n",
       "\t<dt>v22</dt>\n",
       "\t\t<dd>2190</dd>\n",
       "\t<dt>v31</dt>\n",
       "\t\t<dd>30</dd>\n",
       "\t<dt>v32</dt>\n",
       "\t\t<dd>178</dd>\n",
       "</dl>\n"
      ],
      "text/latex": [
       "\\begin{description*}\n",
       "\\item[v1] 6\n",
       "\\item[v21] 381\n",
       "\\item[v22] 2190\n",
       "\\item[v31] 30\n",
       "\\item[v32] 178\n",
       "\\end{description*}\n"
      ],
      "text/markdown": [
       "v1\n",
       ":   6v21\n",
       ":   381v22\n",
       ":   2190v31\n",
       ":   30v32\n",
       ":   178\n",
       "\n"
      ],
      "text/plain": [
       "  v1  v21  v22  v31  v32 \n",
       "   6  381 2190   30  178 "
      ]
     },
     "metadata": {},
     "output_type": "display_data"
    }
   ],
   "source": [
    "vec2 <- unlist(lst2)\n",
    "vec2"
   ]
  },
  {
   "cell_type": "code",
   "execution_count": 9,
   "metadata": {},
   "outputs": [
    {
     "data": {
      "text/html": [
       "557"
      ],
      "text/latex": [
       "557"
      ],
      "text/markdown": [
       "557"
      ],
      "text/plain": [
       "[1] 557"
      ]
     },
     "metadata": {},
     "output_type": "display_data"
    }
   ],
   "source": [
    "mean(unlist(lst2))"
   ]
  },
  {
   "cell_type": "code",
   "execution_count": 11,
   "metadata": {},
   "outputs": [
    {
     "data": {
      "text/html": [
       "<ol>\n",
       "\t<li><table>\n",
       "<thead><tr><th scope=col>index</th><th scope=col>char</th><th scope=col>z</th></tr></thead>\n",
       "<tbody>\n",
       "\t<tr><td>100       </td><td>c         </td><td>-0.9454282</td></tr>\n",
       "</tbody>\n",
       "</table>\n",
       "</li>\n",
       "\t<li><table>\n",
       "<thead><tr><th scope=col>index</th><th scope=col>char</th><th scope=col>z</th></tr></thead>\n",
       "<tbody>\n",
       "\t<tr><td>100      </td><td>z        </td><td>0.5177985</td></tr>\n",
       "</tbody>\n",
       "</table>\n",
       "</li>\n",
       "\t<li><table>\n",
       "<thead><tr><th scope=col>index</th><th scope=col>char</th><th scope=col>z</th></tr></thead>\n",
       "<tbody>\n",
       "\t<tr><td>100      </td><td>s        </td><td>-0.626134</td></tr>\n",
       "</tbody>\n",
       "</table>\n",
       "</li>\n",
       "\t<li><table>\n",
       "<thead><tr><th scope=col>index</th><th scope=col>char</th><th scope=col>z</th></tr></thead>\n",
       "<tbody>\n",
       "\t<tr><td>100      </td><td>j        </td><td>-1.000394</td></tr>\n",
       "</tbody>\n",
       "</table>\n",
       "</li>\n",
       "\t<li><table>\n",
       "<thead><tr><th scope=col>index</th><th scope=col>char</th><th scope=col>z</th></tr></thead>\n",
       "<tbody>\n",
       "\t<tr><td>100     </td><td>f       </td><td>0.262917</td></tr>\n",
       "</tbody>\n",
       "</table>\n",
       "</li>\n",
       "\t<li><table>\n",
       "<thead><tr><th scope=col>index</th><th scope=col>char</th><th scope=col>z</th></tr></thead>\n",
       "<tbody>\n",
       "\t<tr><td>100      </td><td>g        </td><td>-1.041414</td></tr>\n",
       "</tbody>\n",
       "</table>\n",
       "</li>\n",
       "</ol>\n"
      ],
      "text/latex": [
       "\\begin{enumerate}\n",
       "\\item \\begin{tabular}{r|lll}\n",
       " index & char & z\\\\\n",
       "\\hline\n",
       "\t 100        & c          & -0.9454282\\\\\n",
       "\\end{tabular}\n",
       "\n",
       "\\item \\begin{tabular}{r|lll}\n",
       " index & char & z\\\\\n",
       "\\hline\n",
       "\t 100       & z         & 0.5177985\\\\\n",
       "\\end{tabular}\n",
       "\n",
       "\\item \\begin{tabular}{r|lll}\n",
       " index & char & z\\\\\n",
       "\\hline\n",
       "\t 100       & s         & -0.626134\\\\\n",
       "\\end{tabular}\n",
       "\n",
       "\\item \\begin{tabular}{r|lll}\n",
       " index & char & z\\\\\n",
       "\\hline\n",
       "\t 100       & j         & -1.000394\\\\\n",
       "\\end{tabular}\n",
       "\n",
       "\\item \\begin{tabular}{r|lll}\n",
       " index & char & z\\\\\n",
       "\\hline\n",
       "\t 100      & f        & 0.262917\\\\\n",
       "\\end{tabular}\n",
       "\n",
       "\\item \\begin{tabular}{r|lll}\n",
       " index & char & z\\\\\n",
       "\\hline\n",
       "\t 100       & g         & -1.041414\\\\\n",
       "\\end{tabular}\n",
       "\n",
       "\\end{enumerate}\n"
      ],
      "text/markdown": [
       "1. \n",
       "index | char | z | \n",
       "|---|\n",
       "| 100        | c          | -0.9454282 | \n",
       "\n",
       "\n",
       "\n",
       "2. \n",
       "index | char | z | \n",
       "|---|\n",
       "| 100       | z         | 0.5177985 | \n",
       "\n",
       "\n",
       "\n",
       "3. \n",
       "index | char | z | \n",
       "|---|\n",
       "| 100       | s         | -0.626134 | \n",
       "\n",
       "\n",
       "\n",
       "4. \n",
       "index | char | z | \n",
       "|---|\n",
       "| 100       | j         | -1.000394 | \n",
       "\n",
       "\n",
       "\n",
       "5. \n",
       "index | char | z | \n",
       "|---|\n",
       "| 100      | f        | 0.262917 | \n",
       "\n",
       "\n",
       "\n",
       "6. \n",
       "index | char | z | \n",
       "|---|\n",
       "| 100       | g         | -1.041414 | \n",
       "\n",
       "\n",
       "\n",
       "\n",
       "\n"
      ],
      "text/plain": [
       "[[1]]\n",
       "  index char          z\n",
       "1   100    c -0.9454282\n",
       "\n",
       "[[2]]\n",
       "  index char         z\n",
       "1   100    z 0.5177985\n",
       "\n",
       "[[3]]\n",
       "  index char         z\n",
       "1   100    s -0.626134\n",
       "\n",
       "[[4]]\n",
       "  index char         z\n",
       "1   100    j -1.000394\n",
       "\n",
       "[[5]]\n",
       "  index char        z\n",
       "1   100    f 0.262917\n",
       "\n",
       "[[6]]\n",
       "  index char         z\n",
       "1   100    g -1.041414\n"
      ]
     },
     "metadata": {},
     "output_type": "display_data"
    }
   ],
   "source": [
    "#?do.call\n",
    "data <- list()\n",
    "n <- 100\n",
    "\n",
    "for (i in 1:n) {\n",
    "    data[[i]] <- data.frame(index = n, char = sample(letters, 1), z = rnorm(1))\n",
    "}\n",
    "\n",
    "head(data)"
   ]
  },
  {
   "cell_type": "code",
   "execution_count": 13,
   "metadata": {},
   "outputs": [
    {
     "data": {
      "text/html": [
       "<table>\n",
       "<thead><tr><th scope=col>index</th><th scope=col>char</th><th scope=col>z</th></tr></thead>\n",
       "<tbody>\n",
       "\t<tr><td>100       </td><td>c         </td><td>-0.9454282</td></tr>\n",
       "\t<tr><td>100       </td><td>z         </td><td> 0.5177985</td></tr>\n",
       "\t<tr><td>100       </td><td>s         </td><td>-0.6261340</td></tr>\n",
       "\t<tr><td>100       </td><td>j         </td><td>-1.0003939</td></tr>\n",
       "\t<tr><td>100       </td><td>f         </td><td> 0.2629170</td></tr>\n",
       "\t<tr><td>100       </td><td>g         </td><td>-1.0414138</td></tr>\n",
       "</tbody>\n",
       "</table>\n"
      ],
      "text/latex": [
       "\\begin{tabular}{r|lll}\n",
       " index & char & z\\\\\n",
       "\\hline\n",
       "\t 100        & c          & -0.9454282\\\\\n",
       "\t 100        & z          &  0.5177985\\\\\n",
       "\t 100        & s          & -0.6261340\\\\\n",
       "\t 100        & j          & -1.0003939\\\\\n",
       "\t 100        & f          &  0.2629170\\\\\n",
       "\t 100        & g          & -1.0414138\\\\\n",
       "\\end{tabular}\n"
      ],
      "text/markdown": [
       "\n",
       "index | char | z | \n",
       "|---|---|---|---|---|---|\n",
       "| 100        | c          | -0.9454282 | \n",
       "| 100        | z          |  0.5177985 | \n",
       "| 100        | s          | -0.6261340 | \n",
       "| 100        | j          | -1.0003939 | \n",
       "| 100        | f          |  0.2629170 | \n",
       "| 100        | g          | -1.0414138 | \n",
       "\n",
       "\n"
      ],
      "text/plain": [
       "  index char z         \n",
       "1 100   c    -0.9454282\n",
       "2 100   z     0.5177985\n",
       "3 100   s    -0.6261340\n",
       "4 100   j    -1.0003939\n",
       "5 100   f     0.2629170\n",
       "6 100   g    -1.0414138"
      ]
     },
     "metadata": {},
     "output_type": "display_data"
    }
   ],
   "source": [
    "df = do.call(rbind, data)\n",
    "head(df)"
   ]
  },
  {
   "cell_type": "code",
   "execution_count": 14,
   "metadata": {},
   "outputs": [
    {
     "data": {
      "text/html": [
       "<ol>\n",
       "\t<li><ol class=list-inline>\n",
       "\t<li>1</li>\n",
       "\t<li>2</li>\n",
       "\t<li>3</li>\n",
       "</ol>\n",
       "</li>\n",
       "\t<li><ol class=list-inline>\n",
       "\t<li>4</li>\n",
       "\t<li>5</li>\n",
       "\t<li>6</li>\n",
       "</ol>\n",
       "</li>\n",
       "\t<li><ol class=list-inline>\n",
       "\t<li>7</li>\n",
       "\t<li>8</li>\n",
       "\t<li>9</li>\n",
       "</ol>\n",
       "</li>\n",
       "</ol>\n"
      ],
      "text/latex": [
       "\\begin{enumerate}\n",
       "\\item \\begin{enumerate*}\n",
       "\\item 1\n",
       "\\item 2\n",
       "\\item 3\n",
       "\\end{enumerate*}\n",
       "\n",
       "\\item \\begin{enumerate*}\n",
       "\\item 4\n",
       "\\item 5\n",
       "\\item 6\n",
       "\\end{enumerate*}\n",
       "\n",
       "\\item \\begin{enumerate*}\n",
       "\\item 7\n",
       "\\item 8\n",
       "\\item 9\n",
       "\\end{enumerate*}\n",
       "\n",
       "\\end{enumerate}\n"
      ],
      "text/markdown": [
       "1. 1. 1\n",
       "2. 2\n",
       "3. 3\n",
       "\n",
       "\n",
       "\n",
       "2. 1. 4\n",
       "2. 5\n",
       "3. 6\n",
       "\n",
       "\n",
       "\n",
       "3. 1. 7\n",
       "2. 8\n",
       "3. 9\n",
       "\n",
       "\n",
       "\n",
       "\n",
       "\n"
      ],
      "text/plain": [
       "[[1]]\n",
       "[1] 1 2 3\n",
       "\n",
       "[[2]]\n",
       "[1] 4 5 6\n",
       "\n",
       "[[3]]\n",
       "[1] 7 8 9\n"
      ]
     },
     "metadata": {},
     "output_type": "display_data"
    }
   ],
   "source": [
    "y <- list(1:3, 4:6, 7:9)\n",
    "y"
   ]
  },
  {
   "cell_type": "code",
   "execution_count": 15,
   "metadata": {},
   "outputs": [
    {
     "data": {
      "text/html": [
       "<ol>\n",
       "\t<li>6</li>\n",
       "\t<li>15</li>\n",
       "\t<li>24</li>\n",
       "</ol>\n"
      ],
      "text/latex": [
       "\\begin{enumerate}\n",
       "\\item 6\n",
       "\\item 15\n",
       "\\item 24\n",
       "\\end{enumerate}\n"
      ],
      "text/markdown": [
       "1. 6\n",
       "2. 15\n",
       "3. 24\n",
       "\n",
       "\n"
      ],
      "text/plain": [
       "[[1]]\n",
       "[1] 6\n",
       "\n",
       "[[2]]\n",
       "[1] 15\n",
       "\n",
       "[[3]]\n",
       "[1] 24\n"
      ]
     },
     "metadata": {},
     "output_type": "display_data"
    }
   ],
   "source": [
    "lapply(y, sum)"
   ]
  },
  {
   "cell_type": "code",
   "execution_count": 16,
   "metadata": {},
   "outputs": [
    {
     "data": {
      "text/html": [
       "45"
      ],
      "text/latex": [
       "45"
      ],
      "text/markdown": [
       "45"
      ],
      "text/plain": [
       "[1] 45"
      ]
     },
     "metadata": {},
     "output_type": "display_data"
    }
   ],
   "source": [
    "do.call(sum, y)"
   ]
  },
  {
   "cell_type": "code",
   "execution_count": 17,
   "metadata": {},
   "outputs": [
    {
     "name": "stderr",
     "output_type": "stream",
     "text": [
      "Updating HTML index of packages in '.Library'\n",
      "Making 'packages.html' ... done\n"
     ]
    }
   ],
   "source": [
    "install.packages('plyr')\n",
    "library(plyr)"
   ]
  },
  {
   "cell_type": "code",
   "execution_count": 18,
   "metadata": {},
   "outputs": [
    {
     "data": {
      "text/html": [
       "<ol>\n",
       "\t<li><ol class=list-inline>\n",
       "\t<li>1</li>\n",
       "\t<li>2</li>\n",
       "\t<li>3</li>\n",
       "</ol>\n",
       "</li>\n",
       "\t<li><ol class=list-inline>\n",
       "\t<li>4</li>\n",
       "\t<li>5</li>\n",
       "\t<li>6</li>\n",
       "</ol>\n",
       "</li>\n",
       "\t<li><ol class=list-inline>\n",
       "\t<li>7</li>\n",
       "\t<li>8</li>\n",
       "\t<li>9</li>\n",
       "</ol>\n",
       "</li>\n",
       "</ol>\n"
      ],
      "text/latex": [
       "\\begin{enumerate}\n",
       "\\item \\begin{enumerate*}\n",
       "\\item 1\n",
       "\\item 2\n",
       "\\item 3\n",
       "\\end{enumerate*}\n",
       "\n",
       "\\item \\begin{enumerate*}\n",
       "\\item 4\n",
       "\\item 5\n",
       "\\item 6\n",
       "\\end{enumerate*}\n",
       "\n",
       "\\item \\begin{enumerate*}\n",
       "\\item 7\n",
       "\\item 8\n",
       "\\item 9\n",
       "\\end{enumerate*}\n",
       "\n",
       "\\end{enumerate}\n"
      ],
      "text/markdown": [
       "1. 1. 1\n",
       "2. 2\n",
       "3. 3\n",
       "\n",
       "\n",
       "\n",
       "2. 1. 4\n",
       "2. 5\n",
       "3. 6\n",
       "\n",
       "\n",
       "\n",
       "3. 1. 7\n",
       "2. 8\n",
       "3. 9\n",
       "\n",
       "\n",
       "\n",
       "\n",
       "\n"
      ],
      "text/plain": [
       "[[1]]\n",
       "[1] 1 2 3\n",
       "\n",
       "[[2]]\n",
       "[1] 4 5 6\n",
       "\n",
       "[[3]]\n",
       "[1] 7 8 9\n"
      ]
     },
     "metadata": {},
     "output_type": "display_data"
    }
   ],
   "source": [
    "y <- list(1:3, 4:6, 7:9)\n",
    "y"
   ]
  },
  {
   "cell_type": "code",
   "execution_count": 19,
   "metadata": {},
   "outputs": [
    {
     "data": {
      "text/html": [
       "<table>\n",
       "<thead><tr><th scope=col>V1</th></tr></thead>\n",
       "<tbody>\n",
       "\t<tr><td> 6</td></tr>\n",
       "\t<tr><td>15</td></tr>\n",
       "\t<tr><td>24</td></tr>\n",
       "</tbody>\n",
       "</table>\n"
      ],
      "text/latex": [
       "\\begin{tabular}{r|l}\n",
       " V1\\\\\n",
       "\\hline\n",
       "\t  6\\\\\n",
       "\t 15\\\\\n",
       "\t 24\\\\\n",
       "\\end{tabular}\n"
      ],
      "text/markdown": [
       "\n",
       "V1 | \n",
       "|---|---|---|\n",
       "|  6 | \n",
       "| 15 | \n",
       "| 24 | \n",
       "\n",
       "\n"
      ],
      "text/plain": [
       "  V1\n",
       "1  6\n",
       "2 15\n",
       "3 24"
      ]
     },
     "metadata": {},
     "output_type": "display_data"
    }
   ],
   "source": [
    "# best performance than lapply\n",
    "ldply(y, sum)"
   ]
  },
  {
   "cell_type": "code",
   "execution_count": 20,
   "metadata": {},
   "outputs": [
    {
     "data": {
      "text/html": [
       "'World of Data Science'"
      ],
      "text/latex": [
       "'World of Data Science'"
      ],
      "text/markdown": [
       "'World of Data Science'"
      ],
      "text/plain": [
       "[1] \"World of Data Science\""
      ]
     },
     "metadata": {},
     "output_type": "display_data"
    }
   ],
   "source": [
    "text <- 'World of Data Science'\n",
    "text"
   ]
  },
  {
   "cell_type": "code",
   "execution_count": 23,
   "metadata": {},
   "outputs": [
    {
     "data": {
      "text/html": [
       "<ol>\n",
       "\t<li><ol class=list-inline>\n",
       "\t<li>'World'</li>\n",
       "\t<li>'of'</li>\n",
       "\t<li>'Data'</li>\n",
       "\t<li>'Science'</li>\n",
       "</ol>\n",
       "</li>\n",
       "</ol>\n"
      ],
      "text/latex": [
       "\\begin{enumerate}\n",
       "\\item \\begin{enumerate*}\n",
       "\\item 'World'\n",
       "\\item 'of'\n",
       "\\item 'Data'\n",
       "\\item 'Science'\n",
       "\\end{enumerate*}\n",
       "\n",
       "\\end{enumerate}\n"
      ],
      "text/markdown": [
       "1. 1. 'World'\n",
       "2. 'of'\n",
       "3. 'Data'\n",
       "4. 'Science'\n",
       "\n",
       "\n",
       "\n",
       "\n",
       "\n"
      ],
      "text/plain": [
       "[[1]]\n",
       "[1] \"World\"   \"of\"      \"Data\"    \"Science\"\n"
      ]
     },
     "metadata": {},
     "output_type": "display_data"
    }
   ],
   "source": [
    "strsplit(text, ' ')"
   ]
  },
  {
   "cell_type": "code",
   "execution_count": 24,
   "metadata": {},
   "outputs": [
    {
     "data": {
      "text/html": [
       "<ol>\n",
       "\t<li><ol class=list-inline>\n",
       "\t<li>'1998'</li>\n",
       "\t<li>'09'</li>\n",
       "\t<li>'12'</li>\n",
       "</ol>\n",
       "</li>\n",
       "\t<li><ol class=list-inline>\n",
       "\t<li>'2008'</li>\n",
       "\t<li>'05'</li>\n",
       "\t<li>'08'</li>\n",
       "</ol>\n",
       "</li>\n",
       "</ol>\n"
      ],
      "text/latex": [
       "\\begin{enumerate}\n",
       "\\item \\begin{enumerate*}\n",
       "\\item '1998'\n",
       "\\item '09'\n",
       "\\item '12'\n",
       "\\end{enumerate*}\n",
       "\n",
       "\\item \\begin{enumerate*}\n",
       "\\item '2008'\n",
       "\\item '05'\n",
       "\\item '08'\n",
       "\\end{enumerate*}\n",
       "\n",
       "\\end{enumerate}\n"
      ],
      "text/markdown": [
       "1. 1. '1998'\n",
       "2. '09'\n",
       "3. '12'\n",
       "\n",
       "\n",
       "\n",
       "2. 1. '2008'\n",
       "2. '05'\n",
       "3. '08'\n",
       "\n",
       "\n",
       "\n",
       "\n",
       "\n"
      ],
      "text/plain": [
       "[[1]]\n",
       "[1] \"1998\" \"09\"   \"12\"  \n",
       "\n",
       "[[2]]\n",
       "[1] \"2008\" \"05\"   \"08\"  \n"
      ]
     },
     "metadata": {},
     "output_type": "display_data"
    }
   ],
   "source": [
    "dates <- c('1998-09-12', '2008-05-08')\n",
    "temp <- strsplit(dates, '-')\n",
    "temp"
   ]
  },
  {
   "cell_type": "code",
   "execution_count": 25,
   "metadata": {},
   "outputs": [
    {
     "data": {
      "text/html": [
       "<table>\n",
       "<tbody>\n",
       "\t<tr><td>1998</td><td>09  </td><td>12  </td></tr>\n",
       "\t<tr><td>2008</td><td>05  </td><td>08  </td></tr>\n",
       "</tbody>\n",
       "</table>\n"
      ],
      "text/latex": [
       "\\begin{tabular}{lll}\n",
       "\t 1998 & 09   & 12  \\\\\n",
       "\t 2008 & 05   & 08  \\\\\n",
       "\\end{tabular}\n"
      ],
      "text/markdown": [
       "\n",
       "| 1998 | 09   | 12   | \n",
       "| 2008 | 05   | 08   | \n",
       "\n",
       "\n"
      ],
      "text/plain": [
       "     [,1] [,2] [,3]\n",
       "[1,] 1998 09   12  \n",
       "[2,] 2008 05   08  "
      ]
     },
     "metadata": {},
     "output_type": "display_data"
    }
   ],
   "source": [
    "matrix(unlist(temp), ncol = 3, byrow = T)"
   ]
  },
  {
   "cell_type": "code",
   "execution_count": 29,
   "metadata": {},
   "outputs": [
    {
     "data": {
      "text/html": [
       "'list'"
      ],
      "text/latex": [
       "'list'"
      ],
      "text/markdown": [
       "'list'"
      ],
      "text/plain": [
       "[1] \"list\""
      ]
     },
     "metadata": {},
     "output_type": "display_data"
    },
    {
     "data": {
      "text/html": [
       "<ol>\n",
       "\t<li>'Brin'</li>\n",
       "\t<li>'Sergey'</li>\n",
       "\t<li>'Page'</li>\n",
       "\t<li>'Larry'</li>\n",
       "\t<li>'Dorsey'</li>\n",
       "\t<li>'Jack'</li>\n",
       "\t<li>'Glass'</li>\n",
       "\t<li>'Noah'</li>\n",
       "\t<li>'Williams'</li>\n",
       "\t<li>'Evan'</li>\n",
       "\t<li>'Stone'</li>\n",
       "\t<li>'Biz'</li>\n",
       "</ol>\n"
      ],
      "text/latex": [
       "\\begin{enumerate}\n",
       "\\item 'Brin'\n",
       "\\item 'Sergey'\n",
       "\\item 'Page'\n",
       "\\item 'Larry'\n",
       "\\item 'Dorsey'\n",
       "\\item 'Jack'\n",
       "\\item 'Glass'\n",
       "\\item 'Noah'\n",
       "\\item 'Williams'\n",
       "\\item 'Evan'\n",
       "\\item 'Stone'\n",
       "\\item 'Biz'\n",
       "\\end{enumerate}\n"
      ],
      "text/markdown": [
       "1. 'Brin'\n",
       "2. 'Sergey'\n",
       "3. 'Page'\n",
       "4. 'Larry'\n",
       "5. 'Dorsey'\n",
       "6. 'Jack'\n",
       "7. 'Glass'\n",
       "8. 'Noah'\n",
       "9. 'Williams'\n",
       "10. 'Evan'\n",
       "11. 'Stone'\n",
       "12. 'Biz'\n",
       "\n",
       "\n"
      ],
      "text/plain": [
       "[[1]]\n",
       "[1] \"Brin\"\n",
       "\n",
       "[[2]]\n",
       "[1] \"Sergey\"\n",
       "\n",
       "[[3]]\n",
       "[1] \"Page\"\n",
       "\n",
       "[[4]]\n",
       "[1] \"Larry\"\n",
       "\n",
       "[[5]]\n",
       "[1] \"Dorsey\"\n",
       "\n",
       "[[6]]\n",
       "[1] \"Jack\"\n",
       "\n",
       "[[7]]\n",
       "[1] \"Glass\"\n",
       "\n",
       "[[8]]\n",
       "[1] \"Noah\"\n",
       "\n",
       "[[9]]\n",
       "[1] \"Williams\"\n",
       "\n",
       "[[10]]\n",
       "[1] \"Evan\"\n",
       "\n",
       "[[11]]\n",
       "[1] \"Stone\"\n",
       "\n",
       "[[12]]\n",
       "[1] \"Biz\"\n"
      ]
     },
     "metadata": {},
     "output_type": "display_data"
    }
   ],
   "source": [
    "names <- c('Brin', 'Sergey', 'Page', 'Larry', 'Dorsey', 'Jack', 'Glass', 'Noah', 'Williams', 'Evan', 'Stone', 'Biz')\n",
    "temp <- strsplit(names, ', ')\n",
    "class(temp)\n",
    "temp"
   ]
  },
  {
   "cell_type": "code",
   "execution_count": 30,
   "metadata": {},
   "outputs": [
    {
     "data": {
      "text/html": [
       "<ol class=list-inline>\n",
       "\t<li>'Muitas'</li>\n",
       "\t<li>'vezes'</li>\n",
       "\t<li>'temos'</li>\n",
       "\t<li>'que'</li>\n",
       "\t<li>'repetir'</li>\n",
       "\t<li>'algo'</li>\n",
       "\t<li>'diversas'</li>\n",
       "\t<li>'vezes'</li>\n",
       "\t<li>'e'</li>\n",
       "\t<li>'essas'</li>\n",
       "\t<li>'diversas'</li>\n",
       "\t<li>'vezes'</li>\n",
       "\t<li>'parecem'</li>\n",
       "\t<li>'algo'</li>\n",
       "\t<li>'estranho'</li>\n",
       "</ol>\n"
      ],
      "text/latex": [
       "\\begin{enumerate*}\n",
       "\\item 'Muitas'\n",
       "\\item 'vezes'\n",
       "\\item 'temos'\n",
       "\\item 'que'\n",
       "\\item 'repetir'\n",
       "\\item 'algo'\n",
       "\\item 'diversas'\n",
       "\\item 'vezes'\n",
       "\\item 'e'\n",
       "\\item 'essas'\n",
       "\\item 'diversas'\n",
       "\\item 'vezes'\n",
       "\\item 'parecem'\n",
       "\\item 'algo'\n",
       "\\item 'estranho'\n",
       "\\end{enumerate*}\n"
      ],
      "text/markdown": [
       "1. 'Muitas'\n",
       "2. 'vezes'\n",
       "3. 'temos'\n",
       "4. 'que'\n",
       "5. 'repetir'\n",
       "6. 'algo'\n",
       "7. 'diversas'\n",
       "8. 'vezes'\n",
       "9. 'e'\n",
       "10. 'essas'\n",
       "11. 'diversas'\n",
       "12. 'vezes'\n",
       "13. 'parecem'\n",
       "14. 'algo'\n",
       "15. 'estranho'\n",
       "\n",
       "\n"
      ],
      "text/plain": [
       " [1] \"Muitas\"   \"vezes\"    \"temos\"    \"que\"      \"repetir\"  \"algo\"    \n",
       " [7] \"diversas\" \"vezes\"    \"e\"        \"essas\"    \"diversas\" \"vezes\"   \n",
       "[13] \"parecem\"  \"algo\"     \"estranho\""
      ]
     },
     "metadata": {},
     "output_type": "display_data"
    },
    {
     "data": {
      "text/html": [
       "<ol class=list-inline>\n",
       "\t<li>'muitas'</li>\n",
       "\t<li>'vezes'</li>\n",
       "\t<li>'temos'</li>\n",
       "\t<li>'que'</li>\n",
       "\t<li>'repetir'</li>\n",
       "\t<li>'algo'</li>\n",
       "\t<li>'diversas'</li>\n",
       "\t<li>'e'</li>\n",
       "\t<li>'essas'</li>\n",
       "\t<li>'parecem'</li>\n",
       "\t<li>'estranho'</li>\n",
       "</ol>\n"
      ],
      "text/latex": [
       "\\begin{enumerate*}\n",
       "\\item 'muitas'\n",
       "\\item 'vezes'\n",
       "\\item 'temos'\n",
       "\\item 'que'\n",
       "\\item 'repetir'\n",
       "\\item 'algo'\n",
       "\\item 'diversas'\n",
       "\\item 'e'\n",
       "\\item 'essas'\n",
       "\\item 'parecem'\n",
       "\\item 'estranho'\n",
       "\\end{enumerate*}\n"
      ],
      "text/markdown": [
       "1. 'muitas'\n",
       "2. 'vezes'\n",
       "3. 'temos'\n",
       "4. 'que'\n",
       "5. 'repetir'\n",
       "6. 'algo'\n",
       "7. 'diversas'\n",
       "8. 'e'\n",
       "9. 'essas'\n",
       "10. 'parecem'\n",
       "11. 'estranho'\n",
       "\n",
       "\n"
      ],
      "text/plain": [
       " [1] \"muitas\"   \"vezes\"    \"temos\"    \"que\"      \"repetir\"  \"algo\"    \n",
       " [7] \"diversas\" \"e\"        \"essas\"    \"parecem\"  \"estranho\""
      ]
     },
     "metadata": {},
     "output_type": "display_data"
    }
   ],
   "source": [
    "# unique\n",
    "frase <- 'Muitas vezes temos que repetir algo diversas vezes e essas diversas vezes parecem algo estranho'\n",
    "words <- strsplit(frase, ' ')[[1]]\n",
    "words\n",
    "unique(tolower(words))"
   ]
  },
  {
   "cell_type": "code",
   "execution_count": 31,
   "metadata": {},
   "outputs": [
    {
     "data": {
      "text/html": [
       "<table>\n",
       "<thead><tr><th scope=col>attr</th><th scope=col>type</th></tr></thead>\n",
       "<tbody>\n",
       "\t<tr><td> 1              </td><td>bread_and_water </td></tr>\n",
       "\t<tr><td>30              </td><td>bread_and_water2</td></tr>\n",
       "\t<tr><td> 4              </td><td>bread_and_water </td></tr>\n",
       "\t<tr><td> 8              </td><td>bread_and_water2</td></tr>\n",
       "</tbody>\n",
       "</table>\n"
      ],
      "text/latex": [
       "\\begin{tabular}{r|ll}\n",
       " attr & type\\\\\n",
       "\\hline\n",
       "\t  1                   & bread\\_and\\_water \\\\\n",
       "\t 30                   & bread\\_and\\_water2\\\\\n",
       "\t  4                   & bread\\_and\\_water \\\\\n",
       "\t  8                   & bread\\_and\\_water2\\\\\n",
       "\\end{tabular}\n"
      ],
      "text/markdown": [
       "\n",
       "attr | type | \n",
       "|---|---|---|---|\n",
       "|  1               | bread_and_water  | \n",
       "| 30               | bread_and_water2 | \n",
       "|  4               | bread_and_water  | \n",
       "|  8               | bread_and_water2 | \n",
       "\n",
       "\n"
      ],
      "text/plain": [
       "  attr type            \n",
       "1  1   bread_and_water \n",
       "2 30   bread_and_water2\n",
       "3  4   bread_and_water \n",
       "4  8   bread_and_water2"
      ]
     },
     "metadata": {},
     "output_type": "display_data"
    },
    {
     "data": {
      "text/html": [
       "<ol>\n",
       "\t<li><ol class=list-inline>\n",
       "\t<li>'bread'</li>\n",
       "\t<li>'water'</li>\n",
       "</ol>\n",
       "</li>\n",
       "\t<li><ol class=list-inline>\n",
       "\t<li>'bread'</li>\n",
       "\t<li>'water2'</li>\n",
       "</ol>\n",
       "</li>\n",
       "\t<li><ol class=list-inline>\n",
       "\t<li>'bread'</li>\n",
       "\t<li>'water'</li>\n",
       "</ol>\n",
       "</li>\n",
       "\t<li><ol class=list-inline>\n",
       "\t<li>'bread'</li>\n",
       "\t<li>'water2'</li>\n",
       "</ol>\n",
       "</li>\n",
       "</ol>\n"
      ],
      "text/latex": [
       "\\begin{enumerate}\n",
       "\\item \\begin{enumerate*}\n",
       "\\item 'bread'\n",
       "\\item 'water'\n",
       "\\end{enumerate*}\n",
       "\n",
       "\\item \\begin{enumerate*}\n",
       "\\item 'bread'\n",
       "\\item 'water2'\n",
       "\\end{enumerate*}\n",
       "\n",
       "\\item \\begin{enumerate*}\n",
       "\\item 'bread'\n",
       "\\item 'water'\n",
       "\\end{enumerate*}\n",
       "\n",
       "\\item \\begin{enumerate*}\n",
       "\\item 'bread'\n",
       "\\item 'water2'\n",
       "\\end{enumerate*}\n",
       "\n",
       "\\end{enumerate}\n"
      ],
      "text/markdown": [
       "1. 1. 'bread'\n",
       "2. 'water'\n",
       "\n",
       "\n",
       "\n",
       "2. 1. 'bread'\n",
       "2. 'water2'\n",
       "\n",
       "\n",
       "\n",
       "3. 1. 'bread'\n",
       "2. 'water'\n",
       "\n",
       "\n",
       "\n",
       "4. 1. 'bread'\n",
       "2. 'water2'\n",
       "\n",
       "\n",
       "\n",
       "\n",
       "\n"
      ],
      "text/plain": [
       "[[1]]\n",
       "[1] \"bread\" \"water\"\n",
       "\n",
       "[[2]]\n",
       "[1] \"bread\"  \"water2\"\n",
       "\n",
       "[[3]]\n",
       "[1] \"bread\" \"water\"\n",
       "\n",
       "[[4]]\n",
       "[1] \"bread\"  \"water2\"\n"
      ]
     },
     "metadata": {},
     "output_type": "display_data"
    }
   ],
   "source": [
    "before <- data.frame(attr = c(1,30,4,8), type = c('bread_and_water', 'bread_and_water2'))\n",
    "before\n",
    "strsplit(as.character(before$type), '_and_')"
   ]
  },
  {
   "cell_type": "code",
   "execution_count": 33,
   "metadata": {},
   "outputs": [
    {
     "name": "stderr",
     "output_type": "stream",
     "text": [
      "Updating HTML index of packages in '.Library'\n",
      "Making 'packages.html' ... done\n"
     ]
    }
   ],
   "source": [
    "install.packages('stringr')\n",
    "library(stringr)"
   ]
  },
  {
   "cell_type": "code",
   "execution_count": 34,
   "metadata": {},
   "outputs": [
    {
     "data": {
      "text/html": [
       "<table>\n",
       "<tbody>\n",
       "\t<tr><td>bread </td><td>water </td></tr>\n",
       "\t<tr><td>bread </td><td>water2</td></tr>\n",
       "\t<tr><td>bread </td><td>water </td></tr>\n",
       "\t<tr><td>bread </td><td>water2</td></tr>\n",
       "</tbody>\n",
       "</table>\n"
      ],
      "text/latex": [
       "\\begin{tabular}{ll}\n",
       "\t bread  & water \\\\\n",
       "\t bread  & water2\\\\\n",
       "\t bread  & water \\\\\n",
       "\t bread  & water2\\\\\n",
       "\\end{tabular}\n"
      ],
      "text/markdown": [
       "\n",
       "| bread  | water  | \n",
       "| bread  | water2 | \n",
       "| bread  | water  | \n",
       "| bread  | water2 | \n",
       "\n",
       "\n"
      ],
      "text/plain": [
       "     [,1]  [,2]  \n",
       "[1,] bread water \n",
       "[2,] bread water2\n",
       "[3,] bread water \n",
       "[4,] bread water2"
      ]
     },
     "metadata": {},
     "output_type": "display_data"
    }
   ],
   "source": [
    "str_split_fixed(before$type, '_and_', 2)"
   ]
  },
  {
   "cell_type": "code",
   "execution_count": 38,
   "metadata": {},
   "outputs": [
    {
     "data": {
      "text/html": [
       "<table>\n",
       "<thead><tr><th scope=col>attr</th><th scope=col>type</th></tr></thead>\n",
       "<tbody>\n",
       "\t<tr><td> 1              </td><td>bread_and_water </td></tr>\n",
       "\t<tr><td>30              </td><td>bread_and_water2</td></tr>\n",
       "\t<tr><td> 4              </td><td>bread_and_water </td></tr>\n",
       "\t<tr><td> 8              </td><td>bread_and_water2</td></tr>\n",
       "</tbody>\n",
       "</table>\n"
      ],
      "text/latex": [
       "\\begin{tabular}{r|ll}\n",
       " attr & type\\\\\n",
       "\\hline\n",
       "\t  1                   & bread\\_and\\_water \\\\\n",
       "\t 30                   & bread\\_and\\_water2\\\\\n",
       "\t  4                   & bread\\_and\\_water \\\\\n",
       "\t  8                   & bread\\_and\\_water2\\\\\n",
       "\\end{tabular}\n"
      ],
      "text/markdown": [
       "\n",
       "attr | type | \n",
       "|---|---|---|---|\n",
       "|  1               | bread_and_water  | \n",
       "| 30               | bread_and_water2 | \n",
       "|  4               | bread_and_water  | \n",
       "|  8               | bread_and_water2 | \n",
       "\n",
       "\n"
      ],
      "text/plain": [
       "  attr type            \n",
       "1  1   bread_and_water \n",
       "2 30   bread_and_water2\n",
       "3  4   bread_and_water \n",
       "4  8   bread_and_water2"
      ]
     },
     "metadata": {},
     "output_type": "display_data"
    }
   ],
   "source": [
    "before"
   ]
  },
  {
   "cell_type": "code",
   "execution_count": 41,
   "metadata": {},
   "outputs": [
    {
     "data": {
      "text/html": [
       "<table>\n",
       "<tbody>\n",
       "\t<tr><td>bread </td><td>water </td></tr>\n",
       "\t<tr><td>bread </td><td>water2</td></tr>\n",
       "\t<tr><td>bread </td><td>water </td></tr>\n",
       "\t<tr><td>bread </td><td>water2</td></tr>\n",
       "</tbody>\n",
       "</table>\n"
      ],
      "text/latex": [
       "\\begin{tabular}{ll}\n",
       "\t bread  & water \\\\\n",
       "\t bread  & water2\\\\\n",
       "\t bread  & water \\\\\n",
       "\t bread  & water2\\\\\n",
       "\\end{tabular}\n"
      ],
      "text/markdown": [
       "\n",
       "| bread  | water  | \n",
       "| bread  | water2 | \n",
       "| bread  | water  | \n",
       "| bread  | water2 | \n",
       "\n",
       "\n"
      ],
      "text/plain": [
       "     [,1]  [,2]  \n",
       "[1,] bread water \n",
       "[2,] bread water2\n",
       "[3,] bread water \n",
       "[4,] bread water2"
      ]
     },
     "metadata": {},
     "output_type": "display_data"
    }
   ],
   "source": [
    "after <- strsplit(as.character(before$type), '_and_')\n",
    "do.call(rbind, after)"
   ]
  },
  {
   "cell_type": "code",
   "execution_count": null,
   "metadata": {},
   "outputs": [],
   "source": []
  }
 ],
 "metadata": {
  "kernelspec": {
   "display_name": "R",
   "language": "R",
   "name": "ir"
  },
  "language_info": {
   "codemirror_mode": "r",
   "file_extension": ".r",
   "mimetype": "text/x-r-source",
   "name": "R",
   "pygments_lexer": "r",
   "version": "3.4.3"
  }
 },
 "nbformat": 4,
 "nbformat_minor": 2
}
