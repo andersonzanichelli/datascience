{
 "cells": [
  {
   "cell_type": "markdown",
   "metadata": {},
   "source": [
    "# Reading Files"
   ]
  },
  {
   "cell_type": "code",
   "execution_count": null,
   "metadata": {},
   "outputs": [],
   "source": [
    "read.table('file.txt', header = T, sep = ',', stringsAsFactor = F)"
   ]
  },
  {
   "cell_type": "code",
   "execution_count": null,
   "metadata": {},
   "outputs": [],
   "source": [
    "read.csv('file.csv', stringsAsFactor = F)\n",
    "read.csv('file.csv', sep = ';', dec = ',', stringsAsFactor = F)"
   ]
  },
  {
   "cell_type": "code",
   "execution_count": null,
   "metadata": {},
   "outputs": [],
   "source": [
    "read.delim('file.txt')"
   ]
  },
  {
   "cell_type": "code",
   "execution_count": null,
   "metadata": {},
   "outputs": [],
   "source": [
    "install.packages('readr')"
   ]
  },
  {
   "cell_type": "code",
   "execution_count": 1,
   "metadata": {},
   "outputs": [],
   "source": [
    "library(readr)"
   ]
  },
  {
   "cell_type": "code",
   "execution_count": 1,
   "metadata": {},
   "outputs": [
    {
     "data": {
      "text/html": [
       "<table>\n",
       "<thead><tr><th scope=col>Nome</th><th scope=col>Pedido</th><th scope=col>Data</th></tr></thead>\n",
       "<tbody>\n",
       "\t<tr><td>Zico      </td><td> 200344509</td><td>28/09/2019</td></tr>\n",
       "\t<tr><td>Rivelino  </td><td> 200344510</td><td>29/08/2019</td></tr>\n",
       "\t<tr><td>Garrincha </td><td> 200344511</td><td>29/07/2019</td></tr>\n",
       "\t<tr><td>Maradona  </td><td>2003445012</td><td>30/10/2019</td></tr>\n",
       "\t<tr><td>Marta     </td><td> 200344510</td><td>27/09/2019</td></tr>\n",
       "</tbody>\n",
       "</table>\n"
      ],
      "text/latex": [
       "\\begin{tabular}{r|lll}\n",
       " Nome & Pedido & Data\\\\\n",
       "\\hline\n",
       "\t Zico       &  200344509 & 28/09/2019\\\\\n",
       "\t Rivelino   &  200344510 & 29/08/2019\\\\\n",
       "\t Garrincha  &  200344511 & 29/07/2019\\\\\n",
       "\t Maradona   & 2003445012 & 30/10/2019\\\\\n",
       "\t Marta      &  200344510 & 27/09/2019\\\\\n",
       "\\end{tabular}\n"
      ],
      "text/markdown": [
       "\n",
       "Nome | Pedido | Data | \n",
       "|---|---|---|---|---|\n",
       "| Zico       |  200344509 | 28/09/2019 | \n",
       "| Rivelino   |  200344510 | 29/08/2019 | \n",
       "| Garrincha  |  200344511 | 29/07/2019 | \n",
       "| Maradona   | 2003445012 | 30/10/2019 | \n",
       "| Marta      |  200344510 | 27/09/2019 | \n",
       "\n",
       "\n"
      ],
      "text/plain": [
       "  Nome      Pedido     Data      \n",
       "1 Zico       200344509 28/09/2019\n",
       "2 Rivelino   200344510 29/08/2019\n",
       "3 Garrincha  200344511 29/07/2019\n",
       "4 Maradona  2003445012 30/10/2019\n",
       "5 Marta      200344510 27/09/2019"
      ]
     },
     "metadata": {},
     "output_type": "display_data"
    }
   ],
   "source": [
    "df = read.csv('../../../../datasets/pedidos.txt')\n",
    "df"
   ]
  },
  {
   "cell_type": "code",
   "execution_count": 2,
   "metadata": {},
   "outputs": [
    {
     "data": {
      "text/html": [
       "<ol class=list-inline>\n",
       "\t<li>5</li>\n",
       "\t<li>3</li>\n",
       "</ol>\n"
      ],
      "text/latex": [
       "\\begin{enumerate*}\n",
       "\\item 5\n",
       "\\item 3\n",
       "\\end{enumerate*}\n"
      ],
      "text/markdown": [
       "1. 5\n",
       "2. 3\n",
       "\n",
       "\n"
      ],
      "text/plain": [
       "[1] 5 3"
      ]
     },
     "metadata": {},
     "output_type": "display_data"
    }
   ],
   "source": [
    "dim(df)"
   ]
  },
  {
   "cell_type": "code",
   "execution_count": 3,
   "metadata": {},
   "outputs": [
    {
     "data": {
      "text/html": [
       "<table>\n",
       "<thead><tr><th scope=col>Nome.Pedido.Data</th></tr></thead>\n",
       "<tbody>\n",
       "\t<tr><td>Zico,200344509,28/09/2019     </td></tr>\n",
       "\t<tr><td>Rivelino,200344510,29/08/2019 </td></tr>\n",
       "\t<tr><td>Garrincha,200344511,29/07/2019</td></tr>\n",
       "\t<tr><td>Maradona,2003445012,30/10/2019</td></tr>\n",
       "\t<tr><td>Marta,200344510,27/09/2019    </td></tr>\n",
       "</tbody>\n",
       "</table>\n"
      ],
      "text/latex": [
       "\\begin{tabular}{r|l}\n",
       " Nome.Pedido.Data\\\\\n",
       "\\hline\n",
       "\t Zico,200344509,28/09/2019     \\\\\n",
       "\t Rivelino,200344510,29/08/2019 \\\\\n",
       "\t Garrincha,200344511,29/07/2019\\\\\n",
       "\t Maradona,2003445012,30/10/2019\\\\\n",
       "\t Marta,200344510,27/09/2019    \\\\\n",
       "\\end{tabular}\n"
      ],
      "text/markdown": [
       "\n",
       "Nome.Pedido.Data | \n",
       "|---|---|---|---|---|\n",
       "| Zico,200344509,28/09/2019      | \n",
       "| Rivelino,200344510,29/08/2019  | \n",
       "| Garrincha,200344511,29/07/2019 | \n",
       "| Maradona,2003445012,30/10/2019 | \n",
       "| Marta,200344510,27/09/2019     | \n",
       "\n",
       "\n"
      ],
      "text/plain": [
       "  Nome.Pedido.Data              \n",
       "1 Zico,200344509,28/09/2019     \n",
       "2 Rivelino,200344510,29/08/2019 \n",
       "3 Garrincha,200344511,29/07/2019\n",
       "4 Maradona,2003445012,30/10/2019\n",
       "5 Marta,200344510,27/09/2019    "
      ]
     },
     "metadata": {},
     "output_type": "display_data"
    }
   ],
   "source": [
    "df = read.csv2('../../../../datasets/pedidos.txt')\n",
    "df"
   ]
  },
  {
   "cell_type": "code",
   "execution_count": 4,
   "metadata": {},
   "outputs": [
    {
     "data": {
      "text/html": [
       "<table>\n",
       "<thead><tr><th scope=col>Nome</th><th scope=col>Pedido</th><th scope=col>Data</th></tr></thead>\n",
       "<tbody>\n",
       "\t<tr><td>Zico      </td><td> 200344509</td><td>28/09/2019</td></tr>\n",
       "\t<tr><td>Rivelino  </td><td> 200344510</td><td>29/08/2019</td></tr>\n",
       "\t<tr><td>Garrincha </td><td> 200344511</td><td>29/07/2019</td></tr>\n",
       "\t<tr><td>Maradona  </td><td>2003445012</td><td>30/10/2019</td></tr>\n",
       "\t<tr><td>Marta     </td><td> 200344510</td><td>27/09/2019</td></tr>\n",
       "</tbody>\n",
       "</table>\n"
      ],
      "text/latex": [
       "\\begin{tabular}{r|lll}\n",
       " Nome & Pedido & Data\\\\\n",
       "\\hline\n",
       "\t Zico       &  200344509 & 28/09/2019\\\\\n",
       "\t Rivelino   &  200344510 & 29/08/2019\\\\\n",
       "\t Garrincha  &  200344511 & 29/07/2019\\\\\n",
       "\t Maradona   & 2003445012 & 30/10/2019\\\\\n",
       "\t Marta      &  200344510 & 27/09/2019\\\\\n",
       "\\end{tabular}\n"
      ],
      "text/markdown": [
       "\n",
       "Nome | Pedido | Data | \n",
       "|---|---|---|---|---|\n",
       "| Zico       |  200344509 | 28/09/2019 | \n",
       "| Rivelino   |  200344510 | 29/08/2019 | \n",
       "| Garrincha  |  200344511 | 29/07/2019 | \n",
       "| Maradona   | 2003445012 | 30/10/2019 | \n",
       "| Marta      |  200344510 | 27/09/2019 | \n",
       "\n",
       "\n"
      ],
      "text/plain": [
       "  Nome      Pedido     Data      \n",
       "1 Zico       200344509 28/09/2019\n",
       "2 Rivelino   200344510 29/08/2019\n",
       "3 Garrincha  200344511 29/07/2019\n",
       "4 Maradona  2003445012 30/10/2019\n",
       "5 Marta      200344510 27/09/2019"
      ]
     },
     "metadata": {},
     "output_type": "display_data"
    }
   ],
   "source": [
    "df = read.csv2('../../../../datasets/pedidos.txt', sep = ',')\n",
    "df"
   ]
  },
  {
   "cell_type": "code",
   "execution_count": 5,
   "metadata": {},
   "outputs": [
    {
     "data": {
      "text/html": [
       "<table>\n",
       "<thead><tr><th scope=col>Nome.Pedido.Data</th></tr></thead>\n",
       "<tbody>\n",
       "\t<tr><td>Zico,200344509,28/09/2019     </td></tr>\n",
       "\t<tr><td>Rivelino,200344510,29/08/2019 </td></tr>\n",
       "\t<tr><td>Garrincha,200344511,29/07/2019</td></tr>\n",
       "\t<tr><td>Maradona,2003445012,30/10/2019</td></tr>\n",
       "\t<tr><td>Marta,200344510,27/09/2019    </td></tr>\n",
       "</tbody>\n",
       "</table>\n"
      ],
      "text/latex": [
       "\\begin{tabular}{r|l}\n",
       " Nome.Pedido.Data\\\\\n",
       "\\hline\n",
       "\t Zico,200344509,28/09/2019     \\\\\n",
       "\t Rivelino,200344510,29/08/2019 \\\\\n",
       "\t Garrincha,200344511,29/07/2019\\\\\n",
       "\t Maradona,2003445012,30/10/2019\\\\\n",
       "\t Marta,200344510,27/09/2019    \\\\\n",
       "\\end{tabular}\n"
      ],
      "text/markdown": [
       "\n",
       "Nome.Pedido.Data | \n",
       "|---|---|---|---|---|\n",
       "| Zico,200344509,28/09/2019      | \n",
       "| Rivelino,200344510,29/08/2019  | \n",
       "| Garrincha,200344511,29/07/2019 | \n",
       "| Maradona,2003445012,30/10/2019 | \n",
       "| Marta,200344510,27/09/2019     | \n",
       "\n",
       "\n"
      ],
      "text/plain": [
       "  Nome.Pedido.Data              \n",
       "1 Zico,200344509,28/09/2019     \n",
       "2 Rivelino,200344510,29/08/2019 \n",
       "3 Garrincha,200344511,29/07/2019\n",
       "4 Maradona,2003445012,30/10/2019\n",
       "5 Marta,200344510,27/09/2019    "
      ]
     },
     "metadata": {},
     "output_type": "display_data"
    }
   ],
   "source": [
    "df = read.delim('../../../../datasets/pedidos.txt')\n",
    "df"
   ]
  },
  {
   "cell_type": "code",
   "execution_count": 6,
   "metadata": {},
   "outputs": [
    {
     "data": {
      "text/html": [
       "<table>\n",
       "<thead><tr><th scope=col>Nome</th><th scope=col>Pedido</th><th scope=col>Data</th></tr></thead>\n",
       "<tbody>\n",
       "\t<tr><td>Zico      </td><td> 200344509</td><td>28/09/2019</td></tr>\n",
       "\t<tr><td>Rivelino  </td><td> 200344510</td><td>29/08/2019</td></tr>\n",
       "\t<tr><td>Garrincha </td><td> 200344511</td><td>29/07/2019</td></tr>\n",
       "\t<tr><td>Maradona  </td><td>2003445012</td><td>30/10/2019</td></tr>\n",
       "\t<tr><td>Marta     </td><td> 200344510</td><td>27/09/2019</td></tr>\n",
       "</tbody>\n",
       "</table>\n"
      ],
      "text/latex": [
       "\\begin{tabular}{r|lll}\n",
       " Nome & Pedido & Data\\\\\n",
       "\\hline\n",
       "\t Zico       &  200344509 & 28/09/2019\\\\\n",
       "\t Rivelino   &  200344510 & 29/08/2019\\\\\n",
       "\t Garrincha  &  200344511 & 29/07/2019\\\\\n",
       "\t Maradona   & 2003445012 & 30/10/2019\\\\\n",
       "\t Marta      &  200344510 & 27/09/2019\\\\\n",
       "\\end{tabular}\n"
      ],
      "text/markdown": [
       "\n",
       "Nome | Pedido | Data | \n",
       "|---|---|---|---|---|\n",
       "| Zico       |  200344509 | 28/09/2019 | \n",
       "| Rivelino   |  200344510 | 29/08/2019 | \n",
       "| Garrincha  |  200344511 | 29/07/2019 | \n",
       "| Maradona   | 2003445012 | 30/10/2019 | \n",
       "| Marta      |  200344510 | 27/09/2019 | \n",
       "\n",
       "\n"
      ],
      "text/plain": [
       "  Nome      Pedido     Data      \n",
       "1 Zico       200344509 28/09/2019\n",
       "2 Rivelino   200344510 29/08/2019\n",
       "3 Garrincha  200344511 29/07/2019\n",
       "4 Maradona  2003445012 30/10/2019\n",
       "5 Marta      200344510 27/09/2019"
      ]
     },
     "metadata": {},
     "output_type": "display_data"
    }
   ],
   "source": [
    "df = read.delim('../../../../datasets/pedidos.txt', sep = ',')\n",
    "df"
   ]
  },
  {
   "cell_type": "code",
   "execution_count": 10,
   "metadata": {},
   "outputs": [],
   "source": [
    "write.table(mtcars, file = 'mtcars.txt')"
   ]
  },
  {
   "cell_type": "code",
   "execution_count": 12,
   "metadata": {},
   "outputs": [
    {
     "data": {
      "text/html": [
       "<table>\n",
       "<thead><tr><th></th><th scope=col>mpg</th><th scope=col>cyl</th><th scope=col>disp</th><th scope=col>hp</th><th scope=col>drat</th><th scope=col>wt</th><th scope=col>qsec</th><th scope=col>vs</th><th scope=col>am</th><th scope=col>gear</th><th scope=col>carb</th></tr></thead>\n",
       "<tbody>\n",
       "\t<tr><th scope=row>Mazda RX4</th><td>21.0 </td><td>6    </td><td>160.0</td><td>110  </td><td>3.90 </td><td>2.620</td><td>16.46</td><td>0    </td><td>1    </td><td>4    </td><td>4    </td></tr>\n",
       "\t<tr><th scope=row>Mazda RX4 Wag</th><td>21.0 </td><td>6    </td><td>160.0</td><td>110  </td><td>3.90 </td><td>2.875</td><td>17.02</td><td>0    </td><td>1    </td><td>4    </td><td>4    </td></tr>\n",
       "\t<tr><th scope=row>Datsun 710</th><td>22.8 </td><td>4    </td><td>108.0</td><td> 93  </td><td>3.85 </td><td>2.320</td><td>18.61</td><td>1    </td><td>1    </td><td>4    </td><td>1    </td></tr>\n",
       "\t<tr><th scope=row>Hornet 4 Drive</th><td>21.4 </td><td>6    </td><td>258.0</td><td>110  </td><td>3.08 </td><td>3.215</td><td>19.44</td><td>1    </td><td>0    </td><td>3    </td><td>1    </td></tr>\n",
       "\t<tr><th scope=row>Hornet Sportabout</th><td>18.7 </td><td>8    </td><td>360.0</td><td>175  </td><td>3.15 </td><td>3.440</td><td>17.02</td><td>0    </td><td>0    </td><td>3    </td><td>2    </td></tr>\n",
       "\t<tr><th scope=row>Valiant</th><td>18.1 </td><td>6    </td><td>225.0</td><td>105  </td><td>2.76 </td><td>3.460</td><td>20.22</td><td>1    </td><td>0    </td><td>3    </td><td>1    </td></tr>\n",
       "\t<tr><th scope=row>Duster 360</th><td>14.3 </td><td>8    </td><td>360.0</td><td>245  </td><td>3.21 </td><td>3.570</td><td>15.84</td><td>0    </td><td>0    </td><td>3    </td><td>4    </td></tr>\n",
       "\t<tr><th scope=row>Merc 240D</th><td>24.4 </td><td>4    </td><td>146.7</td><td> 62  </td><td>3.69 </td><td>3.190</td><td>20.00</td><td>1    </td><td>0    </td><td>4    </td><td>2    </td></tr>\n",
       "\t<tr><th scope=row>Merc 230</th><td>22.8 </td><td>4    </td><td>140.8</td><td> 95  </td><td>3.92 </td><td>3.150</td><td>22.90</td><td>1    </td><td>0    </td><td>4    </td><td>2    </td></tr>\n",
       "\t<tr><th scope=row>Merc 280</th><td>19.2 </td><td>6    </td><td>167.6</td><td>123  </td><td>3.92 </td><td>3.440</td><td>18.30</td><td>1    </td><td>0    </td><td>4    </td><td>4    </td></tr>\n",
       "\t<tr><th scope=row>Merc 280C</th><td>17.8 </td><td>6    </td><td>167.6</td><td>123  </td><td>3.92 </td><td>3.440</td><td>18.90</td><td>1    </td><td>0    </td><td>4    </td><td>4    </td></tr>\n",
       "\t<tr><th scope=row>Merc 450SE</th><td>16.4 </td><td>8    </td><td>275.8</td><td>180  </td><td>3.07 </td><td>4.070</td><td>17.40</td><td>0    </td><td>0    </td><td>3    </td><td>3    </td></tr>\n",
       "\t<tr><th scope=row>Merc 450SL</th><td>17.3 </td><td>8    </td><td>275.8</td><td>180  </td><td>3.07 </td><td>3.730</td><td>17.60</td><td>0    </td><td>0    </td><td>3    </td><td>3    </td></tr>\n",
       "\t<tr><th scope=row>Merc 450SLC</th><td>15.2 </td><td>8    </td><td>275.8</td><td>180  </td><td>3.07 </td><td>3.780</td><td>18.00</td><td>0    </td><td>0    </td><td>3    </td><td>3    </td></tr>\n",
       "\t<tr><th scope=row>Cadillac Fleetwood</th><td>10.4 </td><td>8    </td><td>472.0</td><td>205  </td><td>2.93 </td><td>5.250</td><td>17.98</td><td>0    </td><td>0    </td><td>3    </td><td>4    </td></tr>\n",
       "\t<tr><th scope=row>Lincoln Continental</th><td>10.4 </td><td>8    </td><td>460.0</td><td>215  </td><td>3.00 </td><td>5.424</td><td>17.82</td><td>0    </td><td>0    </td><td>3    </td><td>4    </td></tr>\n",
       "\t<tr><th scope=row>Chrysler Imperial</th><td>14.7 </td><td>8    </td><td>440.0</td><td>230  </td><td>3.23 </td><td>5.345</td><td>17.42</td><td>0    </td><td>0    </td><td>3    </td><td>4    </td></tr>\n",
       "\t<tr><th scope=row>Fiat 128</th><td>32.4 </td><td>4    </td><td> 78.7</td><td> 66  </td><td>4.08 </td><td>2.200</td><td>19.47</td><td>1    </td><td>1    </td><td>4    </td><td>1    </td></tr>\n",
       "\t<tr><th scope=row>Honda Civic</th><td>30.4 </td><td>4    </td><td> 75.7</td><td> 52  </td><td>4.93 </td><td>1.615</td><td>18.52</td><td>1    </td><td>1    </td><td>4    </td><td>2    </td></tr>\n",
       "\t<tr><th scope=row>Toyota Corolla</th><td>33.9 </td><td>4    </td><td> 71.1</td><td> 65  </td><td>4.22 </td><td>1.835</td><td>19.90</td><td>1    </td><td>1    </td><td>4    </td><td>1    </td></tr>\n",
       "\t<tr><th scope=row>Toyota Corona</th><td>21.5 </td><td>4    </td><td>120.1</td><td> 97  </td><td>3.70 </td><td>2.465</td><td>20.01</td><td>1    </td><td>0    </td><td>3    </td><td>1    </td></tr>\n",
       "\t<tr><th scope=row>Dodge Challenger</th><td>15.5 </td><td>8    </td><td>318.0</td><td>150  </td><td>2.76 </td><td>3.520</td><td>16.87</td><td>0    </td><td>0    </td><td>3    </td><td>2    </td></tr>\n",
       "\t<tr><th scope=row>AMC Javelin</th><td>15.2 </td><td>8    </td><td>304.0</td><td>150  </td><td>3.15 </td><td>3.435</td><td>17.30</td><td>0    </td><td>0    </td><td>3    </td><td>2    </td></tr>\n",
       "\t<tr><th scope=row>Camaro Z28</th><td>13.3 </td><td>8    </td><td>350.0</td><td>245  </td><td>3.73 </td><td>3.840</td><td>15.41</td><td>0    </td><td>0    </td><td>3    </td><td>4    </td></tr>\n",
       "\t<tr><th scope=row>Pontiac Firebird</th><td>19.2 </td><td>8    </td><td>400.0</td><td>175  </td><td>3.08 </td><td>3.845</td><td>17.05</td><td>0    </td><td>0    </td><td>3    </td><td>2    </td></tr>\n",
       "\t<tr><th scope=row>Fiat X1-9</th><td>27.3 </td><td>4    </td><td> 79.0</td><td> 66  </td><td>4.08 </td><td>1.935</td><td>18.90</td><td>1    </td><td>1    </td><td>4    </td><td>1    </td></tr>\n",
       "\t<tr><th scope=row>Porsche 914-2</th><td>26.0 </td><td>4    </td><td>120.3</td><td> 91  </td><td>4.43 </td><td>2.140</td><td>16.70</td><td>0    </td><td>1    </td><td>5    </td><td>2    </td></tr>\n",
       "\t<tr><th scope=row>Lotus Europa</th><td>30.4 </td><td>4    </td><td> 95.1</td><td>113  </td><td>3.77 </td><td>1.513</td><td>16.90</td><td>1    </td><td>1    </td><td>5    </td><td>2    </td></tr>\n",
       "\t<tr><th scope=row>Ford Pantera L</th><td>15.8 </td><td>8    </td><td>351.0</td><td>264  </td><td>4.22 </td><td>3.170</td><td>14.50</td><td>0    </td><td>1    </td><td>5    </td><td>4    </td></tr>\n",
       "\t<tr><th scope=row>Ferrari Dino</th><td>19.7 </td><td>6    </td><td>145.0</td><td>175  </td><td>3.62 </td><td>2.770</td><td>15.50</td><td>0    </td><td>1    </td><td>5    </td><td>6    </td></tr>\n",
       "\t<tr><th scope=row>Maserati Bora</th><td>15.0 </td><td>8    </td><td>301.0</td><td>335  </td><td>3.54 </td><td>3.570</td><td>14.60</td><td>0    </td><td>1    </td><td>5    </td><td>8    </td></tr>\n",
       "\t<tr><th scope=row>Volvo 142E</th><td>21.4 </td><td>4    </td><td>121.0</td><td>109  </td><td>4.11 </td><td>2.780</td><td>18.60</td><td>1    </td><td>1    </td><td>4    </td><td>2    </td></tr>\n",
       "</tbody>\n",
       "</table>\n"
      ],
      "text/latex": [
       "\\begin{tabular}{r|lllllllllll}\n",
       "  & mpg & cyl & disp & hp & drat & wt & qsec & vs & am & gear & carb\\\\\n",
       "\\hline\n",
       "\tMazda RX4 & 21.0  & 6     & 160.0 & 110   & 3.90  & 2.620 & 16.46 & 0     & 1     & 4     & 4    \\\\\n",
       "\tMazda RX4 Wag & 21.0  & 6     & 160.0 & 110   & 3.90  & 2.875 & 17.02 & 0     & 1     & 4     & 4    \\\\\n",
       "\tDatsun 710 & 22.8  & 4     & 108.0 &  93   & 3.85  & 2.320 & 18.61 & 1     & 1     & 4     & 1    \\\\\n",
       "\tHornet 4 Drive & 21.4  & 6     & 258.0 & 110   & 3.08  & 3.215 & 19.44 & 1     & 0     & 3     & 1    \\\\\n",
       "\tHornet Sportabout & 18.7  & 8     & 360.0 & 175   & 3.15  & 3.440 & 17.02 & 0     & 0     & 3     & 2    \\\\\n",
       "\tValiant & 18.1  & 6     & 225.0 & 105   & 2.76  & 3.460 & 20.22 & 1     & 0     & 3     & 1    \\\\\n",
       "\tDuster 360 & 14.3  & 8     & 360.0 & 245   & 3.21  & 3.570 & 15.84 & 0     & 0     & 3     & 4    \\\\\n",
       "\tMerc 240D & 24.4  & 4     & 146.7 &  62   & 3.69  & 3.190 & 20.00 & 1     & 0     & 4     & 2    \\\\\n",
       "\tMerc 230 & 22.8  & 4     & 140.8 &  95   & 3.92  & 3.150 & 22.90 & 1     & 0     & 4     & 2    \\\\\n",
       "\tMerc 280 & 19.2  & 6     & 167.6 & 123   & 3.92  & 3.440 & 18.30 & 1     & 0     & 4     & 4    \\\\\n",
       "\tMerc 280C & 17.8  & 6     & 167.6 & 123   & 3.92  & 3.440 & 18.90 & 1     & 0     & 4     & 4    \\\\\n",
       "\tMerc 450SE & 16.4  & 8     & 275.8 & 180   & 3.07  & 4.070 & 17.40 & 0     & 0     & 3     & 3    \\\\\n",
       "\tMerc 450SL & 17.3  & 8     & 275.8 & 180   & 3.07  & 3.730 & 17.60 & 0     & 0     & 3     & 3    \\\\\n",
       "\tMerc 450SLC & 15.2  & 8     & 275.8 & 180   & 3.07  & 3.780 & 18.00 & 0     & 0     & 3     & 3    \\\\\n",
       "\tCadillac Fleetwood & 10.4  & 8     & 472.0 & 205   & 2.93  & 5.250 & 17.98 & 0     & 0     & 3     & 4    \\\\\n",
       "\tLincoln Continental & 10.4  & 8     & 460.0 & 215   & 3.00  & 5.424 & 17.82 & 0     & 0     & 3     & 4    \\\\\n",
       "\tChrysler Imperial & 14.7  & 8     & 440.0 & 230   & 3.23  & 5.345 & 17.42 & 0     & 0     & 3     & 4    \\\\\n",
       "\tFiat 128 & 32.4  & 4     &  78.7 &  66   & 4.08  & 2.200 & 19.47 & 1     & 1     & 4     & 1    \\\\\n",
       "\tHonda Civic & 30.4  & 4     &  75.7 &  52   & 4.93  & 1.615 & 18.52 & 1     & 1     & 4     & 2    \\\\\n",
       "\tToyota Corolla & 33.9  & 4     &  71.1 &  65   & 4.22  & 1.835 & 19.90 & 1     & 1     & 4     & 1    \\\\\n",
       "\tToyota Corona & 21.5  & 4     & 120.1 &  97   & 3.70  & 2.465 & 20.01 & 1     & 0     & 3     & 1    \\\\\n",
       "\tDodge Challenger & 15.5  & 8     & 318.0 & 150   & 2.76  & 3.520 & 16.87 & 0     & 0     & 3     & 2    \\\\\n",
       "\tAMC Javelin & 15.2  & 8     & 304.0 & 150   & 3.15  & 3.435 & 17.30 & 0     & 0     & 3     & 2    \\\\\n",
       "\tCamaro Z28 & 13.3  & 8     & 350.0 & 245   & 3.73  & 3.840 & 15.41 & 0     & 0     & 3     & 4    \\\\\n",
       "\tPontiac Firebird & 19.2  & 8     & 400.0 & 175   & 3.08  & 3.845 & 17.05 & 0     & 0     & 3     & 2    \\\\\n",
       "\tFiat X1-9 & 27.3  & 4     &  79.0 &  66   & 4.08  & 1.935 & 18.90 & 1     & 1     & 4     & 1    \\\\\n",
       "\tPorsche 914-2 & 26.0  & 4     & 120.3 &  91   & 4.43  & 2.140 & 16.70 & 0     & 1     & 5     & 2    \\\\\n",
       "\tLotus Europa & 30.4  & 4     &  95.1 & 113   & 3.77  & 1.513 & 16.90 & 1     & 1     & 5     & 2    \\\\\n",
       "\tFord Pantera L & 15.8  & 8     & 351.0 & 264   & 4.22  & 3.170 & 14.50 & 0     & 1     & 5     & 4    \\\\\n",
       "\tFerrari Dino & 19.7  & 6     & 145.0 & 175   & 3.62  & 2.770 & 15.50 & 0     & 1     & 5     & 6    \\\\\n",
       "\tMaserati Bora & 15.0  & 8     & 301.0 & 335   & 3.54  & 3.570 & 14.60 & 0     & 1     & 5     & 8    \\\\\n",
       "\tVolvo 142E & 21.4  & 4     & 121.0 & 109   & 4.11  & 2.780 & 18.60 & 1     & 1     & 4     & 2    \\\\\n",
       "\\end{tabular}\n"
      ],
      "text/markdown": [
       "\n",
       "| <!--/--> | mpg | cyl | disp | hp | drat | wt | qsec | vs | am | gear | carb | \n",
       "|---|---|---|---|---|---|---|---|---|---|---|---|---|---|---|---|---|---|---|---|---|---|---|---|---|---|---|---|---|---|---|---|\n",
       "| Mazda RX4 | 21.0  | 6     | 160.0 | 110   | 3.90  | 2.620 | 16.46 | 0     | 1     | 4     | 4     | \n",
       "| Mazda RX4 Wag | 21.0  | 6     | 160.0 | 110   | 3.90  | 2.875 | 17.02 | 0     | 1     | 4     | 4     | \n",
       "| Datsun 710 | 22.8  | 4     | 108.0 |  93   | 3.85  | 2.320 | 18.61 | 1     | 1     | 4     | 1     | \n",
       "| Hornet 4 Drive | 21.4  | 6     | 258.0 | 110   | 3.08  | 3.215 | 19.44 | 1     | 0     | 3     | 1     | \n",
       "| Hornet Sportabout | 18.7  | 8     | 360.0 | 175   | 3.15  | 3.440 | 17.02 | 0     | 0     | 3     | 2     | \n",
       "| Valiant | 18.1  | 6     | 225.0 | 105   | 2.76  | 3.460 | 20.22 | 1     | 0     | 3     | 1     | \n",
       "| Duster 360 | 14.3  | 8     | 360.0 | 245   | 3.21  | 3.570 | 15.84 | 0     | 0     | 3     | 4     | \n",
       "| Merc 240D | 24.4  | 4     | 146.7 |  62   | 3.69  | 3.190 | 20.00 | 1     | 0     | 4     | 2     | \n",
       "| Merc 230 | 22.8  | 4     | 140.8 |  95   | 3.92  | 3.150 | 22.90 | 1     | 0     | 4     | 2     | \n",
       "| Merc 280 | 19.2  | 6     | 167.6 | 123   | 3.92  | 3.440 | 18.30 | 1     | 0     | 4     | 4     | \n",
       "| Merc 280C | 17.8  | 6     | 167.6 | 123   | 3.92  | 3.440 | 18.90 | 1     | 0     | 4     | 4     | \n",
       "| Merc 450SE | 16.4  | 8     | 275.8 | 180   | 3.07  | 4.070 | 17.40 | 0     | 0     | 3     | 3     | \n",
       "| Merc 450SL | 17.3  | 8     | 275.8 | 180   | 3.07  | 3.730 | 17.60 | 0     | 0     | 3     | 3     | \n",
       "| Merc 450SLC | 15.2  | 8     | 275.8 | 180   | 3.07  | 3.780 | 18.00 | 0     | 0     | 3     | 3     | \n",
       "| Cadillac Fleetwood | 10.4  | 8     | 472.0 | 205   | 2.93  | 5.250 | 17.98 | 0     | 0     | 3     | 4     | \n",
       "| Lincoln Continental | 10.4  | 8     | 460.0 | 215   | 3.00  | 5.424 | 17.82 | 0     | 0     | 3     | 4     | \n",
       "| Chrysler Imperial | 14.7  | 8     | 440.0 | 230   | 3.23  | 5.345 | 17.42 | 0     | 0     | 3     | 4     | \n",
       "| Fiat 128 | 32.4  | 4     |  78.7 |  66   | 4.08  | 2.200 | 19.47 | 1     | 1     | 4     | 1     | \n",
       "| Honda Civic | 30.4  | 4     |  75.7 |  52   | 4.93  | 1.615 | 18.52 | 1     | 1     | 4     | 2     | \n",
       "| Toyota Corolla | 33.9  | 4     |  71.1 |  65   | 4.22  | 1.835 | 19.90 | 1     | 1     | 4     | 1     | \n",
       "| Toyota Corona | 21.5  | 4     | 120.1 |  97   | 3.70  | 2.465 | 20.01 | 1     | 0     | 3     | 1     | \n",
       "| Dodge Challenger | 15.5  | 8     | 318.0 | 150   | 2.76  | 3.520 | 16.87 | 0     | 0     | 3     | 2     | \n",
       "| AMC Javelin | 15.2  | 8     | 304.0 | 150   | 3.15  | 3.435 | 17.30 | 0     | 0     | 3     | 2     | \n",
       "| Camaro Z28 | 13.3  | 8     | 350.0 | 245   | 3.73  | 3.840 | 15.41 | 0     | 0     | 3     | 4     | \n",
       "| Pontiac Firebird | 19.2  | 8     | 400.0 | 175   | 3.08  | 3.845 | 17.05 | 0     | 0     | 3     | 2     | \n",
       "| Fiat X1-9 | 27.3  | 4     |  79.0 |  66   | 4.08  | 1.935 | 18.90 | 1     | 1     | 4     | 1     | \n",
       "| Porsche 914-2 | 26.0  | 4     | 120.3 |  91   | 4.43  | 2.140 | 16.70 | 0     | 1     | 5     | 2     | \n",
       "| Lotus Europa | 30.4  | 4     |  95.1 | 113   | 3.77  | 1.513 | 16.90 | 1     | 1     | 5     | 2     | \n",
       "| Ford Pantera L | 15.8  | 8     | 351.0 | 264   | 4.22  | 3.170 | 14.50 | 0     | 1     | 5     | 4     | \n",
       "| Ferrari Dino | 19.7  | 6     | 145.0 | 175   | 3.62  | 2.770 | 15.50 | 0     | 1     | 5     | 6     | \n",
       "| Maserati Bora | 15.0  | 8     | 301.0 | 335   | 3.54  | 3.570 | 14.60 | 0     | 1     | 5     | 8     | \n",
       "| Volvo 142E | 21.4  | 4     | 121.0 | 109   | 4.11  | 2.780 | 18.60 | 1     | 1     | 4     | 2     | \n",
       "\n",
       "\n"
      ],
      "text/plain": [
       "                    mpg  cyl disp  hp  drat wt    qsec  vs am gear carb\n",
       "Mazda RX4           21.0 6   160.0 110 3.90 2.620 16.46 0  1  4    4   \n",
       "Mazda RX4 Wag       21.0 6   160.0 110 3.90 2.875 17.02 0  1  4    4   \n",
       "Datsun 710          22.8 4   108.0  93 3.85 2.320 18.61 1  1  4    1   \n",
       "Hornet 4 Drive      21.4 6   258.0 110 3.08 3.215 19.44 1  0  3    1   \n",
       "Hornet Sportabout   18.7 8   360.0 175 3.15 3.440 17.02 0  0  3    2   \n",
       "Valiant             18.1 6   225.0 105 2.76 3.460 20.22 1  0  3    1   \n",
       "Duster 360          14.3 8   360.0 245 3.21 3.570 15.84 0  0  3    4   \n",
       "Merc 240D           24.4 4   146.7  62 3.69 3.190 20.00 1  0  4    2   \n",
       "Merc 230            22.8 4   140.8  95 3.92 3.150 22.90 1  0  4    2   \n",
       "Merc 280            19.2 6   167.6 123 3.92 3.440 18.30 1  0  4    4   \n",
       "Merc 280C           17.8 6   167.6 123 3.92 3.440 18.90 1  0  4    4   \n",
       "Merc 450SE          16.4 8   275.8 180 3.07 4.070 17.40 0  0  3    3   \n",
       "Merc 450SL          17.3 8   275.8 180 3.07 3.730 17.60 0  0  3    3   \n",
       "Merc 450SLC         15.2 8   275.8 180 3.07 3.780 18.00 0  0  3    3   \n",
       "Cadillac Fleetwood  10.4 8   472.0 205 2.93 5.250 17.98 0  0  3    4   \n",
       "Lincoln Continental 10.4 8   460.0 215 3.00 5.424 17.82 0  0  3    4   \n",
       "Chrysler Imperial   14.7 8   440.0 230 3.23 5.345 17.42 0  0  3    4   \n",
       "Fiat 128            32.4 4    78.7  66 4.08 2.200 19.47 1  1  4    1   \n",
       "Honda Civic         30.4 4    75.7  52 4.93 1.615 18.52 1  1  4    2   \n",
       "Toyota Corolla      33.9 4    71.1  65 4.22 1.835 19.90 1  1  4    1   \n",
       "Toyota Corona       21.5 4   120.1  97 3.70 2.465 20.01 1  0  3    1   \n",
       "Dodge Challenger    15.5 8   318.0 150 2.76 3.520 16.87 0  0  3    2   \n",
       "AMC Javelin         15.2 8   304.0 150 3.15 3.435 17.30 0  0  3    2   \n",
       "Camaro Z28          13.3 8   350.0 245 3.73 3.840 15.41 0  0  3    4   \n",
       "Pontiac Firebird    19.2 8   400.0 175 3.08 3.845 17.05 0  0  3    2   \n",
       "Fiat X1-9           27.3 4    79.0  66 4.08 1.935 18.90 1  1  4    1   \n",
       "Porsche 914-2       26.0 4   120.3  91 4.43 2.140 16.70 0  1  5    2   \n",
       "Lotus Europa        30.4 4    95.1 113 3.77 1.513 16.90 1  1  5    2   \n",
       "Ford Pantera L      15.8 8   351.0 264 4.22 3.170 14.50 0  1  5    4   \n",
       "Ferrari Dino        19.7 6   145.0 175 3.62 2.770 15.50 0  1  5    6   \n",
       "Maserati Bora       15.0 8   301.0 335 3.54 3.570 14.60 0  1  5    8   \n",
       "Volvo 142E          21.4 4   121.0 109 4.11 2.780 18.60 1  1  4    2   "
      ]
     },
     "metadata": {},
     "output_type": "display_data"
    }
   ],
   "source": [
    "df = read.table('mtcars.txt')\n",
    "df"
   ]
  },
  {
   "cell_type": "code",
   "execution_count": 13,
   "metadata": {},
   "outputs": [],
   "source": [
    "write.table(mtcars, file = 'mtcars.csv', sep = ',')"
   ]
  },
  {
   "cell_type": "code",
   "execution_count": 15,
   "metadata": {},
   "outputs": [
    {
     "data": {
      "text/html": [
       "<table>\n",
       "<thead><tr><th></th><th scope=col>mpg</th><th scope=col>cyl</th><th scope=col>disp</th><th scope=col>hp</th><th scope=col>drat</th><th scope=col>wt</th><th scope=col>qsec</th><th scope=col>vs</th><th scope=col>am</th><th scope=col>gear</th><th scope=col>carb</th></tr></thead>\n",
       "<tbody>\n",
       "\t<tr><th scope=row>Mazda RX4</th><td>21.0 </td><td>6    </td><td>160.0</td><td>110  </td><td>3.90 </td><td>2.620</td><td>16.46</td><td>0    </td><td>1    </td><td>4    </td><td>4    </td></tr>\n",
       "\t<tr><th scope=row>Mazda RX4 Wag</th><td>21.0 </td><td>6    </td><td>160.0</td><td>110  </td><td>3.90 </td><td>2.875</td><td>17.02</td><td>0    </td><td>1    </td><td>4    </td><td>4    </td></tr>\n",
       "\t<tr><th scope=row>Datsun 710</th><td>22.8 </td><td>4    </td><td>108.0</td><td> 93  </td><td>3.85 </td><td>2.320</td><td>18.61</td><td>1    </td><td>1    </td><td>4    </td><td>1    </td></tr>\n",
       "\t<tr><th scope=row>Hornet 4 Drive</th><td>21.4 </td><td>6    </td><td>258.0</td><td>110  </td><td>3.08 </td><td>3.215</td><td>19.44</td><td>1    </td><td>0    </td><td>3    </td><td>1    </td></tr>\n",
       "\t<tr><th scope=row>Hornet Sportabout</th><td>18.7 </td><td>8    </td><td>360.0</td><td>175  </td><td>3.15 </td><td>3.440</td><td>17.02</td><td>0    </td><td>0    </td><td>3    </td><td>2    </td></tr>\n",
       "\t<tr><th scope=row>Valiant</th><td>18.1 </td><td>6    </td><td>225.0</td><td>105  </td><td>2.76 </td><td>3.460</td><td>20.22</td><td>1    </td><td>0    </td><td>3    </td><td>1    </td></tr>\n",
       "\t<tr><th scope=row>Duster 360</th><td>14.3 </td><td>8    </td><td>360.0</td><td>245  </td><td>3.21 </td><td>3.570</td><td>15.84</td><td>0    </td><td>0    </td><td>3    </td><td>4    </td></tr>\n",
       "\t<tr><th scope=row>Merc 240D</th><td>24.4 </td><td>4    </td><td>146.7</td><td> 62  </td><td>3.69 </td><td>3.190</td><td>20.00</td><td>1    </td><td>0    </td><td>4    </td><td>2    </td></tr>\n",
       "\t<tr><th scope=row>Merc 230</th><td>22.8 </td><td>4    </td><td>140.8</td><td> 95  </td><td>3.92 </td><td>3.150</td><td>22.90</td><td>1    </td><td>0    </td><td>4    </td><td>2    </td></tr>\n",
       "\t<tr><th scope=row>Merc 280</th><td>19.2 </td><td>6    </td><td>167.6</td><td>123  </td><td>3.92 </td><td>3.440</td><td>18.30</td><td>1    </td><td>0    </td><td>4    </td><td>4    </td></tr>\n",
       "\t<tr><th scope=row>Merc 280C</th><td>17.8 </td><td>6    </td><td>167.6</td><td>123  </td><td>3.92 </td><td>3.440</td><td>18.90</td><td>1    </td><td>0    </td><td>4    </td><td>4    </td></tr>\n",
       "\t<tr><th scope=row>Merc 450SE</th><td>16.4 </td><td>8    </td><td>275.8</td><td>180  </td><td>3.07 </td><td>4.070</td><td>17.40</td><td>0    </td><td>0    </td><td>3    </td><td>3    </td></tr>\n",
       "\t<tr><th scope=row>Merc 450SL</th><td>17.3 </td><td>8    </td><td>275.8</td><td>180  </td><td>3.07 </td><td>3.730</td><td>17.60</td><td>0    </td><td>0    </td><td>3    </td><td>3    </td></tr>\n",
       "\t<tr><th scope=row>Merc 450SLC</th><td>15.2 </td><td>8    </td><td>275.8</td><td>180  </td><td>3.07 </td><td>3.780</td><td>18.00</td><td>0    </td><td>0    </td><td>3    </td><td>3    </td></tr>\n",
       "\t<tr><th scope=row>Cadillac Fleetwood</th><td>10.4 </td><td>8    </td><td>472.0</td><td>205  </td><td>2.93 </td><td>5.250</td><td>17.98</td><td>0    </td><td>0    </td><td>3    </td><td>4    </td></tr>\n",
       "\t<tr><th scope=row>Lincoln Continental</th><td>10.4 </td><td>8    </td><td>460.0</td><td>215  </td><td>3.00 </td><td>5.424</td><td>17.82</td><td>0    </td><td>0    </td><td>3    </td><td>4    </td></tr>\n",
       "\t<tr><th scope=row>Chrysler Imperial</th><td>14.7 </td><td>8    </td><td>440.0</td><td>230  </td><td>3.23 </td><td>5.345</td><td>17.42</td><td>0    </td><td>0    </td><td>3    </td><td>4    </td></tr>\n",
       "\t<tr><th scope=row>Fiat 128</th><td>32.4 </td><td>4    </td><td> 78.7</td><td> 66  </td><td>4.08 </td><td>2.200</td><td>19.47</td><td>1    </td><td>1    </td><td>4    </td><td>1    </td></tr>\n",
       "\t<tr><th scope=row>Honda Civic</th><td>30.4 </td><td>4    </td><td> 75.7</td><td> 52  </td><td>4.93 </td><td>1.615</td><td>18.52</td><td>1    </td><td>1    </td><td>4    </td><td>2    </td></tr>\n",
       "\t<tr><th scope=row>Toyota Corolla</th><td>33.9 </td><td>4    </td><td> 71.1</td><td> 65  </td><td>4.22 </td><td>1.835</td><td>19.90</td><td>1    </td><td>1    </td><td>4    </td><td>1    </td></tr>\n",
       "\t<tr><th scope=row>Toyota Corona</th><td>21.5 </td><td>4    </td><td>120.1</td><td> 97  </td><td>3.70 </td><td>2.465</td><td>20.01</td><td>1    </td><td>0    </td><td>3    </td><td>1    </td></tr>\n",
       "\t<tr><th scope=row>Dodge Challenger</th><td>15.5 </td><td>8    </td><td>318.0</td><td>150  </td><td>2.76 </td><td>3.520</td><td>16.87</td><td>0    </td><td>0    </td><td>3    </td><td>2    </td></tr>\n",
       "\t<tr><th scope=row>AMC Javelin</th><td>15.2 </td><td>8    </td><td>304.0</td><td>150  </td><td>3.15 </td><td>3.435</td><td>17.30</td><td>0    </td><td>0    </td><td>3    </td><td>2    </td></tr>\n",
       "\t<tr><th scope=row>Camaro Z28</th><td>13.3 </td><td>8    </td><td>350.0</td><td>245  </td><td>3.73 </td><td>3.840</td><td>15.41</td><td>0    </td><td>0    </td><td>3    </td><td>4    </td></tr>\n",
       "\t<tr><th scope=row>Pontiac Firebird</th><td>19.2 </td><td>8    </td><td>400.0</td><td>175  </td><td>3.08 </td><td>3.845</td><td>17.05</td><td>0    </td><td>0    </td><td>3    </td><td>2    </td></tr>\n",
       "\t<tr><th scope=row>Fiat X1-9</th><td>27.3 </td><td>4    </td><td> 79.0</td><td> 66  </td><td>4.08 </td><td>1.935</td><td>18.90</td><td>1    </td><td>1    </td><td>4    </td><td>1    </td></tr>\n",
       "\t<tr><th scope=row>Porsche 914-2</th><td>26.0 </td><td>4    </td><td>120.3</td><td> 91  </td><td>4.43 </td><td>2.140</td><td>16.70</td><td>0    </td><td>1    </td><td>5    </td><td>2    </td></tr>\n",
       "\t<tr><th scope=row>Lotus Europa</th><td>30.4 </td><td>4    </td><td> 95.1</td><td>113  </td><td>3.77 </td><td>1.513</td><td>16.90</td><td>1    </td><td>1    </td><td>5    </td><td>2    </td></tr>\n",
       "\t<tr><th scope=row>Ford Pantera L</th><td>15.8 </td><td>8    </td><td>351.0</td><td>264  </td><td>4.22 </td><td>3.170</td><td>14.50</td><td>0    </td><td>1    </td><td>5    </td><td>4    </td></tr>\n",
       "\t<tr><th scope=row>Ferrari Dino</th><td>19.7 </td><td>6    </td><td>145.0</td><td>175  </td><td>3.62 </td><td>2.770</td><td>15.50</td><td>0    </td><td>1    </td><td>5    </td><td>6    </td></tr>\n",
       "\t<tr><th scope=row>Maserati Bora</th><td>15.0 </td><td>8    </td><td>301.0</td><td>335  </td><td>3.54 </td><td>3.570</td><td>14.60</td><td>0    </td><td>1    </td><td>5    </td><td>8    </td></tr>\n",
       "\t<tr><th scope=row>Volvo 142E</th><td>21.4 </td><td>4    </td><td>121.0</td><td>109  </td><td>4.11 </td><td>2.780</td><td>18.60</td><td>1    </td><td>1    </td><td>4    </td><td>2    </td></tr>\n",
       "</tbody>\n",
       "</table>\n"
      ],
      "text/latex": [
       "\\begin{tabular}{r|lllllllllll}\n",
       "  & mpg & cyl & disp & hp & drat & wt & qsec & vs & am & gear & carb\\\\\n",
       "\\hline\n",
       "\tMazda RX4 & 21.0  & 6     & 160.0 & 110   & 3.90  & 2.620 & 16.46 & 0     & 1     & 4     & 4    \\\\\n",
       "\tMazda RX4 Wag & 21.0  & 6     & 160.0 & 110   & 3.90  & 2.875 & 17.02 & 0     & 1     & 4     & 4    \\\\\n",
       "\tDatsun 710 & 22.8  & 4     & 108.0 &  93   & 3.85  & 2.320 & 18.61 & 1     & 1     & 4     & 1    \\\\\n",
       "\tHornet 4 Drive & 21.4  & 6     & 258.0 & 110   & 3.08  & 3.215 & 19.44 & 1     & 0     & 3     & 1    \\\\\n",
       "\tHornet Sportabout & 18.7  & 8     & 360.0 & 175   & 3.15  & 3.440 & 17.02 & 0     & 0     & 3     & 2    \\\\\n",
       "\tValiant & 18.1  & 6     & 225.0 & 105   & 2.76  & 3.460 & 20.22 & 1     & 0     & 3     & 1    \\\\\n",
       "\tDuster 360 & 14.3  & 8     & 360.0 & 245   & 3.21  & 3.570 & 15.84 & 0     & 0     & 3     & 4    \\\\\n",
       "\tMerc 240D & 24.4  & 4     & 146.7 &  62   & 3.69  & 3.190 & 20.00 & 1     & 0     & 4     & 2    \\\\\n",
       "\tMerc 230 & 22.8  & 4     & 140.8 &  95   & 3.92  & 3.150 & 22.90 & 1     & 0     & 4     & 2    \\\\\n",
       "\tMerc 280 & 19.2  & 6     & 167.6 & 123   & 3.92  & 3.440 & 18.30 & 1     & 0     & 4     & 4    \\\\\n",
       "\tMerc 280C & 17.8  & 6     & 167.6 & 123   & 3.92  & 3.440 & 18.90 & 1     & 0     & 4     & 4    \\\\\n",
       "\tMerc 450SE & 16.4  & 8     & 275.8 & 180   & 3.07  & 4.070 & 17.40 & 0     & 0     & 3     & 3    \\\\\n",
       "\tMerc 450SL & 17.3  & 8     & 275.8 & 180   & 3.07  & 3.730 & 17.60 & 0     & 0     & 3     & 3    \\\\\n",
       "\tMerc 450SLC & 15.2  & 8     & 275.8 & 180   & 3.07  & 3.780 & 18.00 & 0     & 0     & 3     & 3    \\\\\n",
       "\tCadillac Fleetwood & 10.4  & 8     & 472.0 & 205   & 2.93  & 5.250 & 17.98 & 0     & 0     & 3     & 4    \\\\\n",
       "\tLincoln Continental & 10.4  & 8     & 460.0 & 215   & 3.00  & 5.424 & 17.82 & 0     & 0     & 3     & 4    \\\\\n",
       "\tChrysler Imperial & 14.7  & 8     & 440.0 & 230   & 3.23  & 5.345 & 17.42 & 0     & 0     & 3     & 4    \\\\\n",
       "\tFiat 128 & 32.4  & 4     &  78.7 &  66   & 4.08  & 2.200 & 19.47 & 1     & 1     & 4     & 1    \\\\\n",
       "\tHonda Civic & 30.4  & 4     &  75.7 &  52   & 4.93  & 1.615 & 18.52 & 1     & 1     & 4     & 2    \\\\\n",
       "\tToyota Corolla & 33.9  & 4     &  71.1 &  65   & 4.22  & 1.835 & 19.90 & 1     & 1     & 4     & 1    \\\\\n",
       "\tToyota Corona & 21.5  & 4     & 120.1 &  97   & 3.70  & 2.465 & 20.01 & 1     & 0     & 3     & 1    \\\\\n",
       "\tDodge Challenger & 15.5  & 8     & 318.0 & 150   & 2.76  & 3.520 & 16.87 & 0     & 0     & 3     & 2    \\\\\n",
       "\tAMC Javelin & 15.2  & 8     & 304.0 & 150   & 3.15  & 3.435 & 17.30 & 0     & 0     & 3     & 2    \\\\\n",
       "\tCamaro Z28 & 13.3  & 8     & 350.0 & 245   & 3.73  & 3.840 & 15.41 & 0     & 0     & 3     & 4    \\\\\n",
       "\tPontiac Firebird & 19.2  & 8     & 400.0 & 175   & 3.08  & 3.845 & 17.05 & 0     & 0     & 3     & 2    \\\\\n",
       "\tFiat X1-9 & 27.3  & 4     &  79.0 &  66   & 4.08  & 1.935 & 18.90 & 1     & 1     & 4     & 1    \\\\\n",
       "\tPorsche 914-2 & 26.0  & 4     & 120.3 &  91   & 4.43  & 2.140 & 16.70 & 0     & 1     & 5     & 2    \\\\\n",
       "\tLotus Europa & 30.4  & 4     &  95.1 & 113   & 3.77  & 1.513 & 16.90 & 1     & 1     & 5     & 2    \\\\\n",
       "\tFord Pantera L & 15.8  & 8     & 351.0 & 264   & 4.22  & 3.170 & 14.50 & 0     & 1     & 5     & 4    \\\\\n",
       "\tFerrari Dino & 19.7  & 6     & 145.0 & 175   & 3.62  & 2.770 & 15.50 & 0     & 1     & 5     & 6    \\\\\n",
       "\tMaserati Bora & 15.0  & 8     & 301.0 & 335   & 3.54  & 3.570 & 14.60 & 0     & 1     & 5     & 8    \\\\\n",
       "\tVolvo 142E & 21.4  & 4     & 121.0 & 109   & 4.11  & 2.780 & 18.60 & 1     & 1     & 4     & 2    \\\\\n",
       "\\end{tabular}\n"
      ],
      "text/markdown": [
       "\n",
       "| <!--/--> | mpg | cyl | disp | hp | drat | wt | qsec | vs | am | gear | carb | \n",
       "|---|---|---|---|---|---|---|---|---|---|---|---|---|---|---|---|---|---|---|---|---|---|---|---|---|---|---|---|---|---|---|---|\n",
       "| Mazda RX4 | 21.0  | 6     | 160.0 | 110   | 3.90  | 2.620 | 16.46 | 0     | 1     | 4     | 4     | \n",
       "| Mazda RX4 Wag | 21.0  | 6     | 160.0 | 110   | 3.90  | 2.875 | 17.02 | 0     | 1     | 4     | 4     | \n",
       "| Datsun 710 | 22.8  | 4     | 108.0 |  93   | 3.85  | 2.320 | 18.61 | 1     | 1     | 4     | 1     | \n",
       "| Hornet 4 Drive | 21.4  | 6     | 258.0 | 110   | 3.08  | 3.215 | 19.44 | 1     | 0     | 3     | 1     | \n",
       "| Hornet Sportabout | 18.7  | 8     | 360.0 | 175   | 3.15  | 3.440 | 17.02 | 0     | 0     | 3     | 2     | \n",
       "| Valiant | 18.1  | 6     | 225.0 | 105   | 2.76  | 3.460 | 20.22 | 1     | 0     | 3     | 1     | \n",
       "| Duster 360 | 14.3  | 8     | 360.0 | 245   | 3.21  | 3.570 | 15.84 | 0     | 0     | 3     | 4     | \n",
       "| Merc 240D | 24.4  | 4     | 146.7 |  62   | 3.69  | 3.190 | 20.00 | 1     | 0     | 4     | 2     | \n",
       "| Merc 230 | 22.8  | 4     | 140.8 |  95   | 3.92  | 3.150 | 22.90 | 1     | 0     | 4     | 2     | \n",
       "| Merc 280 | 19.2  | 6     | 167.6 | 123   | 3.92  | 3.440 | 18.30 | 1     | 0     | 4     | 4     | \n",
       "| Merc 280C | 17.8  | 6     | 167.6 | 123   | 3.92  | 3.440 | 18.90 | 1     | 0     | 4     | 4     | \n",
       "| Merc 450SE | 16.4  | 8     | 275.8 | 180   | 3.07  | 4.070 | 17.40 | 0     | 0     | 3     | 3     | \n",
       "| Merc 450SL | 17.3  | 8     | 275.8 | 180   | 3.07  | 3.730 | 17.60 | 0     | 0     | 3     | 3     | \n",
       "| Merc 450SLC | 15.2  | 8     | 275.8 | 180   | 3.07  | 3.780 | 18.00 | 0     | 0     | 3     | 3     | \n",
       "| Cadillac Fleetwood | 10.4  | 8     | 472.0 | 205   | 2.93  | 5.250 | 17.98 | 0     | 0     | 3     | 4     | \n",
       "| Lincoln Continental | 10.4  | 8     | 460.0 | 215   | 3.00  | 5.424 | 17.82 | 0     | 0     | 3     | 4     | \n",
       "| Chrysler Imperial | 14.7  | 8     | 440.0 | 230   | 3.23  | 5.345 | 17.42 | 0     | 0     | 3     | 4     | \n",
       "| Fiat 128 | 32.4  | 4     |  78.7 |  66   | 4.08  | 2.200 | 19.47 | 1     | 1     | 4     | 1     | \n",
       "| Honda Civic | 30.4  | 4     |  75.7 |  52   | 4.93  | 1.615 | 18.52 | 1     | 1     | 4     | 2     | \n",
       "| Toyota Corolla | 33.9  | 4     |  71.1 |  65   | 4.22  | 1.835 | 19.90 | 1     | 1     | 4     | 1     | \n",
       "| Toyota Corona | 21.5  | 4     | 120.1 |  97   | 3.70  | 2.465 | 20.01 | 1     | 0     | 3     | 1     | \n",
       "| Dodge Challenger | 15.5  | 8     | 318.0 | 150   | 2.76  | 3.520 | 16.87 | 0     | 0     | 3     | 2     | \n",
       "| AMC Javelin | 15.2  | 8     | 304.0 | 150   | 3.15  | 3.435 | 17.30 | 0     | 0     | 3     | 2     | \n",
       "| Camaro Z28 | 13.3  | 8     | 350.0 | 245   | 3.73  | 3.840 | 15.41 | 0     | 0     | 3     | 4     | \n",
       "| Pontiac Firebird | 19.2  | 8     | 400.0 | 175   | 3.08  | 3.845 | 17.05 | 0     | 0     | 3     | 2     | \n",
       "| Fiat X1-9 | 27.3  | 4     |  79.0 |  66   | 4.08  | 1.935 | 18.90 | 1     | 1     | 4     | 1     | \n",
       "| Porsche 914-2 | 26.0  | 4     | 120.3 |  91   | 4.43  | 2.140 | 16.70 | 0     | 1     | 5     | 2     | \n",
       "| Lotus Europa | 30.4  | 4     |  95.1 | 113   | 3.77  | 1.513 | 16.90 | 1     | 1     | 5     | 2     | \n",
       "| Ford Pantera L | 15.8  | 8     | 351.0 | 264   | 4.22  | 3.170 | 14.50 | 0     | 1     | 5     | 4     | \n",
       "| Ferrari Dino | 19.7  | 6     | 145.0 | 175   | 3.62  | 2.770 | 15.50 | 0     | 1     | 5     | 6     | \n",
       "| Maserati Bora | 15.0  | 8     | 301.0 | 335   | 3.54  | 3.570 | 14.60 | 0     | 1     | 5     | 8     | \n",
       "| Volvo 142E | 21.4  | 4     | 121.0 | 109   | 4.11  | 2.780 | 18.60 | 1     | 1     | 4     | 2     | \n",
       "\n",
       "\n"
      ],
      "text/plain": [
       "                    mpg  cyl disp  hp  drat wt    qsec  vs am gear carb\n",
       "Mazda RX4           21.0 6   160.0 110 3.90 2.620 16.46 0  1  4    4   \n",
       "Mazda RX4 Wag       21.0 6   160.0 110 3.90 2.875 17.02 0  1  4    4   \n",
       "Datsun 710          22.8 4   108.0  93 3.85 2.320 18.61 1  1  4    1   \n",
       "Hornet 4 Drive      21.4 6   258.0 110 3.08 3.215 19.44 1  0  3    1   \n",
       "Hornet Sportabout   18.7 8   360.0 175 3.15 3.440 17.02 0  0  3    2   \n",
       "Valiant             18.1 6   225.0 105 2.76 3.460 20.22 1  0  3    1   \n",
       "Duster 360          14.3 8   360.0 245 3.21 3.570 15.84 0  0  3    4   \n",
       "Merc 240D           24.4 4   146.7  62 3.69 3.190 20.00 1  0  4    2   \n",
       "Merc 230            22.8 4   140.8  95 3.92 3.150 22.90 1  0  4    2   \n",
       "Merc 280            19.2 6   167.6 123 3.92 3.440 18.30 1  0  4    4   \n",
       "Merc 280C           17.8 6   167.6 123 3.92 3.440 18.90 1  0  4    4   \n",
       "Merc 450SE          16.4 8   275.8 180 3.07 4.070 17.40 0  0  3    3   \n",
       "Merc 450SL          17.3 8   275.8 180 3.07 3.730 17.60 0  0  3    3   \n",
       "Merc 450SLC         15.2 8   275.8 180 3.07 3.780 18.00 0  0  3    3   \n",
       "Cadillac Fleetwood  10.4 8   472.0 205 2.93 5.250 17.98 0  0  3    4   \n",
       "Lincoln Continental 10.4 8   460.0 215 3.00 5.424 17.82 0  0  3    4   \n",
       "Chrysler Imperial   14.7 8   440.0 230 3.23 5.345 17.42 0  0  3    4   \n",
       "Fiat 128            32.4 4    78.7  66 4.08 2.200 19.47 1  1  4    1   \n",
       "Honda Civic         30.4 4    75.7  52 4.93 1.615 18.52 1  1  4    2   \n",
       "Toyota Corolla      33.9 4    71.1  65 4.22 1.835 19.90 1  1  4    1   \n",
       "Toyota Corona       21.5 4   120.1  97 3.70 2.465 20.01 1  0  3    1   \n",
       "Dodge Challenger    15.5 8   318.0 150 2.76 3.520 16.87 0  0  3    2   \n",
       "AMC Javelin         15.2 8   304.0 150 3.15 3.435 17.30 0  0  3    2   \n",
       "Camaro Z28          13.3 8   350.0 245 3.73 3.840 15.41 0  0  3    4   \n",
       "Pontiac Firebird    19.2 8   400.0 175 3.08 3.845 17.05 0  0  3    2   \n",
       "Fiat X1-9           27.3 4    79.0  66 4.08 1.935 18.90 1  1  4    1   \n",
       "Porsche 914-2       26.0 4   120.3  91 4.43 2.140 16.70 0  1  5    2   \n",
       "Lotus Europa        30.4 4    95.1 113 3.77 1.513 16.90 1  1  5    2   \n",
       "Ford Pantera L      15.8 8   351.0 264 4.22 3.170 14.50 0  1  5    4   \n",
       "Ferrari Dino        19.7 6   145.0 175 3.62 2.770 15.50 0  1  5    6   \n",
       "Maserati Bora       15.0 8   301.0 335 3.54 3.570 14.60 0  1  5    8   \n",
       "Volvo 142E          21.4 4   121.0 109 4.11 2.780 18.60 1  1  4    2   "
      ]
     },
     "metadata": {},
     "output_type": "display_data"
    }
   ],
   "source": [
    "df = read.csv('mtcars.csv')\n",
    "df"
   ]
  },
  {
   "cell_type": "code",
   "execution_count": 2,
   "metadata": {},
   "outputs": [
    {
     "name": "stderr",
     "output_type": "stream",
     "text": [
      "Parsed with column specification:\n",
      "cols(\n",
      "  `row no` = col_double(),\n",
      "  `publication number` = col_character(),\n",
      "  `kind code` = col_character(),\n",
      "  title = col_character(),\n",
      "  `priority document` = col_character(),\n",
      "  `priority country` = col_character(),\n",
      "  `earliest priority date` = col_datetime(format = \"\"),\n",
      "  `earliest priority year` = col_double(),\n",
      "  `application date` = col_datetime(format = \"\"),\n",
      "  `publication date` = col_datetime(format = \"\"),\n",
      "  `publication year` = col_double(),\n",
      "  applicant = col_character(),\n",
      "  inventors = col_character(),\n",
      "  `ipc classes` = col_character(),\n",
      "  `family members` = col_character(),\n",
      "  `family size` = col_double(),\n",
      "  `wo in family` = col_character(),\n",
      "  `grant or application type families` = col_character(),\n",
      "  `granted patent` = col_character()\n",
      ")\n"
     ]
    }
   ],
   "source": [
    "df = read_csv('../../../../datasets/cadastro.csv')"
   ]
  },
  {
   "cell_type": "code",
   "execution_count": 7,
   "metadata": {},
   "outputs": [
    {
     "data": {
      "text/html": [
       "<ol class=list-inline>\n",
       "\t<li>'spec_tbl_df'</li>\n",
       "\t<li>'tbl_df'</li>\n",
       "\t<li>'tbl'</li>\n",
       "\t<li>'data.frame'</li>\n",
       "</ol>\n"
      ],
      "text/latex": [
       "\\begin{enumerate*}\n",
       "\\item 'spec\\_tbl\\_df'\n",
       "\\item 'tbl\\_df'\n",
       "\\item 'tbl'\n",
       "\\item 'data.frame'\n",
       "\\end{enumerate*}\n"
      ],
      "text/markdown": [
       "1. 'spec_tbl_df'\n",
       "2. 'tbl_df'\n",
       "3. 'tbl'\n",
       "4. 'data.frame'\n",
       "\n",
       "\n"
      ],
      "text/plain": [
       "[1] \"spec_tbl_df\" \"tbl_df\"      \"tbl\"         \"data.frame\" "
      ]
     },
     "metadata": {},
     "output_type": "display_data"
    }
   ],
   "source": [
    "class(df)"
   ]
  },
  {
   "cell_type": "code",
   "execution_count": 5,
   "metadata": {},
   "outputs": [
    {
     "data": {
      "text/html": [
       "<table>\n",
       "<thead><tr><th scope=col>row no</th><th scope=col>publication number</th><th scope=col>kind code</th><th scope=col>title</th><th scope=col>priority document</th><th scope=col>priority country</th><th scope=col>earliest priority date</th><th scope=col>earliest priority year</th><th scope=col>application date</th><th scope=col>publication date</th><th scope=col>publication year</th><th scope=col>applicant</th><th scope=col>inventors</th><th scope=col>ipc classes</th><th scope=col>family members</th><th scope=col>family size</th><th scope=col>wo in family</th><th scope=col>grant or application type families</th><th scope=col>granted patent</th></tr></thead>\n",
       "<tbody>\n",
       "\t<tr><td>1                                                                                                                                                                                            </td><td>AU2007202956                                                                                                                                                                                 </td><td>B2                                                                                                                                                                                           </td><td>Polymorph of a pharmaceutical                                                                                                                                                                </td><td>AU19990050037                                                                                                                                                                                </td><td>Australia                                                                                                                                                                                    </td><td>1999-07-19                                                                                                                                                                                   </td><td>1999                                                                                                                                                                                         </td><td>2007-06-27                                                                                                                                                                                   </td><td>2007-07-19                                                                                                                                                                                   </td><td>2007                                                                                                                                                                                         </td><td>ABBOTT LAB                                                                                                                                                                                   </td><td>SALEKI-GERHARDT AZITA      | ALLEN KIMBERLY A      | NARAYANAN BIKSHANDARKOIL A      | SPIWEK HARRY O      | BAUER JOHN F      | CHEMBURKAR SANJAY R      | PATEL KETAN      | BAUER PHILIP E</td><td>C07D41700                                                                                                                                                                                    </td><td>AU2003254711A1 | AU2007202943A1 | AU2003254711B2                                                                                                                                             </td><td>3                                                                                                                                                                                            </td><td>No                                                                                                                                                                                           </td><td>Grant                                                                                                                                                                                        </td><td>Yes                                                                                                                                                                                          </td></tr>\n",
       "\t<tr><td>2                                                                                                                                                                                            </td><td>CA2425495                                                                                                                                                                                    </td><td>A1                                                                                                                                                                                           </td><td>ANTI-RETROVIRAL ANALYSIS BY MASS SPECTROMETRY                                                                                                                                                </td><td>CA2425495                                                                                                                                                                                    </td><td>Canada                                                                                                                                                                                       </td><td>2003-04-14                                                                                                                                                                                   </td><td>2003                                                                                                                                                                                         </td><td>2003-04-14                                                                                                                                                                                   </td><td>2004-10-14                                                                                                                                                                                   </td><td>2004                                                                                                                                                                                         </td><td>STEVEN J SOLDIN                                                                                                                                                                              </td><td>SOLDIN STEVEN J    US                                                                                                                                                                        </td><td>H01J04900 | G01N03072                                                                                                                                                                        </td><td>None                                                                                                                                                                                         </td><td>1                                                                                                                                                                                            </td><td>No                                                                                                                                                                                           </td><td>Application                                                                                                                                                                                  </td><td>No                                                                                                                                                                                           </td></tr>\n",
       "\t<tr><td>3                                                                                                                                                                                            </td><td>CN101440091                                                                                                                                                                                  </td><td>A                                                                                                                                                                                            </td><td>Ritonavir water-soluble derivatives, synthesizing method and use thereof                                                                                                                     </td><td>CN20081072486                                                                                                                                                                                </td><td>China                                                                                                                                                                                        </td><td>2008-12-26                                                                                                                                                                                   </td><td>2008                                                                                                                                                                                         </td><td>2008-12-26                                                                                                                                                                                   </td><td>2009-05-27                                                                                                                                                                                   </td><td>2009                                                                                                                                                                                         </td><td>XIAMEN UNIVERSITY                                                                                                                                                                            </td><td>JIANFENG ZHENG    CN  | GUOZONG SHI    CN                                                                                                                                                    </td><td>C07D41714 | A61P03118 | A61K031426                                                                                                                                                           </td><td>None                                                                                                                                                                                         </td><td>1                                                                                                                                                                                            </td><td>No                                                                                                                                                                                           </td><td>Application                                                                                                                                                                                  </td><td>No                                                                                                                                                                                           </td></tr>\n",
       "\t<tr><td>4                                                                                                                                                                                            </td><td>CN101613325                                                                                                                                                                                  </td><td>A                                                                                                                                                                                            </td><td>Process for producing 5-hydroxymethylthiazole                                                                                                                                                </td><td>CN20081031608                                                                                                                                                                                </td><td>China                                                                                                                                                                                        </td><td>2008-06-27                                                                                                                                                                                   </td><td>2008                                                                                                                                                                                         </td><td>2008-06-27                                                                                                                                                                                   </td><td>2009-12-30                                                                                                                                                                                   </td><td>2009                                                                                                                                                                                         </td><td>CUICENG YE                                                                                                                                                                                   </td><td>CUICENG YE      | HONGBO XIAO      | CHUNTAO KUANG      | ZUOHU YIN      | HANZHOU SUN                                                                                                       </td><td>C07D27724                                                                                                                                                                                    </td><td>None                                                                                                                                                                                         </td><td>1                                                                                                                                                                                            </td><td>No                                                                                                                                                                                           </td><td>Application                                                                                                                                                                                  </td><td>No                                                                                                                                                                                           </td></tr>\n",
       "\t<tr><td>5                                                                                                                                                                                            </td><td>CN1247554                                                                                                                                                                                    </td><td>C                                                                                                                                                                                            </td><td>Process for synthesizing ritonavir                                                                                                                                                           </td><td>CN20031121091                                                                                                                                                                                </td><td>China                                                                                                                                                                                        </td><td>2003-12-24                                                                                                                                                                                   </td><td>2003                                                                                                                                                                                         </td><td>2003-12-24                                                                                                                                                                                   </td><td>2006-03-29                                                                                                                                                                                   </td><td>2006                                                                                                                                                                                         </td><td>XIAMEN UNIVERSITY                                                                                                                                                                            </td><td>JIN LIREN XU    CN                                                                                                                                                                           </td><td>C07D27728 | A61P03118                                                                                                                                                                        </td><td>CN1554647A                                                                                                                                                                                   </td><td>1                                                                                                                                                                                            </td><td>No                                                                                                                                                                                           </td><td>Grant                                                                                                                                                                                        </td><td>Yes                                                                                                                                                                                          </td></tr>\n",
       "\t<tr><td>6                                                                                                                                                                                            </td><td>DE10131036                                                                                                                                                                                   </td><td>A1                                                                                                                                                                                           </td><td>Medicinal composition, useful for treating infection with human immunodeficiency virus, comprises condurango bark, guaiacum wood, dandelion leaves and roots, peppermint leaves and arnica   </td><td>DE20011031036                                                                                                                                                                                </td><td>Germany                                                                                                                                                                                      </td><td>2001-06-29                                                                                                                                                                                   </td><td>2001                                                                                                                                                                                         </td><td>2001-06-29                                                                                                                                                                                   </td><td>2003-06-05                                                                                                                                                                                   </td><td>2003                                                                                                                                                                                         </td><td>JOHANN TEUBNER                                                                                                                                                                               </td><td>TEUBNER JOHANN    DE                                                                                                                                                                         </td><td>A61K03627 | A61K036185 | A61K03600 | A61K03628 | A61K036288 | A61K036534                                                                                                                     </td><td>None                                                                                                                                                                                         </td><td>1                                                                                                                                                                                            </td><td>No                                                                                                                                                                                           </td><td>Application                                                                                                                                                                                  </td><td>No                                                                                                                                                                                           </td></tr>\n",
       "</tbody>\n",
       "</table>\n"
      ],
      "text/latex": [
       "\\begin{tabular}{r|lllllllllllllllllll}\n",
       " row no & publication number & kind code & title & priority document & priority country & earliest priority date & earliest priority year & application date & publication date & publication year & applicant & inventors & ipc classes & family members & family size & wo in family & grant or application type families & granted patent\\\\\n",
       "\\hline\n",
       "\t 1                                                                                                                                                                                                                                                                   & AU2007202956                                                                                                                                                                                                                                                        & B2                                                                                                                                                                                                                                                                  & Polymorph of a pharmaceutical                                                                                                                                                                                                                                       & AU19990050037                                                                                                                                                                                                                                                       & Australia                                                                                                                                                                                                                                                           & 1999-07-19                                                                                                                                                                                                                                                          & 1999                                                                                                                                                                                                                                                                & 2007-06-27                                                                                                                                                                                                                                                          & 2007-07-19                                                                                                                                                                                                                                                          & 2007                                                                                                                                                                                                                                                                & ABBOTT LAB                                                                                                                                                                                                                                                          & SALEKI-GERHARDT AZITA      \\textbar{} ALLEN KIMBERLY A      \\textbar{} NARAYANAN BIKSHANDARKOIL A      \\textbar{} SPIWEK HARRY O      \\textbar{} BAUER JOHN F      \\textbar{} CHEMBURKAR SANJAY R      \\textbar{} PATEL KETAN      \\textbar{} BAUER PHILIP E & C07D41700                                                                                                                                                                                                                                                           & AU2003254711A1 \\textbar{} AU2007202943A1 \\textbar{} AU2003254711B2                                                                                                                                                                                                & 3                                                                                                                                                                                                                                                                   & No                                                                                                                                                                                                                                                                  & Grant                                                                                                                                                                                                                                                               & Yes                                                                                                                                                                                                                                                                \\\\\n",
       "\t 2                                                                                                                                                                                             & CA2425495                                                                                                                                                                                     & A1                                                                                                                                                                                            & ANTI-RETROVIRAL ANALYSIS BY MASS SPECTROMETRY                                                                                                                                                 & CA2425495                                                                                                                                                                                     & Canada                                                                                                                                                                                        & 2003-04-14                                                                                                                                                                                    & 2003                                                                                                                                                                                          & 2003-04-14                                                                                                                                                                                    & 2004-10-14                                                                                                                                                                                    & 2004                                                                                                                                                                                          & STEVEN J SOLDIN                                                                                                                                                                               & SOLDIN STEVEN J    US                                                                                                                                                                         & H01J04900 \\textbar{} G01N03072                                                                                                                                                               & None                                                                                                                                                                                          & 1                                                                                                                                                                                             & No                                                                                                                                                                                            & Application                                                                                                                                                                                   & No                                                                                                                                                                                           \\\\\n",
       "\t 3                                                                                                                                                                                                       & CN101440091                                                                                                                                                                                             & A                                                                                                                                                                                                       & Ritonavir water-soluble derivatives, synthesizing method and use thereof                                                                                                                                & CN20081072486                                                                                                                                                                                           & China                                                                                                                                                                                                   & 2008-12-26                                                                                                                                                                                              & 2008                                                                                                                                                                                                    & 2008-12-26                                                                                                                                                                                              & 2009-05-27                                                                                                                                                                                              & 2009                                                                                                                                                                                                    & XIAMEN UNIVERSITY                                                                                                                                                                                       & JIANFENG ZHENG    CN  \\textbar{} GUOZONG SHI    CN                                                                                                                                                     & C07D41714 \\textbar{} A61P03118 \\textbar{} A61K031426                                                                                                                                                  & None                                                                                                                                                                                                    & 1                                                                                                                                                                                                       & No                                                                                                                                                                                                      & Application                                                                                                                                                                                             & No                                                                                                                                                                                                     \\\\\n",
       "\t 4                                                                                                                                                                                                                                     & CN101613325                                                                                                                                                                                                                           & A                                                                                                                                                                                                                                     & Process for producing 5-hydroxymethylthiazole                                                                                                                                                                                         & CN20081031608                                                                                                                                                                                                                         & China                                                                                                                                                                                                                                 & 2008-06-27                                                                                                                                                                                                                            & 2008                                                                                                                                                                                                                                  & 2008-06-27                                                                                                                                                                                                                            & 2009-12-30                                                                                                                                                                                                                            & 2009                                                                                                                                                                                                                                  & CUICENG YE                                                                                                                                                                                                                            & CUICENG YE      \\textbar{} HONGBO XIAO      \\textbar{} CHUNTAO KUANG      \\textbar{} ZUOHU YIN      \\textbar{} HANZHOU SUN                                                                                                        & C07D27724                                                                                                                                                                                                                             & None                                                                                                                                                                                                                                  & 1                                                                                                                                                                                                                                     & No                                                                                                                                                                                                                                    & Application                                                                                                                                                                                                                           & No                                                                                                                                                                                                                                   \\\\\n",
       "\t 5                                                                                                                                                                                             & CN1247554                                                                                                                                                                                     & C                                                                                                                                                                                             & Process for synthesizing ritonavir                                                                                                                                                            & CN20031121091                                                                                                                                                                                 & China                                                                                                                                                                                         & 2003-12-24                                                                                                                                                                                    & 2003                                                                                                                                                                                          & 2003-12-24                                                                                                                                                                                    & 2006-03-29                                                                                                                                                                                    & 2006                                                                                                                                                                                          & XIAMEN UNIVERSITY                                                                                                                                                                             & JIN LIREN XU    CN                                                                                                                                                                            & C07D27728 \\textbar{} A61P03118                                                                                                                                                               & CN1554647A                                                                                                                                                                                    & 1                                                                                                                                                                                             & No                                                                                                                                                                                            & Grant                                                                                                                                                                                         & Yes                                                                                                                                                                                          \\\\\n",
       "\t 6                                                                                                                                                                                             & DE10131036                                                                                                                                                                                    & A1                                                                                                                                                                                            & Medicinal composition, useful for treating infection with human immunodeficiency virus, comprises condurango bark, guaiacum wood, dandelion leaves and roots, peppermint leaves and arnica    & DE20011031036                                                                                                                                                                                 & Germany                                                                                                                                                                                       & 2001-06-29                                                                                                                                                                                    & 2001                                                                                                                                                                                          & 2001-06-29                                                                                                                                                                                    & 2003-06-05                                                                                                                                                                                    & 2003                                                                                                                                                                                          & JOHANN TEUBNER                                                                                                                                                                                & TEUBNER JOHANN    DE                                                                                                                                                                          & A61K03627 \\textbar{} A61K036185 \\textbar{} A61K03600 \\textbar{} A61K03628 \\textbar{} A61K036288 \\textbar{} A61K036534                                                                    & None                                                                                                                                                                                          & 1                                                                                                                                                                                             & No                                                                                                                                                                                            & Application                                                                                                                                                                                   & No                                                                                                                                                                                           \\\\\n",
       "\\end{tabular}\n"
      ],
      "text/markdown": [
       "\n",
       "row no | publication number | kind code | title | priority document | priority country | earliest priority date | earliest priority year | application date | publication date | publication year | applicant | inventors | ipc classes | family members | family size | wo in family | grant or application type families | granted patent | \n",
       "|---|---|---|---|---|---|\n",
       "| 1                                                                                                                                                                                             | AU2007202956                                                                                                                                                                                  | B2                                                                                                                                                                                            | Polymorph of a pharmaceutical                                                                                                                                                                 | AU19990050037                                                                                                                                                                                 | Australia                                                                                                                                                                                     | 1999-07-19                                                                                                                                                                                    | 1999                                                                                                                                                                                          | 2007-06-27                                                                                                                                                                                    | 2007-07-19                                                                                                                                                                                    | 2007                                                                                                                                                                                          | ABBOTT LAB                                                                                                                                                                                    | SALEKI-GERHARDT AZITA      | ALLEN KIMBERLY A      | NARAYANAN BIKSHANDARKOIL A      | SPIWEK HARRY O      | BAUER JOHN F      | CHEMBURKAR SANJAY R      | PATEL KETAN      | BAUER PHILIP E | C07D41700                                                                                                                                                                                     | AU2003254711A1 | AU2007202943A1 | AU2003254711B2                                                                                                                                              | 3                                                                                                                                                                                             | No                                                                                                                                                                                            | Grant                                                                                                                                                                                         | Yes                                                                                                                                                                                           | \n",
       "| 2                                                                                                                                                                                             | CA2425495                                                                                                                                                                                     | A1                                                                                                                                                                                            | ANTI-RETROVIRAL ANALYSIS BY MASS SPECTROMETRY                                                                                                                                                 | CA2425495                                                                                                                                                                                     | Canada                                                                                                                                                                                        | 2003-04-14                                                                                                                                                                                    | 2003                                                                                                                                                                                          | 2003-04-14                                                                                                                                                                                    | 2004-10-14                                                                                                                                                                                    | 2004                                                                                                                                                                                          | STEVEN J SOLDIN                                                                                                                                                                               | SOLDIN STEVEN J    US                                                                                                                                                                         | H01J04900 | G01N03072                                                                                                                                                                         | None                                                                                                                                                                                          | 1                                                                                                                                                                                             | No                                                                                                                                                                                            | Application                                                                                                                                                                                   | No                                                                                                                                                                                            | \n",
       "| 3                                                                                                                                                                                             | CN101440091                                                                                                                                                                                   | A                                                                                                                                                                                             | Ritonavir water-soluble derivatives, synthesizing method and use thereof                                                                                                                      | CN20081072486                                                                                                                                                                                 | China                                                                                                                                                                                         | 2008-12-26                                                                                                                                                                                    | 2008                                                                                                                                                                                          | 2008-12-26                                                                                                                                                                                    | 2009-05-27                                                                                                                                                                                    | 2009                                                                                                                                                                                          | XIAMEN UNIVERSITY                                                                                                                                                                             | JIANFENG ZHENG    CN  | GUOZONG SHI    CN                                                                                                                                                     | C07D41714 | A61P03118 | A61K031426                                                                                                                                                            | None                                                                                                                                                                                          | 1                                                                                                                                                                                             | No                                                                                                                                                                                            | Application                                                                                                                                                                                   | No                                                                                                                                                                                            | \n",
       "| 4                                                                                                                                                                                             | CN101613325                                                                                                                                                                                   | A                                                                                                                                                                                             | Process for producing 5-hydroxymethylthiazole                                                                                                                                                 | CN20081031608                                                                                                                                                                                 | China                                                                                                                                                                                         | 2008-06-27                                                                                                                                                                                    | 2008                                                                                                                                                                                          | 2008-06-27                                                                                                                                                                                    | 2009-12-30                                                                                                                                                                                    | 2009                                                                                                                                                                                          | CUICENG YE                                                                                                                                                                                    | CUICENG YE      | HONGBO XIAO      | CHUNTAO KUANG      | ZUOHU YIN      | HANZHOU SUN                                                                                                        | C07D27724                                                                                                                                                                                     | None                                                                                                                                                                                          | 1                                                                                                                                                                                             | No                                                                                                                                                                                            | Application                                                                                                                                                                                   | No                                                                                                                                                                                            | \n",
       "| 5                                                                                                                                                                                             | CN1247554                                                                                                                                                                                     | C                                                                                                                                                                                             | Process for synthesizing ritonavir                                                                                                                                                            | CN20031121091                                                                                                                                                                                 | China                                                                                                                                                                                         | 2003-12-24                                                                                                                                                                                    | 2003                                                                                                                                                                                          | 2003-12-24                                                                                                                                                                                    | 2006-03-29                                                                                                                                                                                    | 2006                                                                                                                                                                                          | XIAMEN UNIVERSITY                                                                                                                                                                             | JIN LIREN XU    CN                                                                                                                                                                            | C07D27728 | A61P03118                                                                                                                                                                         | CN1554647A                                                                                                                                                                                    | 1                                                                                                                                                                                             | No                                                                                                                                                                                            | Grant                                                                                                                                                                                         | Yes                                                                                                                                                                                           | \n",
       "| 6                                                                                                                                                                                             | DE10131036                                                                                                                                                                                    | A1                                                                                                                                                                                            | Medicinal composition, useful for treating infection with human immunodeficiency virus, comprises condurango bark, guaiacum wood, dandelion leaves and roots, peppermint leaves and arnica    | DE20011031036                                                                                                                                                                                 | Germany                                                                                                                                                                                       | 2001-06-29                                                                                                                                                                                    | 2001                                                                                                                                                                                          | 2001-06-29                                                                                                                                                                                    | 2003-06-05                                                                                                                                                                                    | 2003                                                                                                                                                                                          | JOHANN TEUBNER                                                                                                                                                                                | TEUBNER JOHANN    DE                                                                                                                                                                          | A61K03627 | A61K036185 | A61K03600 | A61K03628 | A61K036288 | A61K036534                                                                                                                      | None                                                                                                                                                                                          | 1                                                                                                                                                                                             | No                                                                                                                                                                                            | Application                                                                                                                                                                                   | No                                                                                                                                                                                            | \n",
       "\n",
       "\n"
      ],
      "text/plain": [
       "  row no publication number kind code\n",
       "1 1      AU2007202956       B2       \n",
       "2 2      CA2425495          A1       \n",
       "3 3      CN101440091        A        \n",
       "4 4      CN101613325        A        \n",
       "5 5      CN1247554          C        \n",
       "6 6      DE10131036         A1       \n",
       "  title                                                                                                                                                                                     \n",
       "1 Polymorph of a pharmaceutical                                                                                                                                                             \n",
       "2 ANTI-RETROVIRAL ANALYSIS BY MASS SPECTROMETRY                                                                                                                                             \n",
       "3 Ritonavir water-soluble derivatives, synthesizing method and use thereof                                                                                                                  \n",
       "4 Process for producing 5-hydroxymethylthiazole                                                                                                                                             \n",
       "5 Process for synthesizing ritonavir                                                                                                                                                        \n",
       "6 Medicinal composition, useful for treating infection with human immunodeficiency virus, comprises condurango bark, guaiacum wood, dandelion leaves and roots, peppermint leaves and arnica\n",
       "  priority document priority country earliest priority date\n",
       "1 AU19990050037     Australia        1999-07-19            \n",
       "2 CA2425495         Canada           2003-04-14            \n",
       "3 CN20081072486     China            2008-12-26            \n",
       "4 CN20081031608     China            2008-06-27            \n",
       "5 CN20031121091     China            2003-12-24            \n",
       "6 DE20011031036     Germany          2001-06-29            \n",
       "  earliest priority year application date publication date publication year\n",
       "1 1999                   2007-06-27       2007-07-19       2007            \n",
       "2 2003                   2003-04-14       2004-10-14       2004            \n",
       "3 2008                   2008-12-26       2009-05-27       2009            \n",
       "4 2008                   2008-06-27       2009-12-30       2009            \n",
       "5 2003                   2003-12-24       2006-03-29       2006            \n",
       "6 2001                   2001-06-29       2003-06-05       2003            \n",
       "  applicant        \n",
       "1 ABBOTT LAB       \n",
       "2 STEVEN J SOLDIN  \n",
       "3 XIAMEN UNIVERSITY\n",
       "4 CUICENG YE       \n",
       "5 XIAMEN UNIVERSITY\n",
       "6 JOHANN TEUBNER   \n",
       "  inventors                                                                                                                                                                                    \n",
       "1 SALEKI-GERHARDT AZITA      | ALLEN KIMBERLY A      | NARAYANAN BIKSHANDARKOIL A      | SPIWEK HARRY O      | BAUER JOHN F      | CHEMBURKAR SANJAY R      | PATEL KETAN      | BAUER PHILIP E\n",
       "2 SOLDIN STEVEN J    US                                                                                                                                                                        \n",
       "3 JIANFENG ZHENG    CN  | GUOZONG SHI    CN                                                                                                                                                    \n",
       "4 CUICENG YE      | HONGBO XIAO      | CHUNTAO KUANG      | ZUOHU YIN      | HANZHOU SUN                                                                                                       \n",
       "5 JIN LIREN XU    CN                                                                                                                                                                           \n",
       "6 TEUBNER JOHANN    DE                                                                                                                                                                         \n",
       "  ipc classes                                                             \n",
       "1 C07D41700                                                               \n",
       "2 H01J04900 | G01N03072                                                   \n",
       "3 C07D41714 | A61P03118 | A61K031426                                      \n",
       "4 C07D27724                                                               \n",
       "5 C07D27728 | A61P03118                                                   \n",
       "6 A61K03627 | A61K036185 | A61K03600 | A61K03628 | A61K036288 | A61K036534\n",
       "  family members                                   family size wo in family\n",
       "1 AU2003254711A1 | AU2007202943A1 | AU2003254711B2 3           No          \n",
       "2 None                                             1           No          \n",
       "3 None                                             1           No          \n",
       "4 None                                             1           No          \n",
       "5 CN1554647A                                       1           No          \n",
       "6 None                                             1           No          \n",
       "  grant or application type families granted patent\n",
       "1 Grant                              Yes           \n",
       "2 Application                        No            \n",
       "3 Application                        No            \n",
       "4 Application                        No            \n",
       "5 Grant                              Yes           \n",
       "6 Application                        No            "
      ]
     },
     "metadata": {},
     "output_type": "display_data"
    }
   ],
   "source": [
    "head(df)"
   ]
  },
  {
   "cell_type": "code",
   "execution_count": 6,
   "metadata": {},
   "outputs": [
    {
     "name": "stderr",
     "output_type": "stream",
     "text": [
      "Updating HTML index of packages in '.Library'\n",
      "Making 'packages.html' ... done\n"
     ]
    }
   ],
   "source": [
    "install.packages('dplyr')"
   ]
  },
  {
   "cell_type": "code",
   "execution_count": 8,
   "metadata": {},
   "outputs": [
    {
     "name": "stderr",
     "output_type": "stream",
     "text": [
      "\n",
      "Attaching package: ‘dplyr’\n",
      "\n",
      "The following objects are masked from ‘package:stats’:\n",
      "\n",
      "    filter, lag\n",
      "\n",
      "The following objects are masked from ‘package:base’:\n",
      "\n",
      "    intersect, setdiff, setequal, union\n",
      "\n"
     ]
    }
   ],
   "source": [
    "library(dplyr)"
   ]
  },
  {
   "cell_type": "code",
   "execution_count": 9,
   "metadata": {},
   "outputs": [
    {
     "data": {
      "text/html": [
       "<ol class=list-inline>\n",
       "\t<li>'tbl_df'</li>\n",
       "\t<li>'tbl'</li>\n",
       "\t<li>'data.frame'</li>\n",
       "</ol>\n"
      ],
      "text/latex": [
       "\\begin{enumerate*}\n",
       "\\item 'tbl\\_df'\n",
       "\\item 'tbl'\n",
       "\\item 'data.frame'\n",
       "\\end{enumerate*}\n"
      ],
      "text/markdown": [
       "1. 'tbl_df'\n",
       "2. 'tbl'\n",
       "3. 'data.frame'\n",
       "\n",
       "\n"
      ],
      "text/plain": [
       "[1] \"tbl_df\"     \"tbl\"        \"data.frame\""
      ]
     },
     "metadata": {},
     "output_type": "display_data"
    },
    {
     "data": {
      "text/html": [
       "<table>\n",
       "<thead><tr><th scope=col>row no</th><th scope=col>publication number</th><th scope=col>kind code</th><th scope=col>title</th><th scope=col>priority document</th><th scope=col>priority country</th><th scope=col>earliest priority date</th><th scope=col>earliest priority year</th><th scope=col>application date</th><th scope=col>publication date</th><th scope=col>publication year</th><th scope=col>applicant</th><th scope=col>inventors</th><th scope=col>ipc classes</th><th scope=col>family members</th><th scope=col>family size</th><th scope=col>wo in family</th><th scope=col>grant or application type families</th><th scope=col>granted patent</th></tr></thead>\n",
       "<tbody>\n",
       "\t<tr><td>1                                                                                                                                                                                            </td><td>AU2007202956                                                                                                                                                                                 </td><td>B2                                                                                                                                                                                           </td><td>Polymorph of a pharmaceutical                                                                                                                                                                </td><td>AU19990050037                                                                                                                                                                                </td><td>Australia                                                                                                                                                                                    </td><td>1999-07-19                                                                                                                                                                                   </td><td>1999                                                                                                                                                                                         </td><td>2007-06-27                                                                                                                                                                                   </td><td>2007-07-19                                                                                                                                                                                   </td><td>2007                                                                                                                                                                                         </td><td>ABBOTT LAB                                                                                                                                                                                   </td><td>SALEKI-GERHARDT AZITA      | ALLEN KIMBERLY A      | NARAYANAN BIKSHANDARKOIL A      | SPIWEK HARRY O      | BAUER JOHN F      | CHEMBURKAR SANJAY R      | PATEL KETAN      | BAUER PHILIP E</td><td>C07D41700                                                                                                                                                                                    </td><td>AU2003254711A1 | AU2007202943A1 | AU2003254711B2                                                                                                                                             </td><td>3                                                                                                                                                                                            </td><td>No                                                                                                                                                                                           </td><td>Grant                                                                                                                                                                                        </td><td>Yes                                                                                                                                                                                          </td></tr>\n",
       "\t<tr><td>2                                                                                                                                                                                            </td><td>CA2425495                                                                                                                                                                                    </td><td>A1                                                                                                                                                                                           </td><td>ANTI-RETROVIRAL ANALYSIS BY MASS SPECTROMETRY                                                                                                                                                </td><td>CA2425495                                                                                                                                                                                    </td><td>Canada                                                                                                                                                                                       </td><td>2003-04-14                                                                                                                                                                                   </td><td>2003                                                                                                                                                                                         </td><td>2003-04-14                                                                                                                                                                                   </td><td>2004-10-14                                                                                                                                                                                   </td><td>2004                                                                                                                                                                                         </td><td>STEVEN J SOLDIN                                                                                                                                                                              </td><td>SOLDIN STEVEN J    US                                                                                                                                                                        </td><td>H01J04900 | G01N03072                                                                                                                                                                        </td><td>None                                                                                                                                                                                         </td><td>1                                                                                                                                                                                            </td><td>No                                                                                                                                                                                           </td><td>Application                                                                                                                                                                                  </td><td>No                                                                                                                                                                                           </td></tr>\n",
       "\t<tr><td>3                                                                                                                                                                                            </td><td>CN101440091                                                                                                                                                                                  </td><td>A                                                                                                                                                                                            </td><td>Ritonavir water-soluble derivatives, synthesizing method and use thereof                                                                                                                     </td><td>CN20081072486                                                                                                                                                                                </td><td>China                                                                                                                                                                                        </td><td>2008-12-26                                                                                                                                                                                   </td><td>2008                                                                                                                                                                                         </td><td>2008-12-26                                                                                                                                                                                   </td><td>2009-05-27                                                                                                                                                                                   </td><td>2009                                                                                                                                                                                         </td><td>XIAMEN UNIVERSITY                                                                                                                                                                            </td><td>JIANFENG ZHENG    CN  | GUOZONG SHI    CN                                                                                                                                                    </td><td>C07D41714 | A61P03118 | A61K031426                                                                                                                                                           </td><td>None                                                                                                                                                                                         </td><td>1                                                                                                                                                                                            </td><td>No                                                                                                                                                                                           </td><td>Application                                                                                                                                                                                  </td><td>No                                                                                                                                                                                           </td></tr>\n",
       "\t<tr><td>4                                                                                                                                                                                            </td><td>CN101613325                                                                                                                                                                                  </td><td>A                                                                                                                                                                                            </td><td>Process for producing 5-hydroxymethylthiazole                                                                                                                                                </td><td>CN20081031608                                                                                                                                                                                </td><td>China                                                                                                                                                                                        </td><td>2008-06-27                                                                                                                                                                                   </td><td>2008                                                                                                                                                                                         </td><td>2008-06-27                                                                                                                                                                                   </td><td>2009-12-30                                                                                                                                                                                   </td><td>2009                                                                                                                                                                                         </td><td>CUICENG YE                                                                                                                                                                                   </td><td>CUICENG YE      | HONGBO XIAO      | CHUNTAO KUANG      | ZUOHU YIN      | HANZHOU SUN                                                                                                       </td><td>C07D27724                                                                                                                                                                                    </td><td>None                                                                                                                                                                                         </td><td>1                                                                                                                                                                                            </td><td>No                                                                                                                                                                                           </td><td>Application                                                                                                                                                                                  </td><td>No                                                                                                                                                                                           </td></tr>\n",
       "\t<tr><td>5                                                                                                                                                                                            </td><td>CN1247554                                                                                                                                                                                    </td><td>C                                                                                                                                                                                            </td><td>Process for synthesizing ritonavir                                                                                                                                                           </td><td>CN20031121091                                                                                                                                                                                </td><td>China                                                                                                                                                                                        </td><td>2003-12-24                                                                                                                                                                                   </td><td>2003                                                                                                                                                                                         </td><td>2003-12-24                                                                                                                                                                                   </td><td>2006-03-29                                                                                                                                                                                   </td><td>2006                                                                                                                                                                                         </td><td>XIAMEN UNIVERSITY                                                                                                                                                                            </td><td>JIN LIREN XU    CN                                                                                                                                                                           </td><td>C07D27728 | A61P03118                                                                                                                                                                        </td><td>CN1554647A                                                                                                                                                                                   </td><td>1                                                                                                                                                                                            </td><td>No                                                                                                                                                                                           </td><td>Grant                                                                                                                                                                                        </td><td>Yes                                                                                                                                                                                          </td></tr>\n",
       "\t<tr><td>6                                                                                                                                                                                            </td><td>DE10131036                                                                                                                                                                                   </td><td>A1                                                                                                                                                                                           </td><td>Medicinal composition, useful for treating infection with human immunodeficiency virus, comprises condurango bark, guaiacum wood, dandelion leaves and roots, peppermint leaves and arnica   </td><td>DE20011031036                                                                                                                                                                                </td><td>Germany                                                                                                                                                                                      </td><td>2001-06-29                                                                                                                                                                                   </td><td>2001                                                                                                                                                                                         </td><td>2001-06-29                                                                                                                                                                                   </td><td>2003-06-05                                                                                                                                                                                   </td><td>2003                                                                                                                                                                                         </td><td>JOHANN TEUBNER                                                                                                                                                                               </td><td>TEUBNER JOHANN    DE                                                                                                                                                                         </td><td>A61K03627 | A61K036185 | A61K03600 | A61K03628 | A61K036288 | A61K036534                                                                                                                     </td><td>None                                                                                                                                                                                         </td><td>1                                                                                                                                                                                            </td><td>No                                                                                                                                                                                           </td><td>Application                                                                                                                                                                                  </td><td>No                                                                                                                                                                                           </td></tr>\n",
       "</tbody>\n",
       "</table>\n"
      ],
      "text/latex": [
       "\\begin{tabular}{r|lllllllllllllllllll}\n",
       " row no & publication number & kind code & title & priority document & priority country & earliest priority date & earliest priority year & application date & publication date & publication year & applicant & inventors & ipc classes & family members & family size & wo in family & grant or application type families & granted patent\\\\\n",
       "\\hline\n",
       "\t 1                                                                                                                                                                                                                                                                   & AU2007202956                                                                                                                                                                                                                                                        & B2                                                                                                                                                                                                                                                                  & Polymorph of a pharmaceutical                                                                                                                                                                                                                                       & AU19990050037                                                                                                                                                                                                                                                       & Australia                                                                                                                                                                                                                                                           & 1999-07-19                                                                                                                                                                                                                                                          & 1999                                                                                                                                                                                                                                                                & 2007-06-27                                                                                                                                                                                                                                                          & 2007-07-19                                                                                                                                                                                                                                                          & 2007                                                                                                                                                                                                                                                                & ABBOTT LAB                                                                                                                                                                                                                                                          & SALEKI-GERHARDT AZITA      \\textbar{} ALLEN KIMBERLY A      \\textbar{} NARAYANAN BIKSHANDARKOIL A      \\textbar{} SPIWEK HARRY O      \\textbar{} BAUER JOHN F      \\textbar{} CHEMBURKAR SANJAY R      \\textbar{} PATEL KETAN      \\textbar{} BAUER PHILIP E & C07D41700                                                                                                                                                                                                                                                           & AU2003254711A1 \\textbar{} AU2007202943A1 \\textbar{} AU2003254711B2                                                                                                                                                                                                & 3                                                                                                                                                                                                                                                                   & No                                                                                                                                                                                                                                                                  & Grant                                                                                                                                                                                                                                                               & Yes                                                                                                                                                                                                                                                                \\\\\n",
       "\t 2                                                                                                                                                                                             & CA2425495                                                                                                                                                                                     & A1                                                                                                                                                                                            & ANTI-RETROVIRAL ANALYSIS BY MASS SPECTROMETRY                                                                                                                                                 & CA2425495                                                                                                                                                                                     & Canada                                                                                                                                                                                        & 2003-04-14                                                                                                                                                                                    & 2003                                                                                                                                                                                          & 2003-04-14                                                                                                                                                                                    & 2004-10-14                                                                                                                                                                                    & 2004                                                                                                                                                                                          & STEVEN J SOLDIN                                                                                                                                                                               & SOLDIN STEVEN J    US                                                                                                                                                                         & H01J04900 \\textbar{} G01N03072                                                                                                                                                               & None                                                                                                                                                                                          & 1                                                                                                                                                                                             & No                                                                                                                                                                                            & Application                                                                                                                                                                                   & No                                                                                                                                                                                           \\\\\n",
       "\t 3                                                                                                                                                                                                       & CN101440091                                                                                                                                                                                             & A                                                                                                                                                                                                       & Ritonavir water-soluble derivatives, synthesizing method and use thereof                                                                                                                                & CN20081072486                                                                                                                                                                                           & China                                                                                                                                                                                                   & 2008-12-26                                                                                                                                                                                              & 2008                                                                                                                                                                                                    & 2008-12-26                                                                                                                                                                                              & 2009-05-27                                                                                                                                                                                              & 2009                                                                                                                                                                                                    & XIAMEN UNIVERSITY                                                                                                                                                                                       & JIANFENG ZHENG    CN  \\textbar{} GUOZONG SHI    CN                                                                                                                                                     & C07D41714 \\textbar{} A61P03118 \\textbar{} A61K031426                                                                                                                                                  & None                                                                                                                                                                                                    & 1                                                                                                                                                                                                       & No                                                                                                                                                                                                      & Application                                                                                                                                                                                             & No                                                                                                                                                                                                     \\\\\n",
       "\t 4                                                                                                                                                                                                                                     & CN101613325                                                                                                                                                                                                                           & A                                                                                                                                                                                                                                     & Process for producing 5-hydroxymethylthiazole                                                                                                                                                                                         & CN20081031608                                                                                                                                                                                                                         & China                                                                                                                                                                                                                                 & 2008-06-27                                                                                                                                                                                                                            & 2008                                                                                                                                                                                                                                  & 2008-06-27                                                                                                                                                                                                                            & 2009-12-30                                                                                                                                                                                                                            & 2009                                                                                                                                                                                                                                  & CUICENG YE                                                                                                                                                                                                                            & CUICENG YE      \\textbar{} HONGBO XIAO      \\textbar{} CHUNTAO KUANG      \\textbar{} ZUOHU YIN      \\textbar{} HANZHOU SUN                                                                                                        & C07D27724                                                                                                                                                                                                                             & None                                                                                                                                                                                                                                  & 1                                                                                                                                                                                                                                     & No                                                                                                                                                                                                                                    & Application                                                                                                                                                                                                                           & No                                                                                                                                                                                                                                   \\\\\n",
       "\t 5                                                                                                                                                                                             & CN1247554                                                                                                                                                                                     & C                                                                                                                                                                                             & Process for synthesizing ritonavir                                                                                                                                                            & CN20031121091                                                                                                                                                                                 & China                                                                                                                                                                                         & 2003-12-24                                                                                                                                                                                    & 2003                                                                                                                                                                                          & 2003-12-24                                                                                                                                                                                    & 2006-03-29                                                                                                                                                                                    & 2006                                                                                                                                                                                          & XIAMEN UNIVERSITY                                                                                                                                                                             & JIN LIREN XU    CN                                                                                                                                                                            & C07D27728 \\textbar{} A61P03118                                                                                                                                                               & CN1554647A                                                                                                                                                                                    & 1                                                                                                                                                                                             & No                                                                                                                                                                                            & Grant                                                                                                                                                                                         & Yes                                                                                                                                                                                          \\\\\n",
       "\t 6                                                                                                                                                                                             & DE10131036                                                                                                                                                                                    & A1                                                                                                                                                                                            & Medicinal composition, useful for treating infection with human immunodeficiency virus, comprises condurango bark, guaiacum wood, dandelion leaves and roots, peppermint leaves and arnica    & DE20011031036                                                                                                                                                                                 & Germany                                                                                                                                                                                       & 2001-06-29                                                                                                                                                                                    & 2001                                                                                                                                                                                          & 2001-06-29                                                                                                                                                                                    & 2003-06-05                                                                                                                                                                                    & 2003                                                                                                                                                                                          & JOHANN TEUBNER                                                                                                                                                                                & TEUBNER JOHANN    DE                                                                                                                                                                          & A61K03627 \\textbar{} A61K036185 \\textbar{} A61K03600 \\textbar{} A61K03628 \\textbar{} A61K036288 \\textbar{} A61K036534                                                                    & None                                                                                                                                                                                          & 1                                                                                                                                                                                             & No                                                                                                                                                                                            & Application                                                                                                                                                                                   & No                                                                                                                                                                                           \\\\\n",
       "\\end{tabular}\n"
      ],
      "text/markdown": [
       "\n",
       "row no | publication number | kind code | title | priority document | priority country | earliest priority date | earliest priority year | application date | publication date | publication year | applicant | inventors | ipc classes | family members | family size | wo in family | grant or application type families | granted patent | \n",
       "|---|---|---|---|---|---|\n",
       "| 1                                                                                                                                                                                             | AU2007202956                                                                                                                                                                                  | B2                                                                                                                                                                                            | Polymorph of a pharmaceutical                                                                                                                                                                 | AU19990050037                                                                                                                                                                                 | Australia                                                                                                                                                                                     | 1999-07-19                                                                                                                                                                                    | 1999                                                                                                                                                                                          | 2007-06-27                                                                                                                                                                                    | 2007-07-19                                                                                                                                                                                    | 2007                                                                                                                                                                                          | ABBOTT LAB                                                                                                                                                                                    | SALEKI-GERHARDT AZITA      | ALLEN KIMBERLY A      | NARAYANAN BIKSHANDARKOIL A      | SPIWEK HARRY O      | BAUER JOHN F      | CHEMBURKAR SANJAY R      | PATEL KETAN      | BAUER PHILIP E | C07D41700                                                                                                                                                                                     | AU2003254711A1 | AU2007202943A1 | AU2003254711B2                                                                                                                                              | 3                                                                                                                                                                                             | No                                                                                                                                                                                            | Grant                                                                                                                                                                                         | Yes                                                                                                                                                                                           | \n",
       "| 2                                                                                                                                                                                             | CA2425495                                                                                                                                                                                     | A1                                                                                                                                                                                            | ANTI-RETROVIRAL ANALYSIS BY MASS SPECTROMETRY                                                                                                                                                 | CA2425495                                                                                                                                                                                     | Canada                                                                                                                                                                                        | 2003-04-14                                                                                                                                                                                    | 2003                                                                                                                                                                                          | 2003-04-14                                                                                                                                                                                    | 2004-10-14                                                                                                                                                                                    | 2004                                                                                                                                                                                          | STEVEN J SOLDIN                                                                                                                                                                               | SOLDIN STEVEN J    US                                                                                                                                                                         | H01J04900 | G01N03072                                                                                                                                                                         | None                                                                                                                                                                                          | 1                                                                                                                                                                                             | No                                                                                                                                                                                            | Application                                                                                                                                                                                   | No                                                                                                                                                                                            | \n",
       "| 3                                                                                                                                                                                             | CN101440091                                                                                                                                                                                   | A                                                                                                                                                                                             | Ritonavir water-soluble derivatives, synthesizing method and use thereof                                                                                                                      | CN20081072486                                                                                                                                                                                 | China                                                                                                                                                                                         | 2008-12-26                                                                                                                                                                                    | 2008                                                                                                                                                                                          | 2008-12-26                                                                                                                                                                                    | 2009-05-27                                                                                                                                                                                    | 2009                                                                                                                                                                                          | XIAMEN UNIVERSITY                                                                                                                                                                             | JIANFENG ZHENG    CN  | GUOZONG SHI    CN                                                                                                                                                     | C07D41714 | A61P03118 | A61K031426                                                                                                                                                            | None                                                                                                                                                                                          | 1                                                                                                                                                                                             | No                                                                                                                                                                                            | Application                                                                                                                                                                                   | No                                                                                                                                                                                            | \n",
       "| 4                                                                                                                                                                                             | CN101613325                                                                                                                                                                                   | A                                                                                                                                                                                             | Process for producing 5-hydroxymethylthiazole                                                                                                                                                 | CN20081031608                                                                                                                                                                                 | China                                                                                                                                                                                         | 2008-06-27                                                                                                                                                                                    | 2008                                                                                                                                                                                          | 2008-06-27                                                                                                                                                                                    | 2009-12-30                                                                                                                                                                                    | 2009                                                                                                                                                                                          | CUICENG YE                                                                                                                                                                                    | CUICENG YE      | HONGBO XIAO      | CHUNTAO KUANG      | ZUOHU YIN      | HANZHOU SUN                                                                                                        | C07D27724                                                                                                                                                                                     | None                                                                                                                                                                                          | 1                                                                                                                                                                                             | No                                                                                                                                                                                            | Application                                                                                                                                                                                   | No                                                                                                                                                                                            | \n",
       "| 5                                                                                                                                                                                             | CN1247554                                                                                                                                                                                     | C                                                                                                                                                                                             | Process for synthesizing ritonavir                                                                                                                                                            | CN20031121091                                                                                                                                                                                 | China                                                                                                                                                                                         | 2003-12-24                                                                                                                                                                                    | 2003                                                                                                                                                                                          | 2003-12-24                                                                                                                                                                                    | 2006-03-29                                                                                                                                                                                    | 2006                                                                                                                                                                                          | XIAMEN UNIVERSITY                                                                                                                                                                             | JIN LIREN XU    CN                                                                                                                                                                            | C07D27728 | A61P03118                                                                                                                                                                         | CN1554647A                                                                                                                                                                                    | 1                                                                                                                                                                                             | No                                                                                                                                                                                            | Grant                                                                                                                                                                                         | Yes                                                                                                                                                                                           | \n",
       "| 6                                                                                                                                                                                             | DE10131036                                                                                                                                                                                    | A1                                                                                                                                                                                            | Medicinal composition, useful for treating infection with human immunodeficiency virus, comprises condurango bark, guaiacum wood, dandelion leaves and roots, peppermint leaves and arnica    | DE20011031036                                                                                                                                                                                 | Germany                                                                                                                                                                                       | 2001-06-29                                                                                                                                                                                    | 2001                                                                                                                                                                                          | 2001-06-29                                                                                                                                                                                    | 2003-06-05                                                                                                                                                                                    | 2003                                                                                                                                                                                          | JOHANN TEUBNER                                                                                                                                                                                | TEUBNER JOHANN    DE                                                                                                                                                                          | A61K03627 | A61K036185 | A61K03600 | A61K03628 | A61K036288 | A61K036534                                                                                                                      | None                                                                                                                                                                                          | 1                                                                                                                                                                                             | No                                                                                                                                                                                            | Application                                                                                                                                                                                   | No                                                                                                                                                                                            | \n",
       "\n",
       "\n"
      ],
      "text/plain": [
       "  row no publication number kind code\n",
       "1 1      AU2007202956       B2       \n",
       "2 2      CA2425495          A1       \n",
       "3 3      CN101440091        A        \n",
       "4 4      CN101613325        A        \n",
       "5 5      CN1247554          C        \n",
       "6 6      DE10131036         A1       \n",
       "  title                                                                                                                                                                                     \n",
       "1 Polymorph of a pharmaceutical                                                                                                                                                             \n",
       "2 ANTI-RETROVIRAL ANALYSIS BY MASS SPECTROMETRY                                                                                                                                             \n",
       "3 Ritonavir water-soluble derivatives, synthesizing method and use thereof                                                                                                                  \n",
       "4 Process for producing 5-hydroxymethylthiazole                                                                                                                                             \n",
       "5 Process for synthesizing ritonavir                                                                                                                                                        \n",
       "6 Medicinal composition, useful for treating infection with human immunodeficiency virus, comprises condurango bark, guaiacum wood, dandelion leaves and roots, peppermint leaves and arnica\n",
       "  priority document priority country earliest priority date\n",
       "1 AU19990050037     Australia        1999-07-19            \n",
       "2 CA2425495         Canada           2003-04-14            \n",
       "3 CN20081072486     China            2008-12-26            \n",
       "4 CN20081031608     China            2008-06-27            \n",
       "5 CN20031121091     China            2003-12-24            \n",
       "6 DE20011031036     Germany          2001-06-29            \n",
       "  earliest priority year application date publication date publication year\n",
       "1 1999                   2007-06-27       2007-07-19       2007            \n",
       "2 2003                   2003-04-14       2004-10-14       2004            \n",
       "3 2008                   2008-12-26       2009-05-27       2009            \n",
       "4 2008                   2008-06-27       2009-12-30       2009            \n",
       "5 2003                   2003-12-24       2006-03-29       2006            \n",
       "6 2001                   2001-06-29       2003-06-05       2003            \n",
       "  applicant        \n",
       "1 ABBOTT LAB       \n",
       "2 STEVEN J SOLDIN  \n",
       "3 XIAMEN UNIVERSITY\n",
       "4 CUICENG YE       \n",
       "5 XIAMEN UNIVERSITY\n",
       "6 JOHANN TEUBNER   \n",
       "  inventors                                                                                                                                                                                    \n",
       "1 SALEKI-GERHARDT AZITA      | ALLEN KIMBERLY A      | NARAYANAN BIKSHANDARKOIL A      | SPIWEK HARRY O      | BAUER JOHN F      | CHEMBURKAR SANJAY R      | PATEL KETAN      | BAUER PHILIP E\n",
       "2 SOLDIN STEVEN J    US                                                                                                                                                                        \n",
       "3 JIANFENG ZHENG    CN  | GUOZONG SHI    CN                                                                                                                                                    \n",
       "4 CUICENG YE      | HONGBO XIAO      | CHUNTAO KUANG      | ZUOHU YIN      | HANZHOU SUN                                                                                                       \n",
       "5 JIN LIREN XU    CN                                                                                                                                                                           \n",
       "6 TEUBNER JOHANN    DE                                                                                                                                                                         \n",
       "  ipc classes                                                             \n",
       "1 C07D41700                                                               \n",
       "2 H01J04900 | G01N03072                                                   \n",
       "3 C07D41714 | A61P03118 | A61K031426                                      \n",
       "4 C07D27724                                                               \n",
       "5 C07D27728 | A61P03118                                                   \n",
       "6 A61K03627 | A61K036185 | A61K03600 | A61K03628 | A61K036288 | A61K036534\n",
       "  family members                                   family size wo in family\n",
       "1 AU2003254711A1 | AU2007202943A1 | AU2003254711B2 3           No          \n",
       "2 None                                             1           No          \n",
       "3 None                                             1           No          \n",
       "4 None                                             1           No          \n",
       "5 CN1554647A                                       1           No          \n",
       "6 None                                             1           No          \n",
       "  grant or application type families granted patent\n",
       "1 Grant                              Yes           \n",
       "2 Application                        No            \n",
       "3 Application                        No            \n",
       "4 Application                        No            \n",
       "5 Grant                              Yes           \n",
       "6 Application                        No            "
      ]
     },
     "metadata": {},
     "output_type": "display_data"
    }
   ],
   "source": [
    "df = tbl_df(df)\n",
    "class(df)\n",
    "head(df)"
   ]
  },
  {
   "cell_type": "code",
   "execution_count": null,
   "metadata": {},
   "outputs": [],
   "source": []
  }
 ],
 "metadata": {
  "kernelspec": {
   "display_name": "R",
   "language": "R",
   "name": "ir"
  },
  "language_info": {
   "codemirror_mode": "r",
   "file_extension": ".r",
   "mimetype": "text/x-r-source",
   "name": "R",
   "pygments_lexer": "r",
   "version": "3.5.1"
  }
 },
 "nbformat": 4,
 "nbformat_minor": 2
}
