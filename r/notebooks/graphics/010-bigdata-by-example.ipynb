{
 "cells": [
  {
   "cell_type": "markdown",
   "metadata": {},
   "source": [
    "# Bigdata by Example"
   ]
  },
  {
   "cell_type": "code",
   "execution_count": 1,
   "metadata": {},
   "outputs": [
    {
     "name": "stderr",
     "output_type": "stream",
     "text": [
      "Updating HTML index of packages in '.Library'\n",
      "Making 'packages.html' ... done\n",
      "Updating HTML index of packages in '.Library'\n",
      "Making 'packages.html' ... done\n"
     ]
    }
   ],
   "source": [
    "install.packages('googleVis')\n",
    "install.packages('XML')"
   ]
  },
  {
   "cell_type": "code",
   "execution_count": 2,
   "metadata": {},
   "outputs": [
    {
     "name": "stderr",
     "output_type": "stream",
     "text": [
      "Creating a generic function for ‘toJSON’ from package ‘jsonlite’ in package ‘googleVis’\n",
      "\n",
      "Welcome to googleVis version 0.6.3\n",
      "\n",
      "Please read Google's Terms of Use\n",
      "before you start using the package:\n",
      "https://developers.google.com/terms/\n",
      "\n",
      "Note, the plot method of googleVis will by default use\n",
      "the standard browser to display its output.\n",
      "\n",
      "See the googleVis package vignettes for more details,\n",
      "or visit https://github.com/mages/googleVis.\n",
      "\n",
      "To suppress this message use:\n",
      "suppressPackageStartupMessages(library(googleVis))\n",
      "\n"
     ]
    }
   ],
   "source": [
    "library(googleVis)\n",
    "library(XML)"
   ]
  },
  {
   "cell_type": "code",
   "execution_count": 6,
   "metadata": {},
   "outputs": [],
   "source": [
    "# ?googleVis"
   ]
  },
  {
   "cell_type": "code",
   "execution_count": 3,
   "metadata": {},
   "outputs": [],
   "source": [
    "df = data.frame(Country = c('BR', 'CH', 'AR'),\n",
    "               Export = c(10, 13, 14),\n",
    "               Import = c(23, 12, 32))"
   ]
  },
  {
   "cell_type": "code",
   "execution_count": 4,
   "metadata": {},
   "outputs": [],
   "source": [
    "line = gvisLineChart(df)"
   ]
  },
  {
   "cell_type": "code",
   "execution_count": 5,
   "metadata": {},
   "outputs": [
    {
     "name": "stderr",
     "output_type": "stream",
     "text": [
      "starting httpd help server ... done\n"
     ]
    }
   ],
   "source": [
    "plot(line)"
   ]
  },
  {
   "cell_type": "code",
   "execution_count": 9,
   "metadata": {},
   "outputs": [],
   "source": [
    "column = gvisColumnChart(df)\n",
    "plot(column)"
   ]
  },
  {
   "cell_type": "code",
   "execution_count": 10,
   "metadata": {},
   "outputs": [],
   "source": [
    "bar = gvisBarChart(df)\n",
    "plot(bar)"
   ]
  },
  {
   "cell_type": "code",
   "execution_count": 13,
   "metadata": {},
   "outputs": [],
   "source": [
    "pie = gvisPieChart(df)\n",
    "plot(pie)"
   ]
  },
  {
   "cell_type": "code",
   "execution_count": 15,
   "metadata": {},
   "outputs": [],
   "source": [
    "combo = gvisComboChart(df)\n",
    "plot(combo)"
   ]
  },
  {
   "cell_type": "code",
   "execution_count": 17,
   "metadata": {},
   "outputs": [],
   "source": [
    "scatter = gvisScatterChart(women,\n",
    "                          options = list(legend = 'none', \n",
    "                                         lineWidth = 2, \n",
    "                                         pointSize = 0, \n",
    "                                         title = 'Women', \n",
    "                                         vAxis = '{title: \"weight (lbs)\"}',\n",
    "                                         hAxis = '{title: \"height (in)\"}',\n",
    "                                         width = 300,\n",
    "                                         height = 300))\n",
    "plot(scatter)"
   ]
  },
  {
   "cell_type": "code",
   "execution_count": 19,
   "metadata": {},
   "outputs": [],
   "source": [
    "bubble = gvisBubbleChart(Fruits, idvar = 'Fruit',\n",
    "                        xvar = 'Sales', yvar = 'Expenses',\n",
    "                        colorvar = 'Year', sizevar = 'Profit',\n",
    "                        options = list(haxis = '{minValue: 75, maxValue: 125}'))\n",
    "plot(bubble)"
   ]
  },
  {
   "cell_type": "code",
   "execution_count": 20,
   "metadata": {},
   "outputs": [],
   "source": [
    "# Custom\n",
    "M <- matrix(nrow=6,ncol=6)\n",
    "M[col(M)==row(M)] <- 1:6\n",
    "dat <- data.frame(X=1:6, M)\n",
    "SC <- gvisScatterChart(dat, \n",
    "                       options=list(\n",
    "                         title=\"Customizing points\",\n",
    "                         legend=\"right\",\n",
    "                         pointSize=30,\n",
    "                         series=\"{\n",
    "                         0: { pointShape: 'circle' },\n",
    "                         1: { pointShape: 'triangle' },\n",
    "                         2: { pointShape: 'square' },\n",
    "                         3: { pointShape: 'diamond' },\n",
    "                         4: { pointShape: 'star' },\n",
    "                         5: { pointShape: 'polygon' }\n",
    "                         }\"))\n",
    "plot(SC)"
   ]
  },
  {
   "cell_type": "code",
   "execution_count": 21,
   "metadata": {},
   "outputs": [],
   "source": [
    "Gauge <- gvisGauge(CityPopularity, \n",
    "                   options=list(min=0, max=800, greenFrom=500,\n",
    "                                greenTo=800, yellowFrom=300, yellowTo=500,\n",
    "                                redFrom=0, redTo=300, width=400, height=300))\n",
    "plot(Gauge)"
   ]
  },
  {
   "cell_type": "code",
   "execution_count": 22,
   "metadata": {},
   "outputs": [],
   "source": [
    "Intensity <- gvisIntensityMap(df)\n",
    "plot(Intensity)"
   ]
  },
  {
   "cell_type": "code",
   "execution_count": 23,
   "metadata": {},
   "outputs": [],
   "source": [
    "Geo=gvisGeoChart(Exports, locationvar=\"Country\", \n",
    "                 colorvar=\"Profit\",\n",
    "                 options=list(projection=\"kavrayskiy-vii\"))\n",
    "plot(Geo)"
   ]
  },
  {
   "cell_type": "code",
   "execution_count": 24,
   "metadata": {},
   "outputs": [],
   "source": [
    "AndrewMap <- gvisMap(Andrew, \"LatLong\" , \"Tip\", \n",
    "                     options=list(showTip=TRUE, \n",
    "                                  showLine=TRUE, \n",
    "                                  enableScrollWheel=TRUE,\n",
    "                                  mapType='terrain', \n",
    "                                  useMapTypeControl=TRUE))\n",
    "plot(AndrewMap)"
   ]
  },
  {
   "cell_type": "code",
   "execution_count": 25,
   "metadata": {},
   "outputs": [],
   "source": [
    "require(datasets)\n",
    "states <- data.frame(state.name, state.x77)\n",
    "GeoStates <- gvisGeoChart(states, \"state.name\", \"Illiteracy\",\n",
    "                          options=list(region=\"US\", \n",
    "                                       displayMode=\"regions\", \n",
    "                                       resolution=\"provinces\",\n",
    "                                       width=600, height=400))\n",
    "plot(GeoStates)"
   ]
  }
 ],
 "metadata": {
  "kernelspec": {
   "display_name": "R",
   "language": "R",
   "name": "ir"
  },
  "language_info": {
   "codemirror_mode": "r",
   "file_extension": ".r",
   "mimetype": "text/x-r-source",
   "name": "R",
   "pygments_lexer": "r",
   "version": "3.5.1"
  }
 },
 "nbformat": 4,
 "nbformat_minor": 2
}
