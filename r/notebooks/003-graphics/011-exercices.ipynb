{
 "cells": [
  {
   "cell_type": "markdown",
   "metadata": {},
   "source": [
    "# Exercices"
   ]
  },
  {
   "cell_type": "code",
   "execution_count": 1,
   "metadata": {},
   "outputs": [
    {
     "data": {
      "text/html": [
       "<table>\n",
       "<thead><tr><th scope=col>vec1</th><th scope=col>vec2</th></tr></thead>\n",
       "<tbody>\n",
       "\t<tr><td>10</td><td>a </td></tr>\n",
       "\t<tr><td>11</td><td>b </td></tr>\n",
       "\t<tr><td>12</td><td>c </td></tr>\n",
       "\t<tr><td>13</td><td>d </td></tr>\n",
       "</tbody>\n",
       "</table>\n"
      ],
      "text/latex": [
       "\\begin{tabular}{r|ll}\n",
       " vec1 & vec2\\\\\n",
       "\\hline\n",
       "\t 10 & a \\\\\n",
       "\t 11 & b \\\\\n",
       "\t 12 & c \\\\\n",
       "\t 13 & d \\\\\n",
       "\\end{tabular}\n"
      ],
      "text/markdown": [
       "\n",
       "vec1 | vec2 | \n",
       "|---|---|---|---|\n",
       "| 10 | a  | \n",
       "| 11 | b  | \n",
       "| 12 | c  | \n",
       "| 13 | d  | \n",
       "\n",
       "\n"
      ],
      "text/plain": [
       "  vec1 vec2\n",
       "1 10   a   \n",
       "2 11   b   \n",
       "3 12   c   \n",
       "4 13   d   "
      ]
     },
     "metadata": {},
     "output_type": "display_data"
    }
   ],
   "source": [
    "# Exercicio 1 - Crie uma função que receba os dois vetores abaixo como parâmetro, \n",
    "# converta-os em um dataframe e imprima no console\n",
    "vec1 <- (10:13)\n",
    "vec2 <- c(\"a\", \"b\", \"c\", \"d\")\n",
    "to_df = function(...) {\n",
    "    df = data.frame(...)\n",
    "    df\n",
    "}\n",
    "\n",
    "to_df(vec1, vec2)"
   ]
  },
  {
   "cell_type": "code",
   "execution_count": 2,
   "metadata": {},
   "outputs": [
    {
     "data": {
      "text/html": [
       "<table>\n",
       "<tbody>\n",
       "\t<tr><td>1 </td><td>5 </td><td> 9</td><td>13</td></tr>\n",
       "\t<tr><td>2 </td><td>6 </td><td>10</td><td>14</td></tr>\n",
       "\t<tr><td>3 </td><td>7 </td><td>11</td><td>15</td></tr>\n",
       "\t<tr><td>4 </td><td>8 </td><td>12</td><td>16</td></tr>\n",
       "</tbody>\n",
       "</table>\n"
      ],
      "text/latex": [
       "\\begin{tabular}{llll}\n",
       "\t 1  & 5  &  9 & 13\\\\\n",
       "\t 2  & 6  & 10 & 14\\\\\n",
       "\t 3  & 7  & 11 & 15\\\\\n",
       "\t 4  & 8  & 12 & 16\\\\\n",
       "\\end{tabular}\n"
      ],
      "text/markdown": [
       "\n",
       "| 1  | 5  |  9 | 13 | \n",
       "| 2  | 6  | 10 | 14 | \n",
       "| 3  | 7  | 11 | 15 | \n",
       "| 4  | 8  | 12 | 16 | \n",
       "\n",
       "\n"
      ],
      "text/plain": [
       "     [,1] [,2] [,3] [,4]\n",
       "[1,] 1    5     9   13  \n",
       "[2,] 2    6    10   14  \n",
       "[3,] 3    7    11   15  \n",
       "[4,] 4    8    12   16  "
      ]
     },
     "metadata": {},
     "output_type": "display_data"
    },
    {
     "data": {
      "text/html": [
       "<ol class=list-inline>\n",
       "\t<li>7</li>\n",
       "\t<li>8</li>\n",
       "\t<li>9</li>\n",
       "\t<li>10</li>\n",
       "</ol>\n"
      ],
      "text/latex": [
       "\\begin{enumerate*}\n",
       "\\item 7\n",
       "\\item 8\n",
       "\\item 9\n",
       "\\item 10\n",
       "\\end{enumerate*}\n"
      ],
      "text/markdown": [
       "1. 7\n",
       "2. 8\n",
       "3. 9\n",
       "4. 10\n",
       "\n",
       "\n"
      ],
      "text/plain": [
       "[1]  7  8  9 10"
      ]
     },
     "metadata": {},
     "output_type": "display_data"
    }
   ],
   "source": [
    "# Exercicio 2 - Crie uma matriz com 4 linhas e 4 colunas preenchida com \n",
    "# números inteiros e calcule a média de cada linha\n",
    "M = matrix(1:16, nrow = 4)\n",
    "M\n",
    "apply(M, 1, mean)"
   ]
  },
  {
   "cell_type": "code",
   "execution_count": 3,
   "metadata": {},
   "outputs": [
    {
     "data": {
      "text/html": [
       "<dl class=dl-horizontal>\n",
       "\t<dt>Matematica</dt>\n",
       "\t\t<dd>79.5</dd>\n",
       "\t<dt>Geografia</dt>\n",
       "\t\t<dd>86.5</dd>\n",
       "\t<dt>Quimica</dt>\n",
       "\t\t<dd>83</dd>\n",
       "</dl>\n"
      ],
      "text/latex": [
       "\\begin{description*}\n",
       "\\item[Matematica] 79.5\n",
       "\\item[Geografia] 86.5\n",
       "\\item[Quimica] 83\n",
       "\\end{description*}\n"
      ],
      "text/markdown": [
       "Matematica\n",
       ":   79.5Geografia\n",
       ":   86.5Quimica\n",
       ":   83\n",
       "\n"
      ],
      "text/plain": [
       "Matematica  Geografia    Quimica \n",
       "      79.5       86.5       83.0 "
      ]
     },
     "metadata": {},
     "output_type": "display_data"
    },
    {
     "data": {
      "text/html": [
       "<strong>Matematica:</strong> 79.5"
      ],
      "text/latex": [
       "\\textbf{Matematica:} 79.5"
      ],
      "text/markdown": [
       "**Matematica:** 79.5"
      ],
      "text/plain": [
       "Matematica \n",
       "      79.5 "
      ]
     },
     "metadata": {},
     "output_type": "display_data"
    }
   ],
   "source": [
    "# Exercicio 3 - Considere o dataframe abaixo. \n",
    "# Calcule a média por disciplina e depois calcule a média de apenas uma disciplina\n",
    "escola <- data.frame(Aluno = c('Alan', 'Alice', 'Alana', 'Aline', 'Alex', 'Ajay'),\n",
    "                     Matematica = c(90, 80, 85, 87, 56, 79),\n",
    "                     Geografia = c(100, 78, 86, 90, 98, 67),\n",
    "                     Quimica = c(76, 56, 89, 90, 100, 87))\n",
    "\n",
    "colMeans(escola[,c(2,3,4)])\n",
    "colMeans(escola[2])"
   ]
  },
  {
   "cell_type": "code",
   "execution_count": 4,
   "metadata": {},
   "outputs": [
    {
     "data": {
      "text/html": [
       "<ol>\n",
       "\t<li>1</li>\n",
       "\t<li>2</li>\n",
       "\t<li>3</li>\n",
       "</ol>\n"
      ],
      "text/latex": [
       "\\begin{enumerate}\n",
       "\\item 1\n",
       "\\item 2\n",
       "\\item 3\n",
       "\\end{enumerate}\n"
      ],
      "text/markdown": [
       "1. 1\n",
       "2. 2\n",
       "3. 3\n",
       "\n",
       "\n"
      ],
      "text/plain": [
       "[[1]]\n",
       "[1] 1\n",
       "\n",
       "[[2]]\n",
       "[1] 2\n",
       "\n",
       "[[3]]\n",
       "[1] 3\n"
      ]
     },
     "metadata": {},
     "output_type": "display_data"
    },
    {
     "data": {
      "text/html": [
       "6"
      ],
      "text/latex": [
       "6"
      ],
      "text/markdown": [
       "6"
      ],
      "text/plain": [
       "[1] 6"
      ]
     },
     "metadata": {},
     "output_type": "display_data"
    }
   ],
   "source": [
    "# Exercicio 4 - Cria uma lista com 3 elementos, todos numéricos \n",
    "# e calcule a soma de todos os elementos da lista\n",
    "L = list(1,2,3)\n",
    "L\n",
    "do.call(sum, L)"
   ]
  },
  {
   "cell_type": "code",
   "execution_count": 5,
   "metadata": {},
   "outputs": [
    {
     "data": {
      "text/html": [
       "FALSE"
      ],
      "text/latex": [
       "FALSE"
      ],
      "text/markdown": [
       "FALSE"
      ],
      "text/plain": [
       "[1] FALSE"
      ]
     },
     "metadata": {},
     "output_type": "display_data"
    },
    {
     "data": {
      "text/html": [
       "TRUE"
      ],
      "text/latex": [
       "TRUE"
      ],
      "text/markdown": [
       "TRUE"
      ],
      "text/plain": [
       "[1] TRUE"
      ]
     },
     "metadata": {},
     "output_type": "display_data"
    }
   ],
   "source": [
    "# Exercicio 5 - Transforme a lista anterior um vetor\n",
    "V = unlist(L)\n",
    "is.list(V)\n",
    "is.vector(L)"
   ]
  },
  {
   "cell_type": "code",
   "execution_count": 6,
   "metadata": {},
   "outputs": [
    {
     "data": {
      "text/html": [
       "<dl class=dl-horizontal>\n",
       "\t<dt>1</dt>\n",
       "\t\t<dd>'Expressoes'</dd>\n",
       "\t<dt>2</dt>\n",
       "\t\t<dd>'regulares'</dd>\n",
       "\t<dt>3</dt>\n",
       "\t\t<dd>'em linguagem R'</dd>\n",
       "\t<dt>4</dt>\n",
       "\t\t<dd>'permitem a busca de padroes'</dd>\n",
       "\t<dt>5</dt>\n",
       "\t\t<dd>'e exploracao de textos'</dd>\n",
       "\t<dt>6</dt>\n",
       "\t\t<dd>'podemos buscar padroes em digitos'</dd>\n",
       "\t<dt>7</dt>\n",
       "\t\t<dd>'como por exemplo'</dd>\n",
       "\t<dt>8</dt>\n",
       "\t\t<dd>'10992451280'</dd>\n",
       "\t<dt>textos</dt>\n",
       "\t\t<dd>'frases'</dd>\n",
       "</dl>\n"
      ],
      "text/latex": [
       "\\begin{description*}\n",
       "\\item[1] 'Expressoes'\n",
       "\\item[2] 'regulares'\n",
       "\\item[3] 'em linguagem R'\n",
       "\\item[4] 'permitem a busca de padroes'\n",
       "\\item[5] 'e exploracao de textos'\n",
       "\\item[6] 'podemos buscar padroes em digitos'\n",
       "\\item[7] 'como por exemplo'\n",
       "\\item[8] '10992451280'\n",
       "\\item[textos] 'frases'\n",
       "\\end{description*}\n"
      ],
      "text/markdown": [
       "1\n",
       ":   'Expressoes'2\n",
       ":   'regulares'3\n",
       ":   'em linguagem R'4\n",
       ":   'permitem a busca de padroes'5\n",
       ":   'e exploracao de textos'6\n",
       ":   'podemos buscar padroes em digitos'7\n",
       ":   'como por exemplo'8\n",
       ":   '10992451280'textos\n",
       ":   'frases'\n",
       "\n"
      ],
      "text/plain": [
       "                                                                        \n",
       "                       \"Expressoes\"                         \"regulares\" \n",
       "                                                                        \n",
       "                   \"em linguagem R\"       \"permitem a busca de padroes\" \n",
       "                                                                        \n",
       "           \"e exploracao de textos\" \"podemos buscar padroes em digitos\" \n",
       "                                                                        \n",
       "                 \"como por exemplo\"                       \"10992451280\" \n",
       "                             textos \n",
       "                           \"frases\" "
      ]
     },
     "metadata": {},
     "output_type": "display_data"
    }
   ],
   "source": [
    "# Exercicio 6 - Considere a string abaixo. Substitua a palavra \"textos\" por \"frases\"\n",
    "str <- c(\"Expressoes\", \"regulares\", \"em linguagem R\", \n",
    "         \"permitem a busca de padroes\", \"e exploracao de textos\",\n",
    "         \"podemos buscar padroes em digitos\",\n",
    "         \"como por exemplo\",\n",
    "         \"10992451280\")\n",
    "\n",
    "replace(str, \"textos\", \"frases\")"
   ]
  },
  {
   "cell_type": "code",
   "execution_count": 7,
   "metadata": {},
   "outputs": [
    {
     "data": {
      "image/png": "[encoded data removed]",
      "text/plain": [
       "plot without title"
      ]
     },
     "metadata": {},
     "output_type": "display_data",
     "source": "R display func"
    }
   ],
   "source": [
    "# Exercicio 7 - Usando o dataset mtcars, crie um gráfico com ggplot do tipo \n",
    "# scatter plot. Use as colunas disp e mpg nos eixos x e y respectivamente\n",
    "library(ggplot2)\n",
    "\n",
    "plot(mtcars$disp, mtcars$mpg)"
   ]
  },
  {
   "cell_type": "code",
   "execution_count": 8,
   "metadata": {},
   "outputs": [
    {
     "data": {
      "text/html": [
       "<table>\n",
       "<tbody>\n",
       "\t<tr><td>652 </td><td>1537</td><td>598 </td><td>242 </td></tr>\n",
       "\t<tr><td> 36 </td><td>  46</td><td> 38 </td><td> 21 </td></tr>\n",
       "\t<tr><td>218 </td><td> 327</td><td>106 </td><td> 67 </td></tr>\n",
       "</tbody>\n",
       "</table>\n"
      ],
      "text/latex": [
       "\\begin{tabular}{llll}\n",
       "\t 652  & 1537 & 598  & 242 \\\\\n",
       "\t  36  &   46 &  38  &  21 \\\\\n",
       "\t 218  &  327 & 106  &  67 \\\\\n",
       "\\end{tabular}\n"
      ],
      "text/markdown": [
       "\n",
       "| 652  | 1537 | 598  | 242  | \n",
       "|  36  |   46 |  38  |  21  | \n",
       "| 218  |  327 | 106  |  67  | \n",
       "\n",
       "\n"
      ],
      "text/plain": [
       "     [,1] [,2] [,3] [,4]\n",
       "[1,] 652  1537 598  242 \n",
       "[2,]  36    46  38   21 \n",
       "[3,] 218   327 106   67 "
      ]
     },
     "metadata": {},
     "output_type": "display_data"
    },
    {
     "data": {
      "image/png": "[encoded data removed]",
      "text/plain": [
       "plot without title"
      ]
     },
     "metadata": {},
     "output_type": "display_data",
     "source": "R display func"
    }
   ],
   "source": [
    "# Exercicio 8 - Considere a matriz abaixo.\n",
    "# Crie um bar plot que represente os dados em barras individuais.\n",
    "mat1 <- matrix(c(652,1537,598,242,36,46,38,21,218,327,106,67), nrow = 3, byrow = T)\n",
    "mat1\n",
    "\n",
    "barplot(mat1, beside = T)"
   ]
  },
  {
   "cell_type": "code",
   "execution_count": 9,
   "metadata": {},
   "outputs": [
    {
     "data": {},
     "metadata": {},
     "output_type": "display_data"
    },
    {
     "data": {
      "image/png": "[encoded data removed]",
      "text/plain": [
       "plot without title"
      ]
     },
     "metadata": {},
     "output_type": "display_data",
     "source": "R display func"
    }
   ],
   "source": [
    "# Exercício 9 - Qual o erro do código abaixo?\n",
    "data(diamonds)\n",
    "ggplot(data = diamonds, aes(x = price, group = cut, fill = cut)) + \n",
    "  geom_density(adjust = 1.5)"
   ]
  },
  {
   "cell_type": "code",
   "execution_count": 10,
   "metadata": {},
   "outputs": [
    {
     "data": {},
     "metadata": {},
     "output_type": "display_data"
    },
    {
     "data": {
      "image/png": "[encoded data removed]",
      "text/plain": [
       "plot without title"
      ]
     },
     "metadata": {},
     "output_type": "display_data",
     "source": "R display func"
    }
   ],
   "source": [
    "# Exercício 10 - Qual o erro do código abaixo?\n",
    "ggplot(mtcars, aes(x = as.factor(cyl), fill = as.factor(cyl))) + \n",
    "geom_bar() + \n",
    "labs(fill = \"cyl\")"
   ]
  },
  {
   "cell_type": "code",
   "execution_count": null,
   "metadata": {},
   "outputs": [],
   "source": []
  }
 ],
 "metadata": {
  "kernelspec": {
   "display_name": "R",
   "language": "R",
   "name": "ir"
  },
  "language_info": {
   "codemirror_mode": "r",
   "file_extension": ".r",
   "mimetype": "text/x-r-source",
   "name": "R",
   "pygments_lexer": "r",
   "version": "3.5.1"
  }
 },
 "nbformat": 4,
 "nbformat_minor": 2
}
