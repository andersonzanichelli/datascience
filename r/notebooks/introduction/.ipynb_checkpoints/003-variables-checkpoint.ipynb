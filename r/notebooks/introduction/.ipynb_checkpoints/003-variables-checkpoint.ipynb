{
 "cells": [
  {
   "cell_type": "markdown",
   "metadata": {},
   "source": [
    "# Defining Variables"
   ]
  },
  {
   "cell_type": "code",
   "execution_count": 1,
   "metadata": {},
   "outputs": [
    {
     "data": {
      "text/html": [
       "100"
      ],
      "text/latex": [
       "100"
      ],
      "text/markdown": [
       "100"
      ],
      "text/plain": [
       "[1] 100"
      ]
     },
     "metadata": {},
     "output_type": "display_data"
    }
   ],
   "source": [
    "var1 = 100\n",
    "var1"
   ]
  },
  {
   "cell_type": "code",
   "execution_count": 2,
   "metadata": {},
   "outputs": [
    {
     "data": {
      "text/html": [
       "'numeric'"
      ],
      "text/latex": [
       "'numeric'"
      ],
      "text/markdown": [
       "'numeric'"
      ],
      "text/plain": [
       "[1] \"numeric\""
      ]
     },
     "metadata": {},
     "output_type": "display_data"
    }
   ],
   "source": [
    "mode(var1)"
   ]
  },
  {
   "cell_type": "code",
   "execution_count": 3,
   "metadata": {},
   "outputs": [
    {
     "data": {
      "text/html": [
       "\n",
       "<table width=\"100%\" summary=\"page for mode {base}\"><tr><td>mode {base}</td><td style=\"text-align: right;\">R Documentation</td></tr></table>\n",
       "\n",
       "<h2>The (Storage) Mode of an Object</h2>\n",
       "\n",
       "<h3>Description</h3>\n",
       "\n",
       "<p>Get or set the type or storage mode of an object.\n",
       "</p>\n",
       "\n",
       "\n",
       "<h3>Usage</h3>\n",
       "\n",
       "<pre>\n",
       "mode(x)\n",
       "mode(x) &lt;- value\n",
       "storage.mode(x)\n",
       "storage.mode(x) &lt;- value\n",
       "</pre>\n",
       "\n",
       "\n",
       "<h3>Arguments</h3>\n",
       "\n",
       "<table summary=\"R argblock\">\n",
       "<tr valign=\"top\"><td><code>x</code></td>\n",
       "<td>\n",
       "<p>any <span style=\"font-family: Courier New, Courier; color: #666666;\"><b>R</b></span> object.</p>\n",
       "</td></tr>\n",
       "<tr valign=\"top\"><td><code>value</code></td>\n",
       "<td>\n",
       "<p>a character string giving the desired mode or\n",
       "&lsquo;storage mode&rsquo; (type) of the object.</p>\n",
       "</td></tr>\n",
       "</table>\n",
       "\n",
       "\n",
       "<h3>Details</h3>\n",
       "\n",
       "<p>Both <code>mode</code> and <code>storage.mode</code> return a character string\n",
       "giving the (storage) mode of the object &mdash; often the same &mdash; both\n",
       "relying on the output of <code>typeof(x)</code>, see the example\n",
       "below.\n",
       "</p>\n",
       "<p><code>mode(x) &lt;- \"newmode\"</code> changes the <code>mode</code> of object <code>x</code> to\n",
       "<code>newmode</code>.  This is only supported if there is an appropriate\n",
       "<code>as.newmode</code> function, for example\n",
       "<code>\"logical\"</code>, <code>\"integer\"</code>, <code>\"double\"</code>, <code>\"complex\"</code>,\n",
       "<code>\"raw\"</code>, <code>\"character\"</code>, <code>\"list\"</code>, <code>\"expression\"</code>,\n",
       "<code>\"name\"</code>, <code>\"symbol\"</code> and <code>\"function\"</code>.  Attributes are\n",
       "preserved (but see below).\n",
       "</p>\n",
       "<p><code>storage.mode(x) &lt;- \"newmode\"</code> is a more efficient primitive\n",
       "version of <code>mode&lt;-</code>, which works for <code>\"newmode\"</code> which is\n",
       "one of the internal types (see <code>typeof</code>), but not for\n",
       "<code>\"single\"</code>.  Attributes are preserved.\n",
       "</p>\n",
       "<p>As storage mode <code>\"single\"</code> is only a pseudo-mode in <span style=\"font-family: Courier New, Courier; color: #666666;\"><b>R</b></span>, it will\n",
       "not be reported by <code>mode</code> or <code>storage.mode</code>: use\n",
       "<code>attr(object, \"Csingle\")</code> to examine this.  However,\n",
       "<code>mode&lt;-</code> can be used to set the mode to <code>\"single\"</code>,\n",
       "which sets the real mode to <code>\"double\"</code> and the <code>\"Csingle\"</code>\n",
       "attribute to <code>TRUE</code>.  Setting any other mode will remove this\n",
       "attribute.\n",
       "</p>\n",
       "<p>Note (in the examples below) that some <code>call</code>s have mode\n",
       "<code>\"(\"</code> which is S compatible.\n",
       "</p>\n",
       "\n",
       "\n",
       "<h3>Mode names</h3>\n",
       "\n",
       "<p>Modes have the same set of names as types (see <code>typeof</code>)\n",
       "except that\n",
       "</p>\n",
       "\n",
       "<ul>\n",
       "<li><p> types <code>\"integer\"</code> and <code>\"double\"</code> are\n",
       "returned as <code>\"numeric\"</code>.\n",
       "</p>\n",
       "</li>\n",
       "<li><p> types <code>\"special\"</code> and <code>\"builtin\"</code> are returned as\n",
       "<code>\"function\"</code>.\n",
       "</p>\n",
       "</li>\n",
       "<li><p> type <code>\"symbol\"</code> is called mode <code>\"name\"</code>.\n",
       "</p>\n",
       "</li>\n",
       "<li><p> type <code>\"language\"</code> is returned as <code>\"(\"</code> or <code>\"call\"</code>.\n",
       "</p>\n",
       "</li></ul>\n",
       "\n",
       "\n",
       "\n",
       "<h3>References</h3>\n",
       "\n",
       "<p>Becker, R. A., Chambers, J. M. and Wilks, A. R. (1988)\n",
       "<em>The New S Language</em>.\n",
       "Wadsworth &amp; Brooks/Cole.\n",
       "</p>\n",
       "\n",
       "\n",
       "<h3>See Also</h3>\n",
       "\n",
       "<p><code>typeof</code> for the R-internal &lsquo;mode&rsquo;,\n",
       "<code>type.convert</code>, <code>attributes</code>.\n",
       "</p>\n",
       "\n",
       "\n",
       "<h3>Examples</h3>\n",
       "\n",
       "<pre>\n",
       "require(stats)\n",
       "\n",
       "sapply(options(), mode)\n",
       "\n",
       "cex3 &lt;- c(\"NULL\", \"1\", \"1:1\", \"1i\", \"list(1)\", \"data.frame(x = 1)\",\n",
       "  \"pairlist(pi)\", \"c\", \"lm\", \"formals(lm)[[1]]\",  \"formals(lm)[[2]]\",\n",
       "  \"y ~ x\",\"expression((1))[[1]]\", \"(y ~ x)[[1]]\",\n",
       "  \"expression(x &lt;- pi)[[1]][[1]]\")\n",
       "lex3 &lt;- sapply(cex3, function(x) eval(parse(text = x)))\n",
       "mex3 &lt;- t(sapply(lex3,\n",
       "                 function(x) c(typeof(x), storage.mode(x), mode(x))))\n",
       "dimnames(mex3) &lt;- list(cex3, c(\"typeof(.)\",\"storage.mode(.)\",\"mode(.)\"))\n",
       "mex3\n",
       "\n",
       "## This also makes a local copy of 'pi':\n",
       "storage.mode(pi) &lt;- \"complex\"\n",
       "storage.mode(pi)\n",
       "rm(pi)\n",
       "</pre>\n",
       "\n",
       "<hr /><div style=\"text-align: center;\">[Package <em>base</em> version 3.5.1 ]</div>"
      ],
      "text/latex": [
       "\\inputencoding{utf8}\n",
       "\\HeaderA{mode}{The (Storage) Mode of an Object}{mode}\n",
       "\\aliasA{mode<\\Rdash{}}{mode}{mode<.Rdash.}\n",
       "\\aliasA{storage.mode}{mode}{storage.mode}\n",
       "\\aliasA{storage.mode<\\Rdash{}}{mode}{storage.mode<.Rdash.}\n",
       "\\keyword{attribute}{mode}\n",
       "%\n",
       "\\begin{Description}\\relax\n",
       "Get or set the type or storage mode of an object.\n",
       "\\end{Description}\n",
       "%\n",
       "\\begin{Usage}\n",
       "\\begin{verbatim}\n",
       "mode(x)\n",
       "mode(x) <- value\n",
       "storage.mode(x)\n",
       "storage.mode(x) <- value\n",
       "\\end{verbatim}\n",
       "\\end{Usage}\n",
       "%\n",
       "\\begin{Arguments}\n",
       "\\begin{ldescription}\n",
       "\\item[\\code{x}] any \\R{} object.\n",
       "\\item[\\code{value}] a character string giving the desired mode or\n",
       "`storage mode' (type) of the object.\n",
       "\\end{ldescription}\n",
       "\\end{Arguments}\n",
       "%\n",
       "\\begin{Details}\\relax\n",
       "Both \\code{mode} and \\code{storage.mode} return a character string\n",
       "giving the (storage) mode of the object --- often the same --- both\n",
       "relying on the output of \\code{\\LinkA{typeof}{typeof}(x)}, see the example\n",
       "below.\n",
       "\n",
       "\\code{mode(x) <- \"newmode\"} changes the \\code{mode} of object \\code{x} to\n",
       "\\code{newmode}.  This is only supported if there is an appropriate\n",
       "\\code{as.newmode} function, for example\n",
       "\\code{\"logical\"}, \\code{\"integer\"}, \\code{\"double\"}, \\code{\"complex\"},\n",
       "\\code{\"raw\"}, \\code{\"character\"}, \\code{\"list\"}, \\code{\"expression\"},\n",
       "\\code{\"name\"}, \\code{\"symbol\"} and \\code{\"function\"}.  Attributes are\n",
       "preserved (but see below).\n",
       "\n",
       "\\code{storage.mode(x) <- \"newmode\"} is a more efficient \\LinkA{primitive}{primitive}\n",
       "version of \\code{mode<-}, which works for \\code{\"newmode\"} which is\n",
       "one of the internal types (see \\code{\\LinkA{typeof}{typeof}}), but not for\n",
       "\\code{\"single\"}.  Attributes are preserved.\n",
       "\n",
       "As storage mode \\code{\"single\"} is only a pseudo-mode in \\R{}, it will\n",
       "not be reported by \\code{mode} or \\code{storage.mode}: use\n",
       "\\code{attr(object, \"Csingle\")} to examine this.  However,\n",
       "\\code{mode<-} can be used to set the mode to \\code{\"single\"},\n",
       "which sets the real mode to \\code{\"double\"} and the \\code{\"Csingle\"}\n",
       "attribute to \\code{TRUE}.  Setting any other mode will remove this\n",
       "attribute.\n",
       "\n",
       "Note (in the examples below) that some \\code{\\LinkA{call}{call}}s have mode\n",
       "\\code{\"(\"} which is S compatible.\n",
       "\\end{Details}\n",
       "%\n",
       "\\begin{Section}{Mode names}\n",
       "Modes have the same set of names as types (see \\code{\\LinkA{typeof}{typeof}})\n",
       "except that\n",
       "\\begin{itemize}\n",
       "\n",
       "\\item types \\code{\"integer\"} and \\code{\"double\"} are\n",
       "returned as \\code{\"numeric\"}.\n",
       "\\item types \\code{\"special\"} and \\code{\"builtin\"} are returned as\n",
       "\\code{\"function\"}.\n",
       "\\item type \\code{\"symbol\"} is called mode \\code{\"name\"}.\n",
       "\\item type \\code{\"language\"} is returned as \\code{\"(\"} or \\code{\"call\"}.\n",
       "\n",
       "\\end{itemize}\n",
       "\n",
       "\\end{Section}\n",
       "%\n",
       "\\begin{References}\\relax\n",
       "Becker, R. A., Chambers, J. M. and Wilks, A. R. (1988)\n",
       "\\emph{The New S Language}.\n",
       "Wadsworth \\& Brooks/Cole.\n",
       "\\end{References}\n",
       "%\n",
       "\\begin{SeeAlso}\\relax\n",
       "\\code{\\LinkA{typeof}{typeof}} for the R-internal `mode',\n",
       "\\code{\\LinkA{type.convert}{type.convert}}, \\code{\\LinkA{attributes}{attributes}}.\n",
       "\\end{SeeAlso}\n",
       "%\n",
       "\\begin{Examples}\n",
       "\\begin{ExampleCode}\n",
       "require(stats)\n",
       "\n",
       "sapply(options(), mode)\n",
       "\n",
       "cex3 <- c(\"NULL\", \"1\", \"1:1\", \"1i\", \"list(1)\", \"data.frame(x = 1)\",\n",
       "  \"pairlist(pi)\", \"c\", \"lm\", \"formals(lm)[[1]]\",  \"formals(lm)[[2]]\",\n",
       "  \"y ~ x\",\"expression((1))[[1]]\", \"(y ~ x)[[1]]\",\n",
       "  \"expression(x <- pi)[[1]][[1]]\")\n",
       "lex3 <- sapply(cex3, function(x) eval(parse(text = x)))\n",
       "mex3 <- t(sapply(lex3,\n",
       "                 function(x) c(typeof(x), storage.mode(x), mode(x))))\n",
       "dimnames(mex3) <- list(cex3, c(\"typeof(.)\",\"storage.mode(.)\",\"mode(.)\"))\n",
       "mex3\n",
       "\n",
       "## This also makes a local copy of 'pi':\n",
       "storage.mode(pi) <- \"complex\"\n",
       "storage.mode(pi)\n",
       "rm(pi)\n",
       "\\end{ExampleCode}\n",
       "\\end{Examples}"
      ],
      "text/plain": [
       "mode                   package:base                    R Documentation\n",
       "\n",
       "_\bT_\bh_\be (_\bS_\bt_\bo_\br_\ba_\bg_\be) _\bM_\bo_\bd_\be _\bo_\bf _\ba_\bn _\bO_\bb_\bj_\be_\bc_\bt\n",
       "\n",
       "_\bD_\be_\bs_\bc_\br_\bi_\bp_\bt_\bi_\bo_\bn:\n",
       "\n",
       "     Get or set the type or storage mode of an object.\n",
       "\n",
       "_\bU_\bs_\ba_\bg_\be:\n",
       "\n",
       "     mode(x)\n",
       "     mode(x) <- value\n",
       "     storage.mode(x)\n",
       "     storage.mode(x) <- value\n",
       "     \n",
       "_\bA_\br_\bg_\bu_\bm_\be_\bn_\bt_\bs:\n",
       "\n",
       "       x: any R object.\n",
       "\n",
       "   value: a character string giving the desired mode or ‘storage mode’\n",
       "          (type) of the object.\n",
       "\n",
       "_\bD_\be_\bt_\ba_\bi_\bl_\bs:\n",
       "\n",
       "     Both ‘mode’ and ‘storage.mode’ return a character string giving\n",
       "     the (storage) mode of the object - often the same - both relying\n",
       "     on the output of ‘typeof(x)’, see the example below.\n",
       "\n",
       "     ‘mode(x) <- \"newmode\"’ changes the ‘mode’ of object ‘x’ to\n",
       "     ‘newmode’.  This is only supported if there is an appropriate\n",
       "     ‘as.newmode’ function, for example ‘\"logical\"’, ‘\"integer\"’,\n",
       "     ‘\"double\"’, ‘\"complex\"’, ‘\"raw\"’, ‘\"character\"’, ‘\"list\"’,\n",
       "     ‘\"expression\"’, ‘\"name\"’, ‘\"symbol\"’ and ‘\"function\"’.  Attributes\n",
       "     are preserved (but see below).\n",
       "\n",
       "     ‘storage.mode(x) <- \"newmode\"’ is a more efficient primitive\n",
       "     version of ‘mode<-’, which works for ‘\"newmode\"’ which is one of\n",
       "     the internal types (see ‘typeof’), but not for ‘\"single\"’.\n",
       "     Attributes are preserved.\n",
       "\n",
       "     As storage mode ‘\"single\"’ is only a pseudo-mode in R, it will not\n",
       "     be reported by ‘mode’ or ‘storage.mode’: use ‘attr(object,\n",
       "     \"Csingle\")’ to examine this.  However, ‘mode<-’ can be used to set\n",
       "     the mode to ‘\"single\"’, which sets the real mode to ‘\"double\"’ and\n",
       "     the ‘\"Csingle\"’ attribute to ‘TRUE’.  Setting any other mode will\n",
       "     remove this attribute.\n",
       "\n",
       "     Note (in the examples below) that some ‘call’s have mode ‘\"(\"’\n",
       "     which is S compatible.\n",
       "\n",
       "_\bM_\bo_\bd_\be _\bn_\ba_\bm_\be_\bs:\n",
       "\n",
       "     Modes have the same set of names as types (see ‘typeof’) except\n",
       "     that\n",
       "\n",
       "        • types ‘\"integer\"’ and ‘\"double\"’ are returned as ‘\"numeric\"’.\n",
       "\n",
       "        • types ‘\"special\"’ and ‘\"builtin\"’ are returned as\n",
       "          ‘\"function\"’.\n",
       "\n",
       "        • type ‘\"symbol\"’ is called mode ‘\"name\"’.\n",
       "\n",
       "        • type ‘\"language\"’ is returned as ‘\"(\"’ or ‘\"call\"’.\n",
       "\n",
       "_\bR_\be_\bf_\be_\br_\be_\bn_\bc_\be_\bs:\n",
       "\n",
       "     Becker, R. A., Chambers, J. M. and Wilks, A. R. (1988) _The New S\n",
       "     Language_.  Wadsworth & Brooks/Cole.\n",
       "\n",
       "_\bS_\be_\be _\bA_\bl_\bs_\bo:\n",
       "\n",
       "     ‘typeof’ for the R-internal ‘mode’, ‘type.convert’, ‘attributes’.\n",
       "\n",
       "_\bE_\bx_\ba_\bm_\bp_\bl_\be_\bs:\n",
       "\n",
       "     require(stats)\n",
       "     \n",
       "     sapply(options(), mode)\n",
       "     \n",
       "     cex3 <- c(\"NULL\", \"1\", \"1:1\", \"1i\", \"list(1)\", \"data.frame(x = 1)\",\n",
       "       \"pairlist(pi)\", \"c\", \"lm\", \"formals(lm)[[1]]\",  \"formals(lm)[[2]]\",\n",
       "       \"y ~ x\",\"expression((1))[[1]]\", \"(y ~ x)[[1]]\",\n",
       "       \"expression(x <- pi)[[1]][[1]]\")\n",
       "     lex3 <- sapply(cex3, function(x) eval(parse(text = x)))\n",
       "     mex3 <- t(sapply(lex3,\n",
       "                      function(x) c(typeof(x), storage.mode(x), mode(x))))\n",
       "     dimnames(mex3) <- list(cex3, c(\"typeof(.)\",\"storage.mode(.)\",\"mode(.)\"))\n",
       "     mex3\n",
       "     \n",
       "     ## This also makes a local copy of 'pi':\n",
       "     storage.mode(pi) <- \"complex\"\n",
       "     storage.mode(pi)\n",
       "     rm(pi)\n",
       "     "
      ]
     },
     "metadata": {},
     "output_type": "display_data"
    }
   ],
   "source": [
    "?mode"
   ]
  },
  {
   "cell_type": "code",
   "execution_count": 4,
   "metadata": {},
   "outputs": [
    {
     "data": {
      "text/html": [
       "100"
      ],
      "text/latex": [
       "100"
      ],
      "text/markdown": [
       "100"
      ],
      "text/plain": [
       "[1] 100"
      ]
     },
     "metadata": {},
     "output_type": "display_data"
    }
   ],
   "source": [
    "var2 = var1\n",
    "var2"
   ]
  },
  {
   "cell_type": "code",
   "execution_count": 5,
   "metadata": {},
   "outputs": [
    {
     "data": {
      "text/html": [
       "'numeric'"
      ],
      "text/latex": [
       "'numeric'"
      ],
      "text/markdown": [
       "'numeric'"
      ],
      "text/plain": [
       "[1] \"numeric\""
      ]
     },
     "metadata": {},
     "output_type": "display_data"
    }
   ],
   "source": [
    "mode(var2)"
   ]
  },
  {
   "cell_type": "code",
   "execution_count": 6,
   "metadata": {},
   "outputs": [
    {
     "data": {
      "text/html": [
       "'double'"
      ],
      "text/latex": [
       "'double'"
      ],
      "text/markdown": [
       "'double'"
      ],
      "text/plain": [
       "[1] \"double\""
      ]
     },
     "metadata": {},
     "output_type": "display_data"
    }
   ],
   "source": [
    "typeof(var2)"
   ]
  },
  {
   "cell_type": "code",
   "execution_count": 7,
   "metadata": {},
   "outputs": [
    {
     "data": {
      "text/html": [
       "\n",
       "<table width=\"100%\" summary=\"page for typeof {base}\"><tr><td>typeof {base}</td><td style=\"text-align: right;\">R Documentation</td></tr></table>\n",
       "\n",
       "<h2>The Type of an Object</h2>\n",
       "\n",
       "<h3>Description</h3>\n",
       "\n",
       "<p><code>typeof</code> determines the (<span style=\"font-family: Courier New, Courier; color: #666666;\"><b>R</b></span> internal)\n",
       "type or storage mode of any object\n",
       "</p>\n",
       "\n",
       "\n",
       "<h3>Usage</h3>\n",
       "\n",
       "<pre>\n",
       "typeof(x)\n",
       "</pre>\n",
       "\n",
       "\n",
       "<h3>Arguments</h3>\n",
       "\n",
       "<table summary=\"R argblock\">\n",
       "<tr valign=\"top\"><td><code>x</code></td>\n",
       "<td>\n",
       "<p>any <span style=\"font-family: Courier New, Courier; color: #666666;\"><b>R</b></span> object.</p>\n",
       "</td></tr>\n",
       "</table>\n",
       "\n",
       "\n",
       "<h3>Value</h3>\n",
       "\n",
       "<p>A character string.  The possible values are listed in the structure\n",
       "<code>TypeTable</code> in &lsquo;<span class=\"file\">src/main/util.c</span>&rsquo;. Current values are\n",
       "the vector types <code>\"logical\"</code>, <code>\"integer\"</code>, <code>\"double\"</code>,\n",
       "<code>\"complex\"</code>, <code>\"character\"</code>, <code>\"raw\"</code> and <code>\"list\"</code>,\n",
       "<code>\"NULL\"</code>,\n",
       "<code>\"closure\"</code> (function), <code>\"special\"</code> and <code>\"builtin\"</code>\n",
       "(basic functions and operators), <code>\"environment\"</code>, <code>\"S4\"</code>\n",
       "(some S4 objects) and others that are unlikely to be seen at user\n",
       "level (<code>\"symbol\"</code>, <code>\"pairlist\"</code>, <code>\"promise\"</code>,\n",
       "<code>\"language\"</code>, <code>\"char\"</code>, <code>\"...\"</code>, <code>\"any\"</code>,\n",
       "<code>\"expression\"</code>, <code>\"externalptr\"</code>, <code>\"bytecode\"</code> and\n",
       "<code>\"weakref\"</code>).\n",
       "</p>\n",
       "\n",
       "\n",
       "<h3>See Also</h3>\n",
       "\n",
       "<p><code>mode</code>, <code>storage.mode</code>.\n",
       "</p>\n",
       "<p><code>isS4</code> to determine if an object has an S4 class.\n",
       "</p>\n",
       "\n",
       "\n",
       "<h3>Examples</h3>\n",
       "\n",
       "<pre>\n",
       "typeof(2)\n",
       "mode(2)\n",
       "</pre>\n",
       "\n",
       "<hr /><div style=\"text-align: center;\">[Package <em>base</em> version 3.5.1 ]</div>"
      ],
      "text/latex": [
       "\\inputencoding{utf8}\n",
       "\\HeaderA{typeof}{The Type of an Object}{typeof}\n",
       "\\aliasA{type}{typeof}{type}\n",
       "\\keyword{attribute}{typeof}\n",
       "%\n",
       "\\begin{Description}\\relax\n",
       "\\code{typeof} determines the (\\R{} internal)\n",
       "type or storage mode of any object\n",
       "\\end{Description}\n",
       "%\n",
       "\\begin{Usage}\n",
       "\\begin{verbatim}\n",
       "typeof(x)\n",
       "\\end{verbatim}\n",
       "\\end{Usage}\n",
       "%\n",
       "\\begin{Arguments}\n",
       "\\begin{ldescription}\n",
       "\\item[\\code{x}] any \\R{} object.\n",
       "\\end{ldescription}\n",
       "\\end{Arguments}\n",
       "%\n",
       "\\begin{Value}\n",
       "A character string.  The possible values are listed in the structure\n",
       "\\code{TypeTable} in \\file{src/main/util.c}. Current values are\n",
       "the vector types \\code{\"logical\"}, \\code{\"integer\"}, \\code{\"double\"},\n",
       "\\code{\"complex\"}, \\code{\"character\"}, \\code{\"raw\"} and \\code{\"list\"},\n",
       "\\code{\"NULL\"},\n",
       "\\code{\"closure\"} (function), \\code{\"special\"} and \\code{\"builtin\"}\n",
       "(basic functions and operators), \\code{\"environment\"}, \\code{\"S4\"}\n",
       "(some S4 objects) and others that are unlikely to be seen at user\n",
       "level (\\code{\"symbol\"}, \\code{\"pairlist\"}, \\code{\"promise\"},\n",
       "\\code{\"language\"}, \\code{\"char\"}, \\code{\"...\"}, \\code{\"any\"},\n",
       "\\code{\"expression\"}, \\code{\"externalptr\"}, \\code{\"bytecode\"} and\n",
       "\\code{\"weakref\"}).\n",
       "\\end{Value}\n",
       "%\n",
       "\\begin{SeeAlso}\\relax\n",
       "\\code{\\LinkA{mode}{mode}}, \\code{\\LinkA{storage.mode}{storage.mode}}.\n",
       "\n",
       "\\code{\\LinkA{isS4}{isS4}} to determine if an object has an S4 class.\n",
       "\\end{SeeAlso}\n",
       "%\n",
       "\\begin{Examples}\n",
       "\\begin{ExampleCode}\n",
       "typeof(2)\n",
       "mode(2)\n",
       "\\end{ExampleCode}\n",
       "\\end{Examples}"
      ],
      "text/plain": [
       "typeof                  package:base                   R Documentation\n",
       "\n",
       "_\bT_\bh_\be _\bT_\by_\bp_\be _\bo_\bf _\ba_\bn _\bO_\bb_\bj_\be_\bc_\bt\n",
       "\n",
       "_\bD_\be_\bs_\bc_\br_\bi_\bp_\bt_\bi_\bo_\bn:\n",
       "\n",
       "     ‘typeof’ determines the (R internal) type or storage mode of any\n",
       "     object\n",
       "\n",
       "_\bU_\bs_\ba_\bg_\be:\n",
       "\n",
       "     typeof(x)\n",
       "     \n",
       "_\bA_\br_\bg_\bu_\bm_\be_\bn_\bt_\bs:\n",
       "\n",
       "       x: any R object.\n",
       "\n",
       "_\bV_\ba_\bl_\bu_\be:\n",
       "\n",
       "     A character string.  The possible values are listed in the\n",
       "     structure ‘TypeTable’ in ‘src/main/util.c’. Current values are the\n",
       "     vector types ‘\"logical\"’, ‘\"integer\"’, ‘\"double\"’, ‘\"complex\"’,\n",
       "     ‘\"character\"’, ‘\"raw\"’ and ‘\"list\"’, ‘\"NULL\"’, ‘\"closure\"’\n",
       "     (function), ‘\"special\"’ and ‘\"builtin\"’ (basic functions and\n",
       "     operators), ‘\"environment\"’, ‘\"S4\"’ (some S4 objects) and others\n",
       "     that are unlikely to be seen at user level (‘\"symbol\"’,\n",
       "     ‘\"pairlist\"’, ‘\"promise\"’, ‘\"language\"’, ‘\"char\"’, ‘\"...\"’,\n",
       "     ‘\"any\"’, ‘\"expression\"’, ‘\"externalptr\"’, ‘\"bytecode\"’ and\n",
       "     ‘\"weakref\"’).\n",
       "\n",
       "_\bS_\be_\be _\bA_\bl_\bs_\bo:\n",
       "\n",
       "     ‘mode’, ‘storage.mode’.\n",
       "\n",
       "     ‘isS4’ to determine if an object has an S4 class.\n",
       "\n",
       "_\bE_\bx_\ba_\bm_\bp_\bl_\be_\bs:\n",
       "\n",
       "     typeof(2)\n",
       "     mode(2)\n",
       "     "
      ]
     },
     "metadata": {},
     "output_type": "display_data"
    }
   ],
   "source": [
    "?typeof"
   ]
  },
  {
   "cell_type": "code",
   "execution_count": 9,
   "metadata": {},
   "outputs": [
    {
     "data": {
      "text/html": [
       "<ol class=list-inline>\n",
       "\t<li>'first'</li>\n",
       "\t<li>'second'</li>\n",
       "\t<li>'third'</li>\n",
       "</ol>\n"
      ],
      "text/latex": [
       "\\begin{enumerate*}\n",
       "\\item 'first'\n",
       "\\item 'second'\n",
       "\\item 'third'\n",
       "\\end{enumerate*}\n"
      ],
      "text/markdown": [
       "1. 'first'\n",
       "2. 'second'\n",
       "3. 'third'\n",
       "\n",
       "\n"
      ],
      "text/plain": [
       "[1] \"first\"  \"second\" \"third\" "
      ]
     },
     "metadata": {},
     "output_type": "display_data"
    }
   ],
   "source": [
    "# Defining a vector\n",
    "var3 = c('first', 'second', 'third')\n",
    "var3"
   ]
  },
  {
   "cell_type": "code",
   "execution_count": 10,
   "metadata": {},
   "outputs": [
    {
     "data": {
      "text/html": [
       "'character'"
      ],
      "text/latex": [
       "'character'"
      ],
      "text/markdown": [
       "'character'"
      ],
      "text/plain": [
       "[1] \"character\""
      ]
     },
     "metadata": {},
     "output_type": "display_data"
    }
   ],
   "source": [
    "mode(var3)"
   ]
  },
  {
   "cell_type": "code",
   "execution_count": 11,
   "metadata": {},
   "outputs": [
    {
     "data": {
      "text/html": [
       "<pre class=language-r><code>function (x) \n",
       "{\n",
       "<span style=white-space:pre-wrap>    x + 3</span>\n",
       "}</code></pre>"
      ],
      "text/latex": [
       "\\begin{minted}{r}\n",
       "function (x) \n",
       "\\{\n",
       "    x + 3\n",
       "\\}\n",
       "\\end{minted}"
      ],
      "text/markdown": [
       "```r\n",
       "function (x) \n",
       "{\n",
       "    x + 3\n",
       "}\n",
       "```"
      ],
      "text/plain": [
       "function(x) {x + 3}"
      ]
     },
     "metadata": {},
     "output_type": "display_data"
    }
   ],
   "source": [
    "# High order functions\n",
    "var4 = function(x) {x + 3}\n",
    "var4"
   ]
  },
  {
   "cell_type": "code",
   "execution_count": 12,
   "metadata": {},
   "outputs": [
    {
     "data": {
      "text/html": [
       "'function'"
      ],
      "text/latex": [
       "'function'"
      ],
      "text/markdown": [
       "'function'"
      ],
      "text/plain": [
       "[1] \"function\""
      ]
     },
     "metadata": {},
     "output_type": "display_data"
    }
   ],
   "source": [
    "mode(var4)"
   ]
  },
  {
   "cell_type": "code",
   "execution_count": 14,
   "metadata": {},
   "outputs": [
    {
     "data": {
      "text/html": [
       "'100'"
      ],
      "text/latex": [
       "'100'"
      ],
      "text/markdown": [
       "'100'"
      ],
      "text/plain": [
       "[1] \"100\""
      ]
     },
     "metadata": {},
     "output_type": "display_data"
    }
   ],
   "source": [
    "var5 = as.character(var1)\n",
    "var5"
   ]
  },
  {
   "cell_type": "code",
   "execution_count": 15,
   "metadata": {},
   "outputs": [
    {
     "data": {
      "text/html": [
       "'character'"
      ],
      "text/latex": [
       "'character'"
      ],
      "text/markdown": [
       "'character'"
      ],
      "text/plain": [
       "[1] \"character\""
      ]
     },
     "metadata": {},
     "output_type": "display_data"
    }
   ],
   "source": [
    "mode(var5)"
   ]
  },
  {
   "cell_type": "code",
   "execution_count": 17,
   "metadata": {},
   "outputs": [
    {
     "data": {
      "text/html": [
       "<ol class=list-inline>\n",
       "\t<li>1</li>\n",
       "\t<li>2</li>\n",
       "\t<li>3</li>\n",
       "</ol>\n"
      ],
      "text/latex": [
       "\\begin{enumerate*}\n",
       "\\item 1\n",
       "\\item 2\n",
       "\\item 3\n",
       "\\end{enumerate*}\n"
      ],
      "text/markdown": [
       "1. 1\n",
       "2. 2\n",
       "3. 3\n",
       "\n",
       "\n"
      ],
      "text/plain": [
       "[1] 1 2 3"
      ]
     },
     "metadata": {},
     "output_type": "display_data"
    }
   ],
   "source": [
    "v <- c(1,2,3)\n",
    "v"
   ]
  },
  {
   "cell_type": "code",
   "execution_count": 19,
   "metadata": {},
   "outputs": [
    {
     "data": {
      "text/html": [
       "<ol class=list-inline>\n",
       "\t<li>1</li>\n",
       "\t<li>2</li>\n",
       "\t<li>3</li>\n",
       "</ol>\n"
      ],
      "text/latex": [
       "\\begin{enumerate*}\n",
       "\\item 1\n",
       "\\item 2\n",
       "\\item 3\n",
       "\\end{enumerate*}\n"
      ],
      "text/markdown": [
       "1. 1\n",
       "2. 2\n",
       "3. 3\n",
       "\n",
       "\n"
      ],
      "text/plain": [
       "[1] 1 2 3"
      ]
     },
     "metadata": {},
     "output_type": "display_data"
    }
   ],
   "source": [
    "c(1,2,3) -> z\n",
    "z"
   ]
  },
  {
   "cell_type": "code",
   "execution_count": 20,
   "metadata": {},
   "outputs": [
    {
     "data": {
      "text/html": [
       "<ol class=list-inline>\n",
       "\t<li>4</li>\n",
       "\t<li>5</li>\n",
       "\t<li>6</li>\n",
       "\t<li>7</li>\n",
       "</ol>\n"
      ],
      "text/latex": [
       "\\begin{enumerate*}\n",
       "\\item 4\n",
       "\\item 5\n",
       "\\item 6\n",
       "\\item 7\n",
       "\\end{enumerate*}\n"
      ],
      "text/markdown": [
       "1. 4\n",
       "2. 5\n",
       "3. 6\n",
       "4. 7\n",
       "\n",
       "\n"
      ],
      "text/plain": [
       "[1] 4 5 6 7"
      ]
     },
     "metadata": {},
     "output_type": "display_data"
    }
   ],
   "source": [
    "assign('k', c(4,5,6,7))\n",
    "k"
   ]
  },
  {
   "cell_type": "code",
   "execution_count": 21,
   "metadata": {},
   "outputs": [
    {
     "data": {
      "text/html": [
       "4"
      ],
      "text/latex": [
       "4"
      ],
      "text/markdown": [
       "4"
      ],
      "text/plain": [
       "[1] 4"
      ]
     },
     "metadata": {},
     "output_type": "display_data"
    }
   ],
   "source": [
    "k[1]"
   ]
  },
  {
   "cell_type": "code",
   "execution_count": 22,
   "metadata": {},
   "outputs": [
    {
     "data": {
      "text/html": [
       "<ol class=list-inline>\n",
       "\t<li>'k'</li>\n",
       "\t<li>'v'</li>\n",
       "\t<li>'var1'</li>\n",
       "\t<li>'var2'</li>\n",
       "\t<li>'var3'</li>\n",
       "\t<li>'var4'</li>\n",
       "\t<li>'var5'</li>\n",
       "\t<li>'z'</li>\n",
       "</ol>\n"
      ],
      "text/latex": [
       "\\begin{enumerate*}\n",
       "\\item 'k'\n",
       "\\item 'v'\n",
       "\\item 'var1'\n",
       "\\item 'var2'\n",
       "\\item 'var3'\n",
       "\\item 'var4'\n",
       "\\item 'var5'\n",
       "\\item 'z'\n",
       "\\end{enumerate*}\n"
      ],
      "text/markdown": [
       "1. 'k'\n",
       "2. 'v'\n",
       "3. 'var1'\n",
       "4. 'var2'\n",
       "5. 'var3'\n",
       "6. 'var4'\n",
       "7. 'var5'\n",
       "8. 'z'\n",
       "\n",
       "\n"
      ],
      "text/plain": [
       "[1] \"k\"    \"v\"    \"var1\" \"var2\" \"var3\" \"var4\" \"var5\" \"z\"   "
      ]
     },
     "metadata": {},
     "output_type": "display_data"
    }
   ],
   "source": [
    "ls()"
   ]
  },
  {
   "cell_type": "code",
   "execution_count": 23,
   "metadata": {},
   "outputs": [
    {
     "data": {
      "text/html": [
       "<ol class=list-inline>\n",
       "\t<li>'k'</li>\n",
       "\t<li>'v'</li>\n",
       "\t<li>'var1'</li>\n",
       "\t<li>'var2'</li>\n",
       "\t<li>'var3'</li>\n",
       "\t<li>'var4'</li>\n",
       "\t<li>'var5'</li>\n",
       "\t<li>'z'</li>\n",
       "</ol>\n"
      ],
      "text/latex": [
       "\\begin{enumerate*}\n",
       "\\item 'k'\n",
       "\\item 'v'\n",
       "\\item 'var1'\n",
       "\\item 'var2'\n",
       "\\item 'var3'\n",
       "\\item 'var4'\n",
       "\\item 'var5'\n",
       "\\item 'z'\n",
       "\\end{enumerate*}\n"
      ],
      "text/markdown": [
       "1. 'k'\n",
       "2. 'v'\n",
       "3. 'var1'\n",
       "4. 'var2'\n",
       "5. 'var3'\n",
       "6. 'var4'\n",
       "7. 'var5'\n",
       "8. 'z'\n",
       "\n",
       "\n"
      ],
      "text/plain": [
       "[1] \"k\"    \"v\"    \"var1\" \"var2\" \"var3\" \"var4\" \"var5\" \"z\"   "
      ]
     },
     "metadata": {},
     "output_type": "display_data"
    }
   ],
   "source": [
    "objects()"
   ]
  },
  {
   "cell_type": "code",
   "execution_count": 24,
   "metadata": {},
   "outputs": [
    {
     "ename": "ERROR",
     "evalue": "Error in eval(expr, envir, enclos): object 'z' not found\n",
     "execution_count": 24,
     "output_type": "error",
     "traceback": [
      "Error in eval(expr, envir, enclos): object 'z' not found\nTraceback:\n"
     ]
    }
   ],
   "source": [
    "rm(z)\n",
    "z"
   ]
  },
  {
   "cell_type": "code",
   "execution_count": 25,
   "metadata": {},
   "outputs": [
    {
     "data": {
      "text/html": [
       "<ol class=list-inline>\n",
       "\t<li>'k'</li>\n",
       "\t<li>'v'</li>\n",
       "\t<li>'var1'</li>\n",
       "\t<li>'var2'</li>\n",
       "\t<li>'var3'</li>\n",
       "\t<li>'var4'</li>\n",
       "\t<li>'var5'</li>\n",
       "</ol>\n"
      ],
      "text/latex": [
       "\\begin{enumerate*}\n",
       "\\item 'k'\n",
       "\\item 'v'\n",
       "\\item 'var1'\n",
       "\\item 'var2'\n",
       "\\item 'var3'\n",
       "\\item 'var4'\n",
       "\\item 'var5'\n",
       "\\end{enumerate*}\n"
      ],
      "text/markdown": [
       "1. 'k'\n",
       "2. 'v'\n",
       "3. 'var1'\n",
       "4. 'var2'\n",
       "5. 'var3'\n",
       "6. 'var4'\n",
       "7. 'var5'\n",
       "\n",
       "\n"
      ],
      "text/plain": [
       "[1] \"k\"    \"v\"    \"var1\" \"var2\" \"var3\" \"var4\" \"var5\""
      ]
     },
     "metadata": {},
     "output_type": "display_data"
    }
   ],
   "source": [
    "ls()"
   ]
  },
  {
   "cell_type": "code",
   "execution_count": null,
   "metadata": {},
   "outputs": [],
   "source": []
  }
 ],
 "metadata": {
  "kernelspec": {
   "display_name": "R",
   "language": "R",
   "name": "ir"
  },
  "language_info": {
   "codemirror_mode": "r",
   "file_extension": ".r",
   "mimetype": "text/x-r-source",
   "name": "R",
   "pygments_lexer": "r",
   "version": "3.5.1"
  }
 },
 "nbformat": 4,
 "nbformat_minor": 2
}
