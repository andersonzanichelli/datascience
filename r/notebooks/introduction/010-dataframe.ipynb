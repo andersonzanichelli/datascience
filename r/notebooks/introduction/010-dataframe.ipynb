{
 "cells": [
  {
   "cell_type": "markdown",
   "metadata": {},
   "source": [
    "# Dataframe"
   ]
  },
  {
   "cell_type": "code",
   "execution_count": 2,
   "metadata": {},
   "outputs": [
    {
     "data": {
      "text/html": [
       "'data.frame'"
      ],
      "text/latex": [
       "'data.frame'"
      ],
      "text/markdown": [
       "'data.frame'"
      ],
      "text/plain": [
       "[1] \"data.frame\""
      ]
     },
     "metadata": {},
     "output_type": "display_data"
    },
    {
     "data": {
      "text/html": [],
      "text/latex": [],
      "text/markdown": [],
      "text/plain": [
       "<0 x 0 matrix>"
      ]
     },
     "metadata": {},
     "output_type": "display_data"
    }
   ],
   "source": [
    "df <- data.frame()\n",
    "class(df)\n",
    "df"
   ]
  },
  {
   "cell_type": "code",
   "execution_count": 3,
   "metadata": {},
   "outputs": [],
   "source": [
    "name <- character()\n",
    "age <- numeric()\n",
    "item <- numeric()\n",
    "code <- integer()"
   ]
  },
  {
   "cell_type": "code",
   "execution_count": 4,
   "metadata": {},
   "outputs": [
    {
     "data": {
      "text/html": [
       "<table>\n",
       "<thead><tr><th scope=col>c.name..age..item..code.</th></tr></thead>\n",
       "<tbody>\n",
       "</tbody>\n",
       "</table>\n"
      ],
      "text/latex": [
       "\\begin{tabular}{r|l}\n",
       " c.name..age..item..code.\\\\\n",
       "\\hline\n",
       "\\end{tabular}\n"
      ],
      "text/markdown": [
       "\n",
       "c.name..age..item..code. | \n",
       "||\n",
       "\n",
       "\n"
      ],
      "text/plain": [
       "     c.name..age..item..code."
      ]
     },
     "metadata": {},
     "output_type": "display_data"
    }
   ],
   "source": [
    "df <- data.frame(c(name, age, item, code))\n",
    "df"
   ]
  },
  {
   "cell_type": "code",
   "execution_count": 7,
   "metadata": {},
   "outputs": [],
   "source": [
    "country <- c('Brazil', 'Portugal', 'England', 'Ireland', 'Egypt')\n",
    "name <- c('Tom', 'Gandalf', 'Aragorn', 'Frodo', 'Golum')\n",
    "height <- c(1.73, 1.80, 1.76, 1.10, 1.00)\n",
    "code <- c(5001, 2183,  4702, 7965, 8890)"
   ]
  },
  {
   "cell_type": "code",
   "execution_count": 8,
   "metadata": {},
   "outputs": [
    {
     "data": {
      "text/html": [
       "<table>\n",
       "<thead><tr><th scope=col>country</th><th scope=col>name</th><th scope=col>height</th><th scope=col>code</th></tr></thead>\n",
       "<tbody>\n",
       "\t<tr><td>Brazil  </td><td>Tom     </td><td>1.73    </td><td>5001    </td></tr>\n",
       "\t<tr><td>Portugal</td><td>Gandalf </td><td>1.80    </td><td>2183    </td></tr>\n",
       "\t<tr><td>England </td><td>Aragorn </td><td>1.76    </td><td>4702    </td></tr>\n",
       "\t<tr><td>Ireland </td><td>Frodo   </td><td>1.10    </td><td>7965    </td></tr>\n",
       "\t<tr><td>Egypt   </td><td>Golum   </td><td>1.00    </td><td>8890    </td></tr>\n",
       "</tbody>\n",
       "</table>\n"
      ],
      "text/latex": [
       "\\begin{tabular}{r|llll}\n",
       " country & name & height & code\\\\\n",
       "\\hline\n",
       "\t Brazil   & Tom      & 1.73     & 5001    \\\\\n",
       "\t Portugal & Gandalf  & 1.80     & 2183    \\\\\n",
       "\t England  & Aragorn  & 1.76     & 4702    \\\\\n",
       "\t Ireland  & Frodo    & 1.10     & 7965    \\\\\n",
       "\t Egypt    & Golum    & 1.00     & 8890    \\\\\n",
       "\\end{tabular}\n"
      ],
      "text/markdown": [
       "\n",
       "country | name | height | code | \n",
       "|---|---|---|---|---|\n",
       "| Brazil   | Tom      | 1.73     | 5001     | \n",
       "| Portugal | Gandalf  | 1.80     | 2183     | \n",
       "| England  | Aragorn  | 1.76     | 4702     | \n",
       "| Ireland  | Frodo    | 1.10     | 7965     | \n",
       "| Egypt    | Golum    | 1.00     | 8890     | \n",
       "\n",
       "\n"
      ],
      "text/plain": [
       "  country  name    height code\n",
       "1 Brazil   Tom     1.73   5001\n",
       "2 Portugal Gandalf 1.80   2183\n",
       "3 England  Aragorn 1.76   4702\n",
       "4 Ireland  Frodo   1.10   7965\n",
       "5 Egypt    Golum   1.00   8890"
      ]
     },
     "metadata": {},
     "output_type": "display_data"
    }
   ],
   "source": [
    "research <- data.frame(country, name, height, code)\n",
    "research"
   ]
  },
  {
   "cell_type": "code",
   "execution_count": 9,
   "metadata": {},
   "outputs": [
    {
     "data": {
      "text/html": [
       "<ol class=list-inline>\n",
       "\t<li>'green'</li>\n",
       "\t<li>'blue'</li>\n",
       "\t<li>'brown'</li>\n",
       "\t<li>'brown'</li>\n",
       "\t<li>'black'</li>\n",
       "</ol>\n"
      ],
      "text/latex": [
       "\\begin{enumerate*}\n",
       "\\item 'green'\n",
       "\\item 'blue'\n",
       "\\item 'brown'\n",
       "\\item 'brown'\n",
       "\\item 'black'\n",
       "\\end{enumerate*}\n"
      ],
      "text/markdown": [
       "1. 'green'\n",
       "2. 'blue'\n",
       "3. 'brown'\n",
       "4. 'brown'\n",
       "5. 'black'\n",
       "\n",
       "\n"
      ],
      "text/plain": [
       "[1] \"green\" \"blue\"  \"brown\" \"brown\" \"black\""
      ]
     },
     "metadata": {},
     "output_type": "display_data"
    }
   ],
   "source": [
    "eyes <- c('green', 'blue', 'brown', 'brown', 'black')\n",
    "eyes"
   ]
  },
  {
   "cell_type": "code",
   "execution_count": 10,
   "metadata": {},
   "outputs": [
    {
     "data": {
      "text/html": [
       "<table>\n",
       "<thead><tr><th scope=col>country</th><th scope=col>name</th><th scope=col>height</th><th scope=col>code</th><th scope=col>eyes</th></tr></thead>\n",
       "<tbody>\n",
       "\t<tr><td>Brazil  </td><td>Tom     </td><td>1.73    </td><td>5001    </td><td>green   </td></tr>\n",
       "\t<tr><td>Portugal</td><td>Gandalf </td><td>1.80    </td><td>2183    </td><td>blue    </td></tr>\n",
       "\t<tr><td>England </td><td>Aragorn </td><td>1.76    </td><td>4702    </td><td>brown   </td></tr>\n",
       "\t<tr><td>Ireland </td><td>Frodo   </td><td>1.10    </td><td>7965    </td><td>brown   </td></tr>\n",
       "\t<tr><td>Egypt   </td><td>Golum   </td><td>1.00    </td><td>8890    </td><td>black   </td></tr>\n",
       "</tbody>\n",
       "</table>\n"
      ],
      "text/latex": [
       "\\begin{tabular}{r|lllll}\n",
       " country & name & height & code & eyes\\\\\n",
       "\\hline\n",
       "\t Brazil   & Tom      & 1.73     & 5001     & green   \\\\\n",
       "\t Portugal & Gandalf  & 1.80     & 2183     & blue    \\\\\n",
       "\t England  & Aragorn  & 1.76     & 4702     & brown   \\\\\n",
       "\t Ireland  & Frodo    & 1.10     & 7965     & brown   \\\\\n",
       "\t Egypt    & Golum    & 1.00     & 8890     & black   \\\\\n",
       "\\end{tabular}\n"
      ],
      "text/markdown": [
       "\n",
       "country | name | height | code | eyes | \n",
       "|---|---|---|---|---|\n",
       "| Brazil   | Tom      | 1.73     | 5001     | green    | \n",
       "| Portugal | Gandalf  | 1.80     | 2183     | blue     | \n",
       "| England  | Aragorn  | 1.76     | 4702     | brown    | \n",
       "| Ireland  | Frodo    | 1.10     | 7965     | brown    | \n",
       "| Egypt    | Golum    | 1.00     | 8890     | black    | \n",
       "\n",
       "\n"
      ],
      "text/plain": [
       "  country  name    height code eyes \n",
       "1 Brazil   Tom     1.73   5001 green\n",
       "2 Portugal Gandalf 1.80   2183 blue \n",
       "3 England  Aragorn 1.76   4702 brown\n",
       "4 Ireland  Frodo   1.10   7965 brown\n",
       "5 Egypt    Golum   1.00   8890 black"
      ]
     },
     "metadata": {},
     "output_type": "display_data"
    }
   ],
   "source": [
    "research <- cbind(research, eyes)\n",
    "research"
   ]
  },
  {
   "cell_type": "code",
   "execution_count": 11,
   "metadata": {},
   "outputs": [
    {
     "name": "stdout",
     "output_type": "stream",
     "text": [
      "'data.frame':\t5 obs. of  5 variables:\n",
      " $ country: Factor w/ 5 levels \"Brazil\",\"Egypt\",..: 1 5 3 4 2\n",
      " $ name   : Factor w/ 5 levels \"Aragorn\",\"Frodo\",..: 5 3 1 2 4\n",
      " $ height : num  1.73 1.8 1.76 1.1 1\n",
      " $ code   : num  5001 2183 4702 7965 8890\n",
      " $ eyes   : Factor w/ 4 levels \"black\",\"blue\",..: 4 2 3 3 1\n"
     ]
    }
   ],
   "source": [
    "str(research)"
   ]
  },
  {
   "cell_type": "code",
   "execution_count": 12,
   "metadata": {},
   "outputs": [
    {
     "data": {
      "text/html": [
       "<ol class=list-inline>\n",
       "\t<li>5</li>\n",
       "\t<li>5</li>\n",
       "</ol>\n"
      ],
      "text/latex": [
       "\\begin{enumerate*}\n",
       "\\item 5\n",
       "\\item 5\n",
       "\\end{enumerate*}\n"
      ],
      "text/markdown": [
       "1. 5\n",
       "2. 5\n",
       "\n",
       "\n"
      ],
      "text/plain": [
       "[1] 5 5"
      ]
     },
     "metadata": {},
     "output_type": "display_data"
    }
   ],
   "source": [
    "dim(research)"
   ]
  },
  {
   "cell_type": "code",
   "execution_count": 13,
   "metadata": {},
   "outputs": [
    {
     "data": {
      "text/html": [
       "5"
      ],
      "text/latex": [
       "5"
      ],
      "text/markdown": [
       "5"
      ],
      "text/plain": [
       "[1] 5"
      ]
     },
     "metadata": {},
     "output_type": "display_data"
    }
   ],
   "source": [
    "length(research)"
   ]
  },
  {
   "cell_type": "code",
   "execution_count": 14,
   "metadata": {},
   "outputs": [
    {
     "data": {
      "text/html": [
       "<ol class=list-inline>\n",
       "\t<li>Tom</li>\n",
       "\t<li>Gandalf</li>\n",
       "\t<li>Aragorn</li>\n",
       "\t<li>Frodo</li>\n",
       "\t<li>Golum</li>\n",
       "</ol>\n"
      ],
      "text/latex": [
       "\\begin{enumerate*}\n",
       "\\item Tom\n",
       "\\item Gandalf\n",
       "\\item Aragorn\n",
       "\\item Frodo\n",
       "\\item Golum\n",
       "\\end{enumerate*}\n"
      ],
      "text/markdown": [
       "1. Tom\n",
       "2. Gandalf\n",
       "3. Aragorn\n",
       "4. Frodo\n",
       "5. Golum\n",
       "\n",
       "\n"
      ],
      "text/plain": [
       "[1] Tom     Gandalf Aragorn Frodo   Golum  \n",
       "Levels: Aragorn Frodo Gandalf Golum Tom"
      ]
     },
     "metadata": {},
     "output_type": "display_data"
    }
   ],
   "source": [
    "research$name"
   ]
  },
  {
   "cell_type": "code",
   "execution_count": 15,
   "metadata": {},
   "outputs": [
    {
     "data": {
      "text/html": [
       "Tom"
      ],
      "text/latex": [
       "Tom"
      ],
      "text/markdown": [
       "Tom"
      ],
      "text/plain": [
       "[1] Tom\n",
       "Levels: Aragorn Frodo Gandalf Golum Tom"
      ]
     },
     "metadata": {},
     "output_type": "display_data"
    }
   ],
   "source": [
    "research[1,2]"
   ]
  },
  {
   "cell_type": "code",
   "execution_count": 17,
   "metadata": {},
   "outputs": [
    {
     "data": {
      "text/html": [
       "black"
      ],
      "text/latex": [
       "black"
      ],
      "text/markdown": [
       "black"
      ],
      "text/plain": [
       "[1] black\n",
       "Levels: black blue brown green"
      ]
     },
     "metadata": {},
     "output_type": "display_data"
    }
   ],
   "source": [
    "research[5, 5]"
   ]
  },
  {
   "cell_type": "code",
   "execution_count": 18,
   "metadata": {},
   "outputs": [
    {
     "data": {
      "text/html": [
       "<table>\n",
       "<thead><tr><th scope=col>country</th><th scope=col>name</th><th scope=col>height</th><th scope=col>code</th><th scope=col>eyes</th></tr></thead>\n",
       "<tbody>\n",
       "\t<tr><td>Brazil  </td><td>Tom     </td><td>1.73    </td><td>5001    </td><td>green   </td></tr>\n",
       "\t<tr><td>Portugal</td><td>Gandalf </td><td>1.80    </td><td>2183    </td><td>blue    </td></tr>\n",
       "</tbody>\n",
       "</table>\n"
      ],
      "text/latex": [
       "\\begin{tabular}{r|lllll}\n",
       " country & name & height & code & eyes\\\\\n",
       "\\hline\n",
       "\t Brazil   & Tom      & 1.73     & 5001     & green   \\\\\n",
       "\t Portugal & Gandalf  & 1.80     & 2183     & blue    \\\\\n",
       "\\end{tabular}\n"
      ],
      "text/markdown": [
       "\n",
       "country | name | height | code | eyes | \n",
       "|---|---|\n",
       "| Brazil   | Tom      | 1.73     | 5001     | green    | \n",
       "| Portugal | Gandalf  | 1.80     | 2183     | blue     | \n",
       "\n",
       "\n"
      ],
      "text/plain": [
       "  country  name    height code eyes \n",
       "1 Brazil   Tom     1.73   5001 green\n",
       "2 Portugal Gandalf 1.80   2183 blue "
      ]
     },
     "metadata": {},
     "output_type": "display_data"
    }
   ],
   "source": [
    "head(research, 2)"
   ]
  },
  {
   "cell_type": "code",
   "execution_count": 20,
   "metadata": {},
   "outputs": [
    {
     "data": {
      "text/html": [
       "<table>\n",
       "<thead><tr><th></th><th scope=col>country</th><th scope=col>name</th><th scope=col>height</th><th scope=col>code</th><th scope=col>eyes</th></tr></thead>\n",
       "<tbody>\n",
       "\t<tr><th scope=row>4</th><td>Ireland</td><td>Frodo  </td><td>1.1    </td><td>7965   </td><td>brown  </td></tr>\n",
       "\t<tr><th scope=row>5</th><td>Egypt  </td><td>Golum  </td><td>1.0    </td><td>8890   </td><td>black  </td></tr>\n",
       "</tbody>\n",
       "</table>\n"
      ],
      "text/latex": [
       "\\begin{tabular}{r|lllll}\n",
       "  & country & name & height & code & eyes\\\\\n",
       "\\hline\n",
       "\t4 & Ireland & Frodo   & 1.1     & 7965    & brown  \\\\\n",
       "\t5 & Egypt   & Golum   & 1.0     & 8890    & black  \\\\\n",
       "\\end{tabular}\n"
      ],
      "text/markdown": [
       "\n",
       "| <!--/--> | country | name | height | code | eyes | \n",
       "|---|---|\n",
       "| 4 | Ireland | Frodo   | 1.1     | 7965    | brown   | \n",
       "| 5 | Egypt   | Golum   | 1.0     | 8890    | black   | \n",
       "\n",
       "\n"
      ],
      "text/plain": [
       "  country name  height code eyes \n",
       "4 Ireland Frodo 1.1    7965 brown\n",
       "5 Egypt   Golum 1.0    8890 black"
      ]
     },
     "metadata": {},
     "output_type": "display_data"
    }
   ],
   "source": [
    "tail(research, 2)"
   ]
  },
  {
   "cell_type": "code",
   "execution_count": 21,
   "metadata": {},
   "outputs": [
    {
     "ename": "ERROR",
     "evalue": "Error in View(research): ‘View()’ not yet supported in the Jupyter R kernel\n",
     "execution_count": 21,
     "output_type": "error",
     "traceback": [
      "Error in View(research): ‘View()’ not yet supported in the Jupyter R kernel\nTraceback:\n",
      "1. View(research)",
      "2. stop(sQuote(\"View()\"), \" not yet supported in the Jupyter R kernel\")"
     ]
    }
   ],
   "source": [
    "View(research)"
   ]
  },
  {
   "cell_type": "code",
   "execution_count": 23,
   "metadata": {},
   "outputs": [
    {
     "data": {
      "text/html": [
       "<table>\n",
       "<thead><tr><th></th><th scope=col>country</th><th scope=col>name</th><th scope=col>height</th><th scope=col>code</th><th scope=col>eyes</th></tr></thead>\n",
       "<tbody>\n",
       "\t<tr><th scope=row>4</th><td>Ireland</td><td>Frodo  </td><td>1.1    </td><td>7965   </td><td>brown  </td></tr>\n",
       "\t<tr><th scope=row>5</th><td>Egypt  </td><td>Golum  </td><td>1.0    </td><td>8890   </td><td>black  </td></tr>\n",
       "</tbody>\n",
       "</table>\n"
      ],
      "text/latex": [
       "\\begin{tabular}{r|lllll}\n",
       "  & country & name & height & code & eyes\\\\\n",
       "\\hline\n",
       "\t4 & Ireland & Frodo   & 1.1     & 7965    & brown  \\\\\n",
       "\t5 & Egypt   & Golum   & 1.0     & 8890    & black  \\\\\n",
       "\\end{tabular}\n"
      ],
      "text/markdown": [
       "\n",
       "| <!--/--> | country | name | height | code | eyes | \n",
       "|---|---|\n",
       "| 4 | Ireland | Frodo   | 1.1     | 7965    | brown   | \n",
       "| 5 | Egypt   | Golum   | 1.0     | 8890    | black   | \n",
       "\n",
       "\n"
      ],
      "text/plain": [
       "  country name  height code eyes \n",
       "4 Ireland Frodo 1.1    7965 brown\n",
       "5 Egypt   Golum 1.0    8890 black"
      ]
     },
     "metadata": {},
     "output_type": "display_data"
    }
   ],
   "source": [
    "research[height < 1.6,]"
   ]
  },
  {
   "cell_type": "code",
   "execution_count": 24,
   "metadata": {},
   "outputs": [
    {
     "data": {
      "text/html": [
       "<table>\n",
       "<thead><tr><th></th><th scope=col>name</th><th scope=col>country</th></tr></thead>\n",
       "<tbody>\n",
       "\t<tr><th scope=row>4</th><td>Frodo  </td><td>Ireland</td></tr>\n",
       "\t<tr><th scope=row>5</th><td>Golum  </td><td>Egypt  </td></tr>\n",
       "</tbody>\n",
       "</table>\n"
      ],
      "text/latex": [
       "\\begin{tabular}{r|ll}\n",
       "  & name & country\\\\\n",
       "\\hline\n",
       "\t4 & Frodo   & Ireland\\\\\n",
       "\t5 & Golum   & Egypt  \\\\\n",
       "\\end{tabular}\n"
      ],
      "text/markdown": [
       "\n",
       "| <!--/--> | name | country | \n",
       "|---|---|\n",
       "| 4 | Frodo   | Ireland | \n",
       "| 5 | Golum   | Egypt   | \n",
       "\n",
       "\n"
      ],
      "text/plain": [
       "  name  country\n",
       "4 Frodo Ireland\n",
       "5 Golum Egypt  "
      ]
     },
     "metadata": {},
     "output_type": "display_data"
    }
   ],
   "source": [
    "research[height < 1.6, c('name', 'country')]"
   ]
  },
  {
   "cell_type": "code",
   "execution_count": 25,
   "metadata": {},
   "outputs": [
    {
     "data": {
      "text/plain": [
       "     country       name       height           code         eyes  \n",
       " Brazil  :1   Aragorn:1   Min.   :1.000   Min.   :2183   black:1  \n",
       " Egypt   :1   Frodo  :1   1st Qu.:1.100   1st Qu.:4702   blue :1  \n",
       " England :1   Gandalf:1   Median :1.730   Median :5001   brown:2  \n",
       " Ireland :1   Golum  :1   Mean   :1.478   Mean   :5748   green:1  \n",
       " Portugal:1   Tom    :1   3rd Qu.:1.760   3rd Qu.:7965            \n",
       "                          Max.   :1.800   Max.   :8890            "
      ]
     },
     "metadata": {},
     "output_type": "display_data"
    }
   ],
   "source": [
    "summary(research)"
   ]
  },
  {
   "cell_type": "code",
   "execution_count": 27,
   "metadata": {},
   "outputs": [
    {
     "data": {
      "image/png": "[encoded data removed]",
      "text/plain": [
       "Plot with title “Histogram of research$height”"
      ]
     },
     "metadata": {},
     "output_type": "display_data",
     "source": "R display func"
    }
   ],
   "source": [
    "hist(research$height)"
   ]
  },
  {
   "cell_type": "code",
   "execution_count": null,
   "metadata": {},
   "outputs": [],
   "source": []
  }
 ],
 "metadata": {
  "kernelspec": {
   "display_name": "R",
   "language": "R",
   "name": "ir"
  },
  "language_info": {
   "codemirror_mode": "r",
   "file_extension": ".r",
   "mimetype": "text/x-r-source",
   "name": "R",
   "pygments_lexer": "r",
   "version": "3.4.3"
  }
 },
 "nbformat": 4,
 "nbformat_minor": 2
}
