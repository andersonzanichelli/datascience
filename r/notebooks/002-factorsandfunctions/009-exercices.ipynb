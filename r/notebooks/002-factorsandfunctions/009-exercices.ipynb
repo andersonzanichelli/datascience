{
 "cells": [
  {
   "cell_type": "markdown",
   "metadata": {},
   "source": [
    "# Exercices"
   ]
  },
  {
   "cell_type": "code",
   "execution_count": 2,
   "metadata": {},
   "outputs": [
    {
     "data": {
      "text/html": [
       "<ol class=list-inline>\n",
       "\t<li>'000-bigdata-byexample.ipynb'</li>\n",
       "\t<li>'001-factor.ipynb'</li>\n",
       "\t<li>'002-controlstructures.ipynb'</li>\n",
       "\t<li>'003-functions.ipynb'</li>\n",
       "\t<li>'004-applyfamily.ipynb'</li>\n",
       "\t<li>'005-unlistdocall.ipynb'</li>\n",
       "\t<li>'006-regex.ipynb'</li>\n",
       "\t<li>'007-dates.ipynb'</li>\n",
       "\t<li>'008-assignmentoperator.ipynb'</li>\n",
       "\t<li>'009-exercices.ipynb'</li>\n",
       "</ol>\n"
      ],
      "text/latex": [
       "\\begin{enumerate*}\n",
       "\\item '000-bigdata-byexample.ipynb'\n",
       "\\item '001-factor.ipynb'\n",
       "\\item '002-controlstructures.ipynb'\n",
       "\\item '003-functions.ipynb'\n",
       "\\item '004-applyfamily.ipynb'\n",
       "\\item '005-unlistdocall.ipynb'\n",
       "\\item '006-regex.ipynb'\n",
       "\\item '007-dates.ipynb'\n",
       "\\item '008-assignmentoperator.ipynb'\n",
       "\\item '009-exercices.ipynb'\n",
       "\\end{enumerate*}\n"
      ],
      "text/markdown": [
       "1. '000-bigdata-byexample.ipynb'\n",
       "2. '001-factor.ipynb'\n",
       "3. '002-controlstructures.ipynb'\n",
       "4. '003-functions.ipynb'\n",
       "5. '004-applyfamily.ipynb'\n",
       "6. '005-unlistdocall.ipynb'\n",
       "7. '006-regex.ipynb'\n",
       "8. '007-dates.ipynb'\n",
       "9. '008-assignmentoperator.ipynb'\n",
       "10. '009-exercices.ipynb'\n",
       "\n",
       "\n"
      ],
      "text/plain": [
       " [1] \"000-bigdata-byexample.ipynb\"  \"001-factor.ipynb\"            \n",
       " [3] \"002-controlstructures.ipynb\"  \"003-functions.ipynb\"         \n",
       " [5] \"004-applyfamily.ipynb\"        \"005-unlistdocall.ipynb\"      \n",
       " [7] \"006-regex.ipynb\"              \"007-dates.ipynb\"             \n",
       " [9] \"008-assignmentoperator.ipynb\" \"009-exercices.ipynb\"         "
      ]
     },
     "metadata": {},
     "output_type": "display_data"
    }
   ],
   "source": [
    "# Exercício 1 - Pesquise pela função que permite listar todos os arquivo no diretório de trabalho\n",
    "list.files(\".\")"
   ]
  },
  {
   "cell_type": "code",
   "execution_count": 4,
   "metadata": {},
   "outputs": [
    {
     "data": {
      "text/html": [
       "<table>\n",
       "<thead><tr><th scope=col>vec_char</th><th scope=col>vec_log</th><th scope=col>vec_num</th></tr></thead>\n",
       "<tbody>\n",
       "\t<tr><td>a    </td><td> TRUE</td><td>1    </td></tr>\n",
       "\t<tr><td>b    </td><td>FALSE</td><td>2    </td></tr>\n",
       "\t<tr><td>c    </td><td> TRUE</td><td>3    </td></tr>\n",
       "\t<tr><td>d    </td><td> TRUE</td><td>4    </td></tr>\n",
       "</tbody>\n",
       "</table>\n"
      ],
      "text/latex": [
       "\\begin{tabular}{r|lll}\n",
       " vec\\_char & vec\\_log & vec\\_num\\\\\n",
       "\\hline\n",
       "\t a     &  TRUE & 1    \\\\\n",
       "\t b     & FALSE & 2    \\\\\n",
       "\t c     &  TRUE & 3    \\\\\n",
       "\t d     &  TRUE & 4    \\\\\n",
       "\\end{tabular}\n"
      ],
      "text/markdown": [
       "\n",
       "vec_char | vec_log | vec_num | \n",
       "|---|---|---|---|\n",
       "| a     |  TRUE | 1     | \n",
       "| b     | FALSE | 2     | \n",
       "| c     |  TRUE | 3     | \n",
       "| d     |  TRUE | 4     | \n",
       "\n",
       "\n"
      ],
      "text/plain": [
       "  vec_char vec_log vec_num\n",
       "1 a         TRUE   1      \n",
       "2 b        FALSE   2      \n",
       "3 c         TRUE   3      \n",
       "4 d         TRUE   4      "
      ]
     },
     "metadata": {},
     "output_type": "display_data"
    }
   ],
   "source": [
    "# Exercício 2 - Crie um dataframe a partir de 3 vetores: um de caracteres, um lógico e um de números\n",
    "vec_char = c('a', 'b', 'c', 'd')\n",
    "vec_log = c(T, F, T, T)\n",
    "vec_num = c(1:4)\n",
    "df = data.frame(vec_char, vec_log, vec_num)\n",
    "df"
   ]
  },
  {
   "cell_type": "code",
   "execution_count": 20,
   "metadata": {},
   "outputs": [
    {
     "name": "stdout",
     "output_type": "stream",
     "text": [
      "[1] 12\n",
      "[1] \"This number is greater than 10\"\n",
      "[1] 19\n",
      "[1] \"This number is greater than 10\"\n",
      "[1] 34\n",
      "[1] \"This number is greater than 10\"\n"
     ]
    }
   ],
   "source": [
    "# Exercício 3 - Considere o vetor abaixo. \n",
    "# Crie um loop que verifique se há números maiores que 10 e imprima o número e uma mensagem no console.\n",
    "# Criando um Vetor\n",
    "vec1 <- c(12, 3, 4, 19, 34)\n",
    "\n",
    "for(i in vec1) {\n",
    "    if (i > 10) {\n",
    "        print(i)\n",
    "        print(\"This number is greater than 10\")\n",
    "    }\n",
    "}"
   ]
  },
  {
   "cell_type": "code",
   "execution_count": 27,
   "metadata": {},
   "outputs": [
    {
     "name": "stdout",
     "output_type": "stream",
     "text": [
      "[1] 2\n",
      "[1] 3\n",
      "[1] 5\n",
      "[1] 7\n",
      "[1] 11\n",
      "[1] 13\n"
     ]
    }
   ],
   "source": [
    "# Exercício 4 - Conisdere a lista abaixo. Crie um loop que imprima no console cada elemento da lista\n",
    "lst2 <- list(2, 3, 5, 7, 11, 13)\n",
    "for (i in lst2) \n",
    "    print(i)"
   ]
  },
  {
   "cell_type": "code",
   "execution_count": 30,
   "metadata": {},
   "outputs": [
    {
     "data": {
      "text/html": [
       "<table>\n",
       "<tbody>\n",
       "\t<tr><td> 1</td><td> 2</td><td> 3</td><td> 4</td><td> 5</td></tr>\n",
       "\t<tr><td> 6</td><td> 7</td><td> 8</td><td> 9</td><td>10</td></tr>\n",
       "\t<tr><td>11</td><td>12</td><td>13</td><td>14</td><td>15</td></tr>\n",
       "\t<tr><td>16</td><td>17</td><td>18</td><td>19</td><td>20</td></tr>\n",
       "\t<tr><td>21</td><td>22</td><td>23</td><td>24</td><td>25</td></tr>\n",
       "</tbody>\n",
       "</table>\n"
      ],
      "text/latex": [
       "\\begin{tabular}{lllll}\n",
       "\t  1 &  2 &  3 &  4 &  5\\\\\n",
       "\t  6 &  7 &  8 &  9 & 10\\\\\n",
       "\t 11 & 12 & 13 & 14 & 15\\\\\n",
       "\t 16 & 17 & 18 & 19 & 20\\\\\n",
       "\t 21 & 22 & 23 & 24 & 25\\\\\n",
       "\\end{tabular}\n"
      ],
      "text/markdown": [
       "\n",
       "|  1 |  2 |  3 |  4 |  5 | \n",
       "|  6 |  7 |  8 |  9 | 10 | \n",
       "| 11 | 12 | 13 | 14 | 15 | \n",
       "| 16 | 17 | 18 | 19 | 20 | \n",
       "| 21 | 22 | 23 | 24 | 25 | \n",
       "\n",
       "\n"
      ],
      "text/plain": [
       "     [,1] [,2] [,3] [,4] [,5]\n",
       "[1,]  1    2    3    4    5  \n",
       "[2,]  6    7    8    9   10  \n",
       "[3,] 11   12   13   14   15  \n",
       "[4,] 16   17   18   19   20  \n",
       "[5,] 21   22   23   24   25  "
      ]
     },
     "metadata": {},
     "output_type": "display_data"
    },
    {
     "data": {
      "text/html": [
       "<table>\n",
       "<tbody>\n",
       "\t<tr><td>1 </td><td> 6</td><td>11</td><td>16</td><td>21</td></tr>\n",
       "\t<tr><td>2 </td><td> 7</td><td>12</td><td>17</td><td>22</td></tr>\n",
       "\t<tr><td>3 </td><td> 8</td><td>13</td><td>18</td><td>23</td></tr>\n",
       "\t<tr><td>4 </td><td> 9</td><td>14</td><td>19</td><td>24</td></tr>\n",
       "\t<tr><td>5 </td><td>10</td><td>15</td><td>20</td><td>25</td></tr>\n",
       "</tbody>\n",
       "</table>\n"
      ],
      "text/latex": [
       "\\begin{tabular}{lllll}\n",
       "\t 1  &  6 & 11 & 16 & 21\\\\\n",
       "\t 2  &  7 & 12 & 17 & 22\\\\\n",
       "\t 3  &  8 & 13 & 18 & 23\\\\\n",
       "\t 4  &  9 & 14 & 19 & 24\\\\\n",
       "\t 5  & 10 & 15 & 20 & 25\\\\\n",
       "\\end{tabular}\n"
      ],
      "text/markdown": [
       "\n",
       "| 1  |  6 | 11 | 16 | 21 | \n",
       "| 2  |  7 | 12 | 17 | 22 | \n",
       "| 3  |  8 | 13 | 18 | 23 | \n",
       "| 4  |  9 | 14 | 19 | 24 | \n",
       "| 5  | 10 | 15 | 20 | 25 | \n",
       "\n",
       "\n"
      ],
      "text/plain": [
       "     [,1] [,2] [,3] [,4] [,5]\n",
       "[1,] 1     6   11   16   21  \n",
       "[2,] 2     7   12   17   22  \n",
       "[3,] 3     8   13   18   23  \n",
       "[4,] 4     9   14   19   24  \n",
       "[5,] 5    10   15   20   25  "
      ]
     },
     "metadata": {},
     "output_type": "display_data"
    },
    {
     "data": {
      "text/html": [
       "<table>\n",
       "<tbody>\n",
       "\t<tr><td>  1</td><td> 12</td><td> 33</td><td> 64</td><td>105</td></tr>\n",
       "\t<tr><td> 12</td><td> 49</td><td> 96</td><td>153</td><td>220</td></tr>\n",
       "\t<tr><td> 33</td><td> 96</td><td>169</td><td>252</td><td>345</td></tr>\n",
       "\t<tr><td> 64</td><td>153</td><td>252</td><td>361</td><td>480</td></tr>\n",
       "\t<tr><td>105</td><td>220</td><td>345</td><td>480</td><td>625</td></tr>\n",
       "</tbody>\n",
       "</table>\n"
      ],
      "text/latex": [
       "\\begin{tabular}{lllll}\n",
       "\t   1 &  12 &  33 &  64 & 105\\\\\n",
       "\t  12 &  49 &  96 & 153 & 220\\\\\n",
       "\t  33 &  96 & 169 & 252 & 345\\\\\n",
       "\t  64 & 153 & 252 & 361 & 480\\\\\n",
       "\t 105 & 220 & 345 & 480 & 625\\\\\n",
       "\\end{tabular}\n"
      ],
      "text/markdown": [
       "\n",
       "|   1 |  12 |  33 |  64 | 105 | \n",
       "|  12 |  49 |  96 | 153 | 220 | \n",
       "|  33 |  96 | 169 | 252 | 345 | \n",
       "|  64 | 153 | 252 | 361 | 480 | \n",
       "| 105 | 220 | 345 | 480 | 625 | \n",
       "\n",
       "\n"
      ],
      "text/plain": [
       "     [,1] [,2] [,3] [,4] [,5]\n",
       "[1,]   1   12   33   64  105 \n",
       "[2,]  12   49   96  153  220 \n",
       "[3,]  33   96  169  252  345 \n",
       "[4,]  64  153  252  361  480 \n",
       "[5,] 105  220  345  480  625 "
      ]
     },
     "metadata": {},
     "output_type": "display_data"
    },
    {
     "data": {
      "text/html": [
       "<table>\n",
       "<tbody>\n",
       "\t<tr><td> 55 </td><td>130 </td><td> 205</td><td> 280</td><td> 355</td></tr>\n",
       "\t<tr><td>130 </td><td>330 </td><td> 530</td><td> 730</td><td> 930</td></tr>\n",
       "\t<tr><td>205 </td><td>530 </td><td> 855</td><td>1180</td><td>1505</td></tr>\n",
       "\t<tr><td>280 </td><td>730 </td><td>1180</td><td>1630</td><td>2080</td></tr>\n",
       "\t<tr><td>355 </td><td>930 </td><td>1505</td><td>2080</td><td>2655</td></tr>\n",
       "</tbody>\n",
       "</table>\n"
      ],
      "text/latex": [
       "\\begin{tabular}{lllll}\n",
       "\t  55  & 130  &  205 &  280 &  355\\\\\n",
       "\t 130  & 330  &  530 &  730 &  930\\\\\n",
       "\t 205  & 530  &  855 & 1180 & 1505\\\\\n",
       "\t 280  & 730  & 1180 & 1630 & 2080\\\\\n",
       "\t 355  & 930  & 1505 & 2080 & 2655\\\\\n",
       "\\end{tabular}\n"
      ],
      "text/markdown": [
       "\n",
       "|  55  | 130  |  205 |  280 |  355 | \n",
       "| 130  | 330  |  530 |  730 |  930 | \n",
       "| 205  | 530  |  855 | 1180 | 1505 | \n",
       "| 280  | 730  | 1180 | 1630 | 2080 | \n",
       "| 355  | 930  | 1505 | 2080 | 2655 | \n",
       "\n",
       "\n"
      ],
      "text/plain": [
       "     [,1] [,2] [,3] [,4] [,5]\n",
       "[1,]  55  130   205  280  355\n",
       "[2,] 130  330   530  730  930\n",
       "[3,] 205  530   855 1180 1505\n",
       "[4,] 280  730  1180 1630 2080\n",
       "[5,] 355  930  1505 2080 2655"
      ]
     },
     "metadata": {},
     "output_type": "display_data"
    }
   ],
   "source": [
    "# Exercício 5 - Considere as duas matrizes abaixo. \n",
    "# Faça uma multiplicação element-wise e multiplicação normal entre as materizes\n",
    "mat1 <- matrix(c(1:50), nrow = 5, ncol = 5, byrow = T)\n",
    "mat2 <- t(mat1)\n",
    "mat1\n",
    "mat2\n",
    "\n",
    "# Multiplicação element-wise\n",
    "mat1 * mat2\n",
    "\n",
    "# Multiplicação de matrizes\n",
    "mat1 %*% mat2"
   ]
  },
  {
   "cell_type": "code",
   "execution_count": 57,
   "metadata": {},
   "outputs": [
    {
     "data": {
      "text/html": [
       "<dl class=dl-horizontal>\n",
       "\t<dt>vec1</dt>\n",
       "\t\t<dd>1</dd>\n",
       "\t<dt>2</dt>\n",
       "\t\t<dd>2</dd>\n",
       "\t<dt>3</dt>\n",
       "\t\t<dd>3</dd>\n",
       "\t<dt>4</dt>\n",
       "\t\t<dd>4</dd>\n",
       "</dl>\n"
      ],
      "text/latex": [
       "\\begin{description*}\n",
       "\\item[vec1] 1\n",
       "\\item[2] 2\n",
       "\\item[3] 3\n",
       "\\item[4] 4\n",
       "\\end{description*}\n"
      ],
      "text/markdown": [
       "vec1\n",
       ":   12\n",
       ":   23\n",
       ":   34\n",
       ":   4\n",
       "\n"
      ],
      "text/plain": [
       "vec1 <NA> <NA> <NA> \n",
       "   1    2    3    4 "
      ]
     },
     "metadata": {},
     "output_type": "display_data"
    },
    {
     "data": {
      "text/html": [
       "<table>\n",
       "<thead><tr><th></th><th scope=col>col1</th><th scope=col>col2</th><th scope=col>col3</th></tr></thead>\n",
       "<tbody>\n",
       "\t<tr><th scope=row>row1</th><td>3</td><td>3</td><td>3</td></tr>\n",
       "\t<tr><th scope=row>row2</th><td>3</td><td>3</td><td>3</td></tr>\n",
       "\t<tr><th scope=row>row3</th><td>3</td><td>3</td><td>3</td></tr>\n",
       "</tbody>\n",
       "</table>\n"
      ],
      "text/latex": [
       "\\begin{tabular}{r|lll}\n",
       "  & col1 & col2 & col3\\\\\n",
       "\\hline\n",
       "\trow1 & 3 & 3 & 3\\\\\n",
       "\trow2 & 3 & 3 & 3\\\\\n",
       "\trow3 & 3 & 3 & 3\\\\\n",
       "\\end{tabular}\n"
      ],
      "text/markdown": [
       "\n",
       "| <!--/--> | col1 | col2 | col3 | \n",
       "|---|---|---|\n",
       "| row1 | 3 | 3 | 3 | \n",
       "| row2 | 3 | 3 | 3 | \n",
       "| row3 | 3 | 3 | 3 | \n",
       "\n",
       "\n"
      ],
      "text/plain": [
       "     col1 col2 col3\n",
       "row1 3    3    3   \n",
       "row2 3    3    3   \n",
       "row3 3    3    3   "
      ]
     },
     "metadata": {},
     "output_type": "display_data"
    },
    {
     "data": {
      "text/html": [
       "<dl>\n",
       "\t<dt>$vector</dt>\n",
       "\t\t<dd><dl class=dl-horizontal>\n",
       "\t<dt>vec1</dt>\n",
       "\t\t<dd>1</dd>\n",
       "\t<dt>2</dt>\n",
       "\t\t<dd>2</dd>\n",
       "\t<dt>3</dt>\n",
       "\t\t<dd>3</dd>\n",
       "\t<dt>4</dt>\n",
       "\t\t<dd>4</dd>\n",
       "</dl>\n",
       "</dd>\n",
       "\t<dt>$matrix</dt>\n",
       "\t\t<dd><table>\n",
       "<thead><tr><th></th><th scope=col>col1</th><th scope=col>col2</th><th scope=col>col3</th></tr></thead>\n",
       "<tbody>\n",
       "\t<tr><th scope=row>row1</th><td>3</td><td>3</td><td>3</td></tr>\n",
       "\t<tr><th scope=row>row2</th><td>3</td><td>3</td><td>3</td></tr>\n",
       "\t<tr><th scope=row>row3</th><td>3</td><td>3</td><td>3</td></tr>\n",
       "</tbody>\n",
       "</table>\n",
       "</dd>\n",
       "</dl>\n"
      ],
      "text/latex": [
       "\\begin{description}\n",
       "\\item[\\$vector] \\begin{description*}\n",
       "\\item[vec1] 1\n",
       "\\item[2] 2\n",
       "\\item[3] 3\n",
       "\\item[4] 4\n",
       "\\end{description*}\n",
       "\n",
       "\\item[\\$matrix] \\begin{tabular}{r|lll}\n",
       "  & col1 & col2 & col3\\\\\n",
       "\\hline\n",
       "\trow1 & 3 & 3 & 3\\\\\n",
       "\trow2 & 3 & 3 & 3\\\\\n",
       "\trow3 & 3 & 3 & 3\\\\\n",
       "\\end{tabular}\n",
       "\n",
       "\\end{description}\n"
      ],
      "text/markdown": [
       "$vector\n",
       ":   vec1\n",
       ":   12\n",
       ":   23\n",
       ":   34\n",
       ":   4\n",
       "\n",
       "\n",
       "$matrix\n",
       ":   \n",
       "| <!--/--> | col1 | col2 | col3 | \n",
       "|---|---|---|\n",
       "| row1 | 3 | 3 | 3 | \n",
       "| row2 | 3 | 3 | 3 | \n",
       "| row3 | 3 | 3 | 3 | \n",
       "\n",
       "\n",
       "\n",
       "\n",
       "\n"
      ],
      "text/plain": [
       "$vector\n",
       "vec1 <NA> <NA> <NA> \n",
       "   1    2    3    4 \n",
       "\n",
       "$matrix\n",
       "     col1 col2 col3\n",
       "row1    3    3    3\n",
       "row2    3    3    3\n",
       "row3    3    3    3\n"
      ]
     },
     "metadata": {},
     "output_type": "display_data"
    }
   ],
   "source": [
    "# Exercício 6 - Crie um vetor, matriz, lista e dataframe e faça a nomeação de cada um dos objetos\n",
    "vec1 = c(1:4)\n",
    "names(vec1) = c(\"vec1\")\n",
    "vec1\n",
    "\n",
    "A = matrix(3, 3, ncol = 3)\n",
    "colnames(A) = c('col1', 'col2', 'col3')\n",
    "rownames(A) = c('row1', 'row2', 'row3')\n",
    "A\n",
    "\n",
    "lst1 = list(vector = vec1, matrix = A)\n",
    "lst1"
   ]
  },
  {
   "cell_type": "code",
   "execution_count": 91,
   "metadata": {},
   "outputs": [
    {
     "data": {
      "text/html": [
       "<table>\n",
       "<tbody>\n",
       "\t<tr><td> 1</td><td>11</td><td>21</td><td>31</td><td>41</td><td>51</td><td>61</td><td>71</td><td>81</td></tr>\n",
       "\t<tr><td> 2</td><td>12</td><td>22</td><td>32</td><td>42</td><td>52</td><td>62</td><td>72</td><td>82</td></tr>\n",
       "\t<tr><td> 3</td><td>13</td><td>23</td><td>33</td><td>43</td><td>53</td><td>63</td><td>73</td><td>83</td></tr>\n",
       "\t<tr><td> 4</td><td>14</td><td>24</td><td>34</td><td>44</td><td>54</td><td>64</td><td>74</td><td>84</td></tr>\n",
       "\t<tr><td> 5</td><td>15</td><td>25</td><td>35</td><td>45</td><td>55</td><td>65</td><td>75</td><td>85</td></tr>\n",
       "\t<tr><td> 6</td><td>16</td><td>26</td><td>36</td><td>46</td><td>56</td><td>66</td><td>76</td><td>86</td></tr>\n",
       "\t<tr><td> 7</td><td>17</td><td>27</td><td>37</td><td>47</td><td>57</td><td>67</td><td>77</td><td>87</td></tr>\n",
       "\t<tr><td> 8</td><td>18</td><td>28</td><td>38</td><td>48</td><td>58</td><td>68</td><td>78</td><td>88</td></tr>\n",
       "\t<tr><td> 9</td><td>19</td><td>29</td><td>39</td><td>49</td><td>59</td><td>69</td><td>79</td><td>89</td></tr>\n",
       "\t<tr><td>10</td><td>20</td><td>30</td><td>40</td><td>50</td><td>60</td><td>70</td><td>80</td><td>90</td></tr>\n",
       "</tbody>\n",
       "</table>\n"
      ],
      "text/latex": [
       "\\begin{tabular}{lllllllll}\n",
       "\t  1 & 11 & 21 & 31 & 41 & 51 & 61 & 71 & 81\\\\\n",
       "\t  2 & 12 & 22 & 32 & 42 & 52 & 62 & 72 & 82\\\\\n",
       "\t  3 & 13 & 23 & 33 & 43 & 53 & 63 & 73 & 83\\\\\n",
       "\t  4 & 14 & 24 & 34 & 44 & 54 & 64 & 74 & 84\\\\\n",
       "\t  5 & 15 & 25 & 35 & 45 & 55 & 65 & 75 & 85\\\\\n",
       "\t  6 & 16 & 26 & 36 & 46 & 56 & 66 & 76 & 86\\\\\n",
       "\t  7 & 17 & 27 & 37 & 47 & 57 & 67 & 77 & 87\\\\\n",
       "\t  8 & 18 & 28 & 38 & 48 & 58 & 68 & 78 & 88\\\\\n",
       "\t  9 & 19 & 29 & 39 & 49 & 59 & 69 & 79 & 89\\\\\n",
       "\t 10 & 20 & 30 & 40 & 50 & 60 & 70 & 80 & 90\\\\\n",
       "\\end{tabular}\n"
      ],
      "text/markdown": [
       "\n",
       "|  1 | 11 | 21 | 31 | 41 | 51 | 61 | 71 | 81 | \n",
       "|  2 | 12 | 22 | 32 | 42 | 52 | 62 | 72 | 82 | \n",
       "|  3 | 13 | 23 | 33 | 43 | 53 | 63 | 73 | 83 | \n",
       "|  4 | 14 | 24 | 34 | 44 | 54 | 64 | 74 | 84 | \n",
       "|  5 | 15 | 25 | 35 | 45 | 55 | 65 | 75 | 85 | \n",
       "|  6 | 16 | 26 | 36 | 46 | 56 | 66 | 76 | 86 | \n",
       "|  7 | 17 | 27 | 37 | 47 | 57 | 67 | 77 | 87 | \n",
       "|  8 | 18 | 28 | 38 | 48 | 58 | 68 | 78 | 88 | \n",
       "|  9 | 19 | 29 | 39 | 49 | 59 | 69 | 79 | 89 | \n",
       "| 10 | 20 | 30 | 40 | 50 | 60 | 70 | 80 | 90 | \n",
       "\n",
       "\n"
      ],
      "text/plain": [
       "      [,1] [,2] [,3] [,4] [,5] [,6] [,7] [,8] [,9]\n",
       " [1,]  1   11   21   31   41   51   61   71   81  \n",
       " [2,]  2   12   22   32   42   52   62   72   82  \n",
       " [3,]  3   13   23   33   43   53   63   73   83  \n",
       " [4,]  4   14   24   34   44   54   64   74   84  \n",
       " [5,]  5   15   25   35   45   55   65   75   85  \n",
       " [6,]  6   16   26   36   46   56   66   76   86  \n",
       " [7,]  7   17   27   37   47   57   67   77   87  \n",
       " [8,]  8   18   28   38   48   58   68   78   88  \n",
       " [9,]  9   19   29   39   49   59   69   79   89  \n",
       "[10,] 10   20   30   40   50   60   70   80   90  "
      ]
     },
     "metadata": {},
     "output_type": "display_data"
    },
    {
     "data": {
      "text/html": [
       "<table>\n",
       "<tbody>\n",
       "\t<tr><td> 1</td><td>11</td><td>NA</td><td>31</td><td>41</td><td>51</td><td>61</td><td>71</td><td>81</td></tr>\n",
       "\t<tr><td>NA</td><td>12</td><td>22</td><td>NA</td><td>NA</td><td>52</td><td>62</td><td>72</td><td>82</td></tr>\n",
       "\t<tr><td>NA</td><td>13</td><td>NA</td><td>33</td><td>43</td><td>53</td><td>63</td><td>73</td><td>83</td></tr>\n",
       "\t<tr><td> 4</td><td>14</td><td>NA</td><td>34</td><td>44</td><td>54</td><td>64</td><td>74</td><td>84</td></tr>\n",
       "\t<tr><td> 5</td><td>15</td><td>25</td><td>35</td><td>45</td><td>55</td><td>65</td><td>75</td><td>85</td></tr>\n",
       "\t<tr><td> 6</td><td>NA</td><td>26</td><td>36</td><td>46</td><td>56</td><td>66</td><td>76</td><td>86</td></tr>\n",
       "\t<tr><td> 7</td><td>17</td><td>27</td><td>37</td><td>47</td><td>57</td><td>67</td><td>77</td><td>87</td></tr>\n",
       "\t<tr><td> 8</td><td>18</td><td>28</td><td>38</td><td>48</td><td>58</td><td>68</td><td>78</td><td>88</td></tr>\n",
       "\t<tr><td> 9</td><td>19</td><td>29</td><td>NA</td><td>49</td><td>59</td><td>69</td><td>79</td><td>89</td></tr>\n",
       "\t<tr><td>10</td><td>NA</td><td>30</td><td>40</td><td>50</td><td>60</td><td>70</td><td>80</td><td>90</td></tr>\n",
       "</tbody>\n",
       "</table>\n"
      ],
      "text/latex": [
       "\\begin{tabular}{lllllllll}\n",
       "\t  1 & 11 & NA & 31 & 41 & 51 & 61 & 71 & 81\\\\\n",
       "\t NA & 12 & 22 & NA & NA & 52 & 62 & 72 & 82\\\\\n",
       "\t NA & 13 & NA & 33 & 43 & 53 & 63 & 73 & 83\\\\\n",
       "\t  4 & 14 & NA & 34 & 44 & 54 & 64 & 74 & 84\\\\\n",
       "\t  5 & 15 & 25 & 35 & 45 & 55 & 65 & 75 & 85\\\\\n",
       "\t  6 & NA & 26 & 36 & 46 & 56 & 66 & 76 & 86\\\\\n",
       "\t  7 & 17 & 27 & 37 & 47 & 57 & 67 & 77 & 87\\\\\n",
       "\t  8 & 18 & 28 & 38 & 48 & 58 & 68 & 78 & 88\\\\\n",
       "\t  9 & 19 & 29 & NA & 49 & 59 & 69 & 79 & 89\\\\\n",
       "\t 10 & NA & 30 & 40 & 50 & 60 & 70 & 80 & 90\\\\\n",
       "\\end{tabular}\n"
      ],
      "text/markdown": [
       "\n",
       "|  1 | 11 | NA | 31 | 41 | 51 | 61 | 71 | 81 | \n",
       "| NA | 12 | 22 | NA | NA | 52 | 62 | 72 | 82 | \n",
       "| NA | 13 | NA | 33 | 43 | 53 | 63 | 73 | 83 | \n",
       "|  4 | 14 | NA | 34 | 44 | 54 | 64 | 74 | 84 | \n",
       "|  5 | 15 | 25 | 35 | 45 | 55 | 65 | 75 | 85 | \n",
       "|  6 | NA | 26 | 36 | 46 | 56 | 66 | 76 | 86 | \n",
       "|  7 | 17 | 27 | 37 | 47 | 57 | 67 | 77 | 87 | \n",
       "|  8 | 18 | 28 | 38 | 48 | 58 | 68 | 78 | 88 | \n",
       "|  9 | 19 | 29 | NA | 49 | 59 | 69 | 79 | 89 | \n",
       "| 10 | NA | 30 | 40 | 50 | 60 | 70 | 80 | 90 | \n",
       "\n",
       "\n"
      ],
      "text/plain": [
       "      [,1] [,2] [,3] [,4] [,5] [,6] [,7] [,8] [,9]\n",
       " [1,]  1   11   NA   31   41   51   61   71   81  \n",
       " [2,] NA   12   22   NA   NA   52   62   72   82  \n",
       " [3,] NA   13   NA   33   43   53   63   73   83  \n",
       " [4,]  4   14   NA   34   44   54   64   74   84  \n",
       " [5,]  5   15   25   35   45   55   65   75   85  \n",
       " [6,]  6   NA   26   36   46   56   66   76   86  \n",
       " [7,]  7   17   27   37   47   57   67   77   87  \n",
       " [8,]  8   18   28   38   48   58   68   78   88  \n",
       " [9,]  9   19   29   NA   49   59   69   79   89  \n",
       "[10,] 10   NA   30   40   50   60   70   80   90  "
      ]
     },
     "metadata": {},
     "output_type": "display_data"
    }
   ],
   "source": [
    "# Exercício 7 - Considere a matriz abaixo. Atribua valores NA de forma aletória para 50 elementos da matriz\n",
    "# Dica: use a função sample()\n",
    "mat2 <- matrix(1:90, 10)\n",
    "mat2\n",
    "mat2[sample(1:50, 10)] = NA\n",
    "mat2"
   ]
  },
  {
   "cell_type": "code",
   "execution_count": 92,
   "metadata": {},
   "outputs": [
    {
     "data": {
      "text/html": [
       "<table>\n",
       "<tbody>\n",
       "\t<tr><td> 1</td><td> 2</td><td> 3</td><td> 4</td><td> 5</td></tr>\n",
       "\t<tr><td> 6</td><td> 7</td><td> 8</td><td> 9</td><td>10</td></tr>\n",
       "\t<tr><td>11</td><td>12</td><td>13</td><td>14</td><td>15</td></tr>\n",
       "\t<tr><td>16</td><td>17</td><td>18</td><td>19</td><td>20</td></tr>\n",
       "\t<tr><td>21</td><td>22</td><td>23</td><td>24</td><td>25</td></tr>\n",
       "</tbody>\n",
       "</table>\n"
      ],
      "text/latex": [
       "\\begin{tabular}{lllll}\n",
       "\t  1 &  2 &  3 &  4 &  5\\\\\n",
       "\t  6 &  7 &  8 &  9 & 10\\\\\n",
       "\t 11 & 12 & 13 & 14 & 15\\\\\n",
       "\t 16 & 17 & 18 & 19 & 20\\\\\n",
       "\t 21 & 22 & 23 & 24 & 25\\\\\n",
       "\\end{tabular}\n"
      ],
      "text/markdown": [
       "\n",
       "|  1 |  2 |  3 |  4 |  5 | \n",
       "|  6 |  7 |  8 |  9 | 10 | \n",
       "| 11 | 12 | 13 | 14 | 15 | \n",
       "| 16 | 17 | 18 | 19 | 20 | \n",
       "| 21 | 22 | 23 | 24 | 25 | \n",
       "\n",
       "\n"
      ],
      "text/plain": [
       "     [,1] [,2] [,3] [,4] [,5]\n",
       "[1,]  1    2    3    4    5  \n",
       "[2,]  6    7    8    9   10  \n",
       "[3,] 11   12   13   14   15  \n",
       "[4,] 16   17   18   19   20  \n",
       "[5,] 21   22   23   24   25  "
      ]
     },
     "metadata": {},
     "output_type": "display_data"
    },
    {
     "data": {
      "text/html": [
       "<ol class=list-inline>\n",
       "\t<li>15</li>\n",
       "\t<li>40</li>\n",
       "\t<li>65</li>\n",
       "\t<li>90</li>\n",
       "\t<li>115</li>\n",
       "</ol>\n"
      ],
      "text/latex": [
       "\\begin{enumerate*}\n",
       "\\item 15\n",
       "\\item 40\n",
       "\\item 65\n",
       "\\item 90\n",
       "\\item 115\n",
       "\\end{enumerate*}\n"
      ],
      "text/markdown": [
       "1. 15\n",
       "2. 40\n",
       "3. 65\n",
       "4. 90\n",
       "5. 115\n",
       "\n",
       "\n"
      ],
      "text/plain": [
       "[1]  15  40  65  90 115"
      ]
     },
     "metadata": {},
     "output_type": "display_data"
    },
    {
     "data": {
      "text/html": [
       "<ol class=list-inline>\n",
       "\t<li>55</li>\n",
       "\t<li>60</li>\n",
       "\t<li>65</li>\n",
       "\t<li>70</li>\n",
       "\t<li>75</li>\n",
       "</ol>\n"
      ],
      "text/latex": [
       "\\begin{enumerate*}\n",
       "\\item 55\n",
       "\\item 60\n",
       "\\item 65\n",
       "\\item 70\n",
       "\\item 75\n",
       "\\end{enumerate*}\n"
      ],
      "text/markdown": [
       "1. 55\n",
       "2. 60\n",
       "3. 65\n",
       "4. 70\n",
       "5. 75\n",
       "\n",
       "\n"
      ],
      "text/plain": [
       "[1] 55 60 65 70 75"
      ]
     },
     "metadata": {},
     "output_type": "display_data"
    },
    {
     "data": {
      "text/html": [
       "<ol class=list-inline>\n",
       "\t<li>15</li>\n",
       "\t<li>40</li>\n",
       "\t<li>65</li>\n",
       "\t<li>90</li>\n",
       "\t<li>115</li>\n",
       "</ol>\n"
      ],
      "text/latex": [
       "\\begin{enumerate*}\n",
       "\\item 15\n",
       "\\item 40\n",
       "\\item 65\n",
       "\\item 90\n",
       "\\item 115\n",
       "\\end{enumerate*}\n"
      ],
      "text/markdown": [
       "1. 15\n",
       "2. 40\n",
       "3. 65\n",
       "4. 90\n",
       "5. 115\n",
       "\n",
       "\n"
      ],
      "text/plain": [
       "[1]  15  40  65  90 115"
      ]
     },
     "metadata": {},
     "output_type": "display_data"
    },
    {
     "data": {
      "text/html": [
       "<ol class=list-inline>\n",
       "\t<li>55</li>\n",
       "\t<li>60</li>\n",
       "\t<li>65</li>\n",
       "\t<li>70</li>\n",
       "\t<li>75</li>\n",
       "</ol>\n"
      ],
      "text/latex": [
       "\\begin{enumerate*}\n",
       "\\item 55\n",
       "\\item 60\n",
       "\\item 65\n",
       "\\item 70\n",
       "\\item 75\n",
       "\\end{enumerate*}\n"
      ],
      "text/markdown": [
       "1. 55\n",
       "2. 60\n",
       "3. 65\n",
       "4. 70\n",
       "5. 75\n",
       "\n",
       "\n"
      ],
      "text/plain": [
       "[1] 55 60 65 70 75"
      ]
     },
     "metadata": {},
     "output_type": "display_data"
    }
   ],
   "source": [
    "# Exercício 8 - Para a matriz abaixo, calcule a soma por linha e por coluna\n",
    "mat1 <- matrix(c(1:50), nrow = 5, ncol = 5, byrow = T)\n",
    "mat1\n",
    "apply(mat1, 1, sum)\n",
    "apply(mat1, 2, sum)\n",
    "\n",
    "rowSums(mat1)\n",
    "colSums(mat1)"
   ]
  },
  {
   "cell_type": "code",
   "execution_count": 78,
   "metadata": {},
   "outputs": [
    {
     "data": {
      "text/html": [
       "<ol class=list-inline>\n",
       "\t<li>100</li>\n",
       "\t<li>10</li>\n",
       "\t<li>10000</li>\n",
       "\t<li>1000</li>\n",
       "</ol>\n"
      ],
      "text/latex": [
       "\\begin{enumerate*}\n",
       "\\item 100\n",
       "\\item 10\n",
       "\\item 10000\n",
       "\\item 1000\n",
       "\\end{enumerate*}\n"
      ],
      "text/markdown": [
       "1. 100\n",
       "2. 10\n",
       "3. 10000\n",
       "4. 1000\n",
       "\n",
       "\n"
      ],
      "text/plain": [
       "[1]   100    10 10000  1000"
      ]
     },
     "metadata": {},
     "output_type": "display_data"
    },
    {
     "data": {
      "text/html": [
       "<ol class=list-inline>\n",
       "\t<li>10</li>\n",
       "\t<li>100</li>\n",
       "\t<li>1000</li>\n",
       "\t<li>10000</li>\n",
       "</ol>\n"
      ],
      "text/latex": [
       "\\begin{enumerate*}\n",
       "\\item 10\n",
       "\\item 100\n",
       "\\item 1000\n",
       "\\item 10000\n",
       "\\end{enumerate*}\n"
      ],
      "text/markdown": [
       "1. 10\n",
       "2. 100\n",
       "3. 1000\n",
       "4. 10000\n",
       "\n",
       "\n"
      ],
      "text/plain": [
       "[1]    10   100  1000 10000"
      ]
     },
     "metadata": {},
     "output_type": "display_data"
    }
   ],
   "source": [
    "# Exercício 9 - Para o vetor abaixo, ordene os valores em ordem crescente\n",
    "a <- c(100, 10, 10000, 1000)\n",
    "a\n",
    "a[order(a)]\n"
   ]
  },
  {
   "cell_type": "code",
   "execution_count": 90,
   "metadata": {},
   "outputs": [
    {
     "name": "stdout",
     "output_type": "stream",
     "text": [
      "[1] 16\n",
      "[1] 21\n",
      "[1] 17\n",
      "[1] 22\n",
      "[1] 18\n",
      "[1] 23\n",
      "[1] 19\n",
      "[1] 24\n",
      "[1] 20\n",
      "[1] 25\n"
     ]
    }
   ],
   "source": [
    "# # Exercício 10 - Imprima no console todos os elementos da matriz abaixo que forem maiores que 15\n",
    "mat1 <- matrix(c(1:50), nrow = 5, ncol = 5, byrow = T)\n",
    "great = function(x) { \n",
    "    if(x > 15) {\n",
    "        print(x)\n",
    "    }\n",
    "}\n",
    "for (i in mat1) {\n",
    "    great(i)\n",
    "}\n"
   ]
  },
  {
   "cell_type": "code",
   "execution_count": null,
   "metadata": {},
   "outputs": [],
   "source": []
  }
 ],
 "metadata": {
  "kernelspec": {
   "display_name": "R",
   "language": "R",
   "name": "ir"
  },
  "language_info": {
   "codemirror_mode": "r",
   "file_extension": ".r",
   "mimetype": "text/x-r-source",
   "name": "R",
   "pygments_lexer": "r",
   "version": "3.5.1"
  }
 },
 "nbformat": 4,
 "nbformat_minor": 2
}
