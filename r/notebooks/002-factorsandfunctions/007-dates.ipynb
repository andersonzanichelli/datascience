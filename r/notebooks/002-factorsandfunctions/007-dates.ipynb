{
 "cells": [
  {
   "cell_type": "markdown",
   "metadata": {},
   "source": [
    "# Working with Dates"
   ]
  },
  {
   "cell_type": "code",
   "execution_count": 2,
   "metadata": {},
   "outputs": [
    {
     "data": {
      "text/html": [
       "<time datetime=\"2019-02-23\">2019-02-23</time>"
      ],
      "text/latex": [
       "2019-02-23"
      ],
      "text/markdown": [
       "2019-02-23"
      ],
      "text/plain": [
       "[1] \"2019-02-23\""
      ]
     },
     "metadata": {},
     "output_type": "display_data"
    },
    {
     "data": {
      "text/html": [
       "'Date'"
      ],
      "text/latex": [
       "'Date'"
      ],
      "text/markdown": [
       "'Date'"
      ],
      "text/plain": [
       "[1] \"Date\""
      ]
     },
     "metadata": {},
     "output_type": "display_data"
    },
    {
     "data": {
      "text/plain": [
       "[1] \"2019-02-23 13:23:30 -03\""
      ]
     },
     "metadata": {},
     "output_type": "display_data"
    },
    {
     "data": {
      "text/html": [
       "'America/Sao_Paulo'"
      ],
      "text/latex": [
       "'America/Sao\\_Paulo'"
      ],
      "text/markdown": [
       "'America/Sao_Paulo'"
      ],
      "text/plain": [
       "[1] \"America/Sao_Paulo\""
      ]
     },
     "metadata": {},
     "output_type": "display_data"
    }
   ],
   "source": [
    "today <- Sys.Date()\n",
    "today\n",
    "class(today)\n",
    "Sys.time()\n",
    "Sys.timezone()"
   ]
  },
  {
   "cell_type": "code",
   "execution_count": 3,
   "metadata": {},
   "outputs": [
    {
     "data": {
      "text/html": [
       "<time datetime=\"2018-06-28\">2018-06-28</time>"
      ],
      "text/latex": [
       "2018-06-28"
      ],
      "text/markdown": [
       "2018-06-28"
      ],
      "text/plain": [
       "[1] \"2018-06-28\""
      ]
     },
     "metadata": {},
     "output_type": "display_data"
    }
   ],
   "source": [
    "as.Date(\"2018-06-28\")"
   ]
  },
  {
   "cell_type": "code",
   "execution_count": 4,
   "metadata": {},
   "outputs": [
    {
     "data": {
      "text/html": [
       "<time datetime=\"2018-06-28\">2018-06-28</time>"
      ],
      "text/latex": [
       "2018-06-28"
      ],
      "text/markdown": [
       "2018-06-28"
      ],
      "text/plain": [
       "[1] \"2018-06-28\""
      ]
     },
     "metadata": {},
     "output_type": "display_data"
    }
   ],
   "source": [
    "as.Date(\"Jun-28-18\", \"%b-%d-%y\")"
   ]
  },
  {
   "cell_type": "code",
   "execution_count": 6,
   "metadata": {},
   "outputs": [
    {
     "data": {
      "text/html": [
       "'23 February, 2019'"
      ],
      "text/latex": [
       "'23 February, 2019'"
      ],
      "text/markdown": [
       "'23 February, 2019'"
      ],
      "text/plain": [
       "[1] \"23 February, 2019\""
      ]
     },
     "metadata": {},
     "output_type": "display_data"
    }
   ],
   "source": [
    "format(Sys.Date(), format = \"%d %B, %Y\")"
   ]
  },
  {
   "cell_type": "code",
   "execution_count": 7,
   "metadata": {},
   "outputs": [
    {
     "data": {
      "text/html": [
       "'Today is Saturday'"
      ],
      "text/latex": [
       "'Today is Saturday'"
      ],
      "text/markdown": [
       "'Today is Saturday'"
      ],
      "text/plain": [
       "[1] \"Today is Saturday\""
      ]
     },
     "metadata": {},
     "output_type": "display_data"
    }
   ],
   "source": [
    "format(Sys.Date(), format = \"Today is %A\")"
   ]
  },
  {
   "cell_type": "code",
   "execution_count": 10,
   "metadata": {},
   "outputs": [
    {
     "data": {
      "text/plain": [
       "[1] \"1996-06-13 23:01:45 -03\""
      ]
     },
     "metadata": {},
     "output_type": "display_data"
    }
   ],
   "source": [
    "date1 <- \"Jun 13, '96 hours:23 minutes:01 seconds:45'\"\n",
    "date1_converted <- as.POSIXct(date1, format = \"%B %d, '%y hours:%H minutes:%M seconds:%S'\")\n",
    "date1_converted"
   ]
  },
  {
   "cell_type": "code",
   "execution_count": 12,
   "metadata": {},
   "outputs": [
    {
     "data": {
      "text/html": [
       "<time datetime=\"2016-06-25\">2016-06-25</time>"
      ],
      "text/latex": [
       "2016-06-25"
      ],
      "text/markdown": [
       "2016-06-25"
      ],
      "text/plain": [
       "[1] \"2016-06-25\""
      ]
     },
     "metadata": {},
     "output_type": "display_data"
    },
    {
     "data": {
      "text/html": [
       "<time datetime=\"2016-06-26\">2016-06-26</time>"
      ],
      "text/latex": [
       "2016-06-26"
      ],
      "text/markdown": [
       "2016-06-26"
      ],
      "text/plain": [
       "[1] \"2016-06-26\""
      ]
     },
     "metadata": {},
     "output_type": "display_data"
    }
   ],
   "source": [
    "one_day <- as.Date(\"2016-06-25\", format = \"%Y-%m-%d\")\n",
    "one_day\n",
    "one_day + 1"
   ]
  },
  {
   "cell_type": "code",
   "execution_count": 15,
   "metadata": {},
   "outputs": [
    {
     "data": {
      "text/plain": [
       "[1] \"2016-06-05 11:25:00 -03\""
      ]
     },
     "metadata": {},
     "output_type": "display_data"
    },
    {
     "data": {
      "text/plain": [
       "[1] \"2016-06-05 11:25:15 -03\""
      ]
     },
     "metadata": {},
     "output_type": "display_data"
    }
   ],
   "source": [
    "one_hour <- as.POSIXct(\"2016-06-05 11:25:123\")\n",
    "one_hour\n",
    "one_hour + 15"
   ]
  },
  {
   "cell_type": "code",
   "execution_count": 16,
   "metadata": {},
   "outputs": [
    {
     "data": {
      "text/plain": [
       "Time difference of 20 days"
      ]
     },
     "metadata": {},
     "output_type": "display_data"
    }
   ],
   "source": [
    "one_day - as.Date(one_hour)"
   ]
  },
  {
   "cell_type": "code",
   "execution_count": 17,
   "metadata": {},
   "outputs": [
    {
     "name": "stderr",
     "output_type": "stream",
     "text": [
      "Warning message in eval(expr, envir, enclos):\n",
      "“Incompatible methods (\"-.Date\", \"-.POSIXt\") for \"-\"”"
     ]
    },
    {
     "data": {
      "text/html": [
       "<time datetime=\"-4009392-06-12\">-4009392-06-12</time>"
      ],
      "text/latex": [
       "-4009392-06-12"
      ],
      "text/markdown": [
       "-4009392-06-12"
      ],
      "text/plain": [
       "[1] \"-4009392-06-12\""
      ]
     },
     "metadata": {},
     "output_type": "display_data"
    }
   ],
   "source": [
    "one_day - one_hour"
   ]
  },
  {
   "cell_type": "code",
   "execution_count": 18,
   "metadata": {},
   "outputs": [
    {
     "data": {
      "text/plain": [
       "Time difference of 19.39931 days"
      ]
     },
     "metadata": {},
     "output_type": "display_data"
    }
   ],
   "source": [
    "as.POSIXct(one_day) - one_hour"
   ]
  },
  {
   "cell_type": "code",
   "execution_count": 22,
   "metadata": {},
   "outputs": [],
   "source": [
    "dts = c(\"1127056501\", \"1127054387\", \"1123876501\", \"1821456524\", \"1127056987\", \"1127053333\" )\n",
    "mydates = dts"
   ]
  },
  {
   "cell_type": "code",
   "execution_count": 23,
   "metadata": {},
   "outputs": [
    {
     "data": {
      "text/plain": [
       "[1] \"2005-09-18 12:15:01 -03\" \"2005-09-18 11:39:47 -03\"\n",
       "[3] \"2005-08-12 16:55:01 -03\" \"2027-09-20 13:08:44 -03\"\n",
       "[5] \"2005-09-18 12:23:07 -03\" \"2005-09-18 11:22:13 -03\""
      ]
     },
     "metadata": {},
     "output_type": "display_data"
    }
   ],
   "source": [
    "class(mydates) = c(\"POSIXt\", \"POSIXct\")\n",
    "mydates"
   ]
  },
  {
   "cell_type": "code",
   "execution_count": 21,
   "metadata": {},
   "outputs": [
    {
     "data": {
      "text/html": [
       "<ol class=list-inline>\n",
       "\t<li>'POSIXt'</li>\n",
       "\t<li>'POSIXct'</li>\n",
       "</ol>\n"
      ],
      "text/latex": [
       "\\begin{enumerate*}\n",
       "\\item 'POSIXt'\n",
       "\\item 'POSIXct'\n",
       "\\end{enumerate*}\n"
      ],
      "text/markdown": [
       "1. 'POSIXt'\n",
       "2. 'POSIXct'\n",
       "\n",
       "\n"
      ],
      "text/plain": [
       "[1] \"POSIXt\"  \"POSIXct\""
      ]
     },
     "metadata": {},
     "output_type": "display_data"
    }
   ],
   "source": [
    "class(mydates)"
   ]
  },
  {
   "cell_type": "code",
   "execution_count": 25,
   "metadata": {},
   "outputs": [
    {
     "data": {
      "text/plain": [
       "[1] \"2005-09-18 12:15:01 -03\" \"2005-09-18 11:39:47 -03\"\n",
       "[3] \"2005-08-12 16:55:01 -03\" \"2027-09-20 13:08:44 -03\"\n",
       "[5] \"2005-09-18 12:23:07 -03\" \"2005-09-18 11:22:13 -03\""
      ]
     },
     "metadata": {},
     "output_type": "display_data"
    }
   ],
   "source": [
    "mydates = structure(dts, class = c(\"POSIXt\", \"POSIXct\"))\n",
    "mydates"
   ]
  },
  {
   "cell_type": "code",
   "execution_count": 26,
   "metadata": {},
   "outputs": [
    {
     "data": {
      "text/plain": [
       "[1] \"2011-03-23 12:00:00 GMT\""
      ]
     },
     "metadata": {},
     "output_type": "display_data"
    }
   ],
   "source": [
    "b1 = ISOdate(2011, 3, 23)\n",
    "b1"
   ]
  },
  {
   "cell_type": "code",
   "execution_count": 28,
   "metadata": {},
   "outputs": [
    {
     "data": {
      "text/plain": [
       "[1] \"2012-09-19 12:00:00 GMT\""
      ]
     },
     "metadata": {},
     "output_type": "display_data"
    }
   ],
   "source": [
    "b2 = ISOdate(2012, 9, 19)\n",
    "b2"
   ]
  },
  {
   "cell_type": "code",
   "execution_count": 29,
   "metadata": {},
   "outputs": [
    {
     "data": {
      "text/plain": [
       "Time difference of 546 days"
      ]
     },
     "metadata": {},
     "output_type": "display_data"
    }
   ],
   "source": [
    "b2 - b1"
   ]
  },
  {
   "cell_type": "code",
   "execution_count": 30,
   "metadata": {},
   "outputs": [
    {
     "data": {
      "text/plain": [
       "Time difference of -546 days"
      ]
     },
     "metadata": {},
     "output_type": "display_data"
    }
   ],
   "source": [
    "b1 - b2"
   ]
  },
  {
   "cell_type": "code",
   "execution_count": 31,
   "metadata": {},
   "outputs": [
    {
     "data": {
      "text/plain": [
       "Time difference of 78 weeks"
      ]
     },
     "metadata": {},
     "output_type": "display_data"
    }
   ],
   "source": [
    "difftime(b2, b1, units = 'weeks')"
   ]
  },
  {
   "cell_type": "code",
   "execution_count": 34,
   "metadata": {},
   "outputs": [
    {
     "data": {
      "text/plain": [
       "Time difference of 13104 hours"
      ]
     },
     "metadata": {},
     "output_type": "display_data"
    }
   ],
   "source": [
    "difftime(b2, b1, units = 'hours')"
   ]
  },
  {
   "cell_type": "code",
   "execution_count": 35,
   "metadata": {},
   "outputs": [
    {
     "name": "stderr",
     "output_type": "stream",
     "text": [
      "Updating HTML index of packages in '.Library'\n",
      "Making 'packages.html' ... done\n"
     ]
    }
   ],
   "source": [
    "install.packages('lubridate')"
   ]
  },
  {
   "cell_type": "code",
   "execution_count": 36,
   "metadata": {},
   "outputs": [
    {
     "name": "stderr",
     "output_type": "stream",
     "text": [
      "Loading required package: lubridate\n",
      "\n",
      "Attaching package: ‘lubridate’\n",
      "\n",
      "The following object is masked from ‘package:base’:\n",
      "\n",
      "    date\n",
      "\n"
     ]
    }
   ],
   "source": [
    "require(lubridate)"
   ]
  },
  {
   "cell_type": "code",
   "execution_count": 37,
   "metadata": {},
   "outputs": [
    {
     "data": {
      "text/html": [
       "<time datetime=\"2018-06-04\">2018-06-04</time>"
      ],
      "text/latex": [
       "2018-06-04"
      ],
      "text/markdown": [
       "2018-06-04"
      ],
      "text/plain": [
       "[1] \"2018-06-04\""
      ]
     },
     "metadata": {},
     "output_type": "display_data"
    }
   ],
   "source": [
    "ymd(\"20180604\")"
   ]
  },
  {
   "cell_type": "code",
   "execution_count": 38,
   "metadata": {},
   "outputs": [
    {
     "data": {
      "text/html": [
       "<time datetime=\"2018-06-04\">2018-06-04</time>"
      ],
      "text/latex": [
       "2018-06-04"
      ],
      "text/markdown": [
       "2018-06-04"
      ],
      "text/plain": [
       "[1] \"2018-06-04\""
      ]
     },
     "metadata": {},
     "output_type": "display_data"
    }
   ],
   "source": [
    "mdy('06-04-2018')"
   ]
  },
  {
   "cell_type": "code",
   "execution_count": 39,
   "metadata": {},
   "outputs": [
    {
     "data": {
      "text/html": [
       "<time datetime=\"2018-06-04\">2018-06-04</time>"
      ],
      "text/latex": [
       "2018-06-04"
      ],
      "text/markdown": [
       "2018-06-04"
      ],
      "text/plain": [
       "[1] \"2018-06-04\""
      ]
     },
     "metadata": {},
     "output_type": "display_data"
    }
   ],
   "source": [
    "dmy('04/06/2018')"
   ]
  },
  {
   "cell_type": "code",
   "execution_count": 40,
   "metadata": {},
   "outputs": [],
   "source": [
    "arrived <- ymd_hms(\"2016-06-04 12:00:00\", tz = 'Pacific/Auckland')\n",
    "leaves <- ymd_hms(\"2016-08-10 14:00:00\", tz = 'Pacific/Auckland')"
   ]
  },
  {
   "cell_type": "code",
   "execution_count": 41,
   "metadata": {},
   "outputs": [
    {
     "data": {
      "text/plain": [
       "[1] \"2016-06-04 12:00:00 NZST\""
      ]
     },
     "metadata": {},
     "output_type": "display_data"
    },
    {
     "data": {
      "text/plain": [
       "[1] \"2016-08-10 14:00:00 NZST\""
      ]
     },
     "metadata": {},
     "output_type": "display_data"
    }
   ],
   "source": [
    "arrived\n",
    "leaves"
   ]
  },
  {
   "cell_type": "code",
   "execution_count": 42,
   "metadata": {},
   "outputs": [
    {
     "data": {
      "text/html": [
       "0"
      ],
      "text/latex": [
       "0"
      ],
      "text/markdown": [
       "0"
      ],
      "text/plain": [
       "[1] 0"
      ]
     },
     "metadata": {},
     "output_type": "display_data"
    },
    {
     "data": {
      "text/plain": [
       "[1] \"2016-06-04 12:00:25 NZST\""
      ]
     },
     "metadata": {},
     "output_type": "display_data"
    }
   ],
   "source": [
    "second(arrived)\n",
    "second(arrived) <- 25\n",
    "arrived"
   ]
  },
  {
   "cell_type": "code",
   "execution_count": 43,
   "metadata": {},
   "outputs": [
    {
     "data": {
      "text/html": [
       "7"
      ],
      "text/latex": [
       "7"
      ],
      "text/markdown": [
       "7"
      ],
      "text/plain": [
       "[1] 7"
      ]
     },
     "metadata": {},
     "output_type": "display_data"
    },
    {
     "data": {
      "text/html": [
       "Sat\n",
       "<details>\n",
       "\t<summary style=display:list-item;cursor:pointer>\n",
       "\t\t<strong>Levels</strong>:\n",
       "\t</summary>\n",
       "\t<ol class=list-inline>\n",
       "\t\t<li>'Sun'</li>\n",
       "\t\t<li>'Mon'</li>\n",
       "\t\t<li>'Tue'</li>\n",
       "\t\t<li>'Wed'</li>\n",
       "\t\t<li>'Thu'</li>\n",
       "\t\t<li>'Fri'</li>\n",
       "\t\t<li>'Sat'</li>\n",
       "\t</ol>\n",
       "</details>"
      ],
      "text/latex": [
       "Sat\n",
       "\\emph{Levels}: \\begin{enumerate*}\n",
       "\\item 'Sun'\n",
       "\\item 'Mon'\n",
       "\\item 'Tue'\n",
       "\\item 'Wed'\n",
       "\\item 'Thu'\n",
       "\\item 'Fri'\n",
       "\\item 'Sat'\n",
       "\\end{enumerate*}\n"
      ],
      "text/markdown": [
       "Sat\n",
       "**Levels**: 1. 'Sun'\n",
       "2. 'Mon'\n",
       "3. 'Tue'\n",
       "4. 'Wed'\n",
       "5. 'Thu'\n",
       "6. 'Fri'\n",
       "7. 'Sat'\n",
       "\n",
       "\n"
      ],
      "text/plain": [
       "[1] Sat\n",
       "Levels: Sun < Mon < Tue < Wed < Thu < Fri < Sat"
      ]
     },
     "metadata": {},
     "output_type": "display_data"
    }
   ],
   "source": [
    "wday(arrived)\n",
    "wday(arrived, label = T)"
   ]
  },
  {
   "cell_type": "code",
   "execution_count": 44,
   "metadata": {},
   "outputs": [
    {
     "data": {
      "text/html": [
       "<ol class=list-inline>\n",
       "\t<li>'POSIXct'</li>\n",
       "\t<li>'POSIXt'</li>\n",
       "</ol>\n"
      ],
      "text/latex": [
       "\\begin{enumerate*}\n",
       "\\item 'POSIXct'\n",
       "\\item 'POSIXt'\n",
       "\\end{enumerate*}\n"
      ],
      "text/markdown": [
       "1. 'POSIXct'\n",
       "2. 'POSIXt'\n",
       "\n",
       "\n"
      ],
      "text/plain": [
       "[1] \"POSIXct\" \"POSIXt\" "
      ]
     },
     "metadata": {},
     "output_type": "display_data"
    }
   ],
   "source": [
    "class(arrived)"
   ]
  },
  {
   "cell_type": "code",
   "execution_count": 46,
   "metadata": {},
   "outputs": [
    {
     "data": {
      "text/html": [
       "2016-06-04 12:00:25 NZST--2016-08-10 14:00:00 NZST"
      ],
      "text/latex": [
       "2016-06-04 12:00:25 NZST--2016-08-10 14:00:00 NZST"
      ],
      "text/markdown": [
       "2016-06-04 12:00:25 NZST--2016-08-10 14:00:00 NZST"
      ],
      "text/plain": [
       "[1] 2016-06-04 12:00:25 NZST--2016-08-10 14:00:00 NZST"
      ]
     },
     "metadata": {},
     "output_type": "display_data"
    }
   ],
   "source": [
    "inter = interval(arrived, leaves)\n",
    "inter"
   ]
  },
  {
   "cell_type": "code",
   "execution_count": 48,
   "metadata": {},
   "outputs": [
    {
     "data": {
      "text/html": [
       "2016"
      ],
      "text/latex": [
       "2016"
      ],
      "text/markdown": [
       "2016"
      ],
      "text/plain": [
       "[1] 2016"
      ]
     },
     "metadata": {},
     "output_type": "display_data"
    },
    {
     "data": {
      "text/html": [
       "23"
      ],
      "text/latex": [
       "23"
      ],
      "text/markdown": [
       "23"
      ],
      "text/plain": [
       "[1] 23"
      ]
     },
     "metadata": {},
     "output_type": "display_data"
    },
    {
     "data": {
      "text/html": [
       "4"
      ],
      "text/latex": [
       "4"
      ],
      "text/markdown": [
       "4"
      ],
      "text/plain": [
       "[1] 4"
      ]
     },
     "metadata": {},
     "output_type": "display_data"
    }
   ],
   "source": [
    "year(arrived)\n",
    "week(arrived)\n",
    "day(arrived)"
   ]
  },
  {
   "cell_type": "code",
   "execution_count": 50,
   "metadata": {},
   "outputs": [],
   "source": [
    "sleep <- data.frame(bed.time = ymd_hms(\"2013-09-01 23:05:24\", \"2013-09-02 22:51:09\", \n",
    "                                       \"2013-09-04 00:09:16\", \"2013-09-04 23:43:31\", \n",
    "                                       \"2013-09-06 00:17:41\", \"2013-09-06 22:42:27\", \n",
    "                                       \"2013-09-08 00:22:27\"), \n",
    "                    rise.time = ymd_hms(\"2013-09-02 08:03:29\", \"2013-09-03 07:34:21\", \n",
    "                                        \"2013-09-04 07:45:06\", \"2013-09-05 07:07:17\", \n",
    "                                        \"2013-09-06 08:17:13\", \"2013-09-07 06:52:11\", \n",
    "                                        \"2013-09-08 07:15:19\"), \n",
    "                    sleep.time = dhours(c(6.74, 7.92, 7.01, 6.23, 6.34, 7.42, 6.45)))"
   ]
  },
  {
   "cell_type": "code",
   "execution_count": 53,
   "metadata": {},
   "outputs": [
    {
     "data": {
      "text/html": [
       "<table>\n",
       "<thead><tr><th scope=col>bed.time</th><th scope=col>rise.time</th><th scope=col>sleep.time</th><th scope=col>eficiencia</th></tr></thead>\n",
       "<tbody>\n",
       "\t<tr><td>2013-09-01 23:05:24 </td><td>2013-09-02 08:03:29 </td><td>24264s (~6.74 hours)</td><td>75.2                </td></tr>\n",
       "\t<tr><td>2013-09-02 22:51:09 </td><td>2013-09-03 07:34:21 </td><td>28512s (~7.92 hours)</td><td>90.8                </td></tr>\n",
       "\t<tr><td>2013-09-04 00:09:16 </td><td>2013-09-04 07:45:06 </td><td>25236s (~7.01 hours)</td><td>92.3                </td></tr>\n",
       "\t<tr><td>2013-09-04 23:43:31 </td><td>2013-09-05 07:07:17 </td><td>22428s (~6.23 hours)</td><td>84.2                </td></tr>\n",
       "\t<tr><td>2013-09-06 00:17:41 </td><td>2013-09-06 08:17:13 </td><td>22824s (~6.34 hours)</td><td>79.3                </td></tr>\n",
       "\t<tr><td>2013-09-06 22:42:27 </td><td>2013-09-07 06:52:11 </td><td>26712s (~7.42 hours)</td><td>90.9                </td></tr>\n",
       "\t<tr><td>2013-09-08 00:22:27 </td><td>2013-09-08 07:15:19 </td><td>23220s (~6.45 hours)</td><td>93.7                </td></tr>\n",
       "</tbody>\n",
       "</table>\n"
      ],
      "text/latex": [
       "\\begin{tabular}{r|llll}\n",
       " bed.time & rise.time & sleep.time & eficiencia\\\\\n",
       "\\hline\n",
       "\t 2013-09-01 23:05:24                   & 2013-09-02 08:03:29                   & 24264s (\\textasciitilde{}6.74 hours) & 75.2                                 \\\\\n",
       "\t 2013-09-02 22:51:09                   & 2013-09-03 07:34:21                   & 28512s (\\textasciitilde{}7.92 hours) & 90.8                                 \\\\\n",
       "\t 2013-09-04 00:09:16                   & 2013-09-04 07:45:06                   & 25236s (\\textasciitilde{}7.01 hours) & 92.3                                 \\\\\n",
       "\t 2013-09-04 23:43:31                   & 2013-09-05 07:07:17                   & 22428s (\\textasciitilde{}6.23 hours) & 84.2                                 \\\\\n",
       "\t 2013-09-06 00:17:41                   & 2013-09-06 08:17:13                   & 22824s (\\textasciitilde{}6.34 hours) & 79.3                                 \\\\\n",
       "\t 2013-09-06 22:42:27                   & 2013-09-07 06:52:11                   & 26712s (\\textasciitilde{}7.42 hours) & 90.9                                 \\\\\n",
       "\t 2013-09-08 00:22:27                   & 2013-09-08 07:15:19                   & 23220s (\\textasciitilde{}6.45 hours) & 93.7                                 \\\\\n",
       "\\end{tabular}\n"
      ],
      "text/markdown": [
       "\n",
       "bed.time | rise.time | sleep.time | eficiencia | \n",
       "|---|---|---|---|---|---|---|\n",
       "| 2013-09-01 23:05:24  | 2013-09-02 08:03:29  | 24264s (~6.74 hours) | 75.2                 | \n",
       "| 2013-09-02 22:51:09  | 2013-09-03 07:34:21  | 28512s (~7.92 hours) | 90.8                 | \n",
       "| 2013-09-04 00:09:16  | 2013-09-04 07:45:06  | 25236s (~7.01 hours) | 92.3                 | \n",
       "| 2013-09-04 23:43:31  | 2013-09-05 07:07:17  | 22428s (~6.23 hours) | 84.2                 | \n",
       "| 2013-09-06 00:17:41  | 2013-09-06 08:17:13  | 22824s (~6.34 hours) | 79.3                 | \n",
       "| 2013-09-06 22:42:27  | 2013-09-07 06:52:11  | 26712s (~7.42 hours) | 90.9                 | \n",
       "| 2013-09-08 00:22:27  | 2013-09-08 07:15:19  | 23220s (~6.45 hours) | 93.7                 | \n",
       "\n",
       "\n"
      ],
      "text/plain": [
       "  bed.time            rise.time           sleep.time           eficiencia\n",
       "1 2013-09-01 23:05:24 2013-09-02 08:03:29 24264s (~6.74 hours) 75.2      \n",
       "2 2013-09-02 22:51:09 2013-09-03 07:34:21 28512s (~7.92 hours) 90.8      \n",
       "3 2013-09-04 00:09:16 2013-09-04 07:45:06 25236s (~7.01 hours) 92.3      \n",
       "4 2013-09-04 23:43:31 2013-09-05 07:07:17 22428s (~6.23 hours) 84.2      \n",
       "5 2013-09-06 00:17:41 2013-09-06 08:17:13 22824s (~6.34 hours) 79.3      \n",
       "6 2013-09-06 22:42:27 2013-09-07 06:52:11 26712s (~7.42 hours) 90.9      \n",
       "7 2013-09-08 00:22:27 2013-09-08 07:15:19 23220s (~6.45 hours) 93.7      "
      ]
     },
     "metadata": {},
     "output_type": "display_data"
    },
    {
     "data": {
      "text/html": [
       "<table>\n",
       "<thead><tr><th scope=col>bed.time</th><th scope=col>rise.time</th><th scope=col>sleep.time</th><th scope=col>eficiencia</th><th scope=col>efficiency</th></tr></thead>\n",
       "<tbody>\n",
       "\t<tr><td>2013-09-01 23:05:24 </td><td>2013-09-02 08:03:29 </td><td>24264s (~6.74 hours)</td><td>75.2                </td><td>75.2                </td></tr>\n",
       "\t<tr><td>2013-09-02 22:51:09 </td><td>2013-09-03 07:34:21 </td><td>28512s (~7.92 hours)</td><td>90.8                </td><td>90.8                </td></tr>\n",
       "\t<tr><td>2013-09-04 00:09:16 </td><td>2013-09-04 07:45:06 </td><td>25236s (~7.01 hours)</td><td>92.3                </td><td>92.3                </td></tr>\n",
       "\t<tr><td>2013-09-04 23:43:31 </td><td>2013-09-05 07:07:17 </td><td>22428s (~6.23 hours)</td><td>84.2                </td><td>84.2                </td></tr>\n",
       "\t<tr><td>2013-09-06 00:17:41 </td><td>2013-09-06 08:17:13 </td><td>22824s (~6.34 hours)</td><td>79.3                </td><td>79.3                </td></tr>\n",
       "\t<tr><td>2013-09-06 22:42:27 </td><td>2013-09-07 06:52:11 </td><td>26712s (~7.42 hours)</td><td>90.9                </td><td>90.9                </td></tr>\n",
       "\t<tr><td>2013-09-08 00:22:27 </td><td>2013-09-08 07:15:19 </td><td>23220s (~6.45 hours)</td><td>93.7                </td><td>93.7                </td></tr>\n",
       "</tbody>\n",
       "</table>\n"
      ],
      "text/latex": [
       "\\begin{tabular}{r|lllll}\n",
       " bed.time & rise.time & sleep.time & eficiencia & efficiency\\\\\n",
       "\\hline\n",
       "\t 2013-09-01 23:05:24                   & 2013-09-02 08:03:29                   & 24264s (\\textasciitilde{}6.74 hours) & 75.2                                  & 75.2                                 \\\\\n",
       "\t 2013-09-02 22:51:09                   & 2013-09-03 07:34:21                   & 28512s (\\textasciitilde{}7.92 hours) & 90.8                                  & 90.8                                 \\\\\n",
       "\t 2013-09-04 00:09:16                   & 2013-09-04 07:45:06                   & 25236s (\\textasciitilde{}7.01 hours) & 92.3                                  & 92.3                                 \\\\\n",
       "\t 2013-09-04 23:43:31                   & 2013-09-05 07:07:17                   & 22428s (\\textasciitilde{}6.23 hours) & 84.2                                  & 84.2                                 \\\\\n",
       "\t 2013-09-06 00:17:41                   & 2013-09-06 08:17:13                   & 22824s (\\textasciitilde{}6.34 hours) & 79.3                                  & 79.3                                 \\\\\n",
       "\t 2013-09-06 22:42:27                   & 2013-09-07 06:52:11                   & 26712s (\\textasciitilde{}7.42 hours) & 90.9                                  & 90.9                                 \\\\\n",
       "\t 2013-09-08 00:22:27                   & 2013-09-08 07:15:19                   & 23220s (\\textasciitilde{}6.45 hours) & 93.7                                  & 93.7                                 \\\\\n",
       "\\end{tabular}\n"
      ],
      "text/markdown": [
       "\n",
       "bed.time | rise.time | sleep.time | eficiencia | efficiency | \n",
       "|---|---|---|---|---|---|---|\n",
       "| 2013-09-01 23:05:24  | 2013-09-02 08:03:29  | 24264s (~6.74 hours) | 75.2                 | 75.2                 | \n",
       "| 2013-09-02 22:51:09  | 2013-09-03 07:34:21  | 28512s (~7.92 hours) | 90.8                 | 90.8                 | \n",
       "| 2013-09-04 00:09:16  | 2013-09-04 07:45:06  | 25236s (~7.01 hours) | 92.3                 | 92.3                 | \n",
       "| 2013-09-04 23:43:31  | 2013-09-05 07:07:17  | 22428s (~6.23 hours) | 84.2                 | 84.2                 | \n",
       "| 2013-09-06 00:17:41  | 2013-09-06 08:17:13  | 22824s (~6.34 hours) | 79.3                 | 79.3                 | \n",
       "| 2013-09-06 22:42:27  | 2013-09-07 06:52:11  | 26712s (~7.42 hours) | 90.9                 | 90.9                 | \n",
       "| 2013-09-08 00:22:27  | 2013-09-08 07:15:19  | 23220s (~6.45 hours) | 93.7                 | 93.7                 | \n",
       "\n",
       "\n"
      ],
      "text/plain": [
       "  bed.time            rise.time           sleep.time           eficiencia\n",
       "1 2013-09-01 23:05:24 2013-09-02 08:03:29 24264s (~6.74 hours) 75.2      \n",
       "2 2013-09-02 22:51:09 2013-09-03 07:34:21 28512s (~7.92 hours) 90.8      \n",
       "3 2013-09-04 00:09:16 2013-09-04 07:45:06 25236s (~7.01 hours) 92.3      \n",
       "4 2013-09-04 23:43:31 2013-09-05 07:07:17 22428s (~6.23 hours) 84.2      \n",
       "5 2013-09-06 00:17:41 2013-09-06 08:17:13 22824s (~6.34 hours) 79.3      \n",
       "6 2013-09-06 22:42:27 2013-09-07 06:52:11 26712s (~7.42 hours) 90.9      \n",
       "7 2013-09-08 00:22:27 2013-09-08 07:15:19 23220s (~6.45 hours) 93.7      \n",
       "  efficiency\n",
       "1 75.2      \n",
       "2 90.8      \n",
       "3 92.3      \n",
       "4 84.2      \n",
       "5 79.3      \n",
       "6 90.9      \n",
       "7 93.7      "
      ]
     },
     "metadata": {},
     "output_type": "display_data"
    }
   ],
   "source": [
    "sleep\n",
    "sleep$efficiency <- round(sleep$sleep.time/(sleep$rise.time - sleep$bed.time) * 100, 1)\n",
    "sleep"
   ]
  },
  {
   "cell_type": "code",
   "execution_count": 55,
   "metadata": {},
   "outputs": [
    {
     "data": {
      "image/png": "[encoded data removed]",
      "text/plain": [
       "plot without title"
      ]
     },
     "metadata": {},
     "output_type": "display_data",
     "source": "R display func"
    }
   ],
   "source": [
    "par(mar = c(5, 4, 4, 4))\n",
    "plot(round_date(sleep$rise.time, \"day\"), sleep$efficiency, type = \"o\", col = \"blue\", xlab = \"Morning\", ylab = NA)\n",
    "par(new = TRUE)\n",
    "plot(round_date(sleep$rise.time, \"day\"), sleep$sleep.time/3600, type = \"o\", col = \"red\", axes = FALSE, ylab = NA, xlab = NA)\n",
    "axis(side = 4)\n",
    "mtext(side = 4, line = 2.5, col = \"red\", \"Sleep duration\")\n",
    "mtext(side = 2, line = 2.5, col = \"blue\", \"Sleep efficiency\")"
   ]
  },
  {
   "cell_type": "code",
   "execution_count": null,
   "metadata": {},
   "outputs": [],
   "source": []
  }
 ],
 "metadata": {
  "kernelspec": {
   "display_name": "R",
   "language": "R",
   "name": "ir"
  },
  "language_info": {
   "codemirror_mode": "r",
   "file_extension": ".r",
   "mimetype": "text/x-r-source",
   "name": "R",
   "pygments_lexer": "r",
   "version": "3.5.1"
  }
 },
 "nbformat": 4,
 "nbformat_minor": 2
}
