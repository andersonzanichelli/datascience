{
 "cells": [
  {
   "cell_type": "markdown",
   "metadata": {},
   "source": [
    "# Big Data by Example\n",
    "\n",
    "### Analysis over the mean temperature"
   ]
  },
  {
   "cell_type": "markdown",
   "metadata": {},
   "source": [
    "# Dataset: berkeleyearth\n",
    "http://berkeleyearth.org/data"
   ]
  },
  {
   "cell_type": "code",
   "execution_count": 1,
   "metadata": {},
   "outputs": [
    {
     "name": "stderr",
     "output_type": "stream",
     "text": [
      "Warning message:\n",
      "“package ‘dyplyr’ is not available (for R version 3.5.1)”Updating HTML index of packages in '.Library'\n",
      "Making 'packages.html' ... done\n"
     ]
    }
   ],
   "source": [
    "install.packages(c('readr', 'data.table', 'dplyr', 'ggplot2'))"
   ]
  },
  {
   "cell_type": "code",
   "execution_count": 2,
   "metadata": {},
   "outputs": [
    {
     "name": "stderr",
     "output_type": "stream",
     "text": [
      "\n",
      "Attaching package: ‘dplyr’\n",
      "\n",
      "The following objects are masked from ‘package:stats’:\n",
      "\n",
      "    filter, lag\n",
      "\n",
      "The following objects are masked from ‘package:base’:\n",
      "\n",
      "    intersect, setdiff, setequal, union\n",
      "\n",
      "\n",
      "Attaching package: ‘scales’\n",
      "\n",
      "The following object is masked from ‘package:readr’:\n",
      "\n",
      "    col_factor\n",
      "\n",
      "\n",
      "Attaching package: ‘data.table’\n",
      "\n",
      "The following objects are masked from ‘package:dplyr’:\n",
      "\n",
      "    between, first, last\n",
      "\n"
     ]
    }
   ],
   "source": [
    "library(readr)\n",
    "library(dplyr)\n",
    "library(ggplot2)\n",
    "library(scales)\n",
    "library(data.table)"
   ]
  },
  {
   "cell_type": "code",
   "execution_count": null,
   "metadata": {},
   "outputs": [],
   "source": [
    "# Using read.csv2()\n",
    "# Very slow\n",
    "system.tyme(df_test1 <- read.csv2('../../../../datasets/TemperaturasGlobais.csv'))"
   ]
  },
  {
   "cell_type": "code",
   "execution_count": null,
   "metadata": {},
   "outputs": [],
   "source": [
    "# Using read.table\n",
    "# Slow\n",
    "system.time(df_test2 <- read.table('../../../../datasets/TemperaturasGlobais.csv'))"
   ]
  },
  {
   "cell_type": "code",
   "execution_count": 3,
   "metadata": {},
   "outputs": [
    {
     "data": {
      "text/plain": [
       "   user  system elapsed \n",
       "  6.336   0.488   3.580 "
      ]
     },
     "metadata": {},
     "output_type": "display_data"
    }
   ],
   "source": [
    "# Using fread()\n",
    "# Fast\n",
    "system.time(df <- fread('../../../../datasets/TemperaturasGlobais.csv'))"
   ]
  },
  {
   "cell_type": "code",
   "execution_count": 5,
   "metadata": {},
   "outputs": [
    {
     "data": {
      "text/html": [
       "<table>\n",
       "<thead><tr><th scope=col>dt</th><th scope=col>AverageTemperature</th><th scope=col>AverageTemperatureUncertainty</th><th scope=col>City</th><th scope=col>Country</th><th scope=col>Latitude</th><th scope=col>Longitude</th></tr></thead>\n",
       "<tbody>\n",
       "\t<tr><td>1832-01-01</td><td>25.953    </td><td>1.570     </td><td>Alagoinhas</td><td>Brazil    </td><td>12.05S    </td><td>37.81W    </td></tr>\n",
       "\t<tr><td>1832-02-01</td><td>25.933    </td><td>2.372     </td><td>Alagoinhas</td><td>Brazil    </td><td>12.05S    </td><td>37.81W    </td></tr>\n",
       "\t<tr><td>1832-03-01</td><td>25.968    </td><td>1.585     </td><td>Alagoinhas</td><td>Brazil    </td><td>12.05S    </td><td>37.81W    </td></tr>\n",
       "\t<tr><td>1832-04-01</td><td>25.100    </td><td>2.175     </td><td>Alagoinhas</td><td>Brazil    </td><td>12.05S    </td><td>37.81W    </td></tr>\n",
       "\t<tr><td>1832-05-01</td><td>24.213    </td><td>1.809     </td><td>Alagoinhas</td><td>Brazil    </td><td>12.05S    </td><td>37.81W    </td></tr>\n",
       "\t<tr><td>1832-06-01</td><td>23.844    </td><td>1.695     </td><td>Alagoinhas</td><td>Brazil    </td><td>12.05S    </td><td>37.81W    </td></tr>\n",
       "</tbody>\n",
       "</table>\n"
      ],
      "text/latex": [
       "\\begin{tabular}{r|lllllll}\n",
       " dt & AverageTemperature & AverageTemperatureUncertainty & City & Country & Latitude & Longitude\\\\\n",
       "\\hline\n",
       "\t 1832-01-01 & 25.953     & 1.570      & Alagoinhas & Brazil     & 12.05S     & 37.81W    \\\\\n",
       "\t 1832-02-01 & 25.933     & 2.372      & Alagoinhas & Brazil     & 12.05S     & 37.81W    \\\\\n",
       "\t 1832-03-01 & 25.968     & 1.585      & Alagoinhas & Brazil     & 12.05S     & 37.81W    \\\\\n",
       "\t 1832-04-01 & 25.100     & 2.175      & Alagoinhas & Brazil     & 12.05S     & 37.81W    \\\\\n",
       "\t 1832-05-01 & 24.213     & 1.809      & Alagoinhas & Brazil     & 12.05S     & 37.81W    \\\\\n",
       "\t 1832-06-01 & 23.844     & 1.695      & Alagoinhas & Brazil     & 12.05S     & 37.81W    \\\\\n",
       "\\end{tabular}\n"
      ],
      "text/markdown": [
       "\n",
       "dt | AverageTemperature | AverageTemperatureUncertainty | City | Country | Latitude | Longitude | \n",
       "|---|---|---|---|---|---|\n",
       "| 1832-01-01 | 25.953     | 1.570      | Alagoinhas | Brazil     | 12.05S     | 37.81W     | \n",
       "| 1832-02-01 | 25.933     | 2.372      | Alagoinhas | Brazil     | 12.05S     | 37.81W     | \n",
       "| 1832-03-01 | 25.968     | 1.585      | Alagoinhas | Brazil     | 12.05S     | 37.81W     | \n",
       "| 1832-04-01 | 25.100     | 2.175      | Alagoinhas | Brazil     | 12.05S     | 37.81W     | \n",
       "| 1832-05-01 | 24.213     | 1.809      | Alagoinhas | Brazil     | 12.05S     | 37.81W     | \n",
       "| 1832-06-01 | 23.844     | 1.695      | Alagoinhas | Brazil     | 12.05S     | 37.81W     | \n",
       "\n",
       "\n"
      ],
      "text/plain": [
       "  dt         AverageTemperature AverageTemperatureUncertainty City      \n",
       "1 1832-01-01 25.953             1.570                         Alagoinhas\n",
       "2 1832-02-01 25.933             2.372                         Alagoinhas\n",
       "3 1832-03-01 25.968             1.585                         Alagoinhas\n",
       "4 1832-04-01 25.100             2.175                         Alagoinhas\n",
       "5 1832-05-01 24.213             1.809                         Alagoinhas\n",
       "6 1832-06-01 23.844             1.695                         Alagoinhas\n",
       "  Country Latitude Longitude\n",
       "1 Brazil  12.05S   37.81W   \n",
       "2 Brazil  12.05S   37.81W   \n",
       "3 Brazil  12.05S   37.81W   \n",
       "4 Brazil  12.05S   37.81W   \n",
       "5 Brazil  12.05S   37.81W   \n",
       "6 Brazil  12.05S   37.81W   "
      ]
     },
     "metadata": {},
     "output_type": "display_data"
    }
   ],
   "source": [
    "brazilianCities <- subset(df, Country == 'Brazil')\n",
    "brazilianCities <- na.omit(brazilianCities)\n",
    "head(brazilianCities)"
   ]
  },
  {
   "cell_type": "code",
   "execution_count": 6,
   "metadata": {},
   "outputs": [
    {
     "data": {
      "text/html": [
       "8599212"
      ],
      "text/latex": [
       "8599212"
      ],
      "text/markdown": [
       "8599212"
      ],
      "text/plain": [
       "[1] 8599212"
      ]
     },
     "metadata": {},
     "output_type": "display_data"
    },
    {
     "data": {
      "text/html": [
       "451645"
      ],
      "text/latex": [
       "451645"
      ],
      "text/markdown": [
       "451645"
      ],
      "text/plain": [
       "[1] 451645"
      ]
     },
     "metadata": {},
     "output_type": "display_data"
    },
    {
     "data": {
      "text/html": [
       "<ol class=list-inline>\n",
       "\t<li>451645</li>\n",
       "\t<li>7</li>\n",
       "</ol>\n"
      ],
      "text/latex": [
       "\\begin{enumerate*}\n",
       "\\item 451645\n",
       "\\item 7\n",
       "\\end{enumerate*}\n"
      ],
      "text/markdown": [
       "1. 451645\n",
       "2. 7\n",
       "\n",
       "\n"
      ],
      "text/plain": [
       "[1] 451645      7"
      ]
     },
     "metadata": {},
     "output_type": "display_data"
    }
   ],
   "source": [
    "nrow(df)\n",
    "nrow(brazilianCities)\n",
    "dim(brazilianCities)"
   ]
  },
  {
   "cell_type": "code",
   "execution_count": 7,
   "metadata": {},
   "outputs": [],
   "source": [
    "brazilianCities$dt <- as.POSIXct(brazilianCities$dt, format='%Y-%m-%d')\n",
    "brazilianCities$Month <- month(brazilianCities$dt)\n",
    "brazilianCities$Year <- year(brazilianCities$dt)"
   ]
  },
  {
   "cell_type": "code",
   "execution_count": 17,
   "metadata": {},
   "outputs": [
    {
     "data": {
      "text/html": [
       "<table>\n",
       "<thead><tr><th scope=col>dt</th><th scope=col>AverageTemperature</th><th scope=col>AverageTemperatureUncertainty</th><th scope=col>City</th><th scope=col>Country</th><th scope=col>Latitude</th><th scope=col>Longitude</th><th scope=col>Month</th><th scope=col>Year</th></tr></thead>\n",
       "<tbody>\n",
       "\t<tr><td>1832-01-01</td><td>25.953    </td><td>1.570     </td><td>Alagoinhas</td><td>Brazil    </td><td>12.05S    </td><td>37.81W    </td><td>1         </td><td>1832      </td></tr>\n",
       "\t<tr><td>1832-02-01</td><td>25.933    </td><td>2.372     </td><td>Alagoinhas</td><td>Brazil    </td><td>12.05S    </td><td>37.81W    </td><td>2         </td><td>1832      </td></tr>\n",
       "\t<tr><td>1832-03-01</td><td>25.968    </td><td>1.585     </td><td>Alagoinhas</td><td>Brazil    </td><td>12.05S    </td><td>37.81W    </td><td>3         </td><td>1832      </td></tr>\n",
       "\t<tr><td>1832-04-01</td><td>25.100    </td><td>2.175     </td><td>Alagoinhas</td><td>Brazil    </td><td>12.05S    </td><td>37.81W    </td><td>4         </td><td>1832      </td></tr>\n",
       "\t<tr><td>1832-05-01</td><td>24.213    </td><td>1.809     </td><td>Alagoinhas</td><td>Brazil    </td><td>12.05S    </td><td>37.81W    </td><td>5         </td><td>1832      </td></tr>\n",
       "\t<tr><td>1832-06-01</td><td>23.844    </td><td>1.695     </td><td>Alagoinhas</td><td>Brazil    </td><td>12.05S    </td><td>37.81W    </td><td>6         </td><td>1832      </td></tr>\n",
       "</tbody>\n",
       "</table>\n"
      ],
      "text/latex": [
       "\\begin{tabular}{r|lllllllll}\n",
       " dt & AverageTemperature & AverageTemperatureUncertainty & City & Country & Latitude & Longitude & Month & Year\\\\\n",
       "\\hline\n",
       "\t 1832-01-01 & 25.953     & 1.570      & Alagoinhas & Brazil     & 12.05S     & 37.81W     & 1          & 1832      \\\\\n",
       "\t 1832-02-01 & 25.933     & 2.372      & Alagoinhas & Brazil     & 12.05S     & 37.81W     & 2          & 1832      \\\\\n",
       "\t 1832-03-01 & 25.968     & 1.585      & Alagoinhas & Brazil     & 12.05S     & 37.81W     & 3          & 1832      \\\\\n",
       "\t 1832-04-01 & 25.100     & 2.175      & Alagoinhas & Brazil     & 12.05S     & 37.81W     & 4          & 1832      \\\\\n",
       "\t 1832-05-01 & 24.213     & 1.809      & Alagoinhas & Brazil     & 12.05S     & 37.81W     & 5          & 1832      \\\\\n",
       "\t 1832-06-01 & 23.844     & 1.695      & Alagoinhas & Brazil     & 12.05S     & 37.81W     & 6          & 1832      \\\\\n",
       "\\end{tabular}\n"
      ],
      "text/markdown": [
       "\n",
       "dt | AverageTemperature | AverageTemperatureUncertainty | City | Country | Latitude | Longitude | Month | Year | \n",
       "|---|---|---|---|---|---|\n",
       "| 1832-01-01 | 25.953     | 1.570      | Alagoinhas | Brazil     | 12.05S     | 37.81W     | 1          | 1832       | \n",
       "| 1832-02-01 | 25.933     | 2.372      | Alagoinhas | Brazil     | 12.05S     | 37.81W     | 2          | 1832       | \n",
       "| 1832-03-01 | 25.968     | 1.585      | Alagoinhas | Brazil     | 12.05S     | 37.81W     | 3          | 1832       | \n",
       "| 1832-04-01 | 25.100     | 2.175      | Alagoinhas | Brazil     | 12.05S     | 37.81W     | 4          | 1832       | \n",
       "| 1832-05-01 | 24.213     | 1.809      | Alagoinhas | Brazil     | 12.05S     | 37.81W     | 5          | 1832       | \n",
       "| 1832-06-01 | 23.844     | 1.695      | Alagoinhas | Brazil     | 12.05S     | 37.81W     | 6          | 1832       | \n",
       "\n",
       "\n"
      ],
      "text/plain": [
       "  dt         AverageTemperature AverageTemperatureUncertainty City      \n",
       "1 1832-01-01 25.953             1.570                         Alagoinhas\n",
       "2 1832-02-01 25.933             2.372                         Alagoinhas\n",
       "3 1832-03-01 25.968             1.585                         Alagoinhas\n",
       "4 1832-04-01 25.100             2.175                         Alagoinhas\n",
       "5 1832-05-01 24.213             1.809                         Alagoinhas\n",
       "6 1832-06-01 23.844             1.695                         Alagoinhas\n",
       "  Country Latitude Longitude Month Year\n",
       "1 Brazil  12.05S   37.81W    1     1832\n",
       "2 Brazil  12.05S   37.81W    2     1832\n",
       "3 Brazil  12.05S   37.81W    3     1832\n",
       "4 Brazil  12.05S   37.81W    4     1832\n",
       "5 Brazil  12.05S   37.81W    5     1832\n",
       "6 Brazil  12.05S   37.81W    6     1832"
      ]
     },
     "metadata": {},
     "output_type": "display_data"
    }
   ],
   "source": [
    "head(brazilianCities)"
   ]
  },
  {
   "cell_type": "code",
   "execution_count": 23,
   "metadata": {},
   "outputs": [
    {
     "data": {
      "text/html": [
       "<table>\n",
       "<thead><tr><th scope=col>dt</th><th scope=col>AverageTemperature</th><th scope=col>AverageTemperatureUncertainty</th><th scope=col>City</th><th scope=col>Country</th><th scope=col>Latitude</th><th scope=col>Longitude</th><th scope=col>Month</th><th scope=col>Year</th></tr></thead>\n",
       "<tbody>\n",
       "\t<tr><td>1896-01-01</td><td>21.767    </td><td>0.764     </td><td>Jundiaí   </td><td>Brazil    </td><td>23.31S    </td><td>46.31W    </td><td>1         </td><td>1896      </td></tr>\n",
       "\t<tr><td>1896-02-01</td><td>22.851    </td><td>1.191     </td><td>Jundiaí   </td><td>Brazil    </td><td>23.31S    </td><td>46.31W    </td><td>2         </td><td>1896      </td></tr>\n",
       "\t<tr><td>1896-03-01</td><td>21.385    </td><td>0.611     </td><td>Jundiaí   </td><td>Brazil    </td><td>23.31S    </td><td>46.31W    </td><td>3         </td><td>1896      </td></tr>\n",
       "\t<tr><td>1896-04-01</td><td>18.656    </td><td>0.883     </td><td>Jundiaí   </td><td>Brazil    </td><td>23.31S    </td><td>46.31W    </td><td>4         </td><td>1896      </td></tr>\n",
       "\t<tr><td>1896-05-01</td><td>16.503    </td><td>0.627     </td><td>Jundiaí   </td><td>Brazil    </td><td>23.31S    </td><td>46.31W    </td><td>5         </td><td>1896      </td></tr>\n",
       "\t<tr><td>1896-06-01</td><td>15.984    </td><td>0.737     </td><td>Jundiaí   </td><td>Brazil    </td><td>23.31S    </td><td>46.31W    </td><td>6         </td><td>1896      </td></tr>\n",
       "</tbody>\n",
       "</table>\n"
      ],
      "text/latex": [
       "\\begin{tabular}{r|lllllllll}\n",
       " dt & AverageTemperature & AverageTemperatureUncertainty & City & Country & Latitude & Longitude & Month & Year\\\\\n",
       "\\hline\n",
       "\t 1896-01-01 & 21.767     & 0.764      & Jundiaí    & Brazil     & 23.31S     & 46.31W     & 1          & 1896      \\\\\n",
       "\t 1896-02-01 & 22.851     & 1.191      & Jundiaí    & Brazil     & 23.31S     & 46.31W     & 2          & 1896      \\\\\n",
       "\t 1896-03-01 & 21.385     & 0.611      & Jundiaí    & Brazil     & 23.31S     & 46.31W     & 3          & 1896      \\\\\n",
       "\t 1896-04-01 & 18.656     & 0.883      & Jundiaí    & Brazil     & 23.31S     & 46.31W     & 4          & 1896      \\\\\n",
       "\t 1896-05-01 & 16.503     & 0.627      & Jundiaí    & Brazil     & 23.31S     & 46.31W     & 5          & 1896      \\\\\n",
       "\t 1896-06-01 & 15.984     & 0.737      & Jundiaí    & Brazil     & 23.31S     & 46.31W     & 6          & 1896      \\\\\n",
       "\\end{tabular}\n"
      ],
      "text/markdown": [
       "\n",
       "dt | AverageTemperature | AverageTemperatureUncertainty | City | Country | Latitude | Longitude | Month | Year | \n",
       "|---|---|---|---|---|---|\n",
       "| 1896-01-01 | 21.767     | 0.764      | Jundiaí    | Brazil     | 23.31S     | 46.31W     | 1          | 1896       | \n",
       "| 1896-02-01 | 22.851     | 1.191      | Jundiaí    | Brazil     | 23.31S     | 46.31W     | 2          | 1896       | \n",
       "| 1896-03-01 | 21.385     | 0.611      | Jundiaí    | Brazil     | 23.31S     | 46.31W     | 3          | 1896       | \n",
       "| 1896-04-01 | 18.656     | 0.883      | Jundiaí    | Brazil     | 23.31S     | 46.31W     | 4          | 1896       | \n",
       "| 1896-05-01 | 16.503     | 0.627      | Jundiaí    | Brazil     | 23.31S     | 46.31W     | 5          | 1896       | \n",
       "| 1896-06-01 | 15.984     | 0.737      | Jundiaí    | Brazil     | 23.31S     | 46.31W     | 6          | 1896       | \n",
       "\n",
       "\n"
      ],
      "text/plain": [
       "  dt         AverageTemperature AverageTemperatureUncertainty City    Country\n",
       "1 1896-01-01 21.767             0.764                         Jundiaí Brazil \n",
       "2 1896-02-01 22.851             1.191                         Jundiaí Brazil \n",
       "3 1896-03-01 21.385             0.611                         Jundiaí Brazil \n",
       "4 1896-04-01 18.656             0.883                         Jundiaí Brazil \n",
       "5 1896-05-01 16.503             0.627                         Jundiaí Brazil \n",
       "6 1896-06-01 15.984             0.737                         Jundiaí Brazil \n",
       "  Latitude Longitude Month Year\n",
       "1 23.31S   46.31W    1     1896\n",
       "2 23.31S   46.31W    2     1896\n",
       "3 23.31S   46.31W    3     1896\n",
       "4 23.31S   46.31W    4     1896\n",
       "5 23.31S   46.31W    5     1896\n",
       "6 23.31S   46.31W    6     1896"
      ]
     },
     "metadata": {},
     "output_type": "display_data"
    }
   ],
   "source": [
    "# Jundiai\n",
    "jundiai <- subset(brazilianCities, City == 'Jundiaí')\n",
    "jundiai <- subset(jundiai, Year %in% c(1796, 1846, 1896, 1946, 1976, 1996, 2012))\n",
    "head(jundiai)"
   ]
  },
  {
   "cell_type": "code",
   "execution_count": 22,
   "metadata": {},
   "outputs": [
    {
     "data": {
      "text/html": [
       "<table>\n",
       "<thead><tr><th scope=col>dt</th><th scope=col>AverageTemperature</th><th scope=col>AverageTemperatureUncertainty</th><th scope=col>City</th><th scope=col>Country</th><th scope=col>Latitude</th><th scope=col>Longitude</th><th scope=col>Month</th><th scope=col>Year</th></tr></thead>\n",
       "<tbody>\n",
       "\t<tr><td>1896-01-01</td><td>23.671    </td><td>0.452     </td><td>Maringá   </td><td>Brazil    </td><td>23.31S    </td><td>51.55W    </td><td>1         </td><td>1896      </td></tr>\n",
       "\t<tr><td>1896-02-01</td><td>24.309    </td><td>1.076     </td><td>Maringá   </td><td>Brazil    </td><td>23.31S    </td><td>51.55W    </td><td>2         </td><td>1896      </td></tr>\n",
       "\t<tr><td>1896-03-01</td><td>23.627    </td><td>0.633     </td><td>Maringá   </td><td>Brazil    </td><td>23.31S    </td><td>51.55W    </td><td>3         </td><td>1896      </td></tr>\n",
       "\t<tr><td>1896-04-01</td><td>21.106    </td><td>0.939     </td><td>Maringá   </td><td>Brazil    </td><td>23.31S    </td><td>51.55W    </td><td>4         </td><td>1896      </td></tr>\n",
       "\t<tr><td>1896-05-01</td><td>18.871    </td><td>1.034     </td><td>Maringá   </td><td>Brazil    </td><td>23.31S    </td><td>51.55W    </td><td>5         </td><td>1896      </td></tr>\n",
       "\t<tr><td>1896-06-01</td><td>17.021    </td><td>0.872     </td><td>Maringá   </td><td>Brazil    </td><td>23.31S    </td><td>51.55W    </td><td>6         </td><td>1896      </td></tr>\n",
       "</tbody>\n",
       "</table>\n"
      ],
      "text/latex": [
       "\\begin{tabular}{r|lllllllll}\n",
       " dt & AverageTemperature & AverageTemperatureUncertainty & City & Country & Latitude & Longitude & Month & Year\\\\\n",
       "\\hline\n",
       "\t 1896-01-01 & 23.671     & 0.452      & Maringá    & Brazil     & 23.31S     & 51.55W     & 1          & 1896      \\\\\n",
       "\t 1896-02-01 & 24.309     & 1.076      & Maringá    & Brazil     & 23.31S     & 51.55W     & 2          & 1896      \\\\\n",
       "\t 1896-03-01 & 23.627     & 0.633      & Maringá    & Brazil     & 23.31S     & 51.55W     & 3          & 1896      \\\\\n",
       "\t 1896-04-01 & 21.106     & 0.939      & Maringá    & Brazil     & 23.31S     & 51.55W     & 4          & 1896      \\\\\n",
       "\t 1896-05-01 & 18.871     & 1.034      & Maringá    & Brazil     & 23.31S     & 51.55W     & 5          & 1896      \\\\\n",
       "\t 1896-06-01 & 17.021     & 0.872      & Maringá    & Brazil     & 23.31S     & 51.55W     & 6          & 1896      \\\\\n",
       "\\end{tabular}\n"
      ],
      "text/markdown": [
       "\n",
       "dt | AverageTemperature | AverageTemperatureUncertainty | City | Country | Latitude | Longitude | Month | Year | \n",
       "|---|---|---|---|---|---|\n",
       "| 1896-01-01 | 23.671     | 0.452      | Maringá    | Brazil     | 23.31S     | 51.55W     | 1          | 1896       | \n",
       "| 1896-02-01 | 24.309     | 1.076      | Maringá    | Brazil     | 23.31S     | 51.55W     | 2          | 1896       | \n",
       "| 1896-03-01 | 23.627     | 0.633      | Maringá    | Brazil     | 23.31S     | 51.55W     | 3          | 1896       | \n",
       "| 1896-04-01 | 21.106     | 0.939      | Maringá    | Brazil     | 23.31S     | 51.55W     | 4          | 1896       | \n",
       "| 1896-05-01 | 18.871     | 1.034      | Maringá    | Brazil     | 23.31S     | 51.55W     | 5          | 1896       | \n",
       "| 1896-06-01 | 17.021     | 0.872      | Maringá    | Brazil     | 23.31S     | 51.55W     | 6          | 1896       | \n",
       "\n",
       "\n"
      ],
      "text/plain": [
       "  dt         AverageTemperature AverageTemperatureUncertainty City    Country\n",
       "1 1896-01-01 23.671             0.452                         Maringá Brazil \n",
       "2 1896-02-01 24.309             1.076                         Maringá Brazil \n",
       "3 1896-03-01 23.627             0.633                         Maringá Brazil \n",
       "4 1896-04-01 21.106             0.939                         Maringá Brazil \n",
       "5 1896-05-01 18.871             1.034                         Maringá Brazil \n",
       "6 1896-06-01 17.021             0.872                         Maringá Brazil \n",
       "  Latitude Longitude Month Year\n",
       "1 23.31S   51.55W    1     1896\n",
       "2 23.31S   51.55W    2     1896\n",
       "3 23.31S   51.55W    3     1896\n",
       "4 23.31S   51.55W    4     1896\n",
       "5 23.31S   51.55W    5     1896\n",
       "6 23.31S   51.55W    6     1896"
      ]
     },
     "metadata": {},
     "output_type": "display_data"
    }
   ],
   "source": [
    "maringa <- subset(brazilianCities, City == 'Maringá')\n",
    "maringa <- subset(maringa, Year %in% c(1796, 1846, 1896, 1946, 1976, 1996, 2012))\n",
    "head(maringa)"
   ]
  },
  {
   "cell_type": "code",
   "execution_count": 20,
   "metadata": {},
   "outputs": [
    {
     "data": {
      "text/html": [
       "<table>\n",
       "<thead><tr><th scope=col>dt</th><th scope=col>AverageTemperature</th><th scope=col>AverageTemperatureUncertainty</th><th scope=col>City</th><th scope=col>Country</th><th scope=col>Latitude</th><th scope=col>Longitude</th><th scope=col>Month</th><th scope=col>Year</th></tr></thead>\n",
       "<tbody>\n",
       "\t<tr><td>1896-01-01   </td><td>25.024       </td><td>0.437        </td><td>Foz Do Iguaçu</td><td>Brazil       </td><td>24.92S       </td><td>54.98W       </td><td>1            </td><td>1896         </td></tr>\n",
       "\t<tr><td>1896-02-01   </td><td>24.993       </td><td>1.130        </td><td>Foz Do Iguaçu</td><td>Brazil       </td><td>24.92S       </td><td>54.98W       </td><td>2            </td><td>1896         </td></tr>\n",
       "\t<tr><td>1896-03-01   </td><td>24.314       </td><td>0.898        </td><td>Foz Do Iguaçu</td><td>Brazil       </td><td>24.92S       </td><td>54.98W       </td><td>3            </td><td>1896         </td></tr>\n",
       "\t<tr><td>1896-04-01   </td><td>21.271       </td><td>0.855        </td><td>Foz Do Iguaçu</td><td>Brazil       </td><td>24.92S       </td><td>54.98W       </td><td>4            </td><td>1896         </td></tr>\n",
       "\t<tr><td>1896-05-01   </td><td>19.000       </td><td>1.153        </td><td>Foz Do Iguaçu</td><td>Brazil       </td><td>24.92S       </td><td>54.98W       </td><td>5            </td><td>1896         </td></tr>\n",
       "\t<tr><td>1896-06-01   </td><td>16.014       </td><td>0.666        </td><td>Foz Do Iguaçu</td><td>Brazil       </td><td>24.92S       </td><td>54.98W       </td><td>6            </td><td>1896         </td></tr>\n",
       "</tbody>\n",
       "</table>\n"
      ],
      "text/latex": [
       "\\begin{tabular}{r|lllllllll}\n",
       " dt & AverageTemperature & AverageTemperatureUncertainty & City & Country & Latitude & Longitude & Month & Year\\\\\n",
       "\\hline\n",
       "\t 1896-01-01    & 25.024        & 0.437         & Foz Do Iguaçu & Brazil        & 24.92S        & 54.98W        & 1             & 1896         \\\\\n",
       "\t 1896-02-01    & 24.993        & 1.130         & Foz Do Iguaçu & Brazil        & 24.92S        & 54.98W        & 2             & 1896         \\\\\n",
       "\t 1896-03-01    & 24.314        & 0.898         & Foz Do Iguaçu & Brazil        & 24.92S        & 54.98W        & 3             & 1896         \\\\\n",
       "\t 1896-04-01    & 21.271        & 0.855         & Foz Do Iguaçu & Brazil        & 24.92S        & 54.98W        & 4             & 1896         \\\\\n",
       "\t 1896-05-01    & 19.000        & 1.153         & Foz Do Iguaçu & Brazil        & 24.92S        & 54.98W        & 5             & 1896         \\\\\n",
       "\t 1896-06-01    & 16.014        & 0.666         & Foz Do Iguaçu & Brazil        & 24.92S        & 54.98W        & 6             & 1896         \\\\\n",
       "\\end{tabular}\n"
      ],
      "text/markdown": [
       "\n",
       "dt | AverageTemperature | AverageTemperatureUncertainty | City | Country | Latitude | Longitude | Month | Year | \n",
       "|---|---|---|---|---|---|\n",
       "| 1896-01-01    | 25.024        | 0.437         | Foz Do Iguaçu | Brazil        | 24.92S        | 54.98W        | 1             | 1896          | \n",
       "| 1896-02-01    | 24.993        | 1.130         | Foz Do Iguaçu | Brazil        | 24.92S        | 54.98W        | 2             | 1896          | \n",
       "| 1896-03-01    | 24.314        | 0.898         | Foz Do Iguaçu | Brazil        | 24.92S        | 54.98W        | 3             | 1896          | \n",
       "| 1896-04-01    | 21.271        | 0.855         | Foz Do Iguaçu | Brazil        | 24.92S        | 54.98W        | 4             | 1896          | \n",
       "| 1896-05-01    | 19.000        | 1.153         | Foz Do Iguaçu | Brazil        | 24.92S        | 54.98W        | 5             | 1896          | \n",
       "| 1896-06-01    | 16.014        | 0.666         | Foz Do Iguaçu | Brazil        | 24.92S        | 54.98W        | 6             | 1896          | \n",
       "\n",
       "\n"
      ],
      "text/plain": [
       "  dt         AverageTemperature AverageTemperatureUncertainty City         \n",
       "1 1896-01-01 25.024             0.437                         Foz Do Iguaçu\n",
       "2 1896-02-01 24.993             1.130                         Foz Do Iguaçu\n",
       "3 1896-03-01 24.314             0.898                         Foz Do Iguaçu\n",
       "4 1896-04-01 21.271             0.855                         Foz Do Iguaçu\n",
       "5 1896-05-01 19.000             1.153                         Foz Do Iguaçu\n",
       "6 1896-06-01 16.014             0.666                         Foz Do Iguaçu\n",
       "  Country Latitude Longitude Month Year\n",
       "1 Brazil  24.92S   54.98W    1     1896\n",
       "2 Brazil  24.92S   54.98W    2     1896\n",
       "3 Brazil  24.92S   54.98W    3     1896\n",
       "4 Brazil  24.92S   54.98W    4     1896\n",
       "5 Brazil  24.92S   54.98W    5     1896\n",
       "6 Brazil  24.92S   54.98W    6     1896"
      ]
     },
     "metadata": {},
     "output_type": "display_data"
    }
   ],
   "source": [
    "fozdoiguacu <- subset(brazilianCities, City == 'Foz Do Iguaçu')\n",
    "fozdoiguacu <- subset(fozdoiguacu, Year %in% c(1796, 1846, 1896, 1946, 1976, 1996, 2012))\n",
    "head(fozdoiguacu)"
   ]
  },
  {
   "cell_type": "code",
   "execution_count": null,
   "metadata": {},
   "outputs": [],
   "source": []
  },
  {
   "cell_type": "code",
   "execution_count": 33,
   "metadata": {},
   "outputs": [
    {
     "name": "stderr",
     "output_type": "stream",
     "text": [
      "Warning message in data.matrix(x):\n",
      "“NAs introduced by coercion”Warning message in data.matrix(x):\n",
      "“NAs introduced by coercion”Warning message in data.matrix(x):\n",
      "“NAs introduced by coercion”Warning message in data.matrix(x):\n",
      "“NAs introduced by coercion”Warning message in min(x):\n",
      "“no non-missing arguments to min; returning Inf”Warning message in max(x):\n",
      "“no non-missing arguments to max; returning -Inf”"
     ]
    },
    {
     "ename": "ERROR",
     "evalue": "Error in plot.window(...): need finite 'ylim' values\n",
     "execution_count": 33,
     "output_type": "error",
     "traceback": [
      "Error in plot.window(...): need finite 'ylim' values\nTraceback:\n",
      "1. plot(jundiai, aes(x = (Month), y = AverageTemperature, color = as.factor(Year)))",
      "2. plot.data.frame(jundiai, aes(x = (Month), y = AverageTemperature, \n .     color = as.factor(Year)))",
      "3. pairs(data.matrix(x), ...)",
      "4. pairs.default(data.matrix(x), ...)",
      "5. localPlot(x[, j], x[, i], xlab = \"\", ylab = \"\", axes = FALSE, \n .     type = \"n\", ..., log = l)",
      "6. plot(...)",
      "7. plot.default(...)",
      "8. localWindow(xlim, ylim, log, asp, ...)",
      "9. plot.window(...)"
     ]
    },
    {
     "data": {
      "image/png": "[encoded data removed]",
      "text/plain": [
       "plot without title"
      ]
     },
     "metadata": {},
     "output_type": "display_data",
     "source": "R display func"
    }
   ],
   "source": [
    "p_jdi <- plot(jundiai, aes(x = (Month), y = AverageTemperature, color = as.factor(Year))) +\n",
    "geo_smooth(se = F, fill = NA, size = 2) +\n",
    "theme_light(base_size = 20) +\n",
    "xlab(\"Month\") +\n",
    "ylab(\"Mean temperature\") +\n",
    "scale_color_discrete(\"\") +\n",
    "ggtitle(\"Mean temperature in Jundiaí for years\") +\n",
    "theme(plot.title = element_text(size = 18))"
   ]
  },
  {
   "cell_type": "code",
   "execution_count": 26,
   "metadata": {},
   "outputs": [
    {
     "name": "stderr",
     "output_type": "stream",
     "text": [
      "Warning message in data.matrix(x):\n",
      "“NAs introduced by coercion”Warning message in data.matrix(x):\n",
      "“NAs introduced by coercion”Warning message in data.matrix(x):\n",
      "“NAs introduced by coercion”Warning message in data.matrix(x):\n",
      "“NAs introduced by coercion”Warning message in min(x):\n",
      "“no non-missing arguments to min; returning Inf”Warning message in max(x):\n",
      "“no non-missing arguments to max; returning -Inf”"
     ]
    },
    {
     "ename": "ERROR",
     "evalue": "Error in plot.window(...): need finite 'ylim' values\n",
     "execution_count": 26,
     "output_type": "error",
     "traceback": [
      "Error in plot.window(...): need finite 'ylim' values\nTraceback:\n",
      "1. plot(maringa, aes(x = (Month), y = AverageTemperature, color = as.factor(Year)))",
      "2. plot.data.frame(maringa, aes(x = (Month), y = AverageTemperature, \n .     color = as.factor(Year)))",
      "3. pairs(data.matrix(x), ...)",
      "4. pairs.default(data.matrix(x), ...)",
      "5. localPlot(x[, j], x[, i], xlab = \"\", ylab = \"\", axes = FALSE, \n .     type = \"n\", ..., log = l)",
      "6. plot(...)",
      "7. plot.default(...)",
      "8. localWindow(xlim, ylim, log, asp, ...)",
      "9. plot.window(...)"
     ]
    },
    {
     "data": {
      "image/png": "[encoded data removed]",
      "text/plain": [
       "plot without title"
      ]
     },
     "metadata": {},
     "output_type": "display_data",
     "source": "R display func"
    }
   ],
   "source": [
    "p_mga <- plot(maringa, aes(x = (Month), y = AverageTemperature, color = as.factor(Year))) +\n",
    "geo_smooth(se = F, fill = NA, size = 2) +\n",
    "theme_light(base_size = 20) +\n",
    "xlab(\"Month\") +\n",
    "ylab(\"Mean temperature\") +\n",
    "scale_color_discrete(\"\") +\n",
    "ggtitle(\"Mean temperature in Maringá for years\") +\n",
    "theme(plot.title = element_text(size = 18))"
   ]
  },
  {
   "cell_type": "code",
   "execution_count": 27,
   "metadata": {},
   "outputs": [
    {
     "name": "stderr",
     "output_type": "stream",
     "text": [
      "Warning message in data.matrix(x):\n",
      "“NAs introduced by coercion”Warning message in data.matrix(x):\n",
      "“NAs introduced by coercion”Warning message in data.matrix(x):\n",
      "“NAs introduced by coercion”Warning message in data.matrix(x):\n",
      "“NAs introduced by coercion”Warning message in min(x):\n",
      "“no non-missing arguments to min; returning Inf”Warning message in max(x):\n",
      "“no non-missing arguments to max; returning -Inf”"
     ]
    },
    {
     "ename": "ERROR",
     "evalue": "Error in plot.window(...): need finite 'ylim' values\n",
     "execution_count": 27,
     "output_type": "error",
     "traceback": [
      "Error in plot.window(...): need finite 'ylim' values\nTraceback:\n",
      "1. plot(fozdoiguacu, aes(x = (Month), y = AverageTemperature, color = as.factor(Year)))",
      "2. plot.data.frame(fozdoiguacu, aes(x = (Month), y = AverageTemperature, \n .     color = as.factor(Year)))",
      "3. pairs(data.matrix(x), ...)",
      "4. pairs.default(data.matrix(x), ...)",
      "5. localPlot(x[, j], x[, i], xlab = \"\", ylab = \"\", axes = FALSE, \n .     type = \"n\", ..., log = l)",
      "6. plot(...)",
      "7. plot.default(...)",
      "8. localWindow(xlim, ylim, log, asp, ...)",
      "9. plot.window(...)"
     ]
    },
    {
     "data": {
      "image/png": "[encoded data removed]",
      "text/plain": [
       "plot without title"
      ]
     },
     "metadata": {},
     "output_type": "display_data",
     "source": "R display func"
    }
   ],
   "source": [
    "p_foz <- plot(fozdoiguacu, aes(x = (Month), y = AverageTemperature, color = as.factor(Year))) +\n",
    "geo_smooth(se = F, fill = NA, size = 2) +\n",
    "theme_light(base_size = 20) +\n",
    "xlab(\"Month\") +\n",
    "ylab(\"Mean temperature\") +\n",
    "scale_color_discrete(\"\") +\n",
    "ggtitle(\"Mean temperature in Foz do Iguaçu for years\") +\n",
    "theme(plot.title = element_text(size = 18))"
   ]
  },
  {
   "cell_type": "code",
   "execution_count": 34,
   "metadata": {},
   "outputs": [
    {
     "ename": "ERROR",
     "evalue": "Error in eval(expr, envir, enclos): object 'p_jdi' not found\n",
     "execution_count": 34,
     "output_type": "error",
     "traceback": [
      "Error in eval(expr, envir, enclos): object 'p_jdi' not found\nTraceback:\n"
     ]
    }
   ],
   "source": [
    "p_jdi"
   ]
  },
  {
   "cell_type": "code",
   "execution_count": null,
   "metadata": {},
   "outputs": [],
   "source": []
  }
 ],
 "metadata": {
  "kernelspec": {
   "display_name": "R",
   "language": "R",
   "name": "ir"
  },
  "language_info": {
   "codemirror_mode": "r",
   "file_extension": ".r",
   "mimetype": "text/x-r-source",
   "name": "R",
   "pygments_lexer": "r",
   "version": "3.5.1"
  }
 },
 "nbformat": 4,
 "nbformat_minor": 2
}
