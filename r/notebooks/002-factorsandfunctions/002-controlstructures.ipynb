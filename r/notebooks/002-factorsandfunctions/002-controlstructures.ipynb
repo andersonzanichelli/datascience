{
 "cells": [
  {
   "cell_type": "markdown",
   "metadata": {},
   "source": [
    "# Control Structures"
   ]
  },
  {
   "cell_type": "code",
   "execution_count": 1,
   "metadata": {},
   "outputs": [
    {
     "data": {
      "text/html": [
       "'This number is lesser than 30!'"
      ],
      "text/latex": [
       "'This number is lesser than 30!'"
      ],
      "text/markdown": [
       "'This number is lesser than 30!'"
      ],
      "text/plain": [
       "[1] \"This number is lesser than 30!\""
      ]
     },
     "metadata": {},
     "output_type": "display_data"
    }
   ],
   "source": [
    "x = 25\n",
    "if (x < 30) {\n",
    "    \"This number is lesser than 30!\"\n",
    "}"
   ]
  },
  {
   "cell_type": "code",
   "execution_count": 2,
   "metadata": {},
   "outputs": [
    {
     "data": {
      "text/html": [
       "'This number is not lesser than 7'"
      ],
      "text/latex": [
       "'This number is not lesser than 7'"
      ],
      "text/markdown": [
       "'This number is not lesser than 7'"
      ],
      "text/plain": [
       "[1] \"This number is not lesser than 7\""
      ]
     },
     "metadata": {},
     "output_type": "display_data"
    }
   ],
   "source": [
    "if (x < 7) {\n",
    "    \"This number is lesser than 7\"\n",
    "} else {\n",
    "    \"This number is not lesser than 7\"\n",
    "}"
   ]
  },
  {
   "cell_type": "code",
   "execution_count": 3,
   "metadata": {},
   "outputs": [
    {
     "data": {
      "text/html": [
       "'This number is not lesser than 7'"
      ],
      "text/latex": [
       "'This number is not lesser than 7'"
      ],
      "text/markdown": [
       "'This number is not lesser than 7'"
      ],
      "text/plain": [
       "[1] \"This number is not lesser than 7\""
      ]
     },
     "metadata": {},
     "output_type": "display_data"
    }
   ],
   "source": [
    "if (x < 7) {\n",
    "    \"This number is lesser than 7\"\n",
    "} else if (x == 7) {\n",
    "    \"This is the number 7\"\n",
    "} else {\n",
    "    \"This number is not lesser than 7\"\n",
    "}"
   ]
  },
  {
   "cell_type": "code",
   "execution_count": 4,
   "metadata": {},
   "outputs": [
    {
     "data": {
      "text/html": [
       "'Right, lesser'"
      ],
      "text/latex": [
       "'Right, lesser'"
      ],
      "text/markdown": [
       "'Right, lesser'"
      ],
      "text/plain": [
       "[1] \"Right, lesser\""
      ]
     },
     "metadata": {},
     "output_type": "display_data"
    }
   ],
   "source": [
    "y = 5\n",
    "ifelse (y < 6, \"Right, lesser\", NA)"
   ]
  },
  {
   "cell_type": "code",
   "execution_count": 6,
   "metadata": {},
   "outputs": [
    {
     "data": {
      "text/html": [
       "&lt;NA&gt;"
      ],
      "text/latex": [
       "<NA>"
      ],
      "text/markdown": [
       "&lt;NA&gt;"
      ],
      "text/plain": [
       "[1] NA"
      ]
     },
     "metadata": {},
     "output_type": "display_data"
    }
   ],
   "source": [
    "z = 10\n",
    "ifelse (z < 6, \"Right, lesser\", NA)"
   ]
  },
  {
   "cell_type": "code",
   "execution_count": 7,
   "metadata": {},
   "outputs": [
    {
     "data": {
      "text/html": [
       "<ol class=list-inline>\n",
       "\t<li>'Greater than 5'</li>\n",
       "\t<li>'Equals to 5'</li>\n",
       "\t<li>'Lesser than 5'</li>\n",
       "</ol>\n"
      ],
      "text/latex": [
       "\\begin{enumerate*}\n",
       "\\item 'Greater than 5'\n",
       "\\item 'Equals to 5'\n",
       "\\item 'Lesser than 5'\n",
       "\\end{enumerate*}\n"
      ],
      "text/markdown": [
       "1. 'Greater than 5'\n",
       "2. 'Equals to 5'\n",
       "3. 'Lesser than 5'\n",
       "\n",
       "\n"
      ],
      "text/plain": [
       "[1] \"Greater than 5\" \"Equals to 5\"    \"Lesser than 5\" "
      ]
     },
     "metadata": {},
     "output_type": "display_data"
    }
   ],
   "source": [
    "xs = c(7, 5, 4)\n",
    "ifelse(xs < 5, 'Lesser than 5',\n",
    "      ifelse(xs == 5, 'Equals to 5', 'Greater than 5'))"
   ]
  },
  {
   "cell_type": "code",
   "execution_count": 10,
   "metadata": {},
   "outputs": [
    {
     "data": {
      "text/html": [
       "<ol class=list-inline>\n",
       "\t<li>0.0848612742611134</li>\n",
       "\t<li>0.0848612742611134</li>\n",
       "</ol>\n"
      ],
      "text/latex": [
       "\\begin{enumerate*}\n",
       "\\item 0.0848612742611134\n",
       "\\item 0.0848612742611134\n",
       "\\end{enumerate*}\n"
      ],
      "text/markdown": [
       "1. 0.0848612742611134\n",
       "2. 0.0848612742611134\n",
       "\n",
       "\n"
      ],
      "text/plain": [
       "[1] 0.08486127 0.08486127"
      ]
     },
     "metadata": {},
     "output_type": "display_data"
    }
   ],
   "source": [
    "rep(rnorm(1), 2)"
   ]
  },
  {
   "cell_type": "code",
   "execution_count": 12,
   "metadata": {},
   "outputs": [
    {
     "name": "stdout",
     "output_type": "stream",
     "text": [
      "[1] 4\n",
      "[1] 7\n",
      "[1] 10\n",
      "[1] 13\n",
      "[1] 16\n",
      "[1] 19\n"
     ]
    }
   ],
   "source": [
    "j = 1\n",
    "repeat {\n",
    "    j = j + 3\n",
    "    if (j > 21)\n",
    "        break\n",
    "    print(j)\n",
    "}"
   ]
  },
  {
   "cell_type": "code",
   "execution_count": 13,
   "metadata": {},
   "outputs": [
    {
     "name": "stdout",
     "output_type": "stream",
     "text": [
      "[1] 1\n",
      "[1] 2\n",
      "[1] 3\n",
      "[1] 4\n",
      "[1] 5\n"
     ]
    }
   ],
   "source": [
    "for (i in 1:5) { print(i)}"
   ]
  },
  {
   "cell_type": "code",
   "execution_count": 14,
   "metadata": {},
   "outputs": [
    {
     "name": "stdout",
     "output_type": "stream",
     "text": [
      "[1] 0.3983707\n",
      "[1] -0.5502598\n"
     ]
    }
   ],
   "source": [
    "for (i in rnorm(2)) {print(i)}"
   ]
  },
  {
   "cell_type": "code",
   "execution_count": 15,
   "metadata": {},
   "outputs": [
    {
     "name": "stdout",
     "output_type": "stream",
     "text": [
      "[1] 1\n",
      "[1] 4\n",
      "[1] 5\n",
      "[1] 6\n"
     ]
    }
   ],
   "source": [
    "for (i in 1:6) {\n",
    "    if (i == 2 || i == 3)\n",
    "        next\n",
    "    print(i)\n",
    "}"
   ]
  },
  {
   "cell_type": "code",
   "execution_count": 17,
   "metadata": {},
   "outputs": [
    {
     "name": "stdout",
     "output_type": "stream",
     "text": [
      "[1] 1\n",
      "[1] 2\n",
      "[1] 3\n"
     ]
    }
   ],
   "source": [
    "x = 0\n",
    "while(x < 3) {\n",
    "    x = x + 1\n",
    "    print(x)\n",
    "}"
   ]
  },
  {
   "cell_type": "code",
   "execution_count": null,
   "metadata": {},
   "outputs": [],
   "source": []
  }
 ],
 "metadata": {
  "kernelspec": {
   "display_name": "R",
   "language": "R",
   "name": "ir"
  },
  "language_info": {
   "codemirror_mode": "r",
   "file_extension": ".r",
   "mimetype": "text/x-r-source",
   "name": "R",
   "pygments_lexer": "r",
   "version": "3.5.1"
  }
 },
 "nbformat": 4,
 "nbformat_minor": 2
}
