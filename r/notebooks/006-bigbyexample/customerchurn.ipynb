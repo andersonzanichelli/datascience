{
 "cells": [
  {
   "cell_type": "markdown",
   "metadata": {},
   "source": [
    "# Customer Churn Analytics\n",
    "Customer churn from a IMB Sample Data Set.\n",
    "https://www.ibm.com/communities/analytics/watson-analytics-blog/guide-to-sample-datasets/"
   ]
  },
  {
   "cell_type": "code",
   "execution_count": 1,
   "metadata": {},
   "outputs": [
    {
     "name": "stderr",
     "output_type": "stream",
     "text": [
      "Updating HTML index of packages in '.Library'\n",
      "Making 'packages.html' ... done\n",
      "corrplot 0.84 loaded\n",
      "Loading required package: lattice\n",
      "randomForest 4.6-14\n",
      "Type rfNews() to see new features/changes/bug fixes.\n",
      "\n",
      "Attaching package: ‘randomForest’\n",
      "\n",
      "The following object is masked from ‘package:gridExtra’:\n",
      "\n",
      "    combine\n",
      "\n",
      "The following object is masked from ‘package:ggplot2’:\n",
      "\n",
      "    margin\n",
      "\n",
      "Updating HTML index of packages in '.Library'\n",
      "Making 'packages.html' ... done\n",
      "Loading required package: grid\n",
      "Loading required package: mvtnorm\n",
      "Loading required package: modeltools\n",
      "Loading required package: stats4\n",
      "\n",
      "Attaching package: ‘modeltools’\n",
      "\n",
      "The following object is masked from ‘package:plyr’:\n",
      "\n",
      "    empty\n",
      "\n",
      "Loading required package: strucchange\n",
      "Loading required package: zoo\n",
      "\n",
      "Attaching package: ‘zoo’\n",
      "\n",
      "The following objects are masked from ‘package:base’:\n",
      "\n",
      "    as.Date, as.Date.numeric\n",
      "\n",
      "Loading required package: sandwich\n"
     ]
    }
   ],
   "source": [
    "# Loading packages\n",
    "library(plyr)\n",
    "library(corrplot)\n",
    "library(ggplot2)\n",
    "library(gridExtra)\n",
    "library(caret)\n",
    "library(MASS)\n",
    "library(randomForest)\n",
    "library(party)"
   ]
  },
  {
   "cell_type": "markdown",
   "metadata": {},
   "source": [
    "## Loading and cleaning data"
   ]
  },
  {
   "cell_type": "code",
   "execution_count": 2,
   "metadata": {},
   "outputs": [],
   "source": [
    "churn = read.csv('../../../../datasets/business/WA_Fn-UseC_-Telco-Customer-Churn.csv')"
   ]
  },
  {
   "cell_type": "code",
   "execution_count": 3,
   "metadata": {},
   "outputs": [
    {
     "data": {
      "text/html": [
       "<table>\n",
       "<thead><tr><th scope=col>customerID</th><th scope=col>gender</th><th scope=col>SeniorCitizen</th><th scope=col>Partner</th><th scope=col>Dependents</th><th scope=col>tenure</th><th scope=col>PhoneService</th><th scope=col>MultipleLines</th><th scope=col>InternetService</th><th scope=col>OnlineSecurity</th><th scope=col>⋯</th><th scope=col>DeviceProtection</th><th scope=col>TechSupport</th><th scope=col>StreamingTV</th><th scope=col>StreamingMovies</th><th scope=col>Contract</th><th scope=col>PaperlessBilling</th><th scope=col>PaymentMethod</th><th scope=col>MonthlyCharges</th><th scope=col>TotalCharges</th><th scope=col>Churn</th></tr></thead>\n",
       "<tbody>\n",
       "\t<tr><td>7590-VHVEG               </td><td>Female                   </td><td>0                        </td><td>Yes                      </td><td>No                       </td><td> 1                       </td><td>No                       </td><td>No phone service         </td><td>DSL                      </td><td>No                       </td><td>⋯                        </td><td>No                       </td><td>No                       </td><td>No                       </td><td>No                       </td><td>Month-to-month           </td><td>Yes                      </td><td>Electronic check         </td><td>29.85                    </td><td>  29.85                  </td><td>No                       </td></tr>\n",
       "\t<tr><td>5575-GNVDE               </td><td>Male                     </td><td>0                        </td><td>No                       </td><td>No                       </td><td>34                       </td><td>Yes                      </td><td>No                       </td><td>DSL                      </td><td>Yes                      </td><td>⋯                        </td><td>Yes                      </td><td>No                       </td><td>No                       </td><td>No                       </td><td>One year                 </td><td>No                       </td><td>Mailed check             </td><td>56.95                    </td><td>1889.50                  </td><td>No                       </td></tr>\n",
       "\t<tr><td>3668-QPYBK               </td><td>Male                     </td><td>0                        </td><td>No                       </td><td>No                       </td><td> 2                       </td><td>Yes                      </td><td>No                       </td><td>DSL                      </td><td>Yes                      </td><td>⋯                        </td><td>No                       </td><td>No                       </td><td>No                       </td><td>No                       </td><td>Month-to-month           </td><td>Yes                      </td><td>Mailed check             </td><td>53.85                    </td><td> 108.15                  </td><td>Yes                      </td></tr>\n",
       "\t<tr><td>7795-CFOCW               </td><td>Male                     </td><td>0                        </td><td>No                       </td><td>No                       </td><td>45                       </td><td>No                       </td><td>No phone service         </td><td>DSL                      </td><td>Yes                      </td><td>⋯                        </td><td>Yes                      </td><td>Yes                      </td><td>No                       </td><td>No                       </td><td>One year                 </td><td>No                       </td><td>Bank transfer (automatic)</td><td>42.30                    </td><td>1840.75                  </td><td>No                       </td></tr>\n",
       "\t<tr><td>9237-HQITU               </td><td>Female                   </td><td>0                        </td><td>No                       </td><td>No                       </td><td> 2                       </td><td>Yes                      </td><td>No                       </td><td>Fiber optic              </td><td>No                       </td><td>⋯                        </td><td>No                       </td><td>No                       </td><td>No                       </td><td>No                       </td><td>Month-to-month           </td><td>Yes                      </td><td>Electronic check         </td><td>70.70                    </td><td> 151.65                  </td><td>Yes                      </td></tr>\n",
       "\t<tr><td>9305-CDSKC               </td><td>Female                   </td><td>0                        </td><td>No                       </td><td>No                       </td><td> 8                       </td><td>Yes                      </td><td>Yes                      </td><td>Fiber optic              </td><td>No                       </td><td>⋯                        </td><td>Yes                      </td><td>No                       </td><td>Yes                      </td><td>Yes                      </td><td>Month-to-month           </td><td>Yes                      </td><td>Electronic check         </td><td>99.65                    </td><td> 820.50                  </td><td>Yes                      </td></tr>\n",
       "</tbody>\n",
       "</table>\n"
      ],
      "text/latex": [
       "\\begin{tabular}{r|lllllllllllllllllllll}\n",
       " customerID & gender & SeniorCitizen & Partner & Dependents & tenure & PhoneService & MultipleLines & InternetService & OnlineSecurity & ⋯ & DeviceProtection & TechSupport & StreamingTV & StreamingMovies & Contract & PaperlessBilling & PaymentMethod & MonthlyCharges & TotalCharges & Churn\\\\\n",
       "\\hline\n",
       "\t 7590-VHVEG                & Female                    & 0                         & Yes                       & No                        &  1                        & No                        & No phone service          & DSL                       & No                        & ⋯                         & No                        & No                        & No                        & No                        & Month-to-month            & Yes                       & Electronic check          & 29.85                     &   29.85                   & No                       \\\\\n",
       "\t 5575-GNVDE                & Male                      & 0                         & No                        & No                        & 34                        & Yes                       & No                        & DSL                       & Yes                       & ⋯                         & Yes                       & No                        & No                        & No                        & One year                  & No                        & Mailed check              & 56.95                     & 1889.50                   & No                       \\\\\n",
       "\t 3668-QPYBK                & Male                      & 0                         & No                        & No                        &  2                        & Yes                       & No                        & DSL                       & Yes                       & ⋯                         & No                        & No                        & No                        & No                        & Month-to-month            & Yes                       & Mailed check              & 53.85                     &  108.15                   & Yes                      \\\\\n",
       "\t 7795-CFOCW                & Male                      & 0                         & No                        & No                        & 45                        & No                        & No phone service          & DSL                       & Yes                       & ⋯                         & Yes                       & Yes                       & No                        & No                        & One year                  & No                        & Bank transfer (automatic) & 42.30                     & 1840.75                   & No                       \\\\\n",
       "\t 9237-HQITU                & Female                    & 0                         & No                        & No                        &  2                        & Yes                       & No                        & Fiber optic               & No                        & ⋯                         & No                        & No                        & No                        & No                        & Month-to-month            & Yes                       & Electronic check          & 70.70                     &  151.65                   & Yes                      \\\\\n",
       "\t 9305-CDSKC                & Female                    & 0                         & No                        & No                        &  8                        & Yes                       & Yes                       & Fiber optic               & No                        & ⋯                         & Yes                       & No                        & Yes                       & Yes                       & Month-to-month            & Yes                       & Electronic check          & 99.65                     &  820.50                   & Yes                      \\\\\n",
       "\\end{tabular}\n"
      ],
      "text/markdown": [
       "\n",
       "customerID | gender | SeniorCitizen | Partner | Dependents | tenure | PhoneService | MultipleLines | InternetService | OnlineSecurity | ⋯ | DeviceProtection | TechSupport | StreamingTV | StreamingMovies | Contract | PaperlessBilling | PaymentMethod | MonthlyCharges | TotalCharges | Churn | \n",
       "|---|---|---|---|---|---|\n",
       "| 7590-VHVEG                | Female                    | 0                         | Yes                       | No                        |  1                        | No                        | No phone service          | DSL                       | No                        | ⋯                         | No                        | No                        | No                        | No                        | Month-to-month            | Yes                       | Electronic check          | 29.85                     |   29.85                   | No                        | \n",
       "| 5575-GNVDE                | Male                      | 0                         | No                        | No                        | 34                        | Yes                       | No                        | DSL                       | Yes                       | ⋯                         | Yes                       | No                        | No                        | No                        | One year                  | No                        | Mailed check              | 56.95                     | 1889.50                   | No                        | \n",
       "| 3668-QPYBK                | Male                      | 0                         | No                        | No                        |  2                        | Yes                       | No                        | DSL                       | Yes                       | ⋯                         | No                        | No                        | No                        | No                        | Month-to-month            | Yes                       | Mailed check              | 53.85                     |  108.15                   | Yes                       | \n",
       "| 7795-CFOCW                | Male                      | 0                         | No                        | No                        | 45                        | No                        | No phone service          | DSL                       | Yes                       | ⋯                         | Yes                       | Yes                       | No                        | No                        | One year                  | No                        | Bank transfer (automatic) | 42.30                     | 1840.75                   | No                        | \n",
       "| 9237-HQITU                | Female                    | 0                         | No                        | No                        |  2                        | Yes                       | No                        | Fiber optic               | No                        | ⋯                         | No                        | No                        | No                        | No                        | Month-to-month            | Yes                       | Electronic check          | 70.70                     |  151.65                   | Yes                       | \n",
       "| 9305-CDSKC                | Female                    | 0                         | No                        | No                        |  8                        | Yes                       | Yes                       | Fiber optic               | No                        | ⋯                         | Yes                       | No                        | Yes                       | Yes                       | Month-to-month            | Yes                       | Electronic check          | 99.65                     |  820.50                   | Yes                       | \n",
       "\n",
       "\n"
      ],
      "text/plain": [
       "  customerID gender SeniorCitizen Partner Dependents tenure PhoneService\n",
       "1 7590-VHVEG Female 0             Yes     No          1     No          \n",
       "2 5575-GNVDE Male   0             No      No         34     Yes         \n",
       "3 3668-QPYBK Male   0             No      No          2     Yes         \n",
       "4 7795-CFOCW Male   0             No      No         45     No          \n",
       "5 9237-HQITU Female 0             No      No          2     Yes         \n",
       "6 9305-CDSKC Female 0             No      No          8     Yes         \n",
       "  MultipleLines    InternetService OnlineSecurity ⋯ DeviceProtection\n",
       "1 No phone service DSL             No             ⋯ No              \n",
       "2 No               DSL             Yes            ⋯ Yes             \n",
       "3 No               DSL             Yes            ⋯ No              \n",
       "4 No phone service DSL             Yes            ⋯ Yes             \n",
       "5 No               Fiber optic     No             ⋯ No              \n",
       "6 Yes              Fiber optic     No             ⋯ Yes             \n",
       "  TechSupport StreamingTV StreamingMovies Contract       PaperlessBilling\n",
       "1 No          No          No              Month-to-month Yes             \n",
       "2 No          No          No              One year       No              \n",
       "3 No          No          No              Month-to-month Yes             \n",
       "4 Yes         No          No              One year       No              \n",
       "5 No          No          No              Month-to-month Yes             \n",
       "6 No          Yes         Yes             Month-to-month Yes             \n",
       "  PaymentMethod             MonthlyCharges TotalCharges Churn\n",
       "1 Electronic check          29.85            29.85      No   \n",
       "2 Mailed check              56.95          1889.50      No   \n",
       "3 Mailed check              53.85           108.15      Yes  \n",
       "4 Bank transfer (automatic) 42.30          1840.75      No   \n",
       "5 Electronic check          70.70           151.65      Yes  \n",
       "6 Electronic check          99.65           820.50      Yes  "
      ]
     },
     "metadata": {},
     "output_type": "display_data"
    }
   ],
   "source": [
    "head(churn)"
   ]
  },
  {
   "cell_type": "code",
   "execution_count": 4,
   "metadata": {},
   "outputs": [
    {
     "name": "stdout",
     "output_type": "stream",
     "text": [
      "'data.frame':\t7043 obs. of  21 variables:\n",
      " $ customerID      : Factor w/ 7043 levels \"0002-ORFBO\",\"0003-MKNFE\",..: 5376 3963 2565 5536 6512 6552 1003 4771 5605 4535 ...\n",
      " $ gender          : Factor w/ 2 levels \"Female\",\"Male\": 1 2 2 2 1 1 2 1 1 2 ...\n",
      " $ SeniorCitizen   : int  0 0 0 0 0 0 0 0 0 0 ...\n",
      " $ Partner         : Factor w/ 2 levels \"No\",\"Yes\": 2 1 1 1 1 1 1 1 2 1 ...\n",
      " $ Dependents      : Factor w/ 2 levels \"No\",\"Yes\": 1 1 1 1 1 1 2 1 1 2 ...\n",
      " $ tenure          : int  1 34 2 45 2 8 22 10 28 62 ...\n",
      " $ PhoneService    : Factor w/ 2 levels \"No\",\"Yes\": 1 2 2 1 2 2 2 1 2 2 ...\n",
      " $ MultipleLines   : Factor w/ 3 levels \"No\",\"No phone service\",..: 2 1 1 2 1 3 3 2 3 1 ...\n",
      " $ InternetService : Factor w/ 3 levels \"DSL\",\"Fiber optic\",..: 1 1 1 1 2 2 2 1 2 1 ...\n",
      " $ OnlineSecurity  : Factor w/ 3 levels \"No\",\"No internet service\",..: 1 3 3 3 1 1 1 3 1 3 ...\n",
      " $ OnlineBackup    : Factor w/ 3 levels \"No\",\"No internet service\",..: 3 1 3 1 1 1 3 1 1 3 ...\n",
      " $ DeviceProtection: Factor w/ 3 levels \"No\",\"No internet service\",..: 1 3 1 3 1 3 1 1 3 1 ...\n",
      " $ TechSupport     : Factor w/ 3 levels \"No\",\"No internet service\",..: 1 1 1 3 1 1 1 1 3 1 ...\n",
      " $ StreamingTV     : Factor w/ 3 levels \"No\",\"No internet service\",..: 1 1 1 1 1 3 3 1 3 1 ...\n",
      " $ StreamingMovies : Factor w/ 3 levels \"No\",\"No internet service\",..: 1 1 1 1 1 3 1 1 3 1 ...\n",
      " $ Contract        : Factor w/ 3 levels \"Month-to-month\",..: 1 2 1 2 1 1 1 1 1 2 ...\n",
      " $ PaperlessBilling: Factor w/ 2 levels \"No\",\"Yes\": 2 1 2 1 2 2 2 1 2 1 ...\n",
      " $ PaymentMethod   : Factor w/ 4 levels \"Bank transfer (automatic)\",..: 3 4 4 1 3 3 2 4 3 1 ...\n",
      " $ MonthlyCharges  : num  29.9 57 53.9 42.3 70.7 ...\n",
      " $ TotalCharges    : num  29.9 1889.5 108.2 1840.8 151.7 ...\n",
      " $ Churn           : Factor w/ 2 levels \"No\",\"Yes\": 1 1 2 1 2 2 1 1 2 1 ...\n"
     ]
    }
   ],
   "source": [
    "str(churn)"
   ]
  },
  {
   "cell_type": "markdown",
   "metadata": {},
   "source": [
    "#### Search for missing data in each column and treat them"
   ]
  },
  {
   "cell_type": "code",
   "execution_count": 5,
   "metadata": {},
   "outputs": [
    {
     "data": {
      "text/html": [
       "<dl class=dl-horizontal>\n",
       "\t<dt>customerID</dt>\n",
       "\t\t<dd>0</dd>\n",
       "\t<dt>gender</dt>\n",
       "\t\t<dd>0</dd>\n",
       "\t<dt>SeniorCitizen</dt>\n",
       "\t\t<dd>0</dd>\n",
       "\t<dt>Partner</dt>\n",
       "\t\t<dd>0</dd>\n",
       "\t<dt>Dependents</dt>\n",
       "\t\t<dd>0</dd>\n",
       "\t<dt>tenure</dt>\n",
       "\t\t<dd>0</dd>\n",
       "\t<dt>PhoneService</dt>\n",
       "\t\t<dd>0</dd>\n",
       "\t<dt>MultipleLines</dt>\n",
       "\t\t<dd>0</dd>\n",
       "\t<dt>InternetService</dt>\n",
       "\t\t<dd>0</dd>\n",
       "\t<dt>OnlineSecurity</dt>\n",
       "\t\t<dd>0</dd>\n",
       "\t<dt>OnlineBackup</dt>\n",
       "\t\t<dd>0</dd>\n",
       "\t<dt>DeviceProtection</dt>\n",
       "\t\t<dd>0</dd>\n",
       "\t<dt>TechSupport</dt>\n",
       "\t\t<dd>0</dd>\n",
       "\t<dt>StreamingTV</dt>\n",
       "\t\t<dd>0</dd>\n",
       "\t<dt>StreamingMovies</dt>\n",
       "\t\t<dd>0</dd>\n",
       "\t<dt>Contract</dt>\n",
       "\t\t<dd>0</dd>\n",
       "\t<dt>PaperlessBilling</dt>\n",
       "\t\t<dd>0</dd>\n",
       "\t<dt>PaymentMethod</dt>\n",
       "\t\t<dd>0</dd>\n",
       "\t<dt>MonthlyCharges</dt>\n",
       "\t\t<dd>0</dd>\n",
       "\t<dt>TotalCharges</dt>\n",
       "\t\t<dd>11</dd>\n",
       "\t<dt>Churn</dt>\n",
       "\t\t<dd>0</dd>\n",
       "</dl>\n"
      ],
      "text/latex": [
       "\\begin{description*}\n",
       "\\item[customerID] 0\n",
       "\\item[gender] 0\n",
       "\\item[SeniorCitizen] 0\n",
       "\\item[Partner] 0\n",
       "\\item[Dependents] 0\n",
       "\\item[tenure] 0\n",
       "\\item[PhoneService] 0\n",
       "\\item[MultipleLines] 0\n",
       "\\item[InternetService] 0\n",
       "\\item[OnlineSecurity] 0\n",
       "\\item[OnlineBackup] 0\n",
       "\\item[DeviceProtection] 0\n",
       "\\item[TechSupport] 0\n",
       "\\item[StreamingTV] 0\n",
       "\\item[StreamingMovies] 0\n",
       "\\item[Contract] 0\n",
       "\\item[PaperlessBilling] 0\n",
       "\\item[PaymentMethod] 0\n",
       "\\item[MonthlyCharges] 0\n",
       "\\item[TotalCharges] 11\n",
       "\\item[Churn] 0\n",
       "\\end{description*}\n"
      ],
      "text/markdown": [
       "customerID\n",
       ":   0gender\n",
       ":   0SeniorCitizen\n",
       ":   0Partner\n",
       ":   0Dependents\n",
       ":   0tenure\n",
       ":   0PhoneService\n",
       ":   0MultipleLines\n",
       ":   0InternetService\n",
       ":   0OnlineSecurity\n",
       ":   0OnlineBackup\n",
       ":   0DeviceProtection\n",
       ":   0TechSupport\n",
       ":   0StreamingTV\n",
       ":   0StreamingMovies\n",
       ":   0Contract\n",
       ":   0PaperlessBilling\n",
       ":   0PaymentMethod\n",
       ":   0MonthlyCharges\n",
       ":   0TotalCharges\n",
       ":   11Churn\n",
       ":   0\n",
       "\n"
      ],
      "text/plain": [
       "      customerID           gender    SeniorCitizen          Partner \n",
       "               0                0                0                0 \n",
       "      Dependents           tenure     PhoneService    MultipleLines \n",
       "               0                0                0                0 \n",
       " InternetService   OnlineSecurity     OnlineBackup DeviceProtection \n",
       "               0                0                0                0 \n",
       "     TechSupport      StreamingTV  StreamingMovies         Contract \n",
       "               0                0                0                0 \n",
       "PaperlessBilling    PaymentMethod   MonthlyCharges     TotalCharges \n",
       "               0                0                0               11 \n",
       "           Churn \n",
       "               0 "
      ]
     },
     "metadata": {},
     "output_type": "display_data"
    }
   ],
   "source": [
    "sapply(churn, function(x) sum(is.na(x)))"
   ]
  },
  {
   "cell_type": "code",
   "execution_count": 6,
   "metadata": {},
   "outputs": [],
   "source": [
    "#?complete"
   ]
  },
  {
   "cell_type": "code",
   "execution_count": 7,
   "metadata": {},
   "outputs": [],
   "source": [
    "churn = churn[complete.cases(churn),]"
   ]
  },
  {
   "cell_type": "code",
   "execution_count": 8,
   "metadata": {},
   "outputs": [
    {
     "data": {
      "text/html": [
       "<dl class=dl-horizontal>\n",
       "\t<dt>customerID</dt>\n",
       "\t\t<dd>0</dd>\n",
       "\t<dt>gender</dt>\n",
       "\t\t<dd>0</dd>\n",
       "\t<dt>SeniorCitizen</dt>\n",
       "\t\t<dd>0</dd>\n",
       "\t<dt>Partner</dt>\n",
       "\t\t<dd>0</dd>\n",
       "\t<dt>Dependents</dt>\n",
       "\t\t<dd>0</dd>\n",
       "\t<dt>tenure</dt>\n",
       "\t\t<dd>0</dd>\n",
       "\t<dt>PhoneService</dt>\n",
       "\t\t<dd>0</dd>\n",
       "\t<dt>MultipleLines</dt>\n",
       "\t\t<dd>0</dd>\n",
       "\t<dt>InternetService</dt>\n",
       "\t\t<dd>0</dd>\n",
       "\t<dt>OnlineSecurity</dt>\n",
       "\t\t<dd>0</dd>\n",
       "\t<dt>OnlineBackup</dt>\n",
       "\t\t<dd>0</dd>\n",
       "\t<dt>DeviceProtection</dt>\n",
       "\t\t<dd>0</dd>\n",
       "\t<dt>TechSupport</dt>\n",
       "\t\t<dd>0</dd>\n",
       "\t<dt>StreamingTV</dt>\n",
       "\t\t<dd>0</dd>\n",
       "\t<dt>StreamingMovies</dt>\n",
       "\t\t<dd>0</dd>\n",
       "\t<dt>Contract</dt>\n",
       "\t\t<dd>0</dd>\n",
       "\t<dt>PaperlessBilling</dt>\n",
       "\t\t<dd>0</dd>\n",
       "\t<dt>PaymentMethod</dt>\n",
       "\t\t<dd>0</dd>\n",
       "\t<dt>MonthlyCharges</dt>\n",
       "\t\t<dd>0</dd>\n",
       "\t<dt>TotalCharges</dt>\n",
       "\t\t<dd>0</dd>\n",
       "\t<dt>Churn</dt>\n",
       "\t\t<dd>0</dd>\n",
       "</dl>\n"
      ],
      "text/latex": [
       "\\begin{description*}\n",
       "\\item[customerID] 0\n",
       "\\item[gender] 0\n",
       "\\item[SeniorCitizen] 0\n",
       "\\item[Partner] 0\n",
       "\\item[Dependents] 0\n",
       "\\item[tenure] 0\n",
       "\\item[PhoneService] 0\n",
       "\\item[MultipleLines] 0\n",
       "\\item[InternetService] 0\n",
       "\\item[OnlineSecurity] 0\n",
       "\\item[OnlineBackup] 0\n",
       "\\item[DeviceProtection] 0\n",
       "\\item[TechSupport] 0\n",
       "\\item[StreamingTV] 0\n",
       "\\item[StreamingMovies] 0\n",
       "\\item[Contract] 0\n",
       "\\item[PaperlessBilling] 0\n",
       "\\item[PaymentMethod] 0\n",
       "\\item[MonthlyCharges] 0\n",
       "\\item[TotalCharges] 0\n",
       "\\item[Churn] 0\n",
       "\\end{description*}\n"
      ],
      "text/markdown": [
       "customerID\n",
       ":   0gender\n",
       ":   0SeniorCitizen\n",
       ":   0Partner\n",
       ":   0Dependents\n",
       ":   0tenure\n",
       ":   0PhoneService\n",
       ":   0MultipleLines\n",
       ":   0InternetService\n",
       ":   0OnlineSecurity\n",
       ":   0OnlineBackup\n",
       ":   0DeviceProtection\n",
       ":   0TechSupport\n",
       ":   0StreamingTV\n",
       ":   0StreamingMovies\n",
       ":   0Contract\n",
       ":   0PaperlessBilling\n",
       ":   0PaymentMethod\n",
       ":   0MonthlyCharges\n",
       ":   0TotalCharges\n",
       ":   0Churn\n",
       ":   0\n",
       "\n"
      ],
      "text/plain": [
       "      customerID           gender    SeniorCitizen          Partner \n",
       "               0                0                0                0 \n",
       "      Dependents           tenure     PhoneService    MultipleLines \n",
       "               0                0                0                0 \n",
       " InternetService   OnlineSecurity     OnlineBackup DeviceProtection \n",
       "               0                0                0                0 \n",
       "     TechSupport      StreamingTV  StreamingMovies         Contract \n",
       "               0                0                0                0 \n",
       "PaperlessBilling    PaymentMethod   MonthlyCharges     TotalCharges \n",
       "               0                0                0                0 \n",
       "           Churn \n",
       "               0 "
      ]
     },
     "metadata": {},
     "output_type": "display_data"
    }
   ],
   "source": [
    "sapply(churn, function(x) sum(is.na(x)))"
   ]
  },
  {
   "cell_type": "code",
   "execution_count": 9,
   "metadata": {},
   "outputs": [
    {
     "name": "stdout",
     "output_type": "stream",
     "text": [
      "'data.frame':\t7032 obs. of  21 variables:\n",
      " $ customerID      : Factor w/ 7043 levels \"0002-ORFBO\",\"0003-MKNFE\",..: 5376 3963 2565 5536 6512 6552 1003 4771 5605 4535 ...\n",
      " $ gender          : Factor w/ 2 levels \"Female\",\"Male\": 1 2 2 2 1 1 2 1 1 2 ...\n",
      " $ SeniorCitizen   : int  0 0 0 0 0 0 0 0 0 0 ...\n",
      " $ Partner         : Factor w/ 2 levels \"No\",\"Yes\": 2 1 1 1 1 1 1 1 2 1 ...\n",
      " $ Dependents      : Factor w/ 2 levels \"No\",\"Yes\": 1 1 1 1 1 1 2 1 1 2 ...\n",
      " $ tenure          : int  1 34 2 45 2 8 22 10 28 62 ...\n",
      " $ PhoneService    : Factor w/ 2 levels \"No\",\"Yes\": 1 2 2 1 2 2 2 1 2 2 ...\n",
      " $ MultipleLines   : Factor w/ 3 levels \"No\",\"No phone service\",..: 2 1 1 2 1 3 3 2 3 1 ...\n",
      " $ InternetService : Factor w/ 3 levels \"DSL\",\"Fiber optic\",..: 1 1 1 1 2 2 2 1 2 1 ...\n",
      " $ OnlineSecurity  : Factor w/ 3 levels \"No\",\"No internet service\",..: 1 3 3 3 1 1 1 3 1 3 ...\n",
      " $ OnlineBackup    : Factor w/ 3 levels \"No\",\"No internet service\",..: 3 1 3 1 1 1 3 1 1 3 ...\n",
      " $ DeviceProtection: Factor w/ 3 levels \"No\",\"No internet service\",..: 1 3 1 3 1 3 1 1 3 1 ...\n",
      " $ TechSupport     : Factor w/ 3 levels \"No\",\"No internet service\",..: 1 1 1 3 1 1 1 1 3 1 ...\n",
      " $ StreamingTV     : Factor w/ 3 levels \"No\",\"No internet service\",..: 1 1 1 1 1 3 3 1 3 1 ...\n",
      " $ StreamingMovies : Factor w/ 3 levels \"No\",\"No internet service\",..: 1 1 1 1 1 3 1 1 3 1 ...\n",
      " $ Contract        : Factor w/ 3 levels \"Month-to-month\",..: 1 2 1 2 1 1 1 1 1 2 ...\n",
      " $ PaperlessBilling: Factor w/ 2 levels \"No\",\"Yes\": 2 1 2 1 2 2 2 1 2 1 ...\n",
      " $ PaymentMethod   : Factor w/ 4 levels \"Bank transfer (automatic)\",..: 3 4 4 1 3 3 2 4 3 1 ...\n",
      " $ MonthlyCharges  : num  29.9 57 53.9 42.3 70.7 ...\n",
      " $ TotalCharges    : num  29.9 1889.5 108.2 1840.8 151.7 ...\n",
      " $ Churn           : Factor w/ 2 levels \"No\",\"Yes\": 1 1 2 1 2 2 1 1 2 1 ...\n"
     ]
    }
   ],
   "source": [
    "str(churn)"
   ]
  },
  {
   "cell_type": "code",
   "execution_count": 10,
   "metadata": {},
   "outputs": [],
   "source": [
    "cols_record1 = c(10:15)\n",
    "for(i in 1:ncol(churn[, cols_record1])) {\n",
    "    churn[, cols_record1][, i] <- as.factor(mapvalues(churn[,cols_record1][, i], from = c(\"No internet service\"), to = c(\"No\")))\n",
    "}"
   ]
  },
  {
   "cell_type": "code",
   "execution_count": 11,
   "metadata": {},
   "outputs": [],
   "source": [
    "churn$MultipleLines = as.factor(mapvalues(churn$MultipleLines, from = c(\"No phone service\"), to = c(\"No\")))"
   ]
  },
  {
   "cell_type": "markdown",
   "metadata": {},
   "source": [
    "#### Groupping tenure (time of contract) in 1-12 Months, 13-24 Months and so on"
   ]
  },
  {
   "cell_type": "code",
   "execution_count": 12,
   "metadata": {},
   "outputs": [
    {
     "data": {
      "text/html": [
       "1"
      ],
      "text/latex": [
       "1"
      ],
      "text/markdown": [
       "1"
      ],
      "text/plain": [
       "[1] 1"
      ]
     },
     "metadata": {},
     "output_type": "display_data"
    },
    {
     "data": {
      "text/html": [
       "72"
      ],
      "text/latex": [
       "72"
      ],
      "text/markdown": [
       "72"
      ],
      "text/plain": [
       "[1] 72"
      ]
     },
     "metadata": {},
     "output_type": "display_data"
    }
   ],
   "source": [
    "min(churn$tenure); max(churn$tenure)"
   ]
  },
  {
   "cell_type": "code",
   "execution_count": 13,
   "metadata": {},
   "outputs": [],
   "source": [
    "group_tenure = function(tenure) {\n",
    "    if (tenure >= 0 & tenure <= 12) {\n",
    "        return('0-12 Months')\n",
    "    } else if (tenure > 12 & tenure <= 24) {\n",
    "        return('13-24 Months')\n",
    "    } else if (tenure > 24 & tenure <= 36) {\n",
    "        return('25-36 Months')\n",
    "    } else if (tenure > 36 & tenure <= 48) {\n",
    "        return('37-48 Months')\n",
    "    } else if (tenure > 48 & tenure <= 60) {\n",
    "        return('49-60 Months')\n",
    "    } else if (tenure > 60) {\n",
    "        return('> 60 Months')\n",
    "    }\n",
    "}"
   ]
  },
  {
   "cell_type": "code",
   "execution_count": 14,
   "metadata": {},
   "outputs": [],
   "source": [
    "churn$tenure_group = sapply(churn$tenure, group_tenure)\n",
    "churn$tenure_group = as.factor(churn$tenure_group)"
   ]
  },
  {
   "cell_type": "markdown",
   "metadata": {},
   "source": [
    "#### Alter the value of the column Senior Citizen from 0 or 1 to \"No\" or \"Yes\""
   ]
  },
  {
   "cell_type": "code",
   "execution_count": 15,
   "metadata": {},
   "outputs": [],
   "source": [
    "churn$SeniorCitizen = as.factor(mapvalues(churn$SeniorCitizen, from = c(\"0\", \"1\"), to = c(\"No\", \"Yes\")))"
   ]
  },
  {
   "cell_type": "markdown",
   "metadata": {},
   "source": [
    "#### Remove the unnecessary columns"
   ]
  },
  {
   "cell_type": "code",
   "execution_count": 16,
   "metadata": {},
   "outputs": [],
   "source": [
    "churn$customerID = NULL\n",
    "churn$tenure = NULL"
   ]
  },
  {
   "cell_type": "code",
   "execution_count": 17,
   "metadata": {},
   "outputs": [
    {
     "data": {
      "text/html": [
       "<table>\n",
       "<thead><tr><th scope=col>gender</th><th scope=col>SeniorCitizen</th><th scope=col>Partner</th><th scope=col>Dependents</th><th scope=col>PhoneService</th><th scope=col>MultipleLines</th><th scope=col>InternetService</th><th scope=col>OnlineSecurity</th><th scope=col>OnlineBackup</th><th scope=col>DeviceProtection</th><th scope=col>TechSupport</th><th scope=col>StreamingTV</th><th scope=col>StreamingMovies</th><th scope=col>Contract</th><th scope=col>PaperlessBilling</th><th scope=col>PaymentMethod</th><th scope=col>MonthlyCharges</th><th scope=col>TotalCharges</th><th scope=col>Churn</th><th scope=col>tenure_group</th></tr></thead>\n",
       "<tbody>\n",
       "\t<tr><td>Female                   </td><td>No                       </td><td>Yes                      </td><td>No                       </td><td>No                       </td><td>No                       </td><td>DSL                      </td><td>No                       </td><td>Yes                      </td><td>No                       </td><td>No                       </td><td>No                       </td><td>No                       </td><td>Month-to-month           </td><td>Yes                      </td><td>Electronic check         </td><td>29.85                    </td><td>  29.85                  </td><td>No                       </td><td>0-12 Months              </td></tr>\n",
       "\t<tr><td>Male                     </td><td>No                       </td><td>No                       </td><td>No                       </td><td>Yes                      </td><td>No                       </td><td>DSL                      </td><td>Yes                      </td><td>No                       </td><td>Yes                      </td><td>No                       </td><td>No                       </td><td>No                       </td><td>One year                 </td><td>No                       </td><td>Mailed check             </td><td>56.95                    </td><td>1889.50                  </td><td>No                       </td><td>25-36 Months             </td></tr>\n",
       "\t<tr><td>Male                     </td><td>No                       </td><td>No                       </td><td>No                       </td><td>Yes                      </td><td>No                       </td><td>DSL                      </td><td>Yes                      </td><td>Yes                      </td><td>No                       </td><td>No                       </td><td>No                       </td><td>No                       </td><td>Month-to-month           </td><td>Yes                      </td><td>Mailed check             </td><td>53.85                    </td><td> 108.15                  </td><td>Yes                      </td><td>0-12 Months              </td></tr>\n",
       "\t<tr><td>Male                     </td><td>No                       </td><td>No                       </td><td>No                       </td><td>No                       </td><td>No                       </td><td>DSL                      </td><td>Yes                      </td><td>No                       </td><td>Yes                      </td><td>Yes                      </td><td>No                       </td><td>No                       </td><td>One year                 </td><td>No                       </td><td>Bank transfer (automatic)</td><td>42.30                    </td><td>1840.75                  </td><td>No                       </td><td>37-48 Months             </td></tr>\n",
       "\t<tr><td>Female                   </td><td>No                       </td><td>No                       </td><td>No                       </td><td>Yes                      </td><td>No                       </td><td>Fiber optic              </td><td>No                       </td><td>No                       </td><td>No                       </td><td>No                       </td><td>No                       </td><td>No                       </td><td>Month-to-month           </td><td>Yes                      </td><td>Electronic check         </td><td>70.70                    </td><td> 151.65                  </td><td>Yes                      </td><td>0-12 Months              </td></tr>\n",
       "\t<tr><td>Female                   </td><td>No                       </td><td>No                       </td><td>No                       </td><td>Yes                      </td><td>Yes                      </td><td>Fiber optic              </td><td>No                       </td><td>No                       </td><td>Yes                      </td><td>No                       </td><td>Yes                      </td><td>Yes                      </td><td>Month-to-month           </td><td>Yes                      </td><td>Electronic check         </td><td>99.65                    </td><td> 820.50                  </td><td>Yes                      </td><td>0-12 Months              </td></tr>\n",
       "</tbody>\n",
       "</table>\n"
      ],
      "text/latex": [
       "\\begin{tabular}{r|llllllllllllllllllll}\n",
       " gender & SeniorCitizen & Partner & Dependents & PhoneService & MultipleLines & InternetService & OnlineSecurity & OnlineBackup & DeviceProtection & TechSupport & StreamingTV & StreamingMovies & Contract & PaperlessBilling & PaymentMethod & MonthlyCharges & TotalCharges & Churn & tenure\\_group\\\\\n",
       "\\hline\n",
       "\t Female                    & No                        & Yes                       & No                        & No                        & No                        & DSL                       & No                        & Yes                       & No                        & No                        & No                        & No                        & Month-to-month            & Yes                       & Electronic check          & 29.85                     &   29.85                   & No                        & 0-12 Months              \\\\\n",
       "\t Male                      & No                        & No                        & No                        & Yes                       & No                        & DSL                       & Yes                       & No                        & Yes                       & No                        & No                        & No                        & One year                  & No                        & Mailed check              & 56.95                     & 1889.50                   & No                        & 25-36 Months             \\\\\n",
       "\t Male                      & No                        & No                        & No                        & Yes                       & No                        & DSL                       & Yes                       & Yes                       & No                        & No                        & No                        & No                        & Month-to-month            & Yes                       & Mailed check              & 53.85                     &  108.15                   & Yes                       & 0-12 Months              \\\\\n",
       "\t Male                      & No                        & No                        & No                        & No                        & No                        & DSL                       & Yes                       & No                        & Yes                       & Yes                       & No                        & No                        & One year                  & No                        & Bank transfer (automatic) & 42.30                     & 1840.75                   & No                        & 37-48 Months             \\\\\n",
       "\t Female                    & No                        & No                        & No                        & Yes                       & No                        & Fiber optic               & No                        & No                        & No                        & No                        & No                        & No                        & Month-to-month            & Yes                       & Electronic check          & 70.70                     &  151.65                   & Yes                       & 0-12 Months              \\\\\n",
       "\t Female                    & No                        & No                        & No                        & Yes                       & Yes                       & Fiber optic               & No                        & No                        & Yes                       & No                        & Yes                       & Yes                       & Month-to-month            & Yes                       & Electronic check          & 99.65                     &  820.50                   & Yes                       & 0-12 Months              \\\\\n",
       "\\end{tabular}\n"
      ],
      "text/markdown": [
       "\n",
       "gender | SeniorCitizen | Partner | Dependents | PhoneService | MultipleLines | InternetService | OnlineSecurity | OnlineBackup | DeviceProtection | TechSupport | StreamingTV | StreamingMovies | Contract | PaperlessBilling | PaymentMethod | MonthlyCharges | TotalCharges | Churn | tenure_group | \n",
       "|---|---|---|---|---|---|\n",
       "| Female                    | No                        | Yes                       | No                        | No                        | No                        | DSL                       | No                        | Yes                       | No                        | No                        | No                        | No                        | Month-to-month            | Yes                       | Electronic check          | 29.85                     |   29.85                   | No                        | 0-12 Months               | \n",
       "| Male                      | No                        | No                        | No                        | Yes                       | No                        | DSL                       | Yes                       | No                        | Yes                       | No                        | No                        | No                        | One year                  | No                        | Mailed check              | 56.95                     | 1889.50                   | No                        | 25-36 Months              | \n",
       "| Male                      | No                        | No                        | No                        | Yes                       | No                        | DSL                       | Yes                       | Yes                       | No                        | No                        | No                        | No                        | Month-to-month            | Yes                       | Mailed check              | 53.85                     |  108.15                   | Yes                       | 0-12 Months               | \n",
       "| Male                      | No                        | No                        | No                        | No                        | No                        | DSL                       | Yes                       | No                        | Yes                       | Yes                       | No                        | No                        | One year                  | No                        | Bank transfer (automatic) | 42.30                     | 1840.75                   | No                        | 37-48 Months              | \n",
       "| Female                    | No                        | No                        | No                        | Yes                       | No                        | Fiber optic               | No                        | No                        | No                        | No                        | No                        | No                        | Month-to-month            | Yes                       | Electronic check          | 70.70                     |  151.65                   | Yes                       | 0-12 Months               | \n",
       "| Female                    | No                        | No                        | No                        | Yes                       | Yes                       | Fiber optic               | No                        | No                        | Yes                       | No                        | Yes                       | Yes                       | Month-to-month            | Yes                       | Electronic check          | 99.65                     |  820.50                   | Yes                       | 0-12 Months               | \n",
       "\n",
       "\n"
      ],
      "text/plain": [
       "  gender SeniorCitizen Partner Dependents PhoneService MultipleLines\n",
       "1 Female No            Yes     No         No           No           \n",
       "2 Male   No            No      No         Yes          No           \n",
       "3 Male   No            No      No         Yes          No           \n",
       "4 Male   No            No      No         No           No           \n",
       "5 Female No            No      No         Yes          No           \n",
       "6 Female No            No      No         Yes          Yes          \n",
       "  InternetService OnlineSecurity OnlineBackup DeviceProtection TechSupport\n",
       "1 DSL             No             Yes          No               No         \n",
       "2 DSL             Yes            No           Yes              No         \n",
       "3 DSL             Yes            Yes          No               No         \n",
       "4 DSL             Yes            No           Yes              Yes        \n",
       "5 Fiber optic     No             No           No               No         \n",
       "6 Fiber optic     No             No           Yes              No         \n",
       "  StreamingTV StreamingMovies Contract       PaperlessBilling\n",
       "1 No          No              Month-to-month Yes             \n",
       "2 No          No              One year       No              \n",
       "3 No          No              Month-to-month Yes             \n",
       "4 No          No              One year       No              \n",
       "5 No          No              Month-to-month Yes             \n",
       "6 Yes         Yes             Month-to-month Yes             \n",
       "  PaymentMethod             MonthlyCharges TotalCharges Churn tenure_group\n",
       "1 Electronic check          29.85            29.85      No    0-12 Months \n",
       "2 Mailed check              56.95          1889.50      No    25-36 Months\n",
       "3 Mailed check              53.85           108.15      Yes   0-12 Months \n",
       "4 Bank transfer (automatic) 42.30          1840.75      No    37-48 Months\n",
       "5 Electronic check          70.70           151.65      Yes   0-12 Months \n",
       "6 Electronic check          99.65           820.50      Yes   0-12 Months "
      ]
     },
     "metadata": {},
     "output_type": "display_data"
    }
   ],
   "source": [
    "head(churn)"
   ]
  },
  {
   "cell_type": "markdown",
   "metadata": {},
   "source": [
    "# Starting the Exploratory Analysis\n",
    "#### Selecting variables"
   ]
  },
  {
   "cell_type": "code",
   "execution_count": 18,
   "metadata": {},
   "outputs": [
    {
     "data": {
      "image/png": "[encoded data removed]",
      "text/plain": [
       "Plot with title “\n",
       "\n",
       "Correlation graphic for numeric variables”"
      ]
     },
     "metadata": {},
     "output_type": "display_data",
     "source": "R display func"
    }
   ],
   "source": [
    "numeric.var = sapply(churn, is.numeric)\n",
    "corr.matrix = cor(churn[, numeric.var])\n",
    "corrplot(corr.matrix, main = \"\\n\\nCorrelation graphic for numeric variables\", method = \"number\")"
   ]
  },
  {
   "cell_type": "markdown",
   "metadata": {},
   "source": [
    "#### MonthlyCharges and TotalCharges has a high colinearity, so we remove one of them"
   ]
  },
  {
   "cell_type": "code",
   "execution_count": 19,
   "metadata": {},
   "outputs": [],
   "source": [
    "churn$TotalCharges = NULL"
   ]
  },
  {
   "cell_type": "code",
   "execution_count": 20,
   "metadata": {},
   "outputs": [],
   "source": [
    "p1 = ggplot(churn, aes(x = gender)) +\n",
    "     ggtitle(\"Gender\") +\n",
    "     xlab(\"Sex\") +\n",
    "     geom_bar(aes(y = 100 * (..count..)/sum(..count..)), width = 0.5) +\n",
    "     ylab(\"Percentual\") +\n",
    "     coord_flip() +\n",
    "     theme_minimal()"
   ]
  },
  {
   "cell_type": "code",
   "execution_count": 21,
   "metadata": {},
   "outputs": [],
   "source": [
    "p2 = ggplot(churn, aes(x = SeniorCitizen)) +\n",
    "     ggtitle(\"Senior Citizen\") +\n",
    "     xlab(\"Senior Citizen\") +\n",
    "     geom_bar(aes(y = 100 * (..count..)/sum(..count..)), width = 0.5) +\n",
    "     ylab(\"Percentual\") +\n",
    "     coord_flip() + \n",
    "     theme_minimal()"
   ]
  },
  {
   "cell_type": "code",
   "execution_count": 22,
   "metadata": {},
   "outputs": [],
   "source": [
    "p3 = ggplot(churn, aes(x = Partner)) +\n",
    "     ggtitle(\"Partner\") +\n",
    "     xlab(\"Partner\") +\n",
    "     geom_bar(aes(y = 100 * (..count..)/sum(..count..)), width = 0.5) +\n",
    "     ylab(\"Percentual\") +\n",
    "     coord_flip() + \n",
    "     theme_minimal()"
   ]
  },
  {
   "cell_type": "code",
   "execution_count": 23,
   "metadata": {},
   "outputs": [],
   "source": [
    "p4 = ggplot(churn, aes(x = Dependents)) +\n",
    "     ggtitle(\"Dependents\") +\n",
    "     xlab(\"Dependents\") +\n",
    "     geom_bar(aes(y = 100 * (..count..)/sum(..count..)), width = 0.5) +\n",
    "     ylab(\"Percentual\") +\n",
    "     coord_flip() + \n",
    "     theme_minimal()"
   ]
  },
  {
   "cell_type": "code",
   "execution_count": 24,
   "metadata": {},
   "outputs": [
    {
     "data": {
      "image/png": "[encoded data removed]",
      "text/plain": [
       "plot without title"
      ]
     },
     "metadata": {},
     "output_type": "display_data",
     "source": "R display func"
    }
   ],
   "source": [
    "grid.arrange(p1, p2, p3, p4, ncol = 2)"
   ]
  },
  {
   "cell_type": "code",
   "execution_count": 25,
   "metadata": {},
   "outputs": [],
   "source": [
    "p5 = ggplot(churn, aes(x = PhoneService)) +\n",
    "     ggtitle(\"Phone Service\") +\n",
    "     xlab(\"Phone Service\") +\n",
    "     geom_bar(aes(y = 100 * (..count..)/sum(..count..)), width = 0.5) +\n",
    "     ylab(\"Percentual\") +\n",
    "     coord_flip() + \n",
    "     theme_minimal()"
   ]
  },
  {
   "cell_type": "code",
   "execution_count": 26,
   "metadata": {},
   "outputs": [],
   "source": [
    "p6 = ggplot(churn, aes(x = MultipleLines)) +\n",
    "     ggtitle(\"Multiple Lines\") +\n",
    "     xlab(\"Multiple Lines\") +\n",
    "     geom_bar(aes(y = 100 * (..count..)/sum(..count..)), width = 0.5) +\n",
    "     ylab(\"Percentual\") +\n",
    "     coord_flip() + \n",
    "     theme_minimal()"
   ]
  },
  {
   "cell_type": "code",
   "execution_count": 27,
   "metadata": {},
   "outputs": [],
   "source": [
    "p7 = ggplot(churn, aes(x = InternetService)) +\n",
    "     ggtitle(\"Internet Service\") +\n",
    "     xlab(\"Internet Service\") +\n",
    "     geom_bar(aes(y = 100 * (..count..)/sum(..count..)), width = 0.5) +\n",
    "     ylab(\"Percentual\") +\n",
    "     coord_flip() + \n",
    "     theme_minimal()"
   ]
  },
  {
   "cell_type": "code",
   "execution_count": 28,
   "metadata": {},
   "outputs": [],
   "source": [
    "p8 = ggplot(churn, aes(x = OnlineSecurity)) +\n",
    "     ggtitle(\"Online Security\") +\n",
    "     xlab(\"Online Security\") +\n",
    "     geom_bar(aes(y = 100 * (..count..)/sum(..count..)), width = 0.5) +\n",
    "     ylab(\"Percentual\") +\n",
    "     coord_flip() + \n",
    "     theme_minimal()"
   ]
  },
  {
   "cell_type": "code",
   "execution_count": 29,
   "metadata": {},
   "outputs": [
    {
     "data": {
      "image/png": "[encoded data removed]",
      "text/plain": [
       "plot without title"
      ]
     },
     "metadata": {},
     "output_type": "display_data",
     "source": "R display func"
    }
   ],
   "source": [
    "grid.arrange(p5, p6, p7, p8, ncol = 2)"
   ]
  },
  {
   "cell_type": "code",
   "execution_count": 30,
   "metadata": {},
   "outputs": [],
   "source": [
    "p9 = ggplot(churn, aes(x = OnlineBackup)) +\n",
    "     ggtitle(\"Online Backup\") +\n",
    "     xlab(\"Online Backup\") +\n",
    "     geom_bar(aes(y = 100 * (..count..)/sum(..count..)), width = 0.5) +\n",
    "     ylab(\"Percentual\") +\n",
    "     coord_flip() + \n",
    "     theme_minimal()"
   ]
  },
  {
   "cell_type": "code",
   "execution_count": 31,
   "metadata": {},
   "outputs": [],
   "source": [
    "p10 = ggplot(churn, aes(x = DeviceProtection)) +\n",
    "     ggtitle(\"Device Protection\") +\n",
    "     xlab(\"Device Protection\") +\n",
    "     geom_bar(aes(y = 100 * (..count..)/sum(..count..)), width = 0.5) +\n",
    "     ylab(\"Percentual\") +\n",
    "     coord_flip() + \n",
    "     theme_minimal()"
   ]
  },
  {
   "cell_type": "code",
   "execution_count": 32,
   "metadata": {},
   "outputs": [],
   "source": [
    "p11 = ggplot(churn, aes(x = TechSupport)) +\n",
    "     ggtitle(\"Tech Support\") +\n",
    "     xlab(\"Tech Support\") +\n",
    "     geom_bar(aes(y = 100 * (..count..)/sum(..count..)), width = 0.5) +\n",
    "     ylab(\"Percentual\") +\n",
    "     coord_flip() + \n",
    "     theme_minimal()"
   ]
  },
  {
   "cell_type": "code",
   "execution_count": 33,
   "metadata": {},
   "outputs": [],
   "source": [
    "p12 = ggplot(churn, aes(x = StreamingTV)) +\n",
    "     ggtitle(\"Streaming TV\") +\n",
    "     xlab(\"Streaming TV\") +\n",
    "     geom_bar(aes(y = 100 * (..count..)/sum(..count..)), width = 0.5) +\n",
    "     ylab(\"Percentual\") +\n",
    "     coord_flip() + \n",
    "     theme_minimal()"
   ]
  },
  {
   "cell_type": "code",
   "execution_count": 34,
   "metadata": {},
   "outputs": [
    {
     "data": {
      "image/png": "[encoded data removed]",
      "text/plain": [
       "plot without title"
      ]
     },
     "metadata": {},
     "output_type": "display_data",
     "source": "R display func"
    }
   ],
   "source": [
    "grid.arrange(p9, p10, p11, p12, ncol = 2)"
   ]
  },
  {
   "cell_type": "code",
   "execution_count": 35,
   "metadata": {},
   "outputs": [],
   "source": [
    "p13 = ggplot(churn, aes(x = StreamingMovies)) +\n",
    "     ggtitle(\"Streaming Movies\") +\n",
    "     xlab(\"Streaming Movies\") +\n",
    "     geom_bar(aes(y = 100 * (..count..)/sum(..count..)), width = 0.5) +\n",
    "     ylab(\"Percentual\") +\n",
    "     coord_flip() + \n",
    "     theme_minimal()"
   ]
  },
  {
   "cell_type": "code",
   "execution_count": 36,
   "metadata": {},
   "outputs": [],
   "source": [
    "p14 = ggplot(churn, aes(x = Contract)) +\n",
    "     ggtitle(\"Contract\") +\n",
    "     xlab(\"Contract\") +\n",
    "     geom_bar(aes(y = 100 * (..count..)/sum(..count..)), width = 0.5) +\n",
    "     ylab(\"Percentual\") +\n",
    "     coord_flip() + \n",
    "     theme_minimal()"
   ]
  },
  {
   "cell_type": "code",
   "execution_count": 37,
   "metadata": {},
   "outputs": [],
   "source": [
    "p15 = ggplot(churn, aes(x = PaperlessBilling)) +\n",
    "     ggtitle(\"Paperless Billing\") +\n",
    "     xlab(\"Paperless Billing\") +\n",
    "     geom_bar(aes(y = 100 * (..count..)/sum(..count..)), width = 0.5) +\n",
    "     ylab(\"Percentual\") +\n",
    "     coord_flip() + \n",
    "     theme_minimal()"
   ]
  },
  {
   "cell_type": "code",
   "execution_count": 38,
   "metadata": {},
   "outputs": [],
   "source": [
    "p16 = ggplot(churn, aes(x = PaymentMethod)) +\n",
    "     ggtitle(\"Payment Method\") +\n",
    "     xlab(\"Payment Method\") +\n",
    "     geom_bar(aes(y = 100 * (..count..)/sum(..count..)), width = 0.5) +\n",
    "     ylab(\"Percentual\") +\n",
    "     coord_flip() + \n",
    "     theme_minimal()"
   ]
  },
  {
   "cell_type": "code",
   "execution_count": 39,
   "metadata": {},
   "outputs": [],
   "source": [
    "p17 = ggplot(churn, aes(x = tenure_group)) +\n",
    "     ggtitle(\"Tenure Group\") +\n",
    "     xlab(\"Tenure Group\") +\n",
    "     geom_bar(aes(y = 100 * (..count..)/sum(..count..)), width = 0.5) +\n",
    "     ylab(\"Percentual\") +\n",
    "     coord_flip() + \n",
    "     theme_minimal()"
   ]
  },
  {
   "cell_type": "code",
   "execution_count": 40,
   "metadata": {},
   "outputs": [
    {
     "data": {
      "image/png": "[encoded data removed]",
      "text/plain": [
       "plot without title"
      ]
     },
     "metadata": {},
     "output_type": "display_data",
     "source": "R display func"
    }
   ],
   "source": [
    "grid.arrange(p13, p14, p15, p16, p17, ncol = 2)"
   ]
  },
  {
   "cell_type": "markdown",
   "metadata": {},
   "source": [
    "# Machine Learning\n",
    "### Predictive model\n",
    "#### Logistic Regression"
   ]
  },
  {
   "cell_type": "code",
   "execution_count": 41,
   "metadata": {},
   "outputs": [],
   "source": [
    "# Test, train, split\n",
    "intrain = createDataPartition(churn$Churn, p = 0.7, list = F)\n",
    "set.seed(2017)\n",
    "training = churn[intrain,]\n",
    "testing = churn[-intrain,]"
   ]
  },
  {
   "cell_type": "code",
   "execution_count": 42,
   "metadata": {},
   "outputs": [
    {
     "data": {
      "text/html": [
       "<ol class=list-inline>\n",
       "\t<li>4924</li>\n",
       "\t<li>19</li>\n",
       "</ol>\n"
      ],
      "text/latex": [
       "\\begin{enumerate*}\n",
       "\\item 4924\n",
       "\\item 19\n",
       "\\end{enumerate*}\n"
      ],
      "text/markdown": [
       "1. 4924\n",
       "2. 19\n",
       "\n",
       "\n"
      ],
      "text/plain": [
       "[1] 4924   19"
      ]
     },
     "metadata": {},
     "output_type": "display_data"
    },
    {
     "data": {
      "text/html": [
       "<ol class=list-inline>\n",
       "\t<li>2108</li>\n",
       "\t<li>19</li>\n",
       "</ol>\n"
      ],
      "text/latex": [
       "\\begin{enumerate*}\n",
       "\\item 2108\n",
       "\\item 19\n",
       "\\end{enumerate*}\n"
      ],
      "text/markdown": [
       "1. 2108\n",
       "2. 19\n",
       "\n",
       "\n"
      ],
      "text/plain": [
       "[1] 2108   19"
      ]
     },
     "metadata": {},
     "output_type": "display_data"
    }
   ],
   "source": [
    "dim(training); dim(testing)"
   ]
  },
  {
   "cell_type": "code",
   "execution_count": 43,
   "metadata": {},
   "outputs": [],
   "source": [
    "#?glm"
   ]
  },
  {
   "cell_type": "markdown",
   "metadata": {},
   "source": [
    "### Logistic Regression model training\n",
    "#### Fitting"
   ]
  },
  {
   "cell_type": "code",
   "execution_count": 44,
   "metadata": {},
   "outputs": [
    {
     "name": "stdout",
     "output_type": "stream",
     "text": [
      "\n",
      "Call:\n",
      "glm(formula = Churn ~ ., family = binomial(link = \"logit\"), data = training)\n",
      "\n",
      "Deviance Residuals: \n",
      "    Min       1Q   Median       3Q      Max  \n",
      "-1.9545  -0.6676  -0.2932   0.6883   3.0272  \n",
      "\n",
      "Coefficients:\n",
      "                                      Estimate Std. Error z value Pr(>|z|)    \n",
      "(Intercept)                          -1.188693   1.007599  -1.180 0.238108    \n",
      "genderMale                            0.037159   0.077605   0.479 0.632062    \n",
      "SeniorCitizenYes                      0.167547   0.101638   1.648 0.099256 .  \n",
      "PartnerYes                           -0.016289   0.092373  -0.176 0.860025    \n",
      "DependentsYes                        -0.159206   0.107468  -1.481 0.138495    \n",
      "PhoneServiceYes                       0.017119   0.789358   0.022 0.982698    \n",
      "MultipleLinesYes                      0.374471   0.215355   1.739 0.082060 .  \n",
      "InternetServiceFiber optic            1.617113   0.972365   1.663 0.096298 .  \n",
      "InternetServiceNo                    -1.468069   0.982061  -1.495 0.134944    \n",
      "OnlineSecurityYes                    -0.223398   0.217246  -1.028 0.303799    \n",
      "OnlineBackupYes                      -0.001959   0.212243  -0.009 0.992637    \n",
      "DeviceProtectionYes                   0.127900   0.214599   0.596 0.551177    \n",
      "TechSupportYes                       -0.115036   0.218659  -0.526 0.598819    \n",
      "StreamingTVYes                        0.503290   0.397026   1.268 0.204923    \n",
      "StreamingMoviesYes                    0.531363   0.396254   1.341 0.179932    \n",
      "ContractOne year                     -0.944303   0.132644  -7.119 1.09e-12 ***\n",
      "ContractTwo year                     -1.642797   0.211590  -7.764 8.22e-15 ***\n",
      "PaperlessBillingYes                   0.283119   0.089148   3.176 0.001494 ** \n",
      "PaymentMethodCredit card (automatic) -0.098663   0.135344  -0.729 0.466013    \n",
      "PaymentMethodElectronic check         0.311778   0.112230   2.778 0.005469 ** \n",
      "PaymentMethodMailed check             0.046575   0.135793   0.343 0.731608    \n",
      "MonthlyCharges                       -0.026896   0.038654  -0.696 0.486546    \n",
      "tenure_group0-12 Months               1.646581   0.205323   8.019 1.06e-15 ***\n",
      "tenure_group13-24 Months              0.758094   0.202478   3.744 0.000181 ***\n",
      "tenure_group25-36 Months              0.417002   0.204232   2.042 0.041171 *  \n",
      "tenure_group37-48 Months              0.349120   0.204921   1.704 0.088441 .  \n",
      "tenure_group49-60 Months              0.269394   0.198191   1.359 0.174062    \n",
      "---\n",
      "Signif. codes:  0 ‘***’ 0.001 ‘**’ 0.01 ‘*’ 0.05 ‘.’ 0.1 ‘ ’ 1\n",
      "\n",
      "(Dispersion parameter for binomial family taken to be 1)\n",
      "\n",
      "    Null deviance: 5702.8  on 4923  degrees of freedom\n",
      "Residual deviance: 4112.0  on 4897  degrees of freedom\n",
      "AIC: 4166\n",
      "\n",
      "Number of Fisher Scoring iterations: 6\n",
      "\n"
     ]
    }
   ],
   "source": [
    "LogModel = glm(Churn ~ ., family = binomial(link = \"logit\"), data = training)\n",
    "print(summary(LogModel))"
   ]
  },
  {
   "cell_type": "markdown",
   "metadata": {},
   "source": [
    "#### Variance analysis"
   ]
  },
  {
   "cell_type": "code",
   "execution_count": 45,
   "metadata": {},
   "outputs": [],
   "source": [
    "#?anova"
   ]
  },
  {
   "cell_type": "code",
   "execution_count": 46,
   "metadata": {},
   "outputs": [
    {
     "data": {
      "text/html": [
       "<table>\n",
       "<thead><tr><th></th><th scope=col>Df</th><th scope=col>Deviance</th><th scope=col>Resid. Df</th><th scope=col>Resid. Dev</th><th scope=col>Pr(&gt;Chi)</th></tr></thead>\n",
       "<tbody>\n",
       "\t<tr><th scope=row>NULL</th><td>NA           </td><td>          NA </td><td>4923         </td><td>5702.760     </td><td>           NA</td></tr>\n",
       "\t<tr><th scope=row>gender</th><td> 1           </td><td>  0.05705828 </td><td>4922         </td><td>5702.703     </td><td> 8.112074e-01</td></tr>\n",
       "\t<tr><th scope=row>SeniorCitizen</th><td> 1           </td><td> 94.47805566 </td><td>4921         </td><td>5608.225     </td><td> 2.478246e-22</td></tr>\n",
       "\t<tr><th scope=row>Partner</th><td> 1           </td><td>121.70644326 </td><td>4920         </td><td>5486.518     </td><td> 2.676499e-28</td></tr>\n",
       "\t<tr><th scope=row>Dependents</th><td> 1           </td><td> 39.01000794 </td><td>4919         </td><td>5447.508     </td><td> 4.216385e-10</td></tr>\n",
       "\t<tr><th scope=row>PhoneService</th><td> 1           </td><td>  0.89224349 </td><td>4918         </td><td>5446.616     </td><td> 3.448701e-01</td></tr>\n",
       "\t<tr><th scope=row>MultipleLines</th><td> 1           </td><td>  5.11818180 </td><td>4917         </td><td>5441.498     </td><td> 2.367641e-02</td></tr>\n",
       "\t<tr><th scope=row>InternetService</th><td> 2           </td><td>476.07626594 </td><td>4915         </td><td>4965.421     </td><td>4.181695e-104</td></tr>\n",
       "\t<tr><th scope=row>OnlineSecurity</th><td> 1           </td><td>167.11070180 </td><td>4914         </td><td>4798.311     </td><td> 3.164092e-38</td></tr>\n",
       "\t<tr><th scope=row>OnlineBackup</th><td> 1           </td><td> 70.26884870 </td><td>4913         </td><td>4728.042     </td><td> 5.174846e-17</td></tr>\n",
       "\t<tr><th scope=row>DeviceProtection</th><td> 1           </td><td> 38.10849854 </td><td>4912         </td><td>4689.933     </td><td> 6.691803e-10</td></tr>\n",
       "\t<tr><th scope=row>TechSupport</th><td> 1           </td><td> 72.42705982 </td><td>4911         </td><td>4617.506     </td><td> 1.733210e-17</td></tr>\n",
       "\t<tr><th scope=row>StreamingTV</th><td> 1           </td><td>  0.65536761 </td><td>4910         </td><td>4616.851     </td><td> 4.182001e-01</td></tr>\n",
       "\t<tr><th scope=row>StreamingMovies</th><td> 1           </td><td>  0.42257091 </td><td>4909         </td><td>4616.428     </td><td> 5.156570e-01</td></tr>\n",
       "\t<tr><th scope=row>Contract</th><td> 2           </td><td>309.76108120 </td><td>4907         </td><td>4306.667     </td><td> 5.447984e-68</td></tr>\n",
       "\t<tr><th scope=row>PaperlessBilling</th><td> 1           </td><td> 10.67625005 </td><td>4906         </td><td>4295.991     </td><td> 1.085198e-03</td></tr>\n",
       "\t<tr><th scope=row>PaymentMethod</th><td> 3           </td><td> 32.47352017 </td><td>4903         </td><td>4263.518     </td><td> 4.158857e-07</td></tr>\n",
       "\t<tr><th scope=row>MonthlyCharges</th><td> 1           </td><td>  1.07521478 </td><td>4902         </td><td>4262.442     </td><td> 2.997705e-01</td></tr>\n",
       "\t<tr><th scope=row>tenure_group</th><td> 5           </td><td>150.41810518 </td><td>4897         </td><td>4112.024     </td><td> 1.087740e-30</td></tr>\n",
       "</tbody>\n",
       "</table>\n"
      ],
      "text/latex": [
       "\\begin{tabular}{r|lllll}\n",
       "  & Df & Deviance & Resid. Df & Resid. Dev & Pr(>Chi)\\\\\n",
       "\\hline\n",
       "\tNULL & NA            &           NA  & 4923          & 5702.760      &            NA\\\\\n",
       "\tgender &  1            &   0.05705828  & 4922          & 5702.703      &  8.112074e-01\\\\\n",
       "\tSeniorCitizen &  1            &  94.47805566  & 4921          & 5608.225      &  2.478246e-22\\\\\n",
       "\tPartner &  1            & 121.70644326  & 4920          & 5486.518      &  2.676499e-28\\\\\n",
       "\tDependents &  1            &  39.01000794  & 4919          & 5447.508      &  4.216385e-10\\\\\n",
       "\tPhoneService &  1            &   0.89224349  & 4918          & 5446.616      &  3.448701e-01\\\\\n",
       "\tMultipleLines &  1            &   5.11818180  & 4917          & 5441.498      &  2.367641e-02\\\\\n",
       "\tInternetService &  2            & 476.07626594  & 4915          & 4965.421      & 4.181695e-104\\\\\n",
       "\tOnlineSecurity &  1            & 167.11070180  & 4914          & 4798.311      &  3.164092e-38\\\\\n",
       "\tOnlineBackup &  1            &  70.26884870  & 4913          & 4728.042      &  5.174846e-17\\\\\n",
       "\tDeviceProtection &  1            &  38.10849854  & 4912          & 4689.933      &  6.691803e-10\\\\\n",
       "\tTechSupport &  1            &  72.42705982  & 4911          & 4617.506      &  1.733210e-17\\\\\n",
       "\tStreamingTV &  1            &   0.65536761  & 4910          & 4616.851      &  4.182001e-01\\\\\n",
       "\tStreamingMovies &  1            &   0.42257091  & 4909          & 4616.428      &  5.156570e-01\\\\\n",
       "\tContract &  2            & 309.76108120  & 4907          & 4306.667      &  5.447984e-68\\\\\n",
       "\tPaperlessBilling &  1            &  10.67625005  & 4906          & 4295.991      &  1.085198e-03\\\\\n",
       "\tPaymentMethod &  3            &  32.47352017  & 4903          & 4263.518      &  4.158857e-07\\\\\n",
       "\tMonthlyCharges &  1            &   1.07521478  & 4902          & 4262.442      &  2.997705e-01\\\\\n",
       "\ttenure\\_group &  5            & 150.41810518  & 4897          & 4112.024      &  1.087740e-30\\\\\n",
       "\\end{tabular}\n"
      ],
      "text/markdown": [
       "\n",
       "| <!--/--> | Df | Deviance | Resid. Df | Resid. Dev | Pr(>Chi) | \n",
       "|---|---|---|---|---|---|---|---|---|---|---|---|---|---|---|---|---|---|---|\n",
       "| NULL | NA            |           NA  | 4923          | 5702.760      |            NA | \n",
       "| gender |  1            |   0.05705828  | 4922          | 5702.703      |  8.112074e-01 | \n",
       "| SeniorCitizen |  1            |  94.47805566  | 4921          | 5608.225      |  2.478246e-22 | \n",
       "| Partner |  1            | 121.70644326  | 4920          | 5486.518      |  2.676499e-28 | \n",
       "| Dependents |  1            |  39.01000794  | 4919          | 5447.508      |  4.216385e-10 | \n",
       "| PhoneService |  1            |   0.89224349  | 4918          | 5446.616      |  3.448701e-01 | \n",
       "| MultipleLines |  1            |   5.11818180  | 4917          | 5441.498      |  2.367641e-02 | \n",
       "| InternetService |  2            | 476.07626594  | 4915          | 4965.421      | 4.181695e-104 | \n",
       "| OnlineSecurity |  1            | 167.11070180  | 4914          | 4798.311      |  3.164092e-38 | \n",
       "| OnlineBackup |  1            |  70.26884870  | 4913          | 4728.042      |  5.174846e-17 | \n",
       "| DeviceProtection |  1            |  38.10849854  | 4912          | 4689.933      |  6.691803e-10 | \n",
       "| TechSupport |  1            |  72.42705982  | 4911          | 4617.506      |  1.733210e-17 | \n",
       "| StreamingTV |  1            |   0.65536761  | 4910          | 4616.851      |  4.182001e-01 | \n",
       "| StreamingMovies |  1            |   0.42257091  | 4909          | 4616.428      |  5.156570e-01 | \n",
       "| Contract |  2            | 309.76108120  | 4907          | 4306.667      |  5.447984e-68 | \n",
       "| PaperlessBilling |  1            |  10.67625005  | 4906          | 4295.991      |  1.085198e-03 | \n",
       "| PaymentMethod |  3            |  32.47352017  | 4903          | 4263.518      |  4.158857e-07 | \n",
       "| MonthlyCharges |  1            |   1.07521478  | 4902          | 4262.442      |  2.997705e-01 | \n",
       "| tenure_group |  5            | 150.41810518  | 4897          | 4112.024      |  1.087740e-30 | \n",
       "\n",
       "\n"
      ],
      "text/plain": [
       "                 Df Deviance     Resid. Df Resid. Dev Pr(>Chi)     \n",
       "NULL             NA           NA 4923      5702.760              NA\n",
       "gender            1   0.05705828 4922      5702.703    8.112074e-01\n",
       "SeniorCitizen     1  94.47805566 4921      5608.225    2.478246e-22\n",
       "Partner           1 121.70644326 4920      5486.518    2.676499e-28\n",
       "Dependents        1  39.01000794 4919      5447.508    4.216385e-10\n",
       "PhoneService      1   0.89224349 4918      5446.616    3.448701e-01\n",
       "MultipleLines     1   5.11818180 4917      5441.498    2.367641e-02\n",
       "InternetService   2 476.07626594 4915      4965.421   4.181695e-104\n",
       "OnlineSecurity    1 167.11070180 4914      4798.311    3.164092e-38\n",
       "OnlineBackup      1  70.26884870 4913      4728.042    5.174846e-17\n",
       "DeviceProtection  1  38.10849854 4912      4689.933    6.691803e-10\n",
       "TechSupport       1  72.42705982 4911      4617.506    1.733210e-17\n",
       "StreamingTV       1   0.65536761 4910      4616.851    4.182001e-01\n",
       "StreamingMovies   1   0.42257091 4909      4616.428    5.156570e-01\n",
       "Contract          2 309.76108120 4907      4306.667    5.447984e-68\n",
       "PaperlessBilling  1  10.67625005 4906      4295.991    1.085198e-03\n",
       "PaymentMethod     3  32.47352017 4903      4263.518    4.158857e-07\n",
       "MonthlyCharges    1   1.07521478 4902      4262.442    2.997705e-01\n",
       "tenure_group      5 150.41810518 4897      4112.024    1.087740e-30"
      ]
     },
     "metadata": {},
     "output_type": "display_data"
    }
   ],
   "source": [
    "anova(LogModel, test = \"Chisq\")"
   ]
  },
  {
   "cell_type": "code",
   "execution_count": 47,
   "metadata": {},
   "outputs": [
    {
     "name": "stdout",
     "output_type": "stream",
     "text": [
      "[1] \"Logistic Regression Accuracy 0.806925996204934\"\n"
     ]
    }
   ],
   "source": [
    "testing$Churn = as.character(testing$Churn)\n",
    "testing$Churn[testing$Churn == \"No\"] = 0\n",
    "testing$Churn[testing$Churn == \"Yes\"] = 1\n",
    "fitted.results = predict(LogModel, newdata = testing, type=\"response\")\n",
    "fitted.results = ifelse(fitted.results > 0.5, 1, 0)\n",
    "misClassificError = mean(fitted.results != testing$Churn)\n",
    "print(paste('Logistic Regression Accuracy', 1 - misClassificError))"
   ]
  },
  {
   "cell_type": "code",
   "execution_count": 48,
   "metadata": {},
   "outputs": [
    {
     "name": "stdout",
     "output_type": "stream",
     "text": [
      "[1] \"Confusion Matrix\"\n"
     ]
    },
    {
     "data": {
      "text/plain": [
       "   \n",
       "    FALSE TRUE\n",
       "  0  1421  127\n",
       "  1   280  280"
      ]
     },
     "metadata": {},
     "output_type": "display_data"
    }
   ],
   "source": [
    "print('Confusion Matrix')\n",
    "table(testing$Churn, fitted.results > 0.5)"
   ]
  },
  {
   "cell_type": "code",
   "execution_count": 49,
   "metadata": {},
   "outputs": [
    {
     "name": "stdout",
     "output_type": "stream",
     "text": [
      "[1] \"Odds Ratio\"\n"
     ]
    },
    {
     "name": "stderr",
     "output_type": "stream",
     "text": [
      "Waiting for profiling to be done...\n"
     ]
    },
    {
     "data": {
      "text/html": [
       "<table>\n",
       "<thead><tr><th></th><th scope=col>OR</th><th scope=col>2.5 %</th><th scope=col>97.5 %</th></tr></thead>\n",
       "<tbody>\n",
       "\t<tr><th scope=row>(Intercept)</th><td>0.3046191 </td><td>0.04220406</td><td> 2.1936656</td></tr>\n",
       "\t<tr><th scope=row>genderMale</th><td>1.0378583 </td><td>0.89142118</td><td> 1.2084366</td></tr>\n",
       "\t<tr><th scope=row>SeniorCitizenYes</th><td>1.1824006 </td><td>0.96857567</td><td> 1.4428078</td></tr>\n",
       "\t<tr><th scope=row>PartnerYes</th><td>0.9838426 </td><td>0.82096631</td><td> 1.1792917</td></tr>\n",
       "\t<tr><th scope=row>DependentsYes</th><td>0.8528209 </td><td>0.69028319</td><td> 1.0520860</td></tr>\n",
       "\t<tr><th scope=row>PhoneServiceYes</th><td>1.0172662 </td><td>0.21656090</td><td> 4.7836957</td></tr>\n",
       "\t<tr><th scope=row>MultipleLinesYes</th><td>1.4542219 </td><td>0.95384013</td><td> 2.2192280</td></tr>\n",
       "\t<tr><th scope=row>InternetServiceFiber optic</th><td>5.0385254 </td><td>0.75081570</td><td>33.9911280</td></tr>\n",
       "\t<tr><th scope=row>InternetServiceNo</th><td>0.2303698 </td><td>0.03355026</td><td> 1.5777241</td></tr>\n",
       "\t<tr><th scope=row>OnlineSecurityYes</th><td>0.7997962 </td><td>0.52216222</td><td> 1.2239331</td></tr>\n",
       "\t<tr><th scope=row>OnlineBackupYes</th><td>0.9980433 </td><td>0.65835123</td><td> 1.5131518</td></tr>\n",
       "\t<tr><th scope=row>DeviceProtectionYes</th><td>1.1364397 </td><td>0.74625094</td><td> 1.7311349</td></tr>\n",
       "\t<tr><th scope=row>TechSupportYes</th><td>0.8913338 </td><td>0.58040737</td><td> 1.3680094</td></tr>\n",
       "\t<tr><th scope=row>StreamingTVYes</th><td>1.6541542 </td><td>0.76014247</td><td> 3.6056793</td></tr>\n",
       "\t<tr><th scope=row>StreamingMoviesYes</th><td>1.7012502 </td><td>0.78296490</td><td> 3.7027293</td></tr>\n",
       "\t<tr><th scope=row>ContractOne year</th><td>0.3889504 </td><td>0.29885109</td><td> 0.5028445</td></tr>\n",
       "\t<tr><th scope=row>ContractTwo year</th><td>0.1934383 </td><td>0.12621204</td><td> 0.2897147</td></tr>\n",
       "\t<tr><th scope=row>PaperlessBillingYes</th><td>1.3272635 </td><td>1.11478661</td><td> 1.5812479</td></tr>\n",
       "\t<tr><th scope=row>PaymentMethodCredit card (automatic)</th><td>0.9060477 </td><td>0.69460577</td><td> 1.1810512</td></tr>\n",
       "\t<tr><th scope=row>PaymentMethodElectronic check</th><td>1.3658514 </td><td>1.09694626</td><td> 1.7034384</td></tr>\n",
       "\t<tr><th scope=row>PaymentMethodMailed check</th><td>1.0476770 </td><td>0.80315689</td><td> 1.3679276</td></tr>\n",
       "\t<tr><th scope=row>MonthlyCharges</th><td>0.9734626 </td><td>0.90235795</td><td> 1.0500313</td></tr>\n",
       "\t<tr><th scope=row>tenure_group0-12 Months</th><td>5.1892067 </td><td>3.48254477</td><td> 7.7927012</td></tr>\n",
       "\t<tr><th scope=row>tenure_group13-24 Months</th><td>2.1342053 </td><td>1.43908110</td><td> 3.1846179</td></tr>\n",
       "\t<tr><th scope=row>tenure_group25-36 Months</th><td>1.5174050 </td><td>1.01863204</td><td> 2.2699216</td></tr>\n",
       "\t<tr><th scope=row>tenure_group37-48 Months</th><td>1.4178194 </td><td>0.94950119</td><td> 2.1218188</td></tr>\n",
       "\t<tr><th scope=row>tenure_group49-60 Months</th><td>1.3091707 </td><td>0.88821745</td><td> 1.9333648</td></tr>\n",
       "</tbody>\n",
       "</table>\n"
      ],
      "text/latex": [
       "\\begin{tabular}{r|lll}\n",
       "  & OR & 2.5 \\% & 97.5 \\%\\\\\n",
       "\\hline\n",
       "\t(Intercept) & 0.3046191  & 0.04220406 &  2.1936656\\\\\n",
       "\tgenderMale & 1.0378583  & 0.89142118 &  1.2084366\\\\\n",
       "\tSeniorCitizenYes & 1.1824006  & 0.96857567 &  1.4428078\\\\\n",
       "\tPartnerYes & 0.9838426  & 0.82096631 &  1.1792917\\\\\n",
       "\tDependentsYes & 0.8528209  & 0.69028319 &  1.0520860\\\\\n",
       "\tPhoneServiceYes & 1.0172662  & 0.21656090 &  4.7836957\\\\\n",
       "\tMultipleLinesYes & 1.4542219  & 0.95384013 &  2.2192280\\\\\n",
       "\tInternetServiceFiber optic & 5.0385254  & 0.75081570 & 33.9911280\\\\\n",
       "\tInternetServiceNo & 0.2303698  & 0.03355026 &  1.5777241\\\\\n",
       "\tOnlineSecurityYes & 0.7997962  & 0.52216222 &  1.2239331\\\\\n",
       "\tOnlineBackupYes & 0.9980433  & 0.65835123 &  1.5131518\\\\\n",
       "\tDeviceProtectionYes & 1.1364397  & 0.74625094 &  1.7311349\\\\\n",
       "\tTechSupportYes & 0.8913338  & 0.58040737 &  1.3680094\\\\\n",
       "\tStreamingTVYes & 1.6541542  & 0.76014247 &  3.6056793\\\\\n",
       "\tStreamingMoviesYes & 1.7012502  & 0.78296490 &  3.7027293\\\\\n",
       "\tContractOne year & 0.3889504  & 0.29885109 &  0.5028445\\\\\n",
       "\tContractTwo year & 0.1934383  & 0.12621204 &  0.2897147\\\\\n",
       "\tPaperlessBillingYes & 1.3272635  & 1.11478661 &  1.5812479\\\\\n",
       "\tPaymentMethodCredit card (automatic) & 0.9060477  & 0.69460577 &  1.1810512\\\\\n",
       "\tPaymentMethodElectronic check & 1.3658514  & 1.09694626 &  1.7034384\\\\\n",
       "\tPaymentMethodMailed check & 1.0476770  & 0.80315689 &  1.3679276\\\\\n",
       "\tMonthlyCharges & 0.9734626  & 0.90235795 &  1.0500313\\\\\n",
       "\ttenure\\_group0-12 Months & 5.1892067  & 3.48254477 &  7.7927012\\\\\n",
       "\ttenure\\_group13-24 Months & 2.1342053  & 1.43908110 &  3.1846179\\\\\n",
       "\ttenure\\_group25-36 Months & 1.5174050  & 1.01863204 &  2.2699216\\\\\n",
       "\ttenure\\_group37-48 Months & 1.4178194  & 0.94950119 &  2.1218188\\\\\n",
       "\ttenure\\_group49-60 Months & 1.3091707  & 0.88821745 &  1.9333648\\\\\n",
       "\\end{tabular}\n"
      ],
      "text/markdown": [
       "\n",
       "| <!--/--> | OR | 2.5 % | 97.5 % | \n",
       "|---|---|---|---|---|---|---|---|---|---|---|---|---|---|---|---|---|---|---|---|---|---|---|---|---|---|---|\n",
       "| (Intercept) | 0.3046191  | 0.04220406 |  2.1936656 | \n",
       "| genderMale | 1.0378583  | 0.89142118 |  1.2084366 | \n",
       "| SeniorCitizenYes | 1.1824006  | 0.96857567 |  1.4428078 | \n",
       "| PartnerYes | 0.9838426  | 0.82096631 |  1.1792917 | \n",
       "| DependentsYes | 0.8528209  | 0.69028319 |  1.0520860 | \n",
       "| PhoneServiceYes | 1.0172662  | 0.21656090 |  4.7836957 | \n",
       "| MultipleLinesYes | 1.4542219  | 0.95384013 |  2.2192280 | \n",
       "| InternetServiceFiber optic | 5.0385254  | 0.75081570 | 33.9911280 | \n",
       "| InternetServiceNo | 0.2303698  | 0.03355026 |  1.5777241 | \n",
       "| OnlineSecurityYes | 0.7997962  | 0.52216222 |  1.2239331 | \n",
       "| OnlineBackupYes | 0.9980433  | 0.65835123 |  1.5131518 | \n",
       "| DeviceProtectionYes | 1.1364397  | 0.74625094 |  1.7311349 | \n",
       "| TechSupportYes | 0.8913338  | 0.58040737 |  1.3680094 | \n",
       "| StreamingTVYes | 1.6541542  | 0.76014247 |  3.6056793 | \n",
       "| StreamingMoviesYes | 1.7012502  | 0.78296490 |  3.7027293 | \n",
       "| ContractOne year | 0.3889504  | 0.29885109 |  0.5028445 | \n",
       "| ContractTwo year | 0.1934383  | 0.12621204 |  0.2897147 | \n",
       "| PaperlessBillingYes | 1.3272635  | 1.11478661 |  1.5812479 | \n",
       "| PaymentMethodCredit card (automatic) | 0.9060477  | 0.69460577 |  1.1810512 | \n",
       "| PaymentMethodElectronic check | 1.3658514  | 1.09694626 |  1.7034384 | \n",
       "| PaymentMethodMailed check | 1.0476770  | 0.80315689 |  1.3679276 | \n",
       "| MonthlyCharges | 0.9734626  | 0.90235795 |  1.0500313 | \n",
       "| tenure_group0-12 Months | 5.1892067  | 3.48254477 |  7.7927012 | \n",
       "| tenure_group13-24 Months | 2.1342053  | 1.43908110 |  3.1846179 | \n",
       "| tenure_group25-36 Months | 1.5174050  | 1.01863204 |  2.2699216 | \n",
       "| tenure_group37-48 Months | 1.4178194  | 0.94950119 |  2.1218188 | \n",
       "| tenure_group49-60 Months | 1.3091707  | 0.88821745 |  1.9333648 | \n",
       "\n",
       "\n"
      ],
      "text/plain": [
       "                                     OR        2.5 %      97.5 %    \n",
       "(Intercept)                          0.3046191 0.04220406  2.1936656\n",
       "genderMale                           1.0378583 0.89142118  1.2084366\n",
       "SeniorCitizenYes                     1.1824006 0.96857567  1.4428078\n",
       "PartnerYes                           0.9838426 0.82096631  1.1792917\n",
       "DependentsYes                        0.8528209 0.69028319  1.0520860\n",
       "PhoneServiceYes                      1.0172662 0.21656090  4.7836957\n",
       "MultipleLinesYes                     1.4542219 0.95384013  2.2192280\n",
       "InternetServiceFiber optic           5.0385254 0.75081570 33.9911280\n",
       "InternetServiceNo                    0.2303698 0.03355026  1.5777241\n",
       "OnlineSecurityYes                    0.7997962 0.52216222  1.2239331\n",
       "OnlineBackupYes                      0.9980433 0.65835123  1.5131518\n",
       "DeviceProtectionYes                  1.1364397 0.74625094  1.7311349\n",
       "TechSupportYes                       0.8913338 0.58040737  1.3680094\n",
       "StreamingTVYes                       1.6541542 0.76014247  3.6056793\n",
       "StreamingMoviesYes                   1.7012502 0.78296490  3.7027293\n",
       "ContractOne year                     0.3889504 0.29885109  0.5028445\n",
       "ContractTwo year                     0.1934383 0.12621204  0.2897147\n",
       "PaperlessBillingYes                  1.3272635 1.11478661  1.5812479\n",
       "PaymentMethodCredit card (automatic) 0.9060477 0.69460577  1.1810512\n",
       "PaymentMethodElectronic check        1.3658514 1.09694626  1.7034384\n",
       "PaymentMethodMailed check            1.0476770 0.80315689  1.3679276\n",
       "MonthlyCharges                       0.9734626 0.90235795  1.0500313\n",
       "tenure_group0-12 Months              5.1892067 3.48254477  7.7927012\n",
       "tenure_group13-24 Months             2.1342053 1.43908110  3.1846179\n",
       "tenure_group25-36 Months             1.5174050 1.01863204  2.2699216\n",
       "tenure_group37-48 Months             1.4178194 0.94950119  2.1218188\n",
       "tenure_group49-60 Months             1.3091707 0.88821745  1.9333648"
      ]
     },
     "metadata": {},
     "output_type": "display_data"
    }
   ],
   "source": [
    "print('Odds Ratio')\n",
    "exp(cbind(OR=coef(LogModel), confint(LogModel)))"
   ]
  },
  {
   "cell_type": "markdown",
   "metadata": {},
   "source": [
    "## Decision Tree Model"
   ]
  },
  {
   "cell_type": "code",
   "execution_count": 50,
   "metadata": {},
   "outputs": [],
   "source": [
    "#?ctree"
   ]
  },
  {
   "cell_type": "code",
   "execution_count": 51,
   "metadata": {},
   "outputs": [
    {
     "data": {
      "image/png": "[encoded data removed]",
      "text/plain": [
       "plot without title"
      ]
     },
     "metadata": {},
     "output_type": "display_data",
     "source": "R display func"
    }
   ],
   "source": [
    "tree = ctree(Churn ~ Contract + tenure_group + PaperlessBilling, training)\n",
    "plot(tree, type = 'simple')"
   ]
  },
  {
   "cell_type": "code",
   "execution_count": 52,
   "metadata": {},
   "outputs": [],
   "source": [
    "pred_tree = predict(tree, testing)"
   ]
  },
  {
   "cell_type": "code",
   "execution_count": 53,
   "metadata": {},
   "outputs": [
    {
     "name": "stdout",
     "output_type": "stream",
     "text": [
      "[1] \"Confusion Matrix\"\n"
     ]
    },
    {
     "data": {
      "text/plain": [
       "         Actual\n",
       "Predicted    0    1\n",
       "      No  1411  356\n",
       "      Yes  137  204"
      ]
     },
     "metadata": {},
     "output_type": "display_data"
    }
   ],
   "source": [
    "print('Confusion Matrix')\n",
    "table(Predicted = pred_tree, Actual = testing$Churn)"
   ]
  },
  {
   "cell_type": "code",
   "execution_count": 54,
   "metadata": {},
   "outputs": [
    {
     "name": "stdout",
     "output_type": "stream",
     "text": [
      "[1] \"Decision Tree Accuracy 0.766129032258065\"\n"
     ]
    }
   ],
   "source": [
    "p1 = predict(tree, training)\n",
    "tab1 = table(Predicted = p1, Actual = training$Churn)\n",
    "tab2 = table(Predicted = pred_tree, Actual = testing$Churn)\n",
    "print(paste('Decision Tree Accuracy', sum(diag(tab2))/sum(tab2)))"
   ]
  },
  {
   "cell_type": "markdown",
   "metadata": {},
   "source": [
    "## Randon Forest Model"
   ]
  },
  {
   "cell_type": "code",
   "execution_count": 58,
   "metadata": {},
   "outputs": [
    {
     "name": "stdout",
     "output_type": "stream",
     "text": [
      "\n",
      "Call:\n",
      " randomForest(formula = Churn ~ ., data = training) \n",
      "               Type of random forest: classification\n",
      "                     Number of trees: 500\n",
      "No. of variables tried at each split: 4\n",
      "\n",
      "        OOB estimate of  error rate: 21.79%\n",
      "Confusion matrix:\n",
      "      No Yes class.error\n",
      "No  3226 389   0.1076072\n",
      "Yes  684 625   0.5225363\n"
     ]
    }
   ],
   "source": [
    "set.seed(2017)\n",
    "rfModel = randomForest(Churn ~ ., data = training)\n",
    "print(rfModel)"
   ]
  },
  {
   "cell_type": "code",
   "execution_count": 60,
   "metadata": {},
   "outputs": [
    {
     "data": {
      "image/png": "[encoded data removed]",
      "text/plain": [
       "Plot with title “rfModel”"
      ]
     },
     "metadata": {},
     "output_type": "display_data",
     "source": "R display func"
    }
   ],
   "source": [
    "# The error rate drops until a limit. To get a better model we need to configure better parameters\n",
    "plot(rfModel)"
   ]
  },
  {
   "cell_type": "code",
   "execution_count": 56,
   "metadata": {},
   "outputs": [],
   "source": [
    "pred_rf = predict(rfModel, testing)"
   ]
  },
  {
   "cell_type": "code",
   "execution_count": 57,
   "metadata": {},
   "outputs": [
    {
     "name": "stdout",
     "output_type": "stream",
     "text": [
      "[1] \"Confusion Matrix\"\n"
     ]
    },
    {
     "data": {
      "text/plain": [
       "   pred_rf\n",
       "      No  Yes\n",
       "  0 1412  136\n",
       "  1  302  258"
      ]
     },
     "metadata": {},
     "output_type": "display_data"
    }
   ],
   "source": [
    "print('Confusion Matrix')\n",
    "table(testing$Churn, pred_rf)"
   ]
  },
  {
   "cell_type": "code",
   "execution_count": 62,
   "metadata": {},
   "outputs": [
    {
     "data": {
      "image/png": "[encoded data removed]",
      "text/plain": [
       "Plot with title “Top 10 features importance”"
      ]
     },
     "metadata": {},
     "output_type": "display_data",
     "source": "R display func"
    }
   ],
   "source": [
    "#?varImpPlot\n",
    "varImpPlot(rfModel, sort = T, n.var = 10, main = 'Top 10 features importance')"
   ]
  },
  {
   "cell_type": "markdown",
   "metadata": {},
   "source": [
    "## Making a report RMarkdown\n",
    "On the R Studio, follow the menu File -> New File -> R Markdown\n",
    "- Install the packages\n",
    "- Give a title\n",
    "- Choose the output format\n",
    "- Click on OK button\n",
    "\n",
    "This steps will create a template to make a report RMarkdown.\n",
    "\n",
    "RMarkDown its like a jupyter-notebook"
   ]
  },
  {
   "cell_type": "code",
   "execution_count": null,
   "metadata": {},
   "outputs": [],
   "source": []
  }
 ],
 "metadata": {
  "kernelspec": {
   "display_name": "R",
   "language": "R",
   "name": "ir"
  },
  "language_info": {
   "codemirror_mode": "r",
   "file_extension": ".r",
   "mimetype": "text/x-r-source",
   "name": "R",
   "pygments_lexer": "r",
   "version": "3.5.1"
  }
 },
 "nbformat": 4,
 "nbformat_minor": 2
}
