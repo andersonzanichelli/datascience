{
 "cells": [
  {
   "cell_type": "code",
   "execution_count": 9,
   "metadata": {
    "collapsed": true
   },
   "outputs": [],
   "source": [
    "import matplotlib.pyplot as plt\n",
    "import numpy as np\n",
    "%matplotlib inline"
   ]
  },
  {
   "cell_type": "code",
   "execution_count": 14,
   "metadata": {},
   "outputs": [
    {
     "data": {
      "image/png": "[encoded data removed]",
      "text/plain": [
       "<matplotlib.figure.Figure at 0x7f4edc04b160>"
      ]
     },
     "metadata": {},
     "output_type": "display_data"
    }
   ],
   "source": [
    "fig, axes = plt.subplots(nrows=3, ncols=3)\n",
    "x = np.linspace(0,5,11)\n",
    "y = x ** 2\n",
    "\n",
    "plt.tight_layout()\n",
    "#axes.plot(x,y)"
   ]
  },
  {
   "cell_type": "code",
   "execution_count": 15,
   "metadata": {},
   "outputs": [
    {
     "data": {
      "text/plain": [
       "array([[<matplotlib.axes._subplots.AxesSubplot object at 0x7f4edc013400>,\n",
       "        <matplotlib.axes._subplots.AxesSubplot object at 0x7f4edc3f83c8>,\n",
       "        <matplotlib.axes._subplots.AxesSubplot object at 0x7f4edc5cae10>],\n",
       "       [<matplotlib.axes._subplots.AxesSubplot object at 0x7f4edc527a90>,\n",
       "        <matplotlib.axes._subplots.AxesSubplot object at 0x7f4ee8060710>,\n",
       "        <matplotlib.axes._subplots.AxesSubplot object at 0x7f4edbe9a320>],\n",
       "       [<matplotlib.axes._subplots.AxesSubplot object at 0x7f4edbd9cc50>,\n",
       "        <matplotlib.axes._subplots.AxesSubplot object at 0x7f4edbd0fd30>,\n",
       "        <matplotlib.axes._subplots.AxesSubplot object at 0x7f4edba015c0>]], dtype=object)"
      ]
     },
     "execution_count": 15,
     "metadata": {},
     "output_type": "execute_result"
    }
   ],
   "source": [
    "axes"
   ]
  },
  {
   "cell_type": "code",
   "execution_count": null,
   "metadata": {
    "collapsed": true
   },
   "outputs": [],
   "source": []
  }
 ],
 "metadata": {
  "kernelspec": {
   "display_name": "Python 3",
   "language": "python",
   "name": "python3"
  },
  "language_info": {
   "codemirror_mode": {
    "name": "ipython",
    "version": 3
   },
   "file_extension": ".py",
   "mimetype": "text/x-python",
   "name": "python",
   "nbconvert_exporter": "python",
   "pygments_lexer": "ipython3",
   "version": "3.6.2"
  }
 },
 "nbformat": 4,
 "nbformat_minor": 2
}
