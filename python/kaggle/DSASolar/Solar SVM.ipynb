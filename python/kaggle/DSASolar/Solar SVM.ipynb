{
 "cells": [
  {
   "cell_type": "code",
   "execution_count": 2,
   "metadata": {},
   "outputs": [],
   "source": [
    "import numpy as np\n",
    "import pandas as pd\n",
    "import matplotlib.pyplot as plt\n",
    "import seaborn as sns\n",
    "\n",
    "from sklearn.metrics import classification_report, confusion_matrix\n",
    "from sklearn.model_selection import train_test_split\n",
    "from sklearn.svm import SVC\n",
    "from sklearn.model_selection import GridSearchCV\n",
    "\n",
    "import warnings\n",
    "warnings.filterwarnings('ignore')\n",
    "\n",
    "%matplotlib inline"
   ]
  },
  {
   "cell_type": "code",
   "execution_count": 3,
   "metadata": {},
   "outputs": [],
   "source": [
    "dflojas = pd.read_csv(\"lojas.csv\")\n",
    "dftreino = pd.read_csv(\"dataset_treino.csv\")\n",
    "dfteste = pd.read_csv(\"dataset_teste.csv\")"
   ]
  },
  {
   "cell_type": "code",
   "execution_count": 4,
   "metadata": {},
   "outputs": [],
   "source": [
    "dftreinamento = pd.merge(dftreino, dflojas, on='Store', how='inner')\n",
    "dfcompeticao = pd.merge(dfteste, dflojas, on='Store', how='inner')"
   ]
  },
  {
   "cell_type": "code",
   "execution_count": 5,
   "metadata": {},
   "outputs": [],
   "source": [
    "def strToInt(x):\n",
    "    if x == 0 or x == '0':\n",
    "        return 0\n",
    "    elif x == 'a':\n",
    "        return 1\n",
    "    elif x == 'b':\n",
    "        return 2\n",
    "    elif x == 'c':\n",
    "        return 3\n",
    "    else:\n",
    "        return 4\n",
    "\n",
    "dftreinamento['StateHoliday'] = dftreinamento['StateHoliday'].apply(lambda x: strToInt(x))\n",
    "dftreinamento['StoreType'] = dftreinamento['StoreType'].apply(lambda x: strToInt(x))\n",
    "dftreinamento['Assortment'] = dftreinamento['Assortment'].apply(lambda x: strToInt(x))"
   ]
  },
  {
   "cell_type": "code",
   "execution_count": 6,
   "metadata": {},
   "outputs": [],
   "source": [
    "dftreinamento['Date'] = pd.DatetimeIndex(pd.to_datetime(dftreinamento['Date']), dtype='datetime64[ns]').astype(np.int64)"
   ]
  },
  {
   "cell_type": "code",
   "execution_count": 7,
   "metadata": {},
   "outputs": [
    {
     "data": {
      "text/html": [
       "<div>\n",
       "<style scoped>\n",
       "    .dataframe tbody tr th:only-of-type {\n",
       "        vertical-align: middle;\n",
       "    }\n",
       "\n",
       "    .dataframe tbody tr th {\n",
       "        vertical-align: top;\n",
       "    }\n",
       "\n",
       "    .dataframe thead th {\n",
       "        text-align: right;\n",
       "    }\n",
       "</style>\n",
       "<table border=\"1\" class=\"dataframe\">\n",
       "  <thead>\n",
       "    <tr style=\"text-align: right;\">\n",
       "      <th></th>\n",
       "      <th>Store</th>\n",
       "      <th>DayOfWeek</th>\n",
       "      <th>Date</th>\n",
       "      <th>Sales</th>\n",
       "      <th>Customers</th>\n",
       "      <th>Open</th>\n",
       "      <th>Promo</th>\n",
       "      <th>StateHoliday</th>\n",
       "      <th>SchoolHoliday</th>\n",
       "      <th>StoreType</th>\n",
       "      <th>Assortment</th>\n",
       "      <th>CompetitionDistance</th>\n",
       "      <th>CompetitionOpenSinceMonth</th>\n",
       "      <th>CompetitionOpenSinceYear</th>\n",
       "      <th>Promo2</th>\n",
       "      <th>Promo2SinceWeek</th>\n",
       "      <th>Promo2SinceYear</th>\n",
       "    </tr>\n",
       "    <tr>\n",
       "      <th>PromoInterval</th>\n",
       "      <th></th>\n",
       "      <th></th>\n",
       "      <th></th>\n",
       "      <th></th>\n",
       "      <th></th>\n",
       "      <th></th>\n",
       "      <th></th>\n",
       "      <th></th>\n",
       "      <th></th>\n",
       "      <th></th>\n",
       "      <th></th>\n",
       "      <th></th>\n",
       "      <th></th>\n",
       "      <th></th>\n",
       "      <th></th>\n",
       "      <th></th>\n",
       "      <th></th>\n",
       "    </tr>\n",
       "  </thead>\n",
       "  <tbody>\n",
       "    <tr>\n",
       "      <th>Feb,May,Aug,Nov</th>\n",
       "      <td>118596</td>\n",
       "      <td>118596</td>\n",
       "      <td>118596</td>\n",
       "      <td>118596</td>\n",
       "      <td>118596</td>\n",
       "      <td>118596</td>\n",
       "      <td>118596</td>\n",
       "      <td>118596</td>\n",
       "      <td>118596</td>\n",
       "      <td>118596</td>\n",
       "      <td>118596</td>\n",
       "      <td>117838</td>\n",
       "      <td>70488</td>\n",
       "      <td>70488</td>\n",
       "      <td>118596</td>\n",
       "      <td>118596</td>\n",
       "      <td>118596</td>\n",
       "    </tr>\n",
       "    <tr>\n",
       "      <th>Jan,Apr,Jul,Oct</th>\n",
       "      <td>293122</td>\n",
       "      <td>293122</td>\n",
       "      <td>293122</td>\n",
       "      <td>293122</td>\n",
       "      <td>293122</td>\n",
       "      <td>293122</td>\n",
       "      <td>293122</td>\n",
       "      <td>293122</td>\n",
       "      <td>293122</td>\n",
       "      <td>293122</td>\n",
       "      <td>293122</td>\n",
       "      <td>293122</td>\n",
       "      <td>197664</td>\n",
       "      <td>197664</td>\n",
       "      <td>293122</td>\n",
       "      <td>293122</td>\n",
       "      <td>293122</td>\n",
       "    </tr>\n",
       "    <tr>\n",
       "      <th>Mar,Jun,Sept,Dec</th>\n",
       "      <td>97460</td>\n",
       "      <td>97460</td>\n",
       "      <td>97460</td>\n",
       "      <td>97460</td>\n",
       "      <td>97460</td>\n",
       "      <td>97460</td>\n",
       "      <td>97460</td>\n",
       "      <td>97460</td>\n",
       "      <td>97460</td>\n",
       "      <td>97460</td>\n",
       "      <td>97460</td>\n",
       "      <td>97460</td>\n",
       "      <td>56174</td>\n",
       "      <td>56174</td>\n",
       "      <td>97460</td>\n",
       "      <td>97460</td>\n",
       "      <td>97460</td>\n",
       "    </tr>\n",
       "  </tbody>\n",
       "</table>\n",
       "</div>"
      ],
      "text/plain": [
       "                   Store  DayOfWeek    Date   Sales  Customers    Open  \\\n",
       "PromoInterval                                                            \n",
       "Feb,May,Aug,Nov   118596     118596  118596  118596     118596  118596   \n",
       "Jan,Apr,Jul,Oct   293122     293122  293122  293122     293122  293122   \n",
       "Mar,Jun,Sept,Dec   97460      97460   97460   97460      97460   97460   \n",
       "\n",
       "                   Promo  StateHoliday  SchoolHoliday  StoreType  Assortment  \\\n",
       "PromoInterval                                                                  \n",
       "Feb,May,Aug,Nov   118596        118596         118596     118596      118596   \n",
       "Jan,Apr,Jul,Oct   293122        293122         293122     293122      293122   \n",
       "Mar,Jun,Sept,Dec   97460         97460          97460      97460       97460   \n",
       "\n",
       "                  CompetitionDistance  CompetitionOpenSinceMonth  \\\n",
       "PromoInterval                                                      \n",
       "Feb,May,Aug,Nov                117838                      70488   \n",
       "Jan,Apr,Jul,Oct                293122                     197664   \n",
       "Mar,Jun,Sept,Dec                97460                      56174   \n",
       "\n",
       "                  CompetitionOpenSinceYear  Promo2  Promo2SinceWeek  \\\n",
       "PromoInterval                                                         \n",
       "Feb,May,Aug,Nov                      70488  118596           118596   \n",
       "Jan,Apr,Jul,Oct                     197664  293122           293122   \n",
       "Mar,Jun,Sept,Dec                     56174   97460            97460   \n",
       "\n",
       "                  Promo2SinceYear  \n",
       "PromoInterval                      \n",
       "Feb,May,Aug,Nov            118596  \n",
       "Jan,Apr,Jul,Oct            293122  \n",
       "Mar,Jun,Sept,Dec            97460  "
      ]
     },
     "execution_count": 7,
     "metadata": {},
     "output_type": "execute_result"
    }
   ],
   "source": [
    "dftreinamento.groupby('PromoInterval').count()"
   ]
  },
  {
   "cell_type": "code",
   "execution_count": 8,
   "metadata": {},
   "outputs": [],
   "source": [
    "def interval(x):\n",
    "    if x == 'Feb,May,Aug,Nov':\n",
    "        return 100\n",
    "    elif x == 'Jan,Apr,Jul,Oct':\n",
    "        return 101\n",
    "    elif x == 'Mar,Jun,Sept,Dec':\n",
    "        return 102\n",
    "    else:\n",
    "        return x\n",
    "\n",
    "dftreinamento['PromoInterval'] = dftreinamento['PromoInterval'].apply(lambda x: interval(x))"
   ]
  },
  {
   "cell_type": "code",
   "execution_count": 9,
   "metadata": {},
   "outputs": [],
   "source": [
    "dftreinamento['Promo2SinceWeek'] = dftreinamento['Promo2SinceWeek'].fillna(dftreinamento['Promo2SinceWeek'].mean())\n",
    "dftreinamento['Promo2SinceYear'] = dftreinamento['Promo2SinceYear'].fillna(dftreinamento['Promo2SinceYear'].mean())\n",
    "dftreinamento['PromoInterval'] = dftreinamento['PromoInterval'].fillna(dftreinamento['PromoInterval'].mean())\n",
    "dftreinamento['CompetitionOpenSinceYear'] = dftreinamento['CompetitionOpenSinceYear'].fillna(dftreinamento['CompetitionOpenSinceYear'].mean())\n",
    "dftreinamento['CompetitionOpenSinceMonth'] = dftreinamento['CompetitionOpenSinceMonth'].fillna(dftreinamento['CompetitionOpenSinceMonth'].mean())\n",
    "dftreinamento['CompetitionDistance'] = dftreinamento['CompetitionDistance'].fillna(dftreinamento['CompetitionDistance'].mean())"
   ]
  },
  {
   "cell_type": "code",
   "execution_count": 10,
   "metadata": {},
   "outputs": [
    {
     "data": {
      "text/html": [
       "<div>\n",
       "<style scoped>\n",
       "    .dataframe tbody tr th:only-of-type {\n",
       "        vertical-align: middle;\n",
       "    }\n",
       "\n",
       "    .dataframe tbody tr th {\n",
       "        vertical-align: top;\n",
       "    }\n",
       "\n",
       "    .dataframe thead th {\n",
       "        text-align: right;\n",
       "    }\n",
       "</style>\n",
       "<table border=\"1\" class=\"dataframe\">\n",
       "  <thead>\n",
       "    <tr style=\"text-align: right;\">\n",
       "      <th></th>\n",
       "      <th>Store</th>\n",
       "      <th>DayOfWeek</th>\n",
       "      <th>Date</th>\n",
       "      <th>Sales</th>\n",
       "      <th>Customers</th>\n",
       "      <th>Open</th>\n",
       "      <th>Promo</th>\n",
       "      <th>StateHoliday</th>\n",
       "      <th>SchoolHoliday</th>\n",
       "      <th>StoreType</th>\n",
       "      <th>Assortment</th>\n",
       "      <th>CompetitionDistance</th>\n",
       "      <th>CompetitionOpenSinceMonth</th>\n",
       "      <th>CompetitionOpenSinceYear</th>\n",
       "      <th>Promo2</th>\n",
       "      <th>Promo2SinceWeek</th>\n",
       "      <th>Promo2SinceYear</th>\n",
       "      <th>PromoInterval</th>\n",
       "    </tr>\n",
       "  </thead>\n",
       "  <tbody>\n",
       "    <tr>\n",
       "      <th>0</th>\n",
       "      <td>1</td>\n",
       "      <td>5</td>\n",
       "      <td>1438300800000000000</td>\n",
       "      <td>5263</td>\n",
       "      <td>555</td>\n",
       "      <td>1</td>\n",
       "      <td>1</td>\n",
       "      <td>0</td>\n",
       "      <td>1</td>\n",
       "      <td>3</td>\n",
       "      <td>1</td>\n",
       "      <td>1270.0</td>\n",
       "      <td>9.0</td>\n",
       "      <td>2008.0</td>\n",
       "      <td>0</td>\n",
       "      <td>23.269093</td>\n",
       "      <td>2011.752774</td>\n",
       "      <td>100.95849</td>\n",
       "    </tr>\n",
       "    <tr>\n",
       "      <th>1</th>\n",
       "      <td>1</td>\n",
       "      <td>4</td>\n",
       "      <td>1438214400000000000</td>\n",
       "      <td>5020</td>\n",
       "      <td>546</td>\n",
       "      <td>1</td>\n",
       "      <td>1</td>\n",
       "      <td>0</td>\n",
       "      <td>1</td>\n",
       "      <td>3</td>\n",
       "      <td>1</td>\n",
       "      <td>1270.0</td>\n",
       "      <td>9.0</td>\n",
       "      <td>2008.0</td>\n",
       "      <td>0</td>\n",
       "      <td>23.269093</td>\n",
       "      <td>2011.752774</td>\n",
       "      <td>100.95849</td>\n",
       "    </tr>\n",
       "    <tr>\n",
       "      <th>2</th>\n",
       "      <td>1</td>\n",
       "      <td>3</td>\n",
       "      <td>1438128000000000000</td>\n",
       "      <td>4782</td>\n",
       "      <td>523</td>\n",
       "      <td>1</td>\n",
       "      <td>1</td>\n",
       "      <td>0</td>\n",
       "      <td>1</td>\n",
       "      <td>3</td>\n",
       "      <td>1</td>\n",
       "      <td>1270.0</td>\n",
       "      <td>9.0</td>\n",
       "      <td>2008.0</td>\n",
       "      <td>0</td>\n",
       "      <td>23.269093</td>\n",
       "      <td>2011.752774</td>\n",
       "      <td>100.95849</td>\n",
       "    </tr>\n",
       "    <tr>\n",
       "      <th>3</th>\n",
       "      <td>1</td>\n",
       "      <td>2</td>\n",
       "      <td>1438041600000000000</td>\n",
       "      <td>5011</td>\n",
       "      <td>560</td>\n",
       "      <td>1</td>\n",
       "      <td>1</td>\n",
       "      <td>0</td>\n",
       "      <td>1</td>\n",
       "      <td>3</td>\n",
       "      <td>1</td>\n",
       "      <td>1270.0</td>\n",
       "      <td>9.0</td>\n",
       "      <td>2008.0</td>\n",
       "      <td>0</td>\n",
       "      <td>23.269093</td>\n",
       "      <td>2011.752774</td>\n",
       "      <td>100.95849</td>\n",
       "    </tr>\n",
       "    <tr>\n",
       "      <th>4</th>\n",
       "      <td>1</td>\n",
       "      <td>1</td>\n",
       "      <td>1437955200000000000</td>\n",
       "      <td>6102</td>\n",
       "      <td>612</td>\n",
       "      <td>1</td>\n",
       "      <td>1</td>\n",
       "      <td>0</td>\n",
       "      <td>1</td>\n",
       "      <td>3</td>\n",
       "      <td>1</td>\n",
       "      <td>1270.0</td>\n",
       "      <td>9.0</td>\n",
       "      <td>2008.0</td>\n",
       "      <td>0</td>\n",
       "      <td>23.269093</td>\n",
       "      <td>2011.752774</td>\n",
       "      <td>100.95849</td>\n",
       "    </tr>\n",
       "  </tbody>\n",
       "</table>\n",
       "</div>"
      ],
      "text/plain": [
       "   Store  DayOfWeek                 Date  Sales  Customers  Open  Promo  \\\n",
       "0      1          5  1438300800000000000   5263        555     1      1   \n",
       "1      1          4  1438214400000000000   5020        546     1      1   \n",
       "2      1          3  1438128000000000000   4782        523     1      1   \n",
       "3      1          2  1438041600000000000   5011        560     1      1   \n",
       "4      1          1  1437955200000000000   6102        612     1      1   \n",
       "\n",
       "   StateHoliday  SchoolHoliday  StoreType  Assortment  CompetitionDistance  \\\n",
       "0             0              1          3           1               1270.0   \n",
       "1             0              1          3           1               1270.0   \n",
       "2             0              1          3           1               1270.0   \n",
       "3             0              1          3           1               1270.0   \n",
       "4             0              1          3           1               1270.0   \n",
       "\n",
       "   CompetitionOpenSinceMonth  CompetitionOpenSinceYear  Promo2  \\\n",
       "0                        9.0                    2008.0       0   \n",
       "1                        9.0                    2008.0       0   \n",
       "2                        9.0                    2008.0       0   \n",
       "3                        9.0                    2008.0       0   \n",
       "4                        9.0                    2008.0       0   \n",
       "\n",
       "   Promo2SinceWeek  Promo2SinceYear  PromoInterval  \n",
       "0        23.269093      2011.752774      100.95849  \n",
       "1        23.269093      2011.752774      100.95849  \n",
       "2        23.269093      2011.752774      100.95849  \n",
       "3        23.269093      2011.752774      100.95849  \n",
       "4        23.269093      2011.752774      100.95849  "
      ]
     },
     "execution_count": 10,
     "metadata": {},
     "output_type": "execute_result"
    }
   ],
   "source": [
    "dftreinamento.head()"
   ]
  },
  {
   "cell_type": "code",
   "execution_count": 11,
   "metadata": {},
   "outputs": [
    {
     "data": {
      "text/plain": [
       "Index(['Store', 'DayOfWeek', 'Date', 'Sales', 'Customers', 'Open', 'Promo',\n",
       "       'StateHoliday', 'SchoolHoliday', 'StoreType', 'Assortment',\n",
       "       'CompetitionDistance', 'CompetitionOpenSinceMonth',\n",
       "       'CompetitionOpenSinceYear', 'Promo2', 'Promo2SinceWeek',\n",
       "       'Promo2SinceYear', 'PromoInterval'],\n",
       "      dtype='object')"
      ]
     },
     "execution_count": 11,
     "metadata": {},
     "output_type": "execute_result"
    }
   ],
   "source": [
    "dftreinamento.columns"
   ]
  },
  {
   "cell_type": "code",
   "execution_count": 12,
   "metadata": {},
   "outputs": [],
   "source": [
    "X = dftreinamento[['Store', 'DayOfWeek', 'Date', 'Customers', 'Open', 'Promo',\n",
    "       'StateHoliday', 'SchoolHoliday', 'StoreType', 'Assortment',\n",
    "       'CompetitionDistance', 'CompetitionOpenSinceMonth',\n",
    "       'CompetitionOpenSinceYear', 'Promo2', 'Promo2SinceWeek',\n",
    "       'Promo2SinceYear', 'PromoInterval']]\n",
    "y = dftreinamento['Sales']"
   ]
  },
  {
   "cell_type": "code",
   "execution_count": 13,
   "metadata": {},
   "outputs": [],
   "source": [
    "X_train, X_test, y_train, y_test = train_test_split(X, y, test_size = 0.25)"
   ]
  },
  {
   "cell_type": "code",
   "execution_count": null,
   "metadata": {},
   "outputs": [],
   "source": [
    "model = SVC()"
   ]
  },
  {
   "cell_type": "code",
   "execution_count": null,
   "metadata": {},
   "outputs": [
    {
     "name": "stdout",
     "output_type": "stream",
     "text": [
      "Fitting 3 folds for each of 25 candidates, totalling 75 fits\n"
     ]
    },
    {
     "name": "stderr",
     "output_type": "stream",
     "text": [
      "[Parallel(n_jobs=1)]: Using backend SequentialBackend with 1 concurrent workers.\n"
     ]
    },
    {
     "name": "stdout",
     "output_type": "stream",
     "text": [
      "[CV] C=0.1, gamma=1 ..................................................\n"
     ]
    }
   ],
   "source": [
    "param_grid = { 'C': [0.1, 1, 10, 100, 1000], 'gamma': [1, 0.1, 0.01, 0.001, 0.0001]}\n",
    "grid = GridSearchCV(SVC(), param_grid, verbose=3)\n",
    "grid.fit(X_train, y_train)"
   ]
  },
  {
   "cell_type": "code",
   "execution_count": null,
   "metadata": {},
   "outputs": [],
   "source": [
    "#model.fit(X_train, y_train)"
   ]
  },
  {
   "cell_type": "code",
   "execution_count": null,
   "metadata": {},
   "outputs": [],
   "source": [
    "#predictionCustomer = model.predict(X_test)"
   ]
  },
  {
   "cell_type": "code",
   "execution_count": null,
   "metadata": {},
   "outputs": [],
   "source": [
    "#print(confusion_matrix(y_test, predictionCustomer))\n",
    "#print('\\n')\n",
    "#print(classification_report(y_test, predictionCustomer))"
   ]
  }
 ],
 "metadata": {
  "kernelspec": {
   "display_name": "Python 3",
   "language": "python",
   "name": "python3"
  },
  "language_info": {
   "codemirror_mode": {
    "name": "ipython",
    "version": 3
   },
   "file_extension": ".py",
   "mimetype": "text/x-python",
   "name": "python",
   "nbconvert_exporter": "python",
   "pygments_lexer": "ipython3",
   "version": "3.7.1"
  }
 },
 "nbformat": 4,
 "nbformat_minor": 2
}
