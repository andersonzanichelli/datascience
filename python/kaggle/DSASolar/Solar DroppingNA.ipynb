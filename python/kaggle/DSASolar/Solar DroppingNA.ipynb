{
 "cells": [
  {
   "cell_type": "code",
   "execution_count": 48,
   "metadata": {},
   "outputs": [],
   "source": [
    "import numpy as np\n",
    "import pandas as pd\n",
    "import matplotlib.pyplot as plt\n",
    "import seaborn as sns\n",
    "\n",
    "from sklearn.model_selection import train_test_split\n",
    "from sklearn.preprocessing import StandardScaler\n",
    "from sklearn.linear_model import LinearRegression\n",
    "\n",
    "import warnings\n",
    "warnings.filterwarnings('ignore')\n",
    "\n",
    "%matplotlib inline"
   ]
  },
  {
   "cell_type": "code",
   "execution_count": 49,
   "metadata": {},
   "outputs": [],
   "source": [
    "dflojas = pd.read_csv(\"lojas.csv\")\n",
    "dftreino = pd.read_csv(\"dataset_treino.csv\")\n",
    "dfteste = pd.read_csv(\"dataset_teste.csv\")"
   ]
  },
  {
   "cell_type": "code",
   "execution_count": 50,
   "metadata": {},
   "outputs": [],
   "source": [
    "dftreinamento = pd.merge(dftreino, dflojas, on='Store', how='inner')\n",
    "dfcompeticao = pd.merge(dfteste, dflojas, on='Store', how='inner')"
   ]
  },
  {
   "cell_type": "code",
   "execution_count": 53,
   "metadata": {},
   "outputs": [],
   "source": [
    "def strToInt(x):\n",
    "    if x == 0 or x == '0':\n",
    "        return 0\n",
    "    elif x == 'a':\n",
    "        return 1\n",
    "    elif x == 'b':\n",
    "        return 2\n",
    "    elif x == 'c':\n",
    "        return 3\n",
    "    else:\n",
    "        return 4\n",
    "\n",
    "dftreinamento['StateHoliday'] = dftreinamento['StateHoliday'].apply(lambda x: strToInt(x))\n",
    "dftreinamento['StoreType'] = dftreinamento['StoreType'].apply(lambda x: strToInt(x))\n",
    "dftreinamento['Assortment'] = dftreinamento['Assortment'].apply(lambda x: strToInt(x))\n",
    "\n",
    "dfcompeticao['StateHoliday'] = dfcompeticao['StateHoliday'].apply(lambda x: strToInt(x))\n",
    "dfcompeticao['StoreType'] = dfcompeticao['StoreType'].apply(lambda x: strToInt(x))\n",
    "dfcompeticao['Assortment'] = dfcompeticao['Assortment'].apply(lambda x: strToInt(x))\n",
    "\n",
    "dftreinamento['Date'] = pd.DatetimeIndex(pd.to_datetime(dftreinamento['Date']), dtype='datetime64[ns]').astype(np.int64)\n",
    "dfcompeticao['Date'] = pd.DatetimeIndex(pd.to_datetime(dfcompeticao['Date']), dtype='datetime64[ns]').astype(np.int64)\n",
    "\n",
    "def interval(x):\n",
    "    if x == 'Feb,May,Aug,Nov':\n",
    "        return 100\n",
    "    elif x == 'Jan,Apr,Jul,Oct':\n",
    "        return 101\n",
    "    elif x == 'Mar,Jun,Sept,Dec':\n",
    "        return 102\n",
    "    else:\n",
    "        return x\n",
    "\n",
    "dftreinamento['PromoInterval'] = dftreinamento['PromoInterval'].apply(lambda x: interval(x))\n",
    "dfcompeticao['PromoInterval'] = dfcompeticao['PromoInterval'].apply(lambda x: interval(x))"
   ]
  },
  {
   "cell_type": "code",
   "execution_count": 54,
   "metadata": {},
   "outputs": [],
   "source": [
    "dfnotNAtreino = dftreinamento.dropna()\n",
    "dfnotNAteste = dfcompeticao.dropna()"
   ]
  },
  {
   "cell_type": "code",
   "execution_count": 57,
   "metadata": {},
   "outputs": [
    {
     "data": {
      "text/plain": [
       "<matplotlib.collections.PathCollection at 0x7fa27ac62978>"
      ]
     },
     "execution_count": 57,
     "metadata": {},
     "output_type": "execute_result"
    },
    {
     "data": {
      "image/png": "[encoded data removed]",
      "text/plain": [
       "<Figure size 432x288 with 1 Axes>"
      ]
     },
     "metadata": {
      "needs_background": "light"
     },
     "output_type": "display_data"
    }
   ],
   "source": [
    "# Treinar modelo para encontrar os Customers do teste sem NA\n",
    "X = dfnotNAtreino[['Store', 'DayOfWeek', 'Date', 'Open', 'Promo',\n",
    "       'StateHoliday', 'SchoolHoliday', 'StoreType', 'Assortment',\n",
    "       'CompetitionDistance', 'CompetitionOpenSinceMonth',\n",
    "       'CompetitionOpenSinceYear', 'Promo2', 'Promo2SinceWeek',\n",
    "       'Promo2SinceYear', 'PromoInterval']]\n",
    "y = dfnotNAtreino['Customers']\n",
    "\n",
    "X_train, X_test, y_train, y_test = train_test_split(X, y, test_size = 0.3)\n",
    "lm = LinearRegression()\n",
    "lm.fit(X_train, y_train)\n",
    "predict = lm.predict(X_test)\n",
    "plt.scatter(y_test, predict)"
   ]
  },
  {
   "cell_type": "code",
   "execution_count": 61,
   "metadata": {},
   "outputs": [
    {
     "data": {
      "text/html": [
       "<div>\n",
       "<style scoped>\n",
       "    .dataframe tbody tr th:only-of-type {\n",
       "        vertical-align: middle;\n",
       "    }\n",
       "\n",
       "    .dataframe tbody tr th {\n",
       "        vertical-align: top;\n",
       "    }\n",
       "\n",
       "    .dataframe thead th {\n",
       "        text-align: right;\n",
       "    }\n",
       "</style>\n",
       "<table border=\"1\" class=\"dataframe\">\n",
       "  <thead>\n",
       "    <tr style=\"text-align: right;\">\n",
       "      <th></th>\n",
       "      <th>Id</th>\n",
       "      <th>Store</th>\n",
       "      <th>DayOfWeek</th>\n",
       "      <th>Date</th>\n",
       "      <th>Open</th>\n",
       "      <th>Promo</th>\n",
       "      <th>StateHoliday</th>\n",
       "      <th>SchoolHoliday</th>\n",
       "      <th>StoreType</th>\n",
       "      <th>Assortment</th>\n",
       "      <th>CompetitionDistance</th>\n",
       "      <th>CompetitionOpenSinceMonth</th>\n",
       "      <th>CompetitionOpenSinceYear</th>\n",
       "      <th>Promo2</th>\n",
       "      <th>Promo2SinceWeek</th>\n",
       "      <th>Promo2SinceYear</th>\n",
       "      <th>PromoInterval</th>\n",
       "      <th>Customers</th>\n",
       "    </tr>\n",
       "  </thead>\n",
       "  <tbody>\n",
       "    <tr>\n",
       "      <th>48</th>\n",
       "      <td>2</td>\n",
       "      <td>3</td>\n",
       "      <td>4</td>\n",
       "      <td>1442448000000000000</td>\n",
       "      <td>1.0</td>\n",
       "      <td>1</td>\n",
       "      <td>0</td>\n",
       "      <td>0</td>\n",
       "      <td>1</td>\n",
       "      <td>1</td>\n",
       "      <td>14130.0</td>\n",
       "      <td>12.0</td>\n",
       "      <td>2006.0</td>\n",
       "      <td>1</td>\n",
       "      <td>14.0</td>\n",
       "      <td>2011.0</td>\n",
       "      <td>101.0</td>\n",
       "      <td>478.509634</td>\n",
       "    </tr>\n",
       "    <tr>\n",
       "      <th>49</th>\n",
       "      <td>858</td>\n",
       "      <td>3</td>\n",
       "      <td>3</td>\n",
       "      <td>1442361600000000000</td>\n",
       "      <td>1.0</td>\n",
       "      <td>1</td>\n",
       "      <td>0</td>\n",
       "      <td>0</td>\n",
       "      <td>1</td>\n",
       "      <td>1</td>\n",
       "      <td>14130.0</td>\n",
       "      <td>12.0</td>\n",
       "      <td>2006.0</td>\n",
       "      <td>1</td>\n",
       "      <td>14.0</td>\n",
       "      <td>2011.0</td>\n",
       "      <td>101.0</td>\n",
       "      <td>478.505747</td>\n",
       "    </tr>\n",
       "    <tr>\n",
       "      <th>50</th>\n",
       "      <td>1714</td>\n",
       "      <td>3</td>\n",
       "      <td>2</td>\n",
       "      <td>1442275200000000000</td>\n",
       "      <td>1.0</td>\n",
       "      <td>1</td>\n",
       "      <td>0</td>\n",
       "      <td>0</td>\n",
       "      <td>1</td>\n",
       "      <td>1</td>\n",
       "      <td>14130.0</td>\n",
       "      <td>12.0</td>\n",
       "      <td>2006.0</td>\n",
       "      <td>1</td>\n",
       "      <td>14.0</td>\n",
       "      <td>2011.0</td>\n",
       "      <td>101.0</td>\n",
       "      <td>478.501859</td>\n",
       "    </tr>\n",
       "    <tr>\n",
       "      <th>51</th>\n",
       "      <td>2570</td>\n",
       "      <td>3</td>\n",
       "      <td>1</td>\n",
       "      <td>1442188800000000000</td>\n",
       "      <td>1.0</td>\n",
       "      <td>1</td>\n",
       "      <td>0</td>\n",
       "      <td>0</td>\n",
       "      <td>1</td>\n",
       "      <td>1</td>\n",
       "      <td>14130.0</td>\n",
       "      <td>12.0</td>\n",
       "      <td>2006.0</td>\n",
       "      <td>1</td>\n",
       "      <td>14.0</td>\n",
       "      <td>2011.0</td>\n",
       "      <td>101.0</td>\n",
       "      <td>478.497972</td>\n",
       "    </tr>\n",
       "    <tr>\n",
       "      <th>52</th>\n",
       "      <td>3426</td>\n",
       "      <td>3</td>\n",
       "      <td>7</td>\n",
       "      <td>1442102400000000000</td>\n",
       "      <td>0.0</td>\n",
       "      <td>0</td>\n",
       "      <td>0</td>\n",
       "      <td>0</td>\n",
       "      <td>1</td>\n",
       "      <td>1</td>\n",
       "      <td>14130.0</td>\n",
       "      <td>12.0</td>\n",
       "      <td>2006.0</td>\n",
       "      <td>1</td>\n",
       "      <td>14.0</td>\n",
       "      <td>2011.0</td>\n",
       "      <td>101.0</td>\n",
       "      <td>478.496693</td>\n",
       "    </tr>\n",
       "  </tbody>\n",
       "</table>\n",
       "</div>"
      ],
      "text/plain": [
       "      Id  Store  DayOfWeek                 Date  Open  Promo  StateHoliday  \\\n",
       "48     2      3          4  1442448000000000000   1.0      1             0   \n",
       "49   858      3          3  1442361600000000000   1.0      1             0   \n",
       "50  1714      3          2  1442275200000000000   1.0      1             0   \n",
       "51  2570      3          1  1442188800000000000   1.0      1             0   \n",
       "52  3426      3          7  1442102400000000000   0.0      0             0   \n",
       "\n",
       "    SchoolHoliday  StoreType  Assortment  CompetitionDistance  \\\n",
       "48              0          1           1              14130.0   \n",
       "49              0          1           1              14130.0   \n",
       "50              0          1           1              14130.0   \n",
       "51              0          1           1              14130.0   \n",
       "52              0          1           1              14130.0   \n",
       "\n",
       "    CompetitionOpenSinceMonth  CompetitionOpenSinceYear  Promo2  \\\n",
       "48                       12.0                    2006.0       1   \n",
       "49                       12.0                    2006.0       1   \n",
       "50                       12.0                    2006.0       1   \n",
       "51                       12.0                    2006.0       1   \n",
       "52                       12.0                    2006.0       1   \n",
       "\n",
       "    Promo2SinceWeek  Promo2SinceYear  PromoInterval   Customers  \n",
       "48             14.0           2011.0          101.0  478.509634  \n",
       "49             14.0           2011.0          101.0  478.505747  \n",
       "50             14.0           2011.0          101.0  478.501859  \n",
       "51             14.0           2011.0          101.0  478.497972  \n",
       "52             14.0           2011.0          101.0  478.496693  "
      ]
     },
     "execution_count": 61,
     "metadata": {},
     "output_type": "execute_result"
    }
   ],
   "source": [
    "X_comp = dfnotNAteste[['Store', 'DayOfWeek', 'Date', 'Open', 'Promo',\n",
    "       'StateHoliday', 'SchoolHoliday', 'StoreType', 'Assortment',\n",
    "       'CompetitionDistance', 'CompetitionOpenSinceMonth',\n",
    "       'CompetitionOpenSinceYear', 'Promo2', 'Promo2SinceWeek',\n",
    "       'Promo2SinceYear', 'PromoInterval']]\n",
    "predict_customers = lm.predict(X_comp)\n",
    "dfnotNAteste['Customers'] = predict_customers\n",
    "dfnotNAteste.head()"
   ]
  },
  {
   "cell_type": "code",
   "execution_count": 62,
   "metadata": {},
   "outputs": [
    {
     "data": {
      "text/plain": [
       "<matplotlib.collections.PathCollection at 0x7fa27ac58c18>"
      ]
     },
     "execution_count": 62,
     "metadata": {},
     "output_type": "execute_result"
    },
    {
     "data": {
      "image/png": "[encoded data removed]",
      "text/plain": [
       "<Figure size 432x288 with 1 Axes>"
      ]
     },
     "metadata": {
      "needs_background": "light"
     },
     "output_type": "display_data"
    }
   ],
   "source": [
    "#Treinar modelo para encontrar os Customers do teste com NA\n",
    "X = dfnotNAteste[['Store', 'DayOfWeek', 'Date', 'Open', 'Promo',\n",
    "       'StateHoliday', 'SchoolHoliday', 'StoreType', 'Assortment',\n",
    "       'CompetitionDistance', 'CompetitionOpenSinceMonth',\n",
    "       'CompetitionOpenSinceYear', 'Promo2', 'Promo2SinceWeek',\n",
    "       'Promo2SinceYear', 'PromoInterval']]\n",
    "y = dfnotNAteste['Customers']\n",
    "\n",
    "X_train, X_test, y_train, y_test = train_test_split(X, y, test_size = 0.3)\n",
    "lm = LinearRegression()\n",
    "lm.fit(X_train, y_train)\n",
    "predict = lm.predict(X_test)\n",
    "plt.scatter(y_test, predict)"
   ]
  },
  {
   "cell_type": "code",
   "execution_count": 63,
   "metadata": {},
   "outputs": [],
   "source": [
    "dfcompeticao['Promo2SinceWeek'] = dfcompeticao['Promo2SinceWeek'].fillna(dfcompeticao['Promo2SinceWeek'].mean())\n",
    "dfcompeticao['Promo2SinceYear'] = dfcompeticao['Promo2SinceYear'].fillna(dfcompeticao['Promo2SinceYear'].mean())\n",
    "dfcompeticao['PromoInterval'] = dfcompeticao['PromoInterval'].fillna(dfcompeticao['PromoInterval'].mean())\n",
    "dfcompeticao['CompetitionOpenSinceYear'] = dfcompeticao['CompetitionOpenSinceYear'].fillna(dfcompeticao['CompetitionOpenSinceYear'].mean())\n",
    "dfcompeticao['CompetitionOpenSinceMonth'] = dfcompeticao['CompetitionOpenSinceMonth'].fillna(dfcompeticao['CompetitionOpenSinceMonth'].mean())\n",
    "dfcompeticao['CompetitionDistance'] = dfcompeticao['CompetitionDistance'].fillna(dfcompeticao['CompetitionDistance'].mean())\n",
    "dfcompeticao['Open'] = dfcompeticao['Open'].fillna(dfcompeticao['Open'].mean())"
   ]
  },
  {
   "cell_type": "code",
   "execution_count": 65,
   "metadata": {},
   "outputs": [
    {
     "data": {
      "text/html": [
       "<div>\n",
       "<style scoped>\n",
       "    .dataframe tbody tr th:only-of-type {\n",
       "        vertical-align: middle;\n",
       "    }\n",
       "\n",
       "    .dataframe tbody tr th {\n",
       "        vertical-align: top;\n",
       "    }\n",
       "\n",
       "    .dataframe thead th {\n",
       "        text-align: right;\n",
       "    }\n",
       "</style>\n",
       "<table border=\"1\" class=\"dataframe\">\n",
       "  <thead>\n",
       "    <tr style=\"text-align: right;\">\n",
       "      <th></th>\n",
       "      <th>Id</th>\n",
       "      <th>Store</th>\n",
       "      <th>DayOfWeek</th>\n",
       "      <th>Date</th>\n",
       "      <th>Open</th>\n",
       "      <th>Promo</th>\n",
       "      <th>StateHoliday</th>\n",
       "      <th>SchoolHoliday</th>\n",
       "      <th>StoreType</th>\n",
       "      <th>Assortment</th>\n",
       "      <th>CompetitionDistance</th>\n",
       "      <th>CompetitionOpenSinceMonth</th>\n",
       "      <th>CompetitionOpenSinceYear</th>\n",
       "      <th>Promo2</th>\n",
       "      <th>Promo2SinceWeek</th>\n",
       "      <th>Promo2SinceYear</th>\n",
       "      <th>PromoInterval</th>\n",
       "      <th>Customers</th>\n",
       "    </tr>\n",
       "  </thead>\n",
       "  <tbody>\n",
       "    <tr>\n",
       "      <th>0</th>\n",
       "      <td>1</td>\n",
       "      <td>1</td>\n",
       "      <td>4</td>\n",
       "      <td>1442448000000000000</td>\n",
       "      <td>1.0</td>\n",
       "      <td>1</td>\n",
       "      <td>0</td>\n",
       "      <td>0</td>\n",
       "      <td>3</td>\n",
       "      <td>1</td>\n",
       "      <td>1270.0</td>\n",
       "      <td>9.0</td>\n",
       "      <td>2008.0</td>\n",
       "      <td>0</td>\n",
       "      <td>24.426559</td>\n",
       "      <td>2011.820926</td>\n",
       "      <td>100.943662</td>\n",
       "      <td>573.937949</td>\n",
       "    </tr>\n",
       "    <tr>\n",
       "      <th>1</th>\n",
       "      <td>857</td>\n",
       "      <td>1</td>\n",
       "      <td>3</td>\n",
       "      <td>1442361600000000000</td>\n",
       "      <td>1.0</td>\n",
       "      <td>1</td>\n",
       "      <td>0</td>\n",
       "      <td>0</td>\n",
       "      <td>3</td>\n",
       "      <td>1</td>\n",
       "      <td>1270.0</td>\n",
       "      <td>9.0</td>\n",
       "      <td>2008.0</td>\n",
       "      <td>0</td>\n",
       "      <td>24.426559</td>\n",
       "      <td>2011.820926</td>\n",
       "      <td>100.943662</td>\n",
       "      <td>573.934051</td>\n",
       "    </tr>\n",
       "    <tr>\n",
       "      <th>2</th>\n",
       "      <td>1713</td>\n",
       "      <td>1</td>\n",
       "      <td>2</td>\n",
       "      <td>1442275200000000000</td>\n",
       "      <td>1.0</td>\n",
       "      <td>1</td>\n",
       "      <td>0</td>\n",
       "      <td>0</td>\n",
       "      <td>3</td>\n",
       "      <td>1</td>\n",
       "      <td>1270.0</td>\n",
       "      <td>9.0</td>\n",
       "      <td>2008.0</td>\n",
       "      <td>0</td>\n",
       "      <td>24.426559</td>\n",
       "      <td>2011.820926</td>\n",
       "      <td>100.943662</td>\n",
       "      <td>573.930153</td>\n",
       "    </tr>\n",
       "    <tr>\n",
       "      <th>3</th>\n",
       "      <td>2569</td>\n",
       "      <td>1</td>\n",
       "      <td>1</td>\n",
       "      <td>1442188800000000000</td>\n",
       "      <td>1.0</td>\n",
       "      <td>1</td>\n",
       "      <td>0</td>\n",
       "      <td>0</td>\n",
       "      <td>3</td>\n",
       "      <td>1</td>\n",
       "      <td>1270.0</td>\n",
       "      <td>9.0</td>\n",
       "      <td>2008.0</td>\n",
       "      <td>0</td>\n",
       "      <td>24.426559</td>\n",
       "      <td>2011.820926</td>\n",
       "      <td>100.943662</td>\n",
       "      <td>573.926256</td>\n",
       "    </tr>\n",
       "    <tr>\n",
       "      <th>4</th>\n",
       "      <td>3425</td>\n",
       "      <td>1</td>\n",
       "      <td>7</td>\n",
       "      <td>1442102400000000000</td>\n",
       "      <td>0.0</td>\n",
       "      <td>0</td>\n",
       "      <td>0</td>\n",
       "      <td>0</td>\n",
       "      <td>3</td>\n",
       "      <td>1</td>\n",
       "      <td>1270.0</td>\n",
       "      <td>9.0</td>\n",
       "      <td>2008.0</td>\n",
       "      <td>0</td>\n",
       "      <td>24.426559</td>\n",
       "      <td>2011.820926</td>\n",
       "      <td>100.943662</td>\n",
       "      <td>573.924973</td>\n",
       "    </tr>\n",
       "  </tbody>\n",
       "</table>\n",
       "</div>"
      ],
      "text/plain": [
       "     Id  Store  DayOfWeek                 Date  Open  Promo  StateHoliday  \\\n",
       "0     1      1          4  1442448000000000000   1.0      1             0   \n",
       "1   857      1          3  1442361600000000000   1.0      1             0   \n",
       "2  1713      1          2  1442275200000000000   1.0      1             0   \n",
       "3  2569      1          1  1442188800000000000   1.0      1             0   \n",
       "4  3425      1          7  1442102400000000000   0.0      0             0   \n",
       "\n",
       "   SchoolHoliday  StoreType  Assortment  CompetitionDistance  \\\n",
       "0              0          3           1               1270.0   \n",
       "1              0          3           1               1270.0   \n",
       "2              0          3           1               1270.0   \n",
       "3              0          3           1               1270.0   \n",
       "4              0          3           1               1270.0   \n",
       "\n",
       "   CompetitionOpenSinceMonth  CompetitionOpenSinceYear  Promo2  \\\n",
       "0                        9.0                    2008.0       0   \n",
       "1                        9.0                    2008.0       0   \n",
       "2                        9.0                    2008.0       0   \n",
       "3                        9.0                    2008.0       0   \n",
       "4                        9.0                    2008.0       0   \n",
       "\n",
       "   Promo2SinceWeek  Promo2SinceYear  PromoInterval   Customers  \n",
       "0        24.426559      2011.820926     100.943662  573.937949  \n",
       "1        24.426559      2011.820926     100.943662  573.934051  \n",
       "2        24.426559      2011.820926     100.943662  573.930153  \n",
       "3        24.426559      2011.820926     100.943662  573.926256  \n",
       "4        24.426559      2011.820926     100.943662  573.924973  "
      ]
     },
     "execution_count": 65,
     "metadata": {},
     "output_type": "execute_result"
    }
   ],
   "source": [
    "X_comp_na = dfcompeticao[['Store', 'DayOfWeek', 'Date', 'Open', 'Promo',\n",
    "       'StateHoliday', 'SchoolHoliday', 'StoreType', 'Assortment',\n",
    "       'CompetitionDistance', 'CompetitionOpenSinceMonth',\n",
    "       'CompetitionOpenSinceYear', 'Promo2', 'Promo2SinceWeek',\n",
    "       'Promo2SinceYear', 'PromoInterval']]\n",
    "predict_customers_na = lm.predict(X_comp_na)\n",
    "predict_customers_na\n",
    "dfcompeticao['Customers'] = predict_customers_na\n",
    "dfcompeticao.head()"
   ]
  },
  {
   "cell_type": "code",
   "execution_count": 66,
   "metadata": {},
   "outputs": [
    {
     "data": {
      "text/plain": [
       "<matplotlib.collections.PathCollection at 0x7fa2759272b0>"
      ]
     },
     "execution_count": 66,
     "metadata": {},
     "output_type": "execute_result"
    },
    {
     "data": {
      "image/png": "[encoded data removed]",
      "text/plain": [
       "<Figure size 432x288 with 1 Axes>"
      ]
     },
     "metadata": {
      "needs_background": "light"
     },
     "output_type": "display_data"
    }
   ],
   "source": [
    "# Treinar modelo para encontrar os Sales do treino sem NA\n",
    "X = dfnotNAtreino[['Store', 'DayOfWeek', 'Date', 'Customers', 'Open', 'Promo',\n",
    "       'StateHoliday', 'SchoolHoliday', 'StoreType', 'Assortment',\n",
    "       'CompetitionDistance', 'CompetitionOpenSinceMonth',\n",
    "       'CompetitionOpenSinceYear', 'Promo2', 'Promo2SinceWeek',\n",
    "       'Promo2SinceYear', 'PromoInterval']]\n",
    "y = dfnotNAtreino['Sales']\n",
    "\n",
    "X_train, X_test, y_train, y_test = train_test_split(X, y, test_size = 0.3)\n",
    "lm = LinearRegression()\n",
    "lm.fit(X_train, y_train)\n",
    "predict = lm.predict(X_test)\n",
    "plt.scatter(y_test, predict)"
   ]
  },
  {
   "cell_type": "code",
   "execution_count": 68,
   "metadata": {},
   "outputs": [],
   "source": [
    "dftreinamento['Promo2SinceWeek'] = dftreinamento['Promo2SinceWeek'].fillna(dftreinamento['Promo2SinceWeek'].mean())\n",
    "dftreinamento['Promo2SinceYear'] = dftreinamento['Promo2SinceYear'].fillna(dftreinamento['Promo2SinceYear'].mean())\n",
    "dftreinamento['PromoInterval'] = dftreinamento['PromoInterval'].fillna(dftreinamento['PromoInterval'].mean())\n",
    "dftreinamento['CompetitionOpenSinceYear'] = dftreinamento['CompetitionOpenSinceYear'].fillna(dftreinamento['CompetitionOpenSinceYear'].mean())\n",
    "dftreinamento['CompetitionOpenSinceMonth'] = dftreinamento['CompetitionOpenSinceMonth'].fillna(dftreinamento['CompetitionOpenSinceMonth'].mean())\n",
    "dftreinamento['CompetitionDistance'] = dftreinamento['CompetitionDistance'].fillna(dftreinamento['CompetitionDistance'].mean())"
   ]
  },
  {
   "cell_type": "code",
   "execution_count": 72,
   "metadata": {},
   "outputs": [
    {
     "data": {
      "text/plain": [
       "array([5704.37171541, 5703.92667683, 5703.48163825, ..., 5575.81451215,\n",
       "       5575.11580658, 5574.68005191])"
      ]
     },
     "execution_count": 72,
     "metadata": {},
     "output_type": "execute_result"
    }
   ],
   "source": [
    "X_comp_sales = dfcompeticao[['Store', 'DayOfWeek', 'Date', 'Customers', 'Open', 'Promo',\n",
    "       'StateHoliday', 'SchoolHoliday', 'StoreType', 'Assortment',\n",
    "       'CompetitionDistance', 'CompetitionOpenSinceMonth',\n",
    "       'CompetitionOpenSinceYear', 'Promo2', 'Promo2SinceWeek',\n",
    "       'Promo2SinceYear', 'PromoInterval']]\n",
    "predict_comp_sales = lm.predict(X_comp_sales)\n",
    "predict_comp_sales"
   ]
  },
  {
   "cell_type": "code",
   "execution_count": 73,
   "metadata": {},
   "outputs": [],
   "source": [
    "dfpredict_comp_sales = pd.DataFrame(predict_comp_sales)\n",
    "dfpredict_comp_sales.index = np.arange(1, len(dfpredict_comp_sales)+1)\n",
    "dfpredict_comp_sales.count()\n",
    "dfpredict_comp_sales.to_csv('submissionDroppingNA.csv')"
   ]
  },
  {
   "cell_type": "code",
   "execution_count": null,
   "metadata": {},
   "outputs": [],
   "source": []
  }
 ],
 "metadata": {
  "kernelspec": {
   "display_name": "Python 3",
   "language": "python",
   "name": "python3"
  },
  "language_info": {
   "codemirror_mode": {
    "name": "ipython",
    "version": 3
   },
   "file_extension": ".py",
   "mimetype": "text/x-python",
   "name": "python",
   "nbconvert_exporter": "python",
   "pygments_lexer": "ipython3",
   "version": "3.7.1"
  }
 },
 "nbformat": 4,
 "nbformat_minor": 2
}
