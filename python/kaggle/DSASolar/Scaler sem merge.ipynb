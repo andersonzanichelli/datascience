{
 "cells": [
  {
   "cell_type": "code",
   "execution_count": 1,
   "metadata": {},
   "outputs": [],
   "source": [
    "import numpy as np\n",
    "import pandas as pd\n",
    "import matplotlib.pyplot as plt\n",
    "import seaborn as sns\n",
    "\n",
    "from sklearn.model_selection import train_test_split\n",
    "from sklearn.preprocessing import StandardScaler\n",
    "from sklearn.linear_model import LinearRegression\n",
    "\n",
    "import warnings\n",
    "warnings.filterwarnings('ignore')\n",
    "\n",
    "%matplotlib inline"
   ]
  },
  {
   "cell_type": "code",
   "execution_count": 7,
   "metadata": {},
   "outputs": [],
   "source": [
    "dflojas = pd.read_csv(\"lojas.csv\")\n",
    "dftreino = pd.read_csv(\"dataset_treino.csv\")\n",
    "dfteste = pd.read_csv(\"dataset_teste.csv\")"
   ]
  },
  {
   "cell_type": "code",
   "execution_count": 8,
   "metadata": {},
   "outputs": [],
   "source": [
    "dfteste['Customers'] = dftreino['Customers'].mean()"
   ]
  },
  {
   "cell_type": "code",
   "execution_count": 18,
   "metadata": {},
   "outputs": [],
   "source": [
    "def strToInt(x):\n",
    "    if x == 0 or x == '0':\n",
    "        return 0\n",
    "    elif x == 'a':\n",
    "        return 1\n",
    "    elif x == 'b':\n",
    "        return 2\n",
    "    elif x == 'c':\n",
    "        return 3\n",
    "    else:\n",
    "        return 4\n",
    "\n",
    "dftreino['StateHoliday'] = dftreino['StateHoliday'].apply(lambda x: strToInt(x))\n",
    "dfteste['StateHoliday'] = dfteste['StateHoliday'].apply(lambda x: strToInt(x))\n",
    "\n",
    "dftreino['Date'] = pd.DatetimeIndex(pd.to_datetime(dftreino['Date']), dtype='datetime64[ns]').astype(np.int64)\n",
    "dfteste['Date'] = pd.DatetimeIndex(pd.to_datetime(dfteste['Date']), dtype='datetime64[ns]').astype(np.int64)"
   ]
  },
  {
   "cell_type": "code",
   "execution_count": 19,
   "metadata": {},
   "outputs": [],
   "source": [
    "dfteste_rm_nas = dfteste.dropna()"
   ]
  },
  {
   "cell_type": "code",
   "execution_count": 20,
   "metadata": {},
   "outputs": [
    {
     "data": {
      "text/plain": [
       "Index(['Store', 'DayOfWeek', 'Date', 'Sales', 'Customers', 'Open', 'Promo',\n",
       "       'StateHoliday', 'SchoolHoliday'],\n",
       "      dtype='object')"
      ]
     },
     "execution_count": 20,
     "metadata": {},
     "output_type": "execute_result"
    }
   ],
   "source": [
    "dftreino.columns"
   ]
  },
  {
   "cell_type": "code",
   "execution_count": 21,
   "metadata": {},
   "outputs": [
    {
     "data": {
      "text/plain": [
       "array([[-1.73164032,  0.50148416,  1.73412321, ...,  1.27323691,\n",
       "        -0.17744237,  2.14421115],\n",
       "       [-1.72853385,  0.50148416,  1.73412321, ...,  1.27323691,\n",
       "        -0.17744237,  2.14421115],\n",
       "       [-1.72542738,  0.50148416,  1.73412321, ...,  1.27323691,\n",
       "        -0.17744237,  2.14421115],\n",
       "       ...,\n",
       "       [ 1.72275751, -1.00047591, -1.6945027 , ..., -0.78539979,\n",
       "         5.63563255,  2.14421115],\n",
       "       [ 1.72586398, -1.00047591, -1.6945027 , ..., -0.78539979,\n",
       "         5.63563255,  2.14421115],\n",
       "       [ 1.72897045, -1.00047591, -1.6945027 , ..., -0.78539979,\n",
       "         5.63563255,  2.14421115]])"
      ]
     },
     "execution_count": 21,
     "metadata": {},
     "output_type": "execute_result"
    }
   ],
   "source": [
    "X = dftreino[['Store', 'DayOfWeek', 'Date', 'Customers', 'Open', 'Promo',\n",
    "       'StateHoliday', 'SchoolHoliday']]\n",
    "\n",
    "scaler = StandardScaler()\n",
    "scaler.fit(X)\n",
    "scaled_features = scaler.transform(X)\n",
    "scaled_features"
   ]
  },
  {
   "cell_type": "code",
   "execution_count": 27,
   "metadata": {},
   "outputs": [
    {
     "data": {
      "text/plain": [
       "array([[-1.7323186 ,  0.01025475,  1.69684136, ...,  1.23541927,\n",
       "        -0.0663423 , -0.89290943],\n",
       "       [-1.72607468,  0.01025475,  1.69684136, ...,  1.23541927,\n",
       "        -0.0663423 , -0.89290943],\n",
       "       [-1.71358684,  0.01025475,  1.69684136, ...,  1.23541927,\n",
       "        -0.0663423 , -0.89290943],\n",
       "       ...,\n",
       "       [ 1.73930035,  1.00256194, -1.69615419, ..., -0.8094418 ,\n",
       "        -0.0663423 , -0.89290943],\n",
       "       [ 1.74242231,  1.00256194, -1.69615419, ..., -0.8094418 ,\n",
       "        -0.0663423 , -0.89290943],\n",
       "       [ 1.74554427,  1.00256194, -1.69615419, ..., -0.8094418 ,\n",
       "        -0.0663423 ,  1.11993442]])"
      ]
     },
     "execution_count": 27,
     "metadata": {},
     "output_type": "execute_result"
    }
   ],
   "source": [
    "X_comp = dfteste_rm_nas[['Store', 'DayOfWeek', 'Date', 'Customers', 'Open', 'Promo',\n",
    "       'StateHoliday', 'SchoolHoliday']]\n",
    "\n",
    "scaler = StandardScaler()\n",
    "scaler.fit(X_comp)\n",
    "scaled_features_teste = scaler.transform(X_comp)\n",
    "scaled_features_teste"
   ]
  },
  {
   "cell_type": "code",
   "execution_count": 28,
   "metadata": {},
   "outputs": [],
   "source": [
    "df_feat_treino = pd.DataFrame(scaled_features, columns=['Store', 'DayOfWeek', 'Date', 'Customers', 'Open', 'Promo',\n",
    "       'StateHoliday', 'SchoolHoliday'])\n",
    "\n",
    "df_feat_teste = pd.DataFrame(scaled_features_teste, columns=['Store', 'DayOfWeek', 'Date', 'Customers', 'Open', 'Promo',\n",
    "       'StateHoliday', 'SchoolHoliday'])"
   ]
  },
  {
   "cell_type": "code",
   "execution_count": 29,
   "metadata": {},
   "outputs": [
    {
     "data": {
      "text/plain": [
       "<matplotlib.collections.PathCollection at 0x7f77406a1710>"
      ]
     },
     "execution_count": 29,
     "metadata": {},
     "output_type": "execute_result"
    },
    {
     "data": {
      "image/png": "[encoded data removed]",
      "text/plain": [
       "<Figure size 432x288 with 1 Axes>"
      ]
     },
     "metadata": {
      "needs_background": "light"
     },
     "output_type": "display_data"
    }
   ],
   "source": [
    "X = df_feat_treino[['Store', 'DayOfWeek', 'Date', 'Customers', 'Open', 'Promo',\n",
    "       'StateHoliday', 'SchoolHoliday']]\n",
    "y = dftreino['Sales']\n",
    "\n",
    "X_train, X_test, y_train, y_test = train_test_split(X, y, test_size = 0.3)\n",
    "lm = LinearRegression()\n",
    "lm.fit(X_train, y_train)\n",
    "predict = lm.predict(X_test)\n",
    "plt.scatter(y_test, predict)"
   ]
  },
  {
   "cell_type": "code",
   "execution_count": 31,
   "metadata": {},
   "outputs": [
    {
     "data": {
      "text/html": [
       "<div>\n",
       "<style scoped>\n",
       "    .dataframe tbody tr th:only-of-type {\n",
       "        vertical-align: middle;\n",
       "    }\n",
       "\n",
       "    .dataframe tbody tr th {\n",
       "        vertical-align: top;\n",
       "    }\n",
       "\n",
       "    .dataframe thead th {\n",
       "        text-align: right;\n",
       "    }\n",
       "</style>\n",
       "<table border=\"1\" class=\"dataframe\">\n",
       "  <thead>\n",
       "    <tr style=\"text-align: right;\">\n",
       "      <th></th>\n",
       "      <th>Store</th>\n",
       "      <th>DayOfWeek</th>\n",
       "      <th>Date</th>\n",
       "      <th>Customers</th>\n",
       "      <th>Open</th>\n",
       "      <th>Promo</th>\n",
       "      <th>StateHoliday</th>\n",
       "      <th>SchoolHoliday</th>\n",
       "      <th>Sales</th>\n",
       "    </tr>\n",
       "  </thead>\n",
       "  <tbody>\n",
       "    <tr>\n",
       "      <th>0</th>\n",
       "      <td>-1.732319</td>\n",
       "      <td>0.010255</td>\n",
       "      <td>1.696841</td>\n",
       "      <td>1.0</td>\n",
       "      <td>0.412939</td>\n",
       "      <td>1.235419</td>\n",
       "      <td>-0.066342</td>\n",
       "      <td>-0.892909</td>\n",
       "      <td>9858.117088</td>\n",
       "    </tr>\n",
       "    <tr>\n",
       "      <th>1</th>\n",
       "      <td>-1.726075</td>\n",
       "      <td>0.010255</td>\n",
       "      <td>1.696841</td>\n",
       "      <td>1.0</td>\n",
       "      <td>0.412939</td>\n",
       "      <td>1.235419</td>\n",
       "      <td>-0.066342</td>\n",
       "      <td>-0.892909</td>\n",
       "      <td>9857.805071</td>\n",
       "    </tr>\n",
       "    <tr>\n",
       "      <th>2</th>\n",
       "      <td>-1.713587</td>\n",
       "      <td>0.010255</td>\n",
       "      <td>1.696841</td>\n",
       "      <td>1.0</td>\n",
       "      <td>0.412939</td>\n",
       "      <td>1.235419</td>\n",
       "      <td>-0.066342</td>\n",
       "      <td>-0.892909</td>\n",
       "      <td>9857.181037</td>\n",
       "    </tr>\n",
       "    <tr>\n",
       "      <th>3</th>\n",
       "      <td>-1.710465</td>\n",
       "      <td>0.010255</td>\n",
       "      <td>1.696841</td>\n",
       "      <td>1.0</td>\n",
       "      <td>0.412939</td>\n",
       "      <td>1.235419</td>\n",
       "      <td>-0.066342</td>\n",
       "      <td>-0.892909</td>\n",
       "      <td>9857.025028</td>\n",
       "    </tr>\n",
       "    <tr>\n",
       "      <th>4</th>\n",
       "      <td>-1.707343</td>\n",
       "      <td>0.010255</td>\n",
       "      <td>1.696841</td>\n",
       "      <td>1.0</td>\n",
       "      <td>0.412939</td>\n",
       "      <td>1.235419</td>\n",
       "      <td>-0.066342</td>\n",
       "      <td>-0.892909</td>\n",
       "      <td>9856.869020</td>\n",
       "    </tr>\n",
       "  </tbody>\n",
       "</table>\n",
       "</div>"
      ],
      "text/plain": [
       "      Store  DayOfWeek      Date  Customers      Open     Promo  StateHoliday  \\\n",
       "0 -1.732319   0.010255  1.696841        1.0  0.412939  1.235419     -0.066342   \n",
       "1 -1.726075   0.010255  1.696841        1.0  0.412939  1.235419     -0.066342   \n",
       "2 -1.713587   0.010255  1.696841        1.0  0.412939  1.235419     -0.066342   \n",
       "3 -1.710465   0.010255  1.696841        1.0  0.412939  1.235419     -0.066342   \n",
       "4 -1.707343   0.010255  1.696841        1.0  0.412939  1.235419     -0.066342   \n",
       "\n",
       "   SchoolHoliday        Sales  \n",
       "0      -0.892909  9858.117088  \n",
       "1      -0.892909  9857.805071  \n",
       "2      -0.892909  9857.181037  \n",
       "3      -0.892909  9857.025028  \n",
       "4      -0.892909  9856.869020  "
      ]
     },
     "execution_count": 31,
     "metadata": {},
     "output_type": "execute_result"
    }
   ],
   "source": [
    "X_Comp_teste = df_feat_teste[['Store', 'DayOfWeek', 'Date', 'Customers', 'Open', 'Promo',\n",
    "       'StateHoliday', 'SchoolHoliday']]\n",
    "predict_sales = lm.predict(X_Comp_teste)\n",
    "X_Comp_teste['Sales'] = predict_sales\n",
    "X_Comp_teste.head()"
   ]
  },
  {
   "cell_type": "code",
   "execution_count": 32,
   "metadata": {},
   "outputs": [
    {
     "data": {
      "text/plain": [
       "<matplotlib.collections.PathCollection at 0x7f77408b7550>"
      ]
     },
     "execution_count": 32,
     "metadata": {},
     "output_type": "execute_result"
    },
    {
     "data": {
      "image/png": "[encoded data removed]",
      "text/plain": [
       "<Figure size 432x288 with 1 Axes>"
      ]
     },
     "metadata": {
      "needs_background": "light"
     },
     "output_type": "display_data"
    }
   ],
   "source": [
    "X = X_Comp_teste[['Store', 'DayOfWeek', 'Date', 'Customers', 'Open', 'Promo',\n",
    "       'StateHoliday', 'SchoolHoliday']]\n",
    "y = X_Comp_teste['Sales']\n",
    "\n",
    "X_train, X_test, y_train, y_test = train_test_split(X, y, test_size = 0.3)\n",
    "lm = LinearRegression()\n",
    "lm.fit(X_train, y_train)\n",
    "predict = lm.predict(X_test)\n",
    "plt.scatter(y_test, predict)"
   ]
  },
  {
   "cell_type": "code",
   "execution_count": 36,
   "metadata": {},
   "outputs": [],
   "source": [
    "dfteste['Open'] = dfteste['Open'].median()"
   ]
  },
  {
   "cell_type": "code",
   "execution_count": 37,
   "metadata": {},
   "outputs": [
    {
     "data": {
      "text/html": [
       "<div>\n",
       "<style scoped>\n",
       "    .dataframe tbody tr th:only-of-type {\n",
       "        vertical-align: middle;\n",
       "    }\n",
       "\n",
       "    .dataframe tbody tr th {\n",
       "        vertical-align: top;\n",
       "    }\n",
       "\n",
       "    .dataframe thead th {\n",
       "        text-align: right;\n",
       "    }\n",
       "</style>\n",
       "<table border=\"1\" class=\"dataframe\">\n",
       "  <thead>\n",
       "    <tr style=\"text-align: right;\">\n",
       "      <th></th>\n",
       "      <th>Id</th>\n",
       "      <th>Store</th>\n",
       "      <th>DayOfWeek</th>\n",
       "      <th>Date</th>\n",
       "      <th>Open</th>\n",
       "      <th>Promo</th>\n",
       "      <th>StateHoliday</th>\n",
       "      <th>SchoolHoliday</th>\n",
       "      <th>Customers</th>\n",
       "    </tr>\n",
       "  </thead>\n",
       "  <tbody>\n",
       "    <tr>\n",
       "      <th>0</th>\n",
       "      <td>1</td>\n",
       "      <td>1</td>\n",
       "      <td>4</td>\n",
       "      <td>1442448000000000000</td>\n",
       "      <td>0.854322</td>\n",
       "      <td>1</td>\n",
       "      <td>0</td>\n",
       "      <td>0</td>\n",
       "      <td>633.145946</td>\n",
       "    </tr>\n",
       "    <tr>\n",
       "      <th>1</th>\n",
       "      <td>2</td>\n",
       "      <td>3</td>\n",
       "      <td>4</td>\n",
       "      <td>1442448000000000000</td>\n",
       "      <td>0.854322</td>\n",
       "      <td>1</td>\n",
       "      <td>0</td>\n",
       "      <td>0</td>\n",
       "      <td>633.145946</td>\n",
       "    </tr>\n",
       "    <tr>\n",
       "      <th>2</th>\n",
       "      <td>3</td>\n",
       "      <td>7</td>\n",
       "      <td>4</td>\n",
       "      <td>1442448000000000000</td>\n",
       "      <td>0.854322</td>\n",
       "      <td>1</td>\n",
       "      <td>0</td>\n",
       "      <td>0</td>\n",
       "      <td>633.145946</td>\n",
       "    </tr>\n",
       "    <tr>\n",
       "      <th>3</th>\n",
       "      <td>4</td>\n",
       "      <td>8</td>\n",
       "      <td>4</td>\n",
       "      <td>1442448000000000000</td>\n",
       "      <td>0.854322</td>\n",
       "      <td>1</td>\n",
       "      <td>0</td>\n",
       "      <td>0</td>\n",
       "      <td>633.145946</td>\n",
       "    </tr>\n",
       "    <tr>\n",
       "      <th>4</th>\n",
       "      <td>5</td>\n",
       "      <td>9</td>\n",
       "      <td>4</td>\n",
       "      <td>1442448000000000000</td>\n",
       "      <td>0.854322</td>\n",
       "      <td>1</td>\n",
       "      <td>0</td>\n",
       "      <td>0</td>\n",
       "      <td>633.145946</td>\n",
       "    </tr>\n",
       "  </tbody>\n",
       "</table>\n",
       "</div>"
      ],
      "text/plain": [
       "   Id  Store  DayOfWeek                 Date      Open  Promo  StateHoliday  \\\n",
       "0   1      1          4  1442448000000000000  0.854322      1             0   \n",
       "1   2      3          4  1442448000000000000  0.854322      1             0   \n",
       "2   3      7          4  1442448000000000000  0.854322      1             0   \n",
       "3   4      8          4  1442448000000000000  0.854322      1             0   \n",
       "4   5      9          4  1442448000000000000  0.854322      1             0   \n",
       "\n",
       "   SchoolHoliday   Customers  \n",
       "0              0  633.145946  \n",
       "1              0  633.145946  \n",
       "2              0  633.145946  \n",
       "3              0  633.145946  \n",
       "4              0  633.145946  "
      ]
     },
     "execution_count": 37,
     "metadata": {},
     "output_type": "execute_result"
    }
   ],
   "source": [
    "dfteste.head()"
   ]
  },
  {
   "cell_type": "code",
   "execution_count": 38,
   "metadata": {},
   "outputs": [],
   "source": [
    "X_comp = dfteste[['Store', 'DayOfWeek', 'Date', 'Customers', 'Open', 'Promo',\n",
    "       'StateHoliday', 'SchoolHoliday']]\n",
    "\n",
    "scaler = StandardScaler()\n",
    "scaler.fit(X_comp)\n",
    "scaled_features_teste = scaler.transform(X_comp)\n",
    "scaled_features_teste\n",
    "\n",
    "df_feat_teste_final = pd.DataFrame(scaled_features_teste, columns=['Store', 'DayOfWeek', 'Date', 'Customers', 'Open', 'Promo',\n",
    "       'StateHoliday', 'SchoolHoliday'])"
   ]
  },
  {
   "cell_type": "code",
   "execution_count": 39,
   "metadata": {},
   "outputs": [
    {
     "data": {
      "text/plain": [
       "array([9070.54219342, 9070.23013644, 9069.60602248, ..., 7075.72086159,\n",
       "       7075.5648331 , 7121.95358475])"
      ]
     },
     "execution_count": 39,
     "metadata": {},
     "output_type": "execute_result"
    }
   ],
   "source": [
    "predict = lm.predict(df_feat_teste_final)\n",
    "predict"
   ]
  },
  {
   "cell_type": "code",
   "execution_count": 40,
   "metadata": {},
   "outputs": [],
   "source": [
    "dfpredict_comp_sales = pd.DataFrame(predict)\n",
    "dfpredict_comp_sales.index = np.arange(1, len(dfpredict_comp_sales)+1)\n",
    "dfpredict_comp_sales.count()\n",
    "dfpredict_comp_sales.to_csv('submissionSemMerge.csv')"
   ]
  },
  {
   "cell_type": "code",
   "execution_count": null,
   "metadata": {},
   "outputs": [],
   "source": []
  }
 ],
 "metadata": {
  "kernelspec": {
   "display_name": "Python 3",
   "language": "python",
   "name": "python3"
  },
  "language_info": {
   "codemirror_mode": {
    "name": "ipython",
    "version": 3
   },
   "file_extension": ".py",
   "mimetype": "text/x-python",
   "name": "python",
   "nbconvert_exporter": "python",
   "pygments_lexer": "ipython3",
   "version": "3.7.0"
  }
 },
 "nbformat": 4,
 "nbformat_minor": 2
}
